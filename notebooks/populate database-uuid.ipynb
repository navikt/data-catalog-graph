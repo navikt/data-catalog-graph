{
 "cells": [
  {
   "cell_type": "code",
   "execution_count": 1,
   "metadata": {},
   "outputs": [],
   "source": [
    "import pandas as pd\n",
    "import pandas.io.sql as sqlio\n",
    "import psycopg2\n",
    "import sqlalchemy\n",
    "import os\n",
    "import json\n"
   ]
  },
  {
   "cell_type": "code",
   "execution_count": 2,
   "metadata": {},
   "outputs": [],
   "source": [
    "conn = psycopg2.connect(\n",
    "    user=\"dcat\", \n",
    "    password=\"dcat\", \n",
    "    host=\"127.0.0.1\", \n",
    "    port=\"54320\", \n",
    "    database=\"dcat\")"
   ]
  },
  {
   "cell_type": "code",
   "execution_count": 36,
   "metadata": {},
   "outputs": [],
   "source": [
    "conn = psycopg2.connect(\n",
    "    user=\"v-oidc-Pau-datacata-8M61CzhFYnWwyGe4RT5T-1573823273\", \n",
    "    password=\"A1a-uUUBJHlTN9oyrAQB\", \n",
    "    host=\"b27dbvl008.preprod.local\", \n",
    "    port=\"5432\", \n",
    "    database=\"datacatalog-term\")"
   ]
  },
  {
   "cell_type": "code",
   "execution_count": 3,
   "metadata": {},
   "outputs": [],
   "source": [
    "cur = conn.cursor()"
   ]
  },
  {
   "cell_type": "code",
   "execution_count": 4,
   "metadata": {},
   "outputs": [
    {
     "name": "stdout",
     "output_type": "stream",
     "text": [
      "{'user': 'dcat', 'dbname': 'dcat', 'host': '127.0.0.1', 'port': '54320', 'tty': '', 'options': '', 'sslmode': 'prefer', 'sslcompression': '0', 'krbsrvname': 'postgres', 'target_session_attrs': 'any'} \n",
      "\n"
     ]
    }
   ],
   "source": [
    "print ( conn.get_dsn_parameters(),\"\\n\")"
   ]
  },
  {
   "cell_type": "code",
   "execution_count": 5,
   "metadata": {},
   "outputs": [
    {
     "name": "stdout",
     "output_type": "stream",
     "text": [
      "You are connected to -  ('PostgreSQL 12.0 (Debian 12.0-2.pgdg100+1) on x86_64-pc-linux-gnu, compiled by gcc (Debian 8.3.0-6) 8.3.0, 64-bit',) \n",
      "\n"
     ]
    }
   ],
   "source": [
    "cur.execute(\"SELECT version();\")\n",
    "record = cur.fetchone()\n",
    "print(\"You are connected to - \", record,\"\\n\")"
   ]
  },
  {
   "cell_type": "code",
   "execution_count": 24,
   "metadata": {},
   "outputs": [],
   "source": [
    "conn.commit()"
   ]
  },
  {
   "cell_type": "markdown",
   "metadata": {},
   "source": [
    "# Init"
   ]
  },
  {
   "cell_type": "code",
   "execution_count": 25,
   "metadata": {},
   "outputs": [],
   "source": [
    "#Relationship description/attributes\n",
    "cur.execute(\"delete from tbl_edge_desc\")\n",
    "#Relationships/Edges\n",
    "cur.execute(\"delete from tbl_edge\")\n",
    "#Node details table\n",
    "cur.execute(\"delete from tbl_node\")\n",
    "\n",
    "conn.commit()"
   ]
  },
  {
   "cell_type": "markdown",
   "metadata": {},
   "source": [
    "# Get data"
   ]
  },
  {
   "cell_type": "code",
   "execution_count": 26,
   "metadata": {},
   "outputs": [
    {
     "data": {
      "text/plain": [
       "['Formål GML',\n",
       " 'Formål',\n",
       " 'Ark1',\n",
       " 'data-catalog-backend',\n",
       " 'data-catalog-policies',\n",
       " 'Category']"
      ]
     },
     "execution_count": 26,
     "metadata": {},
     "output_type": "execute_result"
    }
   ],
   "source": [
    "xls = pd.ExcelFile(\"../data/testdata.xlsx\")\n",
    "xls.sheet_names"
   ]
  },
  {
   "cell_type": "markdown",
   "metadata": {},
   "source": [
    "# Populate tables"
   ]
  },
  {
   "cell_type": "markdown",
   "metadata": {},
   "source": [
    "### Relationships"
   ]
  },
  {
   "cell_type": "code",
   "execution_count": 27,
   "metadata": {},
   "outputs": [],
   "source": [
    "relationships = [\"has purpose\", \"based on purpose\", \"has attribute\", \"attribute of\",\"belongs to category\", \"contains concept\"]\n",
    "index = 1\n",
    "for relationship in relationships:\n",
    "    insert_query = f\"insert into tbl_edge_desc (prop) values ('{relationship}')\"\n",
    "    cur.execute(insert_query)\n",
    "    index += 1\n",
    "    \n",
    "conn.commit()"
   ]
  },
  {
   "cell_type": "code",
   "execution_count": 28,
   "metadata": {},
   "outputs": [
    {
     "data": {
      "text/html": [
       "<div>\n",
       "<style scoped>\n",
       "    .dataframe tbody tr th:only-of-type {\n",
       "        vertical-align: middle;\n",
       "    }\n",
       "\n",
       "    .dataframe tbody tr th {\n",
       "        vertical-align: top;\n",
       "    }\n",
       "\n",
       "    .dataframe thead th {\n",
       "        text-align: right;\n",
       "    }\n",
       "</style>\n",
       "<table border=\"1\" class=\"dataframe\">\n",
       "  <thead>\n",
       "    <tr style=\"text-align: right;\">\n",
       "      <th></th>\n",
       "      <th>id</th>\n",
       "      <th>prop</th>\n",
       "    </tr>\n",
       "  </thead>\n",
       "  <tbody>\n",
       "    <tr>\n",
       "      <th>0</th>\n",
       "      <td>f8af72c4-c473-4fb7-8d83-46eeb5e20e15</td>\n",
       "      <td>has purpose</td>\n",
       "    </tr>\n",
       "    <tr>\n",
       "      <th>1</th>\n",
       "      <td>35eb6c1e-2ce6-46d4-895d-32a73b2d7a74</td>\n",
       "      <td>based on purpose</td>\n",
       "    </tr>\n",
       "    <tr>\n",
       "      <th>2</th>\n",
       "      <td>0debc683-2d8e-401b-91c2-8fb4883d5fb4</td>\n",
       "      <td>has attribute</td>\n",
       "    </tr>\n",
       "    <tr>\n",
       "      <th>3</th>\n",
       "      <td>18dd8f01-95b1-472b-ab20-70a9509b1809</td>\n",
       "      <td>attribute of</td>\n",
       "    </tr>\n",
       "    <tr>\n",
       "      <th>4</th>\n",
       "      <td>6dd750d5-d68a-4461-ab8a-0b3372d4b405</td>\n",
       "      <td>belongs to category</td>\n",
       "    </tr>\n",
       "    <tr>\n",
       "      <th>5</th>\n",
       "      <td>c78e346d-38fb-44ab-923c-34f01652efac</td>\n",
       "      <td>contains concept</td>\n",
       "    </tr>\n",
       "  </tbody>\n",
       "</table>\n",
       "</div>"
      ],
      "text/plain": [
       "                                     id                 prop\n",
       "0  f8af72c4-c473-4fb7-8d83-46eeb5e20e15          has purpose\n",
       "1  35eb6c1e-2ce6-46d4-895d-32a73b2d7a74     based on purpose\n",
       "2  0debc683-2d8e-401b-91c2-8fb4883d5fb4        has attribute\n",
       "3  18dd8f01-95b1-472b-ab20-70a9509b1809         attribute of\n",
       "4  6dd750d5-d68a-4461-ab8a-0b3372d4b405  belongs to category\n",
       "5  c78e346d-38fb-44ab-923c-34f01652efac     contains concept"
      ]
     },
     "execution_count": 28,
     "metadata": {},
     "output_type": "execute_result"
    }
   ],
   "source": [
    "df_links = sqlio.read_sql_query(\"select * from tbl_edge_desc\", conn)\n",
    "df_links"
   ]
  },
  {
   "cell_type": "markdown",
   "metadata": {},
   "source": [
    "### Processing activities"
   ]
  },
  {
   "cell_type": "code",
   "execution_count": 29,
   "metadata": {},
   "outputs": [
    {
     "data": {
      "text/html": [
       "<div>\n",
       "<style scoped>\n",
       "    .dataframe tbody tr th:only-of-type {\n",
       "        vertical-align: middle;\n",
       "    }\n",
       "\n",
       "    .dataframe tbody tr th {\n",
       "        vertical-align: top;\n",
       "    }\n",
       "\n",
       "    .dataframe thead th {\n",
       "        text-align: right;\n",
       "    }\n",
       "</style>\n",
       "<table border=\"1\" class=\"dataframe\">\n",
       "  <thead>\n",
       "    <tr style=\"text-align: right;\">\n",
       "      <th></th>\n",
       "      <th>description</th>\n",
       "      <th>name</th>\n",
       "      <th>type</th>\n",
       "    </tr>\n",
       "  </thead>\n",
       "  <tbody>\n",
       "    <tr>\n",
       "      <th>33</th>\n",
       "      <td>Behandle og vurdere rett til uføretrygd som sk...</td>\n",
       "      <td>UFØRETRYGD</td>\n",
       "      <td>prosessing activity</td>\n",
       "    </tr>\n",
       "    <tr>\n",
       "      <th>34</th>\n",
       "      <td>Behandle og vurdere rett til ventelønn som ska...</td>\n",
       "      <td>VENTELØNN</td>\n",
       "      <td>prosessing activity</td>\n",
       "    </tr>\n",
       "    <tr>\n",
       "      <th>35</th>\n",
       "      <td>Behandle og vurdere rett til ytelser ved yrkes...</td>\n",
       "      <td>YRKESSKADE- OG SYKDOM</td>\n",
       "      <td>prosessing activity</td>\n",
       "    </tr>\n",
       "    <tr>\n",
       "      <th>36</th>\n",
       "      <td>Behandle og vurdere rett til ytelser til famil...</td>\n",
       "      <td>YTELSER TIL FAMILIEPLEIER</td>\n",
       "      <td>prosessing activity</td>\n",
       "    </tr>\n",
       "    <tr>\n",
       "      <th>37</th>\n",
       "      <td>Not Available -Verdi mangler</td>\n",
       "      <td>NOT AVAILABLE</td>\n",
       "      <td>prosessing activity</td>\n",
       "    </tr>\n",
       "  </tbody>\n",
       "</table>\n",
       "</div>"
      ],
      "text/plain": [
       "                                          description  \\\n",
       "33  Behandle og vurdere rett til uføretrygd som sk...   \n",
       "34  Behandle og vurdere rett til ventelønn som ska...   \n",
       "35  Behandle og vurdere rett til ytelser ved yrkes...   \n",
       "36  Behandle og vurdere rett til ytelser til famil...   \n",
       "37                       Not Available -Verdi mangler   \n",
       "\n",
       "                         name                 type  \n",
       "33                 UFØRETRYGD  prosessing activity  \n",
       "34                  VENTELØNN  prosessing activity  \n",
       "35      YRKESSKADE- OG SYKDOM  prosessing activity  \n",
       "36  YTELSER TIL FAMILIEPLEIER  prosessing activity  \n",
       "37              NOT AVAILABLE  prosessing activity  "
      ]
     },
     "execution_count": 29,
     "metadata": {},
     "output_type": "execute_result"
    }
   ],
   "source": [
    "sheet=xls.sheet_names[1]\n",
    "df_formål = pd.read_excel(xls, sheet, encoding='latin1')\n",
    "df_formål = df_formål[['Forslag til endelig formålskode', 'Formålsbeskrivelse']]\n",
    "df_formål.columns=['code', 'description']\n",
    "df_formål['name'] = df_formål['code'].apply(lambda x: x.upper())\n",
    "df_formål = df_formål.append({'name': 'NOT AVAILABLE', 'description': 'Not Available -Verdi mangler'}, ignore_index=True)\n",
    "df_formål.drop(['code'], axis=1, inplace=True)\n",
    "df_formål['type'] = 'prosessing activity'\n",
    "df_formål.tail()"
   ]
  },
  {
   "cell_type": "code",
   "execution_count": 30,
   "metadata": {},
   "outputs": [],
   "source": [
    "for index, row in df_formål.iterrows():\n",
    "    id = index + 1\n",
    "    jsonb = row.to_json()\n",
    "    insert_query = f\"insert into tbl_node (prop) values ('{jsonb}')\"\n",
    "    cur.execute(insert_query, (jsonb,))\n",
    "    \n",
    "conn.commit()"
   ]
  },
  {
   "cell_type": "code",
   "execution_count": 31,
   "metadata": {},
   "outputs": [
    {
     "data": {
      "text/html": [
       "<div>\n",
       "<style scoped>\n",
       "    .dataframe tbody tr th:only-of-type {\n",
       "        vertical-align: middle;\n",
       "    }\n",
       "\n",
       "    .dataframe tbody tr th {\n",
       "        vertical-align: top;\n",
       "    }\n",
       "\n",
       "    .dataframe thead th {\n",
       "        text-align: right;\n",
       "    }\n",
       "</style>\n",
       "<table border=\"1\" class=\"dataframe\">\n",
       "  <thead>\n",
       "    <tr style=\"text-align: right;\">\n",
       "      <th></th>\n",
       "      <th>id</th>\n",
       "      <th>prop</th>\n",
       "      <th>created</th>\n",
       "    </tr>\n",
       "  </thead>\n",
       "  <tbody>\n",
       "    <tr>\n",
       "      <th>33</th>\n",
       "      <td>bfe1a67c-c3b1-4c26-a376-5b2905737647</td>\n",
       "      <td>{'name': 'UFØRETRYGD', 'type': 'prosessing act...</td>\n",
       "      <td>2019-11-20 13:13:52.567461</td>\n",
       "    </tr>\n",
       "    <tr>\n",
       "      <th>34</th>\n",
       "      <td>4bb07470-d6fa-4ff9-980e-f2a6adba42a2</td>\n",
       "      <td>{'name': 'VENTELØNN', 'type': 'prosessing acti...</td>\n",
       "      <td>2019-11-20 13:13:52.567461</td>\n",
       "    </tr>\n",
       "    <tr>\n",
       "      <th>35</th>\n",
       "      <td>a488f080-55b0-4c30-aea7-cb6c40981b5a</td>\n",
       "      <td>{'name': 'YRKESSKADE- OG SYKDOM', 'type': 'pro...</td>\n",
       "      <td>2019-11-20 13:13:52.567461</td>\n",
       "    </tr>\n",
       "    <tr>\n",
       "      <th>36</th>\n",
       "      <td>ff6352d9-40bf-4c13-ac7d-6b952b35dd5d</td>\n",
       "      <td>{'name': 'YTELSER TIL FAMILIEPLEIER', 'type': ...</td>\n",
       "      <td>2019-11-20 13:13:52.567461</td>\n",
       "    </tr>\n",
       "    <tr>\n",
       "      <th>37</th>\n",
       "      <td>15657ef1-1b18-46c7-8b45-a8e41d28073c</td>\n",
       "      <td>{'name': 'NOT AVAILABLE', 'type': 'prosessing ...</td>\n",
       "      <td>2019-11-20 13:13:52.567461</td>\n",
       "    </tr>\n",
       "  </tbody>\n",
       "</table>\n",
       "</div>"
      ],
      "text/plain": [
       "                                      id  \\\n",
       "33  bfe1a67c-c3b1-4c26-a376-5b2905737647   \n",
       "34  4bb07470-d6fa-4ff9-980e-f2a6adba42a2   \n",
       "35  a488f080-55b0-4c30-aea7-cb6c40981b5a   \n",
       "36  ff6352d9-40bf-4c13-ac7d-6b952b35dd5d   \n",
       "37  15657ef1-1b18-46c7-8b45-a8e41d28073c   \n",
       "\n",
       "                                                 prop  \\\n",
       "33  {'name': 'UFØRETRYGD', 'type': 'prosessing act...   \n",
       "34  {'name': 'VENTELØNN', 'type': 'prosessing acti...   \n",
       "35  {'name': 'YRKESSKADE- OG SYKDOM', 'type': 'pro...   \n",
       "36  {'name': 'YTELSER TIL FAMILIEPLEIER', 'type': ...   \n",
       "37  {'name': 'NOT AVAILABLE', 'type': 'prosessing ...   \n",
       "\n",
       "                      created  \n",
       "33 2019-11-20 13:13:52.567461  \n",
       "34 2019-11-20 13:13:52.567461  \n",
       "35 2019-11-20 13:13:52.567461  \n",
       "36 2019-11-20 13:13:52.567461  \n",
       "37 2019-11-20 13:13:52.567461  "
      ]
     },
     "execution_count": 31,
     "metadata": {},
     "output_type": "execute_result"
    }
   ],
   "source": [
    "df = sqlio.read_sql_query(\"select * from tbl_node\", conn)\n",
    "df.tail()"
   ]
  },
  {
   "cell_type": "markdown",
   "metadata": {},
   "source": [
    "### Purpose"
   ]
  },
  {
   "cell_type": "code",
   "execution_count": 32,
   "metadata": {},
   "outputs": [],
   "source": [
    "df_purpose = df_formål.copy()\n",
    "df_purpose['type'] = 'purpose'"
   ]
  },
  {
   "cell_type": "code",
   "execution_count": 33,
   "metadata": {},
   "outputs": [],
   "source": [
    "for i, row in df_purpose.iterrows():\n",
    "    jsonb = row.to_json()\n",
    "    insert_query = f\"insert into tbl_node (prop) values ('{jsonb}')\"\n",
    "    cur.execute(insert_query, (jsonb,))\n",
    "    \n",
    "conn.commit()"
   ]
  },
  {
   "cell_type": "code",
   "execution_count": 34,
   "metadata": {},
   "outputs": [
    {
     "data": {
      "text/html": [
       "<div>\n",
       "<style scoped>\n",
       "    .dataframe tbody tr th:only-of-type {\n",
       "        vertical-align: middle;\n",
       "    }\n",
       "\n",
       "    .dataframe tbody tr th {\n",
       "        vertical-align: top;\n",
       "    }\n",
       "\n",
       "    .dataframe thead th {\n",
       "        text-align: right;\n",
       "    }\n",
       "</style>\n",
       "<table border=\"1\" class=\"dataframe\">\n",
       "  <thead>\n",
       "    <tr style=\"text-align: right;\">\n",
       "      <th></th>\n",
       "      <th>id</th>\n",
       "      <th>prop</th>\n",
       "      <th>created</th>\n",
       "    </tr>\n",
       "  </thead>\n",
       "  <tbody>\n",
       "    <tr>\n",
       "      <th>71</th>\n",
       "      <td>3ec05362-3a13-44d6-b8c2-bbc1fb5bbec6</td>\n",
       "      <td>{'name': 'KRIGSPENSJON', 'type': 'purpose', 'd...</td>\n",
       "      <td>2019-11-20 13:13:57.114635</td>\n",
       "    </tr>\n",
       "    <tr>\n",
       "      <th>72</th>\n",
       "      <td>2135f639-a728-4b72-83b8-7bd0d96dec9e</td>\n",
       "      <td>{'name': 'LØNNSGARANTI', 'type': 'purpose', 'd...</td>\n",
       "      <td>2019-11-20 13:13:57.114635</td>\n",
       "    </tr>\n",
       "    <tr>\n",
       "      <th>73</th>\n",
       "      <td>cd24a3a9-b524-4904-b047-b15f30887af9</td>\n",
       "      <td>{'name': 'MEDLEMSKAP OG AVGIFT', 'type': 'purp...</td>\n",
       "      <td>2019-11-20 13:13:57.114635</td>\n",
       "    </tr>\n",
       "    <tr>\n",
       "      <th>74</th>\n",
       "      <td>280610fa-254f-4b5d-a608-9417f5ea2ec2</td>\n",
       "      <td>{'name': 'MENERSTATNING', 'type': 'purpose', '...</td>\n",
       "      <td>2019-11-20 13:13:57.114635</td>\n",
       "    </tr>\n",
       "    <tr>\n",
       "      <th>75</th>\n",
       "      <td>4a504954-54f2-4cc3-89ff-a5a15bafacc8</td>\n",
       "      <td>{'name': 'OMSORGSOPPTJENING', 'type': 'purpose...</td>\n",
       "      <td>2019-11-20 13:13:57.114635</td>\n",
       "    </tr>\n",
       "  </tbody>\n",
       "</table>\n",
       "</div>"
      ],
      "text/plain": [
       "                                      id  \\\n",
       "71  3ec05362-3a13-44d6-b8c2-bbc1fb5bbec6   \n",
       "72  2135f639-a728-4b72-83b8-7bd0d96dec9e   \n",
       "73  cd24a3a9-b524-4904-b047-b15f30887af9   \n",
       "74  280610fa-254f-4b5d-a608-9417f5ea2ec2   \n",
       "75  4a504954-54f2-4cc3-89ff-a5a15bafacc8   \n",
       "\n",
       "                                                 prop  \\\n",
       "71  {'name': 'KRIGSPENSJON', 'type': 'purpose', 'd...   \n",
       "72  {'name': 'LØNNSGARANTI', 'type': 'purpose', 'd...   \n",
       "73  {'name': 'MEDLEMSKAP OG AVGIFT', 'type': 'purp...   \n",
       "74  {'name': 'MENERSTATNING', 'type': 'purpose', '...   \n",
       "75  {'name': 'OMSORGSOPPTJENING', 'type': 'purpose...   \n",
       "\n",
       "                      created  \n",
       "71 2019-11-20 13:13:57.114635  \n",
       "72 2019-11-20 13:13:57.114635  \n",
       "73 2019-11-20 13:13:57.114635  \n",
       "74 2019-11-20 13:13:57.114635  \n",
       "75 2019-11-20 13:13:57.114635  "
      ]
     },
     "execution_count": 34,
     "metadata": {},
     "output_type": "execute_result"
    }
   ],
   "source": [
    "df = sqlio.read_sql_query(\"select * from tbl_node\", conn)\n",
    "df.tail()"
   ]
  },
  {
   "cell_type": "markdown",
   "metadata": {},
   "source": [
    "### Legal basis"
   ]
  },
  {
   "cell_type": "code",
   "execution_count": 35,
   "metadata": {},
   "outputs": [
    {
     "data": {
      "text/html": [
       "<div>\n",
       "<style scoped>\n",
       "    .dataframe tbody tr th:only-of-type {\n",
       "        vertical-align: middle;\n",
       "    }\n",
       "\n",
       "    .dataframe tbody tr th {\n",
       "        vertical-align: top;\n",
       "    }\n",
       "\n",
       "    .dataframe thead th {\n",
       "        text-align: right;\n",
       "    }\n",
       "</style>\n",
       "<table border=\"1\" class=\"dataframe\">\n",
       "  <thead>\n",
       "    <tr style=\"text-align: right;\">\n",
       "      <th></th>\n",
       "      <th>name</th>\n",
       "      <th>type</th>\n",
       "    </tr>\n",
       "  </thead>\n",
       "  <tbody>\n",
       "    <tr>\n",
       "      <th>0</th>\n",
       "      <td>Ftrl. § 11-20</td>\n",
       "      <td>legal_basis</td>\n",
       "    </tr>\n",
       "    <tr>\n",
       "      <th>1</th>\n",
       "      <td>Ftrl. §§ 3-16, 3-24, 3-25, 20-8.</td>\n",
       "      <td>legal_basis</td>\n",
       "    </tr>\n",
       "    <tr>\n",
       "      <th>2</th>\n",
       "      <td>Kapittel 3, 19, 20 0g 22</td>\n",
       "      <td>legal_basis</td>\n",
       "    </tr>\n",
       "    <tr>\n",
       "      <th>3</th>\n",
       "      <td>Ftrl § 3-2 og § 3-3</td>\n",
       "      <td>legal_basis</td>\n",
       "    </tr>\n",
       "    <tr>\n",
       "      <th>4</th>\n",
       "      <td>Barnetrygdloven § 9</td>\n",
       "      <td>legal_basis</td>\n",
       "    </tr>\n",
       "  </tbody>\n",
       "</table>\n",
       "</div>"
      ],
      "text/plain": [
       "                               name         type\n",
       "0                     Ftrl. § 11-20  legal_basis\n",
       "1  Ftrl. §§ 3-16, 3-24, 3-25, 20-8.  legal_basis\n",
       "2          Kapittel 3, 19, 20 0g 22  legal_basis\n",
       "3              Ftrl § 3-2 og § 3-3   legal_basis\n",
       "4               Barnetrygdloven § 9  legal_basis"
      ]
     },
     "execution_count": 35,
     "metadata": {},
     "output_type": "execute_result"
    }
   ],
   "source": [
    "sheet=xls.sheet_names[4]\n",
    "df_legal_basis = pd.read_excel(xls, sheet, encoding='latin1')\n",
    "df_legal_basis = df_legal_basis[['legalBasisDescription']].drop_duplicates()\n",
    "df_legal_basis.columns=['name']\n",
    "df_legal_basis = df_legal_basis.append({'name': 'NOT AVAILABLE'}, ignore_index=True)\n",
    "df_legal_basis['type'] = 'legal_basis'\n",
    "df_legal_basis.head()"
   ]
  },
  {
   "cell_type": "code",
   "execution_count": 36,
   "metadata": {},
   "outputs": [],
   "source": [
    "for i, row in df_legal_basis.iterrows():\n",
    "    jsonb = row.to_json()\n",
    "    insert_query = f\"insert into tbl_node (prop) values ('{jsonb}')\"\n",
    "    cur.execute(insert_query, (jsonb,))\n",
    "    \n",
    "conn.commit()"
   ]
  },
  {
   "cell_type": "code",
   "execution_count": 37,
   "metadata": {},
   "outputs": [
    {
     "data": {
      "text/html": [
       "<div>\n",
       "<style scoped>\n",
       "    .dataframe tbody tr th:only-of-type {\n",
       "        vertical-align: middle;\n",
       "    }\n",
       "\n",
       "    .dataframe tbody tr th {\n",
       "        vertical-align: top;\n",
       "    }\n",
       "\n",
       "    .dataframe thead th {\n",
       "        text-align: right;\n",
       "    }\n",
       "</style>\n",
       "<table border=\"1\" class=\"dataframe\">\n",
       "  <thead>\n",
       "    <tr style=\"text-align: right;\">\n",
       "      <th></th>\n",
       "      <th>id</th>\n",
       "      <th>prop</th>\n",
       "      <th>created</th>\n",
       "    </tr>\n",
       "  </thead>\n",
       "  <tbody>\n",
       "    <tr>\n",
       "      <th>232</th>\n",
       "      <td>28cade6a-1577-436d-9c7f-fa54f80bfe70</td>\n",
       "      <td>{'name': '§ 22-1 og taushetsplikt', 'type': 'l...</td>\n",
       "      <td>2019-11-20 13:14:06.396981</td>\n",
       "    </tr>\n",
       "    <tr>\n",
       "      <th>233</th>\n",
       "      <td>b0ff8394-6a60-49eb-a855-823e401abe2c</td>\n",
       "      <td>{'name': 'Kap 8. § 22-1, 22-13 og 22-15, taush...</td>\n",
       "      <td>2019-11-20 13:14:06.396981</td>\n",
       "    </tr>\n",
       "    <tr>\n",
       "      <th>234</th>\n",
       "      <td>4b42a263-3bca-4561-b409-a47a31c90470</td>\n",
       "      <td>{'name': 'Fvl § 12 ', 'type': 'legal_basis'}</td>\n",
       "      <td>2019-11-20 13:14:06.396981</td>\n",
       "    </tr>\n",
       "    <tr>\n",
       "      <th>235</th>\n",
       "      <td>c6c53a02-ae2b-46d6-acaf-3520dcaea74b</td>\n",
       "      <td>{'name': 'Det legges til grunn at Lgl + Lgf ka...</td>\n",
       "      <td>2019-11-20 13:14:06.396981</td>\n",
       "    </tr>\n",
       "    <tr>\n",
       "      <th>236</th>\n",
       "      <td>390dcddb-34b1-485d-a1db-2d48bf801411</td>\n",
       "      <td>{'name': 'NOT AVAILABLE', 'type': 'legal_basis'}</td>\n",
       "      <td>2019-11-20 13:14:06.396981</td>\n",
       "    </tr>\n",
       "  </tbody>\n",
       "</table>\n",
       "</div>"
      ],
      "text/plain": [
       "                                       id  \\\n",
       "232  28cade6a-1577-436d-9c7f-fa54f80bfe70   \n",
       "233  b0ff8394-6a60-49eb-a855-823e401abe2c   \n",
       "234  4b42a263-3bca-4561-b409-a47a31c90470   \n",
       "235  c6c53a02-ae2b-46d6-acaf-3520dcaea74b   \n",
       "236  390dcddb-34b1-485d-a1db-2d48bf801411   \n",
       "\n",
       "                                                  prop  \\\n",
       "232  {'name': '§ 22-1 og taushetsplikt', 'type': 'l...   \n",
       "233  {'name': 'Kap 8. § 22-1, 22-13 og 22-15, taush...   \n",
       "234       {'name': 'Fvl § 12 ', 'type': 'legal_basis'}   \n",
       "235  {'name': 'Det legges til grunn at Lgl + Lgf ka...   \n",
       "236   {'name': 'NOT AVAILABLE', 'type': 'legal_basis'}   \n",
       "\n",
       "                       created  \n",
       "232 2019-11-20 13:14:06.396981  \n",
       "233 2019-11-20 13:14:06.396981  \n",
       "234 2019-11-20 13:14:06.396981  \n",
       "235 2019-11-20 13:14:06.396981  \n",
       "236 2019-11-20 13:14:06.396981  "
      ]
     },
     "execution_count": 37,
     "metadata": {},
     "output_type": "execute_result"
    }
   ],
   "source": [
    "df = sqlio.read_sql_query(\"select * from tbl_node\", conn)\n",
    "df.tail()"
   ]
  },
  {
   "cell_type": "markdown",
   "metadata": {},
   "source": [
    "### Concepts"
   ]
  },
  {
   "cell_type": "code",
   "execution_count": 38,
   "metadata": {},
   "outputs": [
    {
     "data": {
      "text/html": [
       "<div>\n",
       "<style scoped>\n",
       "    .dataframe tbody tr th:only-of-type {\n",
       "        vertical-align: middle;\n",
       "    }\n",
       "\n",
       "    .dataframe tbody tr th {\n",
       "        vertical-align: top;\n",
       "    }\n",
       "\n",
       "    .dataframe thead th {\n",
       "        text-align: right;\n",
       "    }\n",
       "</style>\n",
       "<table border=\"1\" class=\"dataframe\">\n",
       "  <thead>\n",
       "    <tr style=\"text-align: right;\">\n",
       "      <th></th>\n",
       "      <th>name</th>\n",
       "      <th>description</th>\n",
       "      <th>type</th>\n",
       "    </tr>\n",
       "  </thead>\n",
       "  <tbody>\n",
       "    <tr>\n",
       "      <th>0</th>\n",
       "      <td>SIVILSTAND</td>\n",
       "      <td>En overordnet kategori som beskriver en person...</td>\n",
       "      <td>concept</td>\n",
       "    </tr>\n",
       "    <tr>\n",
       "      <th>1</th>\n",
       "      <td>ARBEIDSFORHOLD</td>\n",
       "      <td>Avtaleforhold hvor den ene part, arbeidstakere...</td>\n",
       "      <td>concept</td>\n",
       "    </tr>\n",
       "    <tr>\n",
       "      <th>2</th>\n",
       "      <td>KJØNN</td>\n",
       "      <td>TODO - mangler i begrepskatalogen og i MFNs be...</td>\n",
       "      <td>concept</td>\n",
       "    </tr>\n",
       "    <tr>\n",
       "      <th>3</th>\n",
       "      <td>NAVN</td>\n",
       "      <td>I Norge skal alle ha fornavn og ett enkelt ell...</td>\n",
       "      <td>concept</td>\n",
       "    </tr>\n",
       "    <tr>\n",
       "      <th>4</th>\n",
       "      <td>FØDSELSDATO</td>\n",
       "      <td>Datoen personen er født.</td>\n",
       "      <td>concept</td>\n",
       "    </tr>\n",
       "  </tbody>\n",
       "</table>\n",
       "</div>"
      ],
      "text/plain": [
       "             name                                        description     type\n",
       "0      SIVILSTAND  En overordnet kategori som beskriver en person...  concept\n",
       "1  ARBEIDSFORHOLD  Avtaleforhold hvor den ene part, arbeidstakere...  concept\n",
       "2           KJØNN  TODO - mangler i begrepskatalogen og i MFNs be...  concept\n",
       "3            NAVN  I Norge skal alle ha fornavn og ett enkelt ell...  concept\n",
       "4     FØDSELSDATO                           Datoen personen er født.  concept"
      ]
     },
     "execution_count": 38,
     "metadata": {},
     "output_type": "execute_result"
    }
   ],
   "source": [
    "sheet=xls.sheet_names[3]\n",
    "\n",
    "df_concepts = pd.read_excel(xls, sheet, encoding='latin1')\n",
    "df_concepts = df_concepts[['title', 'description']]\n",
    "df_concepts.columns=['name', 'description']\n",
    "df_concepts['name'] = df_concepts['name'].apply(lambda x: x.strip().upper())\n",
    "df_concepts = df_concepts.append({'name': 'NOT AVAILABLE', 'description': 'Not Available -Verdi mangler'}, ignore_index=True).drop_duplicates()\n",
    "df_concepts['type'] = 'concept'\n",
    "df_concepts.head()"
   ]
  },
  {
   "cell_type": "code",
   "execution_count": 45,
   "metadata": {},
   "outputs": [],
   "source": [
    "for i, row in df_concepts.iterrows():\n",
    "    jsonb = row.to_json()\n",
    "    insert_query = f\"insert into tbl_node (prop) values ('{jsonb}')\"\n",
    "    cur.execute(insert_query, (jsonb,))\n",
    "    \n",
    "conn.commit()"
   ]
  },
  {
   "cell_type": "code",
   "execution_count": 46,
   "metadata": {},
   "outputs": [
    {
     "data": {
      "text/html": [
       "<div>\n",
       "<style scoped>\n",
       "    .dataframe tbody tr th:only-of-type {\n",
       "        vertical-align: middle;\n",
       "    }\n",
       "\n",
       "    .dataframe tbody tr th {\n",
       "        vertical-align: top;\n",
       "    }\n",
       "\n",
       "    .dataframe thead th {\n",
       "        text-align: right;\n",
       "    }\n",
       "</style>\n",
       "<table border=\"1\" class=\"dataframe\">\n",
       "  <thead>\n",
       "    <tr style=\"text-align: right;\">\n",
       "      <th></th>\n",
       "      <th>id</th>\n",
       "      <th>prop</th>\n",
       "      <th>created</th>\n",
       "    </tr>\n",
       "  </thead>\n",
       "  <tbody>\n",
       "    <tr>\n",
       "      <th>253</th>\n",
       "      <td>28cade6a-1577-436d-9c7f-fa54f80bfe70</td>\n",
       "      <td>{'name': '§ 22-1 og taushetsplikt', 'type': 'l...</td>\n",
       "      <td>2019-11-20 13:14:06.396981</td>\n",
       "    </tr>\n",
       "    <tr>\n",
       "      <th>254</th>\n",
       "      <td>b0ff8394-6a60-49eb-a855-823e401abe2c</td>\n",
       "      <td>{'name': 'Kap 8. § 22-1, 22-13 og 22-15, taush...</td>\n",
       "      <td>2019-11-20 13:14:06.396981</td>\n",
       "    </tr>\n",
       "    <tr>\n",
       "      <th>255</th>\n",
       "      <td>4b42a263-3bca-4561-b409-a47a31c90470</td>\n",
       "      <td>{'name': 'Fvl § 12 ', 'type': 'legal_basis'}</td>\n",
       "      <td>2019-11-20 13:14:06.396981</td>\n",
       "    </tr>\n",
       "    <tr>\n",
       "      <th>256</th>\n",
       "      <td>c6c53a02-ae2b-46d6-acaf-3520dcaea74b</td>\n",
       "      <td>{'name': 'Det legges til grunn at Lgl + Lgf ka...</td>\n",
       "      <td>2019-11-20 13:14:06.396981</td>\n",
       "    </tr>\n",
       "    <tr>\n",
       "      <th>257</th>\n",
       "      <td>390dcddb-34b1-485d-a1db-2d48bf801411</td>\n",
       "      <td>{'name': 'NOT AVAILABLE', 'type': 'legal_basis'}</td>\n",
       "      <td>2019-11-20 13:14:06.396981</td>\n",
       "    </tr>\n",
       "  </tbody>\n",
       "</table>\n",
       "</div>"
      ],
      "text/plain": [
       "                                       id  \\\n",
       "253  28cade6a-1577-436d-9c7f-fa54f80bfe70   \n",
       "254  b0ff8394-6a60-49eb-a855-823e401abe2c   \n",
       "255  4b42a263-3bca-4561-b409-a47a31c90470   \n",
       "256  c6c53a02-ae2b-46d6-acaf-3520dcaea74b   \n",
       "257  390dcddb-34b1-485d-a1db-2d48bf801411   \n",
       "\n",
       "                                                  prop  \\\n",
       "253  {'name': '§ 22-1 og taushetsplikt', 'type': 'l...   \n",
       "254  {'name': 'Kap 8. § 22-1, 22-13 og 22-15, taush...   \n",
       "255       {'name': 'Fvl § 12 ', 'type': 'legal_basis'}   \n",
       "256  {'name': 'Det legges til grunn at Lgl + Lgf ka...   \n",
       "257   {'name': 'NOT AVAILABLE', 'type': 'legal_basis'}   \n",
       "\n",
       "                       created  \n",
       "253 2019-11-20 13:14:06.396981  \n",
       "254 2019-11-20 13:14:06.396981  \n",
       "255 2019-11-20 13:14:06.396981  \n",
       "256 2019-11-20 13:14:06.396981  \n",
       "257 2019-11-20 13:14:06.396981  "
      ]
     },
     "execution_count": 46,
     "metadata": {},
     "output_type": "execute_result"
    }
   ],
   "source": [
    "df = sqlio.read_sql_query(\"select * from tbl_node\", conn)\n",
    "df.tail()"
   ]
  },
  {
   "cell_type": "markdown",
   "metadata": {},
   "source": [
    "### Categories"
   ]
  },
  {
   "cell_type": "code",
   "execution_count": 48,
   "metadata": {},
   "outputs": [
    {
     "data": {
      "text/html": [
       "<div>\n",
       "<style scoped>\n",
       "    .dataframe tbody tr th:only-of-type {\n",
       "        vertical-align: middle;\n",
       "    }\n",
       "\n",
       "    .dataframe tbody tr th {\n",
       "        vertical-align: top;\n",
       "    }\n",
       "\n",
       "    .dataframe thead th {\n",
       "        text-align: right;\n",
       "    }\n",
       "</style>\n",
       "<table border=\"1\" class=\"dataframe\">\n",
       "  <thead>\n",
       "    <tr style=\"text-align: right;\">\n",
       "      <th></th>\n",
       "      <th>name</th>\n",
       "      <th>type</th>\n",
       "    </tr>\n",
       "  </thead>\n",
       "  <tbody>\n",
       "    <tr>\n",
       "      <th>0</th>\n",
       "      <td>PERSONALIA</td>\n",
       "      <td>category</td>\n",
       "    </tr>\n",
       "    <tr>\n",
       "      <th>1</th>\n",
       "      <td>ARBEIDSFORHOLD</td>\n",
       "      <td>category</td>\n",
       "    </tr>\n",
       "    <tr>\n",
       "      <th>6</th>\n",
       "      <td>KONTAKTOPPLYSNINGER</td>\n",
       "      <td>category</td>\n",
       "    </tr>\n",
       "    <tr>\n",
       "      <th>9</th>\n",
       "      <td>FAMILIERELASJONER</td>\n",
       "      <td>category</td>\n",
       "    </tr>\n",
       "    <tr>\n",
       "      <th>16</th>\n",
       "      <td>FOLKETRYGD</td>\n",
       "      <td>category</td>\n",
       "    </tr>\n",
       "  </tbody>\n",
       "</table>\n",
       "</div>"
      ],
      "text/plain": [
       "                   name      type\n",
       "0            PERSONALIA  category\n",
       "1        ARBEIDSFORHOLD  category\n",
       "6   KONTAKTOPPLYSNINGER  category\n",
       "9     FAMILIERELASJONER  category\n",
       "16           FOLKETRYGD  category"
      ]
     },
     "execution_count": 48,
     "metadata": {},
     "output_type": "execute_result"
    }
   ],
   "source": [
    "sheet=xls.sheet_names[3]\n",
    "df_categories = pd.read_excel(xls, sheet, encoding='latin1')\n",
    "df_categories = df_categories[['categories']]\n",
    "df_categories.columns=['name']\n",
    "df_categories['name'] = df_categories['name'].apply(lambda x: x.strip().upper())\n",
    "df_categories = df_categories.append({'name': 'NOT AVAILABLE'}, ignore_index=True).drop_duplicates()\n",
    "df_categories['type'] = 'category'\n",
    "df_categories.head()"
   ]
  },
  {
   "cell_type": "code",
   "execution_count": 49,
   "metadata": {},
   "outputs": [],
   "source": [
    "for i, row in df_categories.iterrows():\n",
    "    jsonb = row.to_json()\n",
    "    insert_query = f\"insert into tbl_node (prop) values ('{jsonb}')\"\n",
    "    cur.execute(insert_query, (jsonb,))\n",
    "    \n",
    "conn.commit()"
   ]
  },
  {
   "cell_type": "markdown",
   "metadata": {},
   "source": [
    "### Nodes"
   ]
  },
  {
   "cell_type": "code",
   "execution_count": 50,
   "metadata": {},
   "outputs": [
    {
     "data": {
      "text/html": [
       "<div>\n",
       "<style scoped>\n",
       "    .dataframe tbody tr th:only-of-type {\n",
       "        vertical-align: middle;\n",
       "    }\n",
       "\n",
       "    .dataframe tbody tr th {\n",
       "        vertical-align: top;\n",
       "    }\n",
       "\n",
       "    .dataframe thead th {\n",
       "        text-align: right;\n",
       "    }\n",
       "</style>\n",
       "<table border=\"1\" class=\"dataframe\">\n",
       "  <thead>\n",
       "    <tr style=\"text-align: right;\">\n",
       "      <th></th>\n",
       "      <th>id</th>\n",
       "      <th>prop</th>\n",
       "      <th>created</th>\n",
       "      <th>name</th>\n",
       "      <th>type</th>\n",
       "    </tr>\n",
       "  </thead>\n",
       "  <tbody>\n",
       "    <tr>\n",
       "      <th>0</th>\n",
       "      <td>e27ef8ad-10cd-43df-b8e5-72107dde5329</td>\n",
       "      <td>{'name': 'SIVILSTAND', 'type': 'concept', 'des...</td>\n",
       "      <td>2019-11-20 13:16:35.013411</td>\n",
       "      <td>SIVILSTAND</td>\n",
       "      <td>concept</td>\n",
       "    </tr>\n",
       "    <tr>\n",
       "      <th>1</th>\n",
       "      <td>ec1c37f0-508d-4aeb-a333-f1c6390da1c0</td>\n",
       "      <td>{'name': 'ARBEIDSFORHOLD', 'type': 'concept', ...</td>\n",
       "      <td>2019-11-20 13:16:35.013411</td>\n",
       "      <td>ARBEIDSFORHOLD</td>\n",
       "      <td>concept</td>\n",
       "    </tr>\n",
       "    <tr>\n",
       "      <th>2</th>\n",
       "      <td>45c8a383-1123-4fe9-994c-de38e3de7ce5</td>\n",
       "      <td>{'name': 'KJØNN', 'type': 'concept', 'descript...</td>\n",
       "      <td>2019-11-20 13:16:35.013411</td>\n",
       "      <td>KJØNN</td>\n",
       "      <td>concept</td>\n",
       "    </tr>\n",
       "    <tr>\n",
       "      <th>3</th>\n",
       "      <td>d9a3766e-bd44-4c08-bc11-9ed6c5540027</td>\n",
       "      <td>{'name': 'NAVN', 'type': 'concept', 'descripti...</td>\n",
       "      <td>2019-11-20 13:16:35.013411</td>\n",
       "      <td>NAVN</td>\n",
       "      <td>concept</td>\n",
       "    </tr>\n",
       "    <tr>\n",
       "      <th>4</th>\n",
       "      <td>0ebebc95-f3ca-4a49-b024-48f958d9022a</td>\n",
       "      <td>{'name': 'FØDSELSDATO', 'type': 'concept', 'de...</td>\n",
       "      <td>2019-11-20 13:16:35.013411</td>\n",
       "      <td>FØDSELSDATO</td>\n",
       "      <td>concept</td>\n",
       "    </tr>\n",
       "  </tbody>\n",
       "</table>\n",
       "</div>"
      ],
      "text/plain": [
       "                                     id  \\\n",
       "0  e27ef8ad-10cd-43df-b8e5-72107dde5329   \n",
       "1  ec1c37f0-508d-4aeb-a333-f1c6390da1c0   \n",
       "2  45c8a383-1123-4fe9-994c-de38e3de7ce5   \n",
       "3  d9a3766e-bd44-4c08-bc11-9ed6c5540027   \n",
       "4  0ebebc95-f3ca-4a49-b024-48f958d9022a   \n",
       "\n",
       "                                                prop  \\\n",
       "0  {'name': 'SIVILSTAND', 'type': 'concept', 'des...   \n",
       "1  {'name': 'ARBEIDSFORHOLD', 'type': 'concept', ...   \n",
       "2  {'name': 'KJØNN', 'type': 'concept', 'descript...   \n",
       "3  {'name': 'NAVN', 'type': 'concept', 'descripti...   \n",
       "4  {'name': 'FØDSELSDATO', 'type': 'concept', 'de...   \n",
       "\n",
       "                     created            name     type  \n",
       "0 2019-11-20 13:16:35.013411      SIVILSTAND  concept  \n",
       "1 2019-11-20 13:16:35.013411  ARBEIDSFORHOLD  concept  \n",
       "2 2019-11-20 13:16:35.013411           KJØNN  concept  \n",
       "3 2019-11-20 13:16:35.013411            NAVN  concept  \n",
       "4 2019-11-20 13:16:35.013411     FØDSELSDATO  concept  "
      ]
     },
     "execution_count": 50,
     "metadata": {},
     "output_type": "execute_result"
    }
   ],
   "source": [
    "df_nodes = sqlio.read_sql_query(\"select * from tbl_node\", conn)\n",
    "df_nodes['name'] = df_nodes['prop'].apply(lambda x : x['name'])\n",
    "df_nodes['type'] = df_nodes['prop'].apply(lambda x : x['type'])\n",
    "df_nodes.head()"
   ]
  },
  {
   "cell_type": "markdown",
   "metadata": {},
   "source": [
    "### Edges"
   ]
  },
  {
   "cell_type": "code",
   "execution_count": 51,
   "metadata": {},
   "outputs": [
    {
     "data": {
      "text/html": [
       "<div>\n",
       "<style scoped>\n",
       "    .dataframe tbody tr th:only-of-type {\n",
       "        vertical-align: middle;\n",
       "    }\n",
       "\n",
       "    .dataframe tbody tr th {\n",
       "        vertical-align: top;\n",
       "    }\n",
       "\n",
       "    .dataframe thead th {\n",
       "        text-align: right;\n",
       "    }\n",
       "</style>\n",
       "<table border=\"1\" class=\"dataframe\">\n",
       "  <thead>\n",
       "    <tr style=\"text-align: right;\">\n",
       "      <th></th>\n",
       "      <th>source</th>\n",
       "      <th>target</th>\n",
       "    </tr>\n",
       "  </thead>\n",
       "  <tbody>\n",
       "    <tr>\n",
       "      <th>0</th>\n",
       "      <td>SIVILSTAND</td>\n",
       "      <td>PERSONALIA</td>\n",
       "    </tr>\n",
       "    <tr>\n",
       "      <th>1</th>\n",
       "      <td>ARBEIDSFORHOLD</td>\n",
       "      <td>ARBEIDSFORHOLD</td>\n",
       "    </tr>\n",
       "    <tr>\n",
       "      <th>2</th>\n",
       "      <td>KJØNN</td>\n",
       "      <td>PERSONALIA</td>\n",
       "    </tr>\n",
       "    <tr>\n",
       "      <th>3</th>\n",
       "      <td>NAVN</td>\n",
       "      <td>PERSONALIA</td>\n",
       "    </tr>\n",
       "    <tr>\n",
       "      <th>4</th>\n",
       "      <td>FØDSELSDATO</td>\n",
       "      <td>PERSONALIA</td>\n",
       "    </tr>\n",
       "  </tbody>\n",
       "</table>\n",
       "</div>"
      ],
      "text/plain": [
       "           source          target\n",
       "0      SIVILSTAND      PERSONALIA\n",
       "1  ARBEIDSFORHOLD  ARBEIDSFORHOLD\n",
       "2           KJØNN      PERSONALIA\n",
       "3            NAVN      PERSONALIA\n",
       "4     FØDSELSDATO      PERSONALIA"
      ]
     },
     "execution_count": 51,
     "metadata": {},
     "output_type": "execute_result"
    }
   ],
   "source": [
    "sheet=xls.sheet_names[3]\n",
    "df_edges = pd.read_excel(xls, sheet, encoding='latin1')\n",
    "df_edges = df_edges[['title', 'categories']].drop_duplicates()\n",
    "df_edges.columns = ['source', 'target']\n",
    "df_edges['source'] = df_edges['source'].apply(lambda x: x.strip().upper())\n",
    "df_edges['target'] = df_edges['target'].apply(lambda x: x.strip().upper())\n",
    "df_edges.drop_duplicates()\n",
    "\n",
    "df_edges.head()"
   ]
  },
  {
   "cell_type": "code",
   "execution_count": 52,
   "metadata": {},
   "outputs": [
    {
     "data": {
      "text/html": [
       "<div>\n",
       "<style scoped>\n",
       "    .dataframe tbody tr th:only-of-type {\n",
       "        vertical-align: middle;\n",
       "    }\n",
       "\n",
       "    .dataframe tbody tr th {\n",
       "        vertical-align: top;\n",
       "    }\n",
       "\n",
       "    .dataframe thead th {\n",
       "        text-align: right;\n",
       "    }\n",
       "</style>\n",
       "<table border=\"1\" class=\"dataframe\">\n",
       "  <thead>\n",
       "    <tr style=\"text-align: right;\">\n",
       "      <th></th>\n",
       "      <th>id</th>\n",
       "      <th>prop</th>\n",
       "    </tr>\n",
       "  </thead>\n",
       "  <tbody>\n",
       "    <tr>\n",
       "      <th>0</th>\n",
       "      <td>f8af72c4-c473-4fb7-8d83-46eeb5e20e15</td>\n",
       "      <td>has purpose</td>\n",
       "    </tr>\n",
       "    <tr>\n",
       "      <th>1</th>\n",
       "      <td>35eb6c1e-2ce6-46d4-895d-32a73b2d7a74</td>\n",
       "      <td>based on purpose</td>\n",
       "    </tr>\n",
       "    <tr>\n",
       "      <th>2</th>\n",
       "      <td>0debc683-2d8e-401b-91c2-8fb4883d5fb4</td>\n",
       "      <td>has attribute</td>\n",
       "    </tr>\n",
       "    <tr>\n",
       "      <th>3</th>\n",
       "      <td>18dd8f01-95b1-472b-ab20-70a9509b1809</td>\n",
       "      <td>attribute of</td>\n",
       "    </tr>\n",
       "    <tr>\n",
       "      <th>4</th>\n",
       "      <td>6dd750d5-d68a-4461-ab8a-0b3372d4b405</td>\n",
       "      <td>belongs to category</td>\n",
       "    </tr>\n",
       "    <tr>\n",
       "      <th>5</th>\n",
       "      <td>c78e346d-38fb-44ab-923c-34f01652efac</td>\n",
       "      <td>contains concept</td>\n",
       "    </tr>\n",
       "  </tbody>\n",
       "</table>\n",
       "</div>"
      ],
      "text/plain": [
       "                                     id                 prop\n",
       "0  f8af72c4-c473-4fb7-8d83-46eeb5e20e15          has purpose\n",
       "1  35eb6c1e-2ce6-46d4-895d-32a73b2d7a74     based on purpose\n",
       "2  0debc683-2d8e-401b-91c2-8fb4883d5fb4        has attribute\n",
       "3  18dd8f01-95b1-472b-ab20-70a9509b1809         attribute of\n",
       "4  6dd750d5-d68a-4461-ab8a-0b3372d4b405  belongs to category\n",
       "5  c78e346d-38fb-44ab-923c-34f01652efac     contains concept"
      ]
     },
     "execution_count": 52,
     "metadata": {},
     "output_type": "execute_result"
    }
   ],
   "source": [
    "df_links = sqlio.read_sql_query(\"select * from tbl_edge_desc\", conn)\n",
    "df_links"
   ]
  },
  {
   "cell_type": "code",
   "execution_count": 79,
   "metadata": {},
   "outputs": [
    {
     "data": {
      "text/plain": [
       "'c78e346d-38fb-44ab-923c-34f01652efac'"
      ]
     },
     "execution_count": 79,
     "metadata": {},
     "output_type": "execute_result"
    }
   ],
   "source": [
    "cur.execute(\"select id::uuid from tbl_edge_desc where prop like 'contains concept'\")\n",
    "desc = cur.fetchone()\n",
    "desc[0]\n"
   ]
  },
  {
   "cell_type": "code",
   "execution_count": 91,
   "metadata": {},
   "outputs": [],
   "source": [
    "conn.commit()"
   ]
  },
  {
   "cell_type": "code",
   "execution_count": 92,
   "metadata": {},
   "outputs": [
    {
     "name": "stdout",
     "output_type": "stream",
     "text": [
      "insert into tbl_edge values (cast('e27ef8ad-10cd-43df-b8e5-72107dde5329' as uuid),cast('83fb6213-5f1a-467f-8631-1b3aabe0ca13' as uuid),array[cast('c78e346d-38fb-44ab-923c-34f01652efac' as uuid)],now());\n",
      "insert into tbl_edge values (cast('ec1c37f0-508d-4aeb-a333-f1c6390da1c0' as uuid),cast('1dc07a6a-2014-4d76-a769-bd7dd2113864' as uuid),array[cast('c78e346d-38fb-44ab-923c-34f01652efac' as uuid)],now());\n",
      "insert into tbl_edge values (cast('45c8a383-1123-4fe9-994c-de38e3de7ce5' as uuid),cast('83fb6213-5f1a-467f-8631-1b3aabe0ca13' as uuid),array[cast('c78e346d-38fb-44ab-923c-34f01652efac' as uuid)],now());\n",
      "insert into tbl_edge values (cast('d9a3766e-bd44-4c08-bc11-9ed6c5540027' as uuid),cast('83fb6213-5f1a-467f-8631-1b3aabe0ca13' as uuid),array[cast('c78e346d-38fb-44ab-923c-34f01652efac' as uuid)],now());\n",
      "insert into tbl_edge values (cast('0ebebc95-f3ca-4a49-b024-48f958d9022a' as uuid),cast('83fb6213-5f1a-467f-8631-1b3aabe0ca13' as uuid),array[cast('c78e346d-38fb-44ab-923c-34f01652efac' as uuid)],now());\n",
      "insert into tbl_edge values (cast('a612bc90-74c1-4e5f-9e5c-ae16dbbc1b3d' as uuid),cast('83fb6213-5f1a-467f-8631-1b3aabe0ca13' as uuid),array[cast('c78e346d-38fb-44ab-923c-34f01652efac' as uuid)],now());\n",
      "insert into tbl_edge values (cast('e04cc8eb-7f42-4066-88df-4800a3b44fc2' as uuid),cast('20ccf464-5d67-48ea-a435-4a2732da1ea6' as uuid),array[cast('c78e346d-38fb-44ab-923c-34f01652efac' as uuid)],now());\n",
      "insert into tbl_edge values (cast('360fc608-9b54-46df-8bb7-6a6900c60ef5' as uuid),cast('20ccf464-5d67-48ea-a435-4a2732da1ea6' as uuid),array[cast('c78e346d-38fb-44ab-923c-34f01652efac' as uuid)],now());\n",
      "insert into tbl_edge values (cast('1369e39c-00fe-4e85-a8e4-375eff8d5d58' as uuid),cast('1dc07a6a-2014-4d76-a769-bd7dd2113864' as uuid),array[cast('c78e346d-38fb-44ab-923c-34f01652efac' as uuid)],now());\n",
      "insert into tbl_edge values (cast('99d97a66-32a9-40d7-a6d9-62d63e7b9638' as uuid),cast('de5bd00d-f35e-44c6-9119-9164a26b57eb' as uuid),array[cast('c78e346d-38fb-44ab-923c-34f01652efac' as uuid)],now());\n",
      "insert into tbl_edge values (cast('c4470a26-d867-4c13-96b8-8971a4b654a2' as uuid),cast('de5bd00d-f35e-44c6-9119-9164a26b57eb' as uuid),array[cast('c78e346d-38fb-44ab-923c-34f01652efac' as uuid)],now());\n",
      "insert into tbl_edge values (cast('40aebe55-d8e6-4234-83e1-9ba06fe28ca8' as uuid),cast('de5bd00d-f35e-44c6-9119-9164a26b57eb' as uuid),array[cast('c78e346d-38fb-44ab-923c-34f01652efac' as uuid)],now());\n",
      "insert into tbl_edge values (cast('67bd1201-7f6a-4328-a659-febf5184da5a' as uuid),cast('de5bd00d-f35e-44c6-9119-9164a26b57eb' as uuid),array[cast('c78e346d-38fb-44ab-923c-34f01652efac' as uuid)],now());\n",
      "insert into tbl_edge values (cast('21f0b644-8571-469b-a8de-1ba366e9f5eb' as uuid),cast('20ccf464-5d67-48ea-a435-4a2732da1ea6' as uuid),array[cast('c78e346d-38fb-44ab-923c-34f01652efac' as uuid)],now());\n",
      "insert into tbl_edge values (cast('41fb43f4-97af-4298-bd6a-d4c1ebb47b8b' as uuid),cast('de5bd00d-f35e-44c6-9119-9164a26b57eb' as uuid),array[cast('c78e346d-38fb-44ab-923c-34f01652efac' as uuid)],now());\n",
      "insert into tbl_edge values (cast('cd0075b5-bfb8-4782-be2f-e3bf5ff53d15' as uuid),cast('de5bd00d-f35e-44c6-9119-9164a26b57eb' as uuid),array[cast('c78e346d-38fb-44ab-923c-34f01652efac' as uuid)],now());\n",
      "insert into tbl_edge values (cast('9b4ea39b-2770-42ae-972d-4a9691c2a943' as uuid),cast('0697c72b-79f9-4d9f-8a9b-5da94802f201' as uuid),array[cast('c78e346d-38fb-44ab-923c-34f01652efac' as uuid)],now());\n",
      "insert into tbl_edge values (cast('a8055146-b940-4e81-9265-7249d6e31562' as uuid),cast('de5bd00d-f35e-44c6-9119-9164a26b57eb' as uuid),array[cast('c78e346d-38fb-44ab-923c-34f01652efac' as uuid)],now());\n",
      "insert into tbl_edge values (cast('cd1c8932-b5a2-4867-aba7-a3042acd3bad' as uuid),cast('de5bd00d-f35e-44c6-9119-9164a26b57eb' as uuid),array[cast('c78e346d-38fb-44ab-923c-34f01652efac' as uuid)],now());\n",
      "insert into tbl_edge values (cast('cfc4b0c1-ebfc-49c8-993f-3fb01d29e4ce' as uuid),cast('611aa648-4d72-4b11-b64a-22ec173d7b53' as uuid),array[cast('c78e346d-38fb-44ab-923c-34f01652efac' as uuid)],now());\n"
     ]
    }
   ],
   "source": [
    "cur.execute(\"delete from tbl_edge\")\n",
    "conn.commit()\n",
    "\n",
    "for index, row in df_edges.iterrows():\n",
    "    df_nodes.loc[((df_nodes['name'] == row['source']) & (df_nodes['type'] == 'concept')), 'id']\n",
    "    source_id = df_nodes.loc[((df_nodes['name'] == row['source']) & (df_nodes['type'] == 'concept')), 'id'].item()\n",
    "    target_id = df_nodes.loc[((df_nodes['name'] == row['target']) & (df_nodes['type'] == 'category')), 'id'].item()\n",
    "    statement = f\"insert into tbl_edge values (cast('{source_id}' as uuid),cast('{target_id}' as uuid),array[cast('{desc[0]}' as uuid)],now());\"\n",
    "    print(statement)\n",
    "    cur.execute(statement)\n",
    "    \n",
    "conn.commit()"
   ]
  },
  {
   "cell_type": "code",
   "execution_count": 93,
   "metadata": {},
   "outputs": [
    {
     "data": {
      "text/html": [
       "<div>\n",
       "<style scoped>\n",
       "    .dataframe tbody tr th:only-of-type {\n",
       "        vertical-align: middle;\n",
       "    }\n",
       "\n",
       "    .dataframe tbody tr th {\n",
       "        vertical-align: top;\n",
       "    }\n",
       "\n",
       "    .dataframe thead th {\n",
       "        text-align: right;\n",
       "    }\n",
       "</style>\n",
       "<table border=\"1\" class=\"dataframe\">\n",
       "  <thead>\n",
       "    <tr style=\"text-align: right;\">\n",
       "      <th></th>\n",
       "      <th>source</th>\n",
       "      <th>target</th>\n",
       "    </tr>\n",
       "  </thead>\n",
       "  <tbody>\n",
       "    <tr>\n",
       "      <th>0</th>\n",
       "      <td>PERSONALIA</td>\n",
       "      <td>SIVILSTAND</td>\n",
       "    </tr>\n",
       "    <tr>\n",
       "      <th>1</th>\n",
       "      <td>ARBEIDSFORHOLD</td>\n",
       "      <td>ARBEIDSFORHOLD</td>\n",
       "    </tr>\n",
       "    <tr>\n",
       "      <th>2</th>\n",
       "      <td>PERSONALIA</td>\n",
       "      <td>KJØNN</td>\n",
       "    </tr>\n",
       "    <tr>\n",
       "      <th>3</th>\n",
       "      <td>PERSONALIA</td>\n",
       "      <td>NAVN</td>\n",
       "    </tr>\n",
       "    <tr>\n",
       "      <th>4</th>\n",
       "      <td>PERSONALIA</td>\n",
       "      <td>FØDSELSDATO</td>\n",
       "    </tr>\n",
       "  </tbody>\n",
       "</table>\n",
       "</div>"
      ],
      "text/plain": [
       "           source          target\n",
       "0      PERSONALIA      SIVILSTAND\n",
       "1  ARBEIDSFORHOLD  ARBEIDSFORHOLD\n",
       "2      PERSONALIA           KJØNN\n",
       "3      PERSONALIA            NAVN\n",
       "4      PERSONALIA     FØDSELSDATO"
      ]
     },
     "execution_count": 93,
     "metadata": {},
     "output_type": "execute_result"
    }
   ],
   "source": [
    "df_edges = pd.read_excel(xls, sheet, encoding='latin1')\n",
    "df_edges = df_edges[['categories', 'title']].drop_duplicates()\n",
    "df_edges.columns = ['source', 'target']\n",
    "df_edges['source'] = df_edges['source'].apply(lambda x: x.strip().upper())\n",
    "df_edges['target'] = df_edges['target'].apply(lambda x: x.strip().upper())\n",
    "df_edges.drop_duplicates()\n",
    "\n",
    "df_edges.head()"
   ]
  },
  {
   "cell_type": "code",
   "execution_count": 176,
   "metadata": {},
   "outputs": [],
   "source": [
    "for index, row in df_edges.iterrows():\n",
    "    df_nodes.loc[((df_nodes['name'] == row['source']) & (df_nodes['type'] == 'concept')), 'id']\n",
    "    source_id = df_nodes.loc[((df_nodes['name'] == row['source']) & (df_nodes['type'] == 'category')), 'id'].item()\n",
    "    target_id = df_nodes.loc[((df_nodes['name'] == row['target']) & (df_nodes['type'] == 'concept')), 'id'].item()\n",
    "    cur.execute(f\"insert into tbl_edge values ({source_id},{target_id},array[6],now());\")\n",
    "    \n",
    "conn.commit()\n"
   ]
  },
  {
   "cell_type": "code",
   "execution_count": 94,
   "metadata": {},
   "outputs": [
    {
     "data": {
      "text/html": [
       "<div>\n",
       "<style scoped>\n",
       "    .dataframe tbody tr th:only-of-type {\n",
       "        vertical-align: middle;\n",
       "    }\n",
       "\n",
       "    .dataframe tbody tr th {\n",
       "        vertical-align: top;\n",
       "    }\n",
       "\n",
       "    .dataframe thead th {\n",
       "        text-align: right;\n",
       "    }\n",
       "</style>\n",
       "<table border=\"1\" class=\"dataframe\">\n",
       "  <thead>\n",
       "    <tr style=\"text-align: right;\">\n",
       "      <th></th>\n",
       "      <th>n1</th>\n",
       "      <th>n2</th>\n",
       "      <th>prop</th>\n",
       "      <th>created</th>\n",
       "    </tr>\n",
       "  </thead>\n",
       "  <tbody>\n",
       "    <tr>\n",
       "      <th>0</th>\n",
       "      <td>e27ef8ad-10cd-43df-b8e5-72107dde5329</td>\n",
       "      <td>83fb6213-5f1a-467f-8631-1b3aabe0ca13</td>\n",
       "      <td>{c78e346d-38fb-44ab-923c-34f01652efac}</td>\n",
       "      <td>2019-11-20 13:41:06.163501</td>\n",
       "    </tr>\n",
       "    <tr>\n",
       "      <th>1</th>\n",
       "      <td>ec1c37f0-508d-4aeb-a333-f1c6390da1c0</td>\n",
       "      <td>1dc07a6a-2014-4d76-a769-bd7dd2113864</td>\n",
       "      <td>{c78e346d-38fb-44ab-923c-34f01652efac}</td>\n",
       "      <td>2019-11-20 13:41:06.163501</td>\n",
       "    </tr>\n",
       "    <tr>\n",
       "      <th>2</th>\n",
       "      <td>45c8a383-1123-4fe9-994c-de38e3de7ce5</td>\n",
       "      <td>83fb6213-5f1a-467f-8631-1b3aabe0ca13</td>\n",
       "      <td>{c78e346d-38fb-44ab-923c-34f01652efac}</td>\n",
       "      <td>2019-11-20 13:41:06.163501</td>\n",
       "    </tr>\n",
       "    <tr>\n",
       "      <th>3</th>\n",
       "      <td>d9a3766e-bd44-4c08-bc11-9ed6c5540027</td>\n",
       "      <td>83fb6213-5f1a-467f-8631-1b3aabe0ca13</td>\n",
       "      <td>{c78e346d-38fb-44ab-923c-34f01652efac}</td>\n",
       "      <td>2019-11-20 13:41:06.163501</td>\n",
       "    </tr>\n",
       "    <tr>\n",
       "      <th>4</th>\n",
       "      <td>0ebebc95-f3ca-4a49-b024-48f958d9022a</td>\n",
       "      <td>83fb6213-5f1a-467f-8631-1b3aabe0ca13</td>\n",
       "      <td>{c78e346d-38fb-44ab-923c-34f01652efac}</td>\n",
       "      <td>2019-11-20 13:41:06.163501</td>\n",
       "    </tr>\n",
       "  </tbody>\n",
       "</table>\n",
       "</div>"
      ],
      "text/plain": [
       "                                     n1                                    n2  \\\n",
       "0  e27ef8ad-10cd-43df-b8e5-72107dde5329  83fb6213-5f1a-467f-8631-1b3aabe0ca13   \n",
       "1  ec1c37f0-508d-4aeb-a333-f1c6390da1c0  1dc07a6a-2014-4d76-a769-bd7dd2113864   \n",
       "2  45c8a383-1123-4fe9-994c-de38e3de7ce5  83fb6213-5f1a-467f-8631-1b3aabe0ca13   \n",
       "3  d9a3766e-bd44-4c08-bc11-9ed6c5540027  83fb6213-5f1a-467f-8631-1b3aabe0ca13   \n",
       "4  0ebebc95-f3ca-4a49-b024-48f958d9022a  83fb6213-5f1a-467f-8631-1b3aabe0ca13   \n",
       "\n",
       "                                     prop                    created  \n",
       "0  {c78e346d-38fb-44ab-923c-34f01652efac} 2019-11-20 13:41:06.163501  \n",
       "1  {c78e346d-38fb-44ab-923c-34f01652efac} 2019-11-20 13:41:06.163501  \n",
       "2  {c78e346d-38fb-44ab-923c-34f01652efac} 2019-11-20 13:41:06.163501  \n",
       "3  {c78e346d-38fb-44ab-923c-34f01652efac} 2019-11-20 13:41:06.163501  \n",
       "4  {c78e346d-38fb-44ab-923c-34f01652efac} 2019-11-20 13:41:06.163501  "
      ]
     },
     "execution_count": 94,
     "metadata": {},
     "output_type": "execute_result"
    }
   ],
   "source": [
    "sql = \"select * from tbl_edge\"\n",
    "df = sqlio.read_sql_query(sql, conn)\n",
    "df.head()"
   ]
  },
  {
   "cell_type": "code",
   "execution_count": 95,
   "metadata": {},
   "outputs": [],
   "source": [
    "sql = \"\"\"\n",
    "create or replace function graph_search1(      \n",
    "  IN i_root uuid,                       -- The node that the search is based on        \n",
    "  IN i_depth int  default 99999,       -- the tier to search (the depth limit)      \n",
    "  IN i_limit int8 default 2000000000,  -- limit the number of records returned for each tier      \n",
    "  OUT o_path uuid[],                    -- output: path, an array of IDs      \n",
    "  OUT o_point1 uuid,                    -- output: point 1 ID      \n",
    "  OUT o_point2 uuid,                    -- output: point 2 ID      \n",
    "  OUT o_link_prop uuid[],              -- output: the connection property between the two current points      \n",
    "  OUT o_link_prop_all text,            -- output: the connection property from the starting node to the current node      \n",
    "  OUT o_depth int                      -- output: current depth (tier)      \n",
    ") returns setof record as \n",
    "$$\n",
    "      \n",
    "declare      \n",
    "  sql text;      \n",
    "begin      \n",
    "sql := format($_$      \n",
    "WITH RECURSIVE search_graph(        \n",
    "  n1,     -- point 1        \n",
    "  n2,     -- point 2        \n",
    "  prop,   -- current edge property      \n",
    "  all_prop,  -- properties of all edges  \n",
    "  depth,  -- current depth, starting from 1         \n",
    "  path    -- path, stored as an array         \n",
    ") AS (        \n",
    "        select n1,n2,prop,all_prop,depth,path from (        \n",
    "        SELECT                               -- ROOT node query        \n",
    "          g.n1,                              -- point 1        \n",
    "          g.n2,                              -- point 2        \n",
    "          g.prop,                            -- edge property        \n",
    "      g.prop::text as all_prop,          -- properties of all edges  \n",
    "          1 depth,                           -- initial depth=1        \n",
    "          ARRAY[g.n1, g.n2] path             -- initial path        \n",
    "        FROM tbl_edge AS g         \n",
    "        WHERE         \n",
    "          n1 = %s                            -- ROOT node=?        \n",
    "          limit %s                           -- How many records are limited at each tier?        \n",
    "        ) t        \n",
    "      UNION ALL        \n",
    "        select n1,n2,prop,all_prop,depth,path from (        \n",
    "        SELECT                               -- recursive clause         \n",
    "          g.n1,                              -- point 1        \n",
    "          g.n2,                              -- point 2        \n",
    "          g.prop,                            -- edge property     \n",
    "      sg.all_prop || g.prop::text as all_prop,    -- properties of all edges  \n",
    "          sg.depth + 1 depth,                   -- depth +1        \n",
    "          sg.path || g.n2 path                 -- Add a new point to the path        \n",
    "        FROM tbl_edge AS g, search_graph AS sg    -- circular INNER JOIN        \n",
    "        WHERE         \n",
    "          g.n1 = sg.n2                       -- recursive JOIN condition        \n",
    "          AND (g.n2 <> ALL(sg.path))                      -- Prevent loop, determine whether it is a loop and judge if the new point is already in the previous path   \n",
    "          AND sg.depth <= %s                 -- search depth =?          \n",
    "          limit %s                           -- How many records are limited at each tier?       \n",
    "        ) t        \n",
    ")        \n",
    "SELECT path as o_path, n1 as o_point1, n2 as o_point2, prop as o_link_prop, all_prop as o_link_prop_all, depth as o_depth      \n",
    "FROM search_graph;                           -- query a recursive table. You can add LIMIT output or use a cursor       \n",
    "$_$, i_root, i_limit, i_depth, i_limit      \n",
    ");      \n",
    "      \n",
    "return query execute sql;      \n",
    "      \n",
    "end;      \n",
    "\n",
    "$$\n",
    " language plpgsql strict;   \n",
    "\"\"\"\n",
    "\n",
    "cur.execute(sql)"
   ]
  },
  {
   "cell_type": "code",
   "execution_count": 96,
   "metadata": {},
   "outputs": [],
   "source": [
    "conn.commit()"
   ]
  },
  {
   "cell_type": "code",
   "execution_count": 99,
   "metadata": {},
   "outputs": [
    {
     "ename": "DatabaseError",
     "evalue": "Execution failed on sql 'select * from graph_search1(CAST('45c8a383-1123-4fe9-994c-de38e3de7ce5' AS UUID))': syntax error at or near \"c8a383\"\nLINE 20:           n1 = 45c8a383-1123-4fe9-994c-de38e3de7ce5         ...\n                          ^\nQUERY:        \nWITH RECURSIVE search_graph(        \n  n1,     -- point 1        \n  n2,     -- point 2        \n  prop,   -- current edge property      \n  all_prop,  -- properties of all edges  \n  depth,  -- current depth, starting from 1         \n  path    -- path, stored as an array         \n) AS (        \n        select n1,n2,prop,all_prop,depth,path from (        \n        SELECT                               -- ROOT node query        \n          g.n1,                              -- point 1        \n          g.n2,                              -- point 2        \n          g.prop,                            -- edge property        \n      g.prop::text as all_prop,          -- properties of all edges  \n          1 depth,                           -- initial depth=1        \n          ARRAY[g.n1, g.n2] path             -- initial path        \n        FROM tbl_edge AS g         \n        WHERE         \n          n1 = 45c8a383-1123-4fe9-994c-de38e3de7ce5                            -- ROOT node=?        \n          limit 2000000000                           -- How many records are limited at each tier?        \n        ) t        \n      UNION ALL        \n        select n1,n2,prop,all_prop,depth,path from (        \n        SELECT                               -- recursive clause         \n          g.n1,                              -- point 1        \n          g.n2,                              -- point 2        \n          g.prop,                            -- edge property     \n      sg.all_prop || g.prop::text as all_prop,    -- properties of all edges  \n          sg.depth + 1 depth,                   -- depth +1        \n          sg.path || g.n2 path                 -- Add a new point to the path        \n        FROM tbl_edge AS g, search_graph AS sg    -- circular INNER JOIN        \n        WHERE         \n          g.n1 = sg.n2                       -- recursive JOIN condition        \n          AND (g.n2 <> ALL(sg.path))                      -- Prevent loop, determine whether it is a loop and judge if the new point is already in the previous path   \n          AND sg.depth <= 99999                 -- search depth =?          \n          limit 2000000000                           -- How many records are limited at each tier?       \n        ) t        \n)        \nSELECT path as o_path, n1 as o_point1, n2 as o_point2, prop as o_link_prop, all_prop as o_link_prop_all, depth as o_depth      \nFROM search_graph;                           -- query a recursive table. You can add LIMIT output or use a cursor       \n\nCONTEXT:  PL/pgSQL function graph_search1(uuid,integer,bigint) line 50 at RETURN QUERY\n",
     "output_type": "error",
     "traceback": [
      "\u001b[0;31m---------------------------------------------------------------------------\u001b[0m",
      "\u001b[0;31mSyntaxError\u001b[0m                               Traceback (most recent call last)",
      "\u001b[0;32m~/Environments/py37/lib/python3.7/site-packages/pandas/io/sql.py\u001b[0m in \u001b[0;36mexecute\u001b[0;34m(self, *args, **kwargs)\u001b[0m\n\u001b[1;32m   1430\u001b[0m             \u001b[0;32melse\u001b[0m\u001b[0;34m:\u001b[0m\u001b[0;34m\u001b[0m\u001b[0;34m\u001b[0m\u001b[0m\n\u001b[0;32m-> 1431\u001b[0;31m                 \u001b[0mcur\u001b[0m\u001b[0;34m.\u001b[0m\u001b[0mexecute\u001b[0m\u001b[0;34m(\u001b[0m\u001b[0;34m*\u001b[0m\u001b[0margs\u001b[0m\u001b[0;34m)\u001b[0m\u001b[0;34m\u001b[0m\u001b[0;34m\u001b[0m\u001b[0m\n\u001b[0m\u001b[1;32m   1432\u001b[0m             \u001b[0;32mreturn\u001b[0m \u001b[0mcur\u001b[0m\u001b[0;34m\u001b[0m\u001b[0;34m\u001b[0m\u001b[0m\n",
      "\u001b[0;31mSyntaxError\u001b[0m: syntax error at or near \"c8a383\"\nLINE 20:           n1 = 45c8a383-1123-4fe9-994c-de38e3de7ce5         ...\n                          ^\nQUERY:        \nWITH RECURSIVE search_graph(        \n  n1,     -- point 1        \n  n2,     -- point 2        \n  prop,   -- current edge property      \n  all_prop,  -- properties of all edges  \n  depth,  -- current depth, starting from 1         \n  path    -- path, stored as an array         \n) AS (        \n        select n1,n2,prop,all_prop,depth,path from (        \n        SELECT                               -- ROOT node query        \n          g.n1,                              -- point 1        \n          g.n2,                              -- point 2        \n          g.prop,                            -- edge property        \n      g.prop::text as all_prop,          -- properties of all edges  \n          1 depth,                           -- initial depth=1        \n          ARRAY[g.n1, g.n2] path             -- initial path        \n        FROM tbl_edge AS g         \n        WHERE         \n          n1 = 45c8a383-1123-4fe9-994c-de38e3de7ce5                            -- ROOT node=?        \n          limit 2000000000                           -- How many records are limited at each tier?        \n        ) t        \n      UNION ALL        \n        select n1,n2,prop,all_prop,depth,path from (        \n        SELECT                               -- recursive clause         \n          g.n1,                              -- point 1        \n          g.n2,                              -- point 2        \n          g.prop,                            -- edge property     \n      sg.all_prop || g.prop::text as all_prop,    -- properties of all edges  \n          sg.depth + 1 depth,                   -- depth +1        \n          sg.path || g.n2 path                 -- Add a new point to the path        \n        FROM tbl_edge AS g, search_graph AS sg    -- circular INNER JOIN        \n        WHERE         \n          g.n1 = sg.n2                       -- recursive JOIN condition        \n          AND (g.n2 <> ALL(sg.path))                      -- Prevent loop, determine whether it is a loop and judge if the new point is already in the previous path   \n          AND sg.depth <= 99999                 -- search depth =?          \n          limit 2000000000                           -- How many records are limited at each tier?       \n        ) t        \n)        \nSELECT path as o_path, n1 as o_point1, n2 as o_point2, prop as o_link_prop, all_prop as o_link_prop_all, depth as o_depth      \nFROM search_graph;                           -- query a recursive table. You can add LIMIT output or use a cursor       \n\nCONTEXT:  PL/pgSQL function graph_search1(uuid,integer,bigint) line 50 at RETURN QUERY\n",
      "\nDuring handling of the above exception, another exception occurred:\n",
      "\u001b[0;31mDatabaseError\u001b[0m                             Traceback (most recent call last)",
      "\u001b[0;32m<timed exec>\u001b[0m in \u001b[0;36m<module>\u001b[0;34m\u001b[0m\n",
      "\u001b[0;32m~/Environments/py37/lib/python3.7/site-packages/pandas/io/sql.py\u001b[0m in \u001b[0;36mread_sql_query\u001b[0;34m(sql, con, index_col, coerce_float, params, parse_dates, chunksize)\u001b[0m\n\u001b[1;32m    312\u001b[0m     return pandas_sql.read_query(\n\u001b[1;32m    313\u001b[0m         \u001b[0msql\u001b[0m\u001b[0;34m,\u001b[0m \u001b[0mindex_col\u001b[0m\u001b[0;34m=\u001b[0m\u001b[0mindex_col\u001b[0m\u001b[0;34m,\u001b[0m \u001b[0mparams\u001b[0m\u001b[0;34m=\u001b[0m\u001b[0mparams\u001b[0m\u001b[0;34m,\u001b[0m \u001b[0mcoerce_float\u001b[0m\u001b[0;34m=\u001b[0m\u001b[0mcoerce_float\u001b[0m\u001b[0;34m,\u001b[0m\u001b[0;34m\u001b[0m\u001b[0;34m\u001b[0m\u001b[0m\n\u001b[0;32m--> 314\u001b[0;31m         parse_dates=parse_dates, chunksize=chunksize)\n\u001b[0m\u001b[1;32m    315\u001b[0m \u001b[0;34m\u001b[0m\u001b[0m\n\u001b[1;32m    316\u001b[0m \u001b[0;34m\u001b[0m\u001b[0m\n",
      "\u001b[0;32m~/Environments/py37/lib/python3.7/site-packages/pandas/io/sql.py\u001b[0m in \u001b[0;36mread_query\u001b[0;34m(self, sql, index_col, coerce_float, params, parse_dates, chunksize)\u001b[0m\n\u001b[1;32m   1466\u001b[0m \u001b[0;34m\u001b[0m\u001b[0m\n\u001b[1;32m   1467\u001b[0m         \u001b[0margs\u001b[0m \u001b[0;34m=\u001b[0m \u001b[0m_convert_params\u001b[0m\u001b[0;34m(\u001b[0m\u001b[0msql\u001b[0m\u001b[0;34m,\u001b[0m \u001b[0mparams\u001b[0m\u001b[0;34m)\u001b[0m\u001b[0;34m\u001b[0m\u001b[0;34m\u001b[0m\u001b[0m\n\u001b[0;32m-> 1468\u001b[0;31m         \u001b[0mcursor\u001b[0m \u001b[0;34m=\u001b[0m \u001b[0mself\u001b[0m\u001b[0;34m.\u001b[0m\u001b[0mexecute\u001b[0m\u001b[0;34m(\u001b[0m\u001b[0;34m*\u001b[0m\u001b[0margs\u001b[0m\u001b[0;34m)\u001b[0m\u001b[0;34m\u001b[0m\u001b[0;34m\u001b[0m\u001b[0m\n\u001b[0m\u001b[1;32m   1469\u001b[0m         \u001b[0mcolumns\u001b[0m \u001b[0;34m=\u001b[0m \u001b[0;34m[\u001b[0m\u001b[0mcol_desc\u001b[0m\u001b[0;34m[\u001b[0m\u001b[0;36m0\u001b[0m\u001b[0;34m]\u001b[0m \u001b[0;32mfor\u001b[0m \u001b[0mcol_desc\u001b[0m \u001b[0;32min\u001b[0m \u001b[0mcursor\u001b[0m\u001b[0;34m.\u001b[0m\u001b[0mdescription\u001b[0m\u001b[0;34m]\u001b[0m\u001b[0;34m\u001b[0m\u001b[0;34m\u001b[0m\u001b[0m\n\u001b[1;32m   1470\u001b[0m \u001b[0;34m\u001b[0m\u001b[0m\n",
      "\u001b[0;32m~/Environments/py37/lib/python3.7/site-packages/pandas/io/sql.py\u001b[0m in \u001b[0;36mexecute\u001b[0;34m(self, *args, **kwargs)\u001b[0m\n\u001b[1;32m   1443\u001b[0m                 \"Execution failed on sql '{sql}': {exc}\".format(\n\u001b[1;32m   1444\u001b[0m                     sql=args[0], exc=exc))\n\u001b[0;32m-> 1445\u001b[0;31m             \u001b[0mraise_with_traceback\u001b[0m\u001b[0;34m(\u001b[0m\u001b[0mex\u001b[0m\u001b[0;34m)\u001b[0m\u001b[0;34m\u001b[0m\u001b[0;34m\u001b[0m\u001b[0m\n\u001b[0m\u001b[1;32m   1446\u001b[0m \u001b[0;34m\u001b[0m\u001b[0m\n\u001b[1;32m   1447\u001b[0m     \u001b[0;34m@\u001b[0m\u001b[0mstaticmethod\u001b[0m\u001b[0;34m\u001b[0m\u001b[0;34m\u001b[0m\u001b[0m\n",
      "\u001b[0;32m~/Environments/py37/lib/python3.7/site-packages/pandas/compat/__init__.py\u001b[0m in \u001b[0;36mraise_with_traceback\u001b[0;34m(exc, traceback)\u001b[0m\n\u001b[1;32m    418\u001b[0m         \u001b[0;32mif\u001b[0m \u001b[0mtraceback\u001b[0m \u001b[0;34m==\u001b[0m \u001b[0mEllipsis\u001b[0m\u001b[0;34m:\u001b[0m\u001b[0;34m\u001b[0m\u001b[0;34m\u001b[0m\u001b[0m\n\u001b[1;32m    419\u001b[0m             \u001b[0m_\u001b[0m\u001b[0;34m,\u001b[0m \u001b[0m_\u001b[0m\u001b[0;34m,\u001b[0m \u001b[0mtraceback\u001b[0m \u001b[0;34m=\u001b[0m \u001b[0msys\u001b[0m\u001b[0;34m.\u001b[0m\u001b[0mexc_info\u001b[0m\u001b[0;34m(\u001b[0m\u001b[0;34m)\u001b[0m\u001b[0;34m\u001b[0m\u001b[0;34m\u001b[0m\u001b[0m\n\u001b[0;32m--> 420\u001b[0;31m         \u001b[0;32mraise\u001b[0m \u001b[0mexc\u001b[0m\u001b[0;34m.\u001b[0m\u001b[0mwith_traceback\u001b[0m\u001b[0;34m(\u001b[0m\u001b[0mtraceback\u001b[0m\u001b[0;34m)\u001b[0m\u001b[0;34m\u001b[0m\u001b[0;34m\u001b[0m\u001b[0m\n\u001b[0m\u001b[1;32m    421\u001b[0m \u001b[0;32melse\u001b[0m\u001b[0;34m:\u001b[0m\u001b[0;34m\u001b[0m\u001b[0;34m\u001b[0m\u001b[0m\n\u001b[1;32m    422\u001b[0m     \u001b[0;31m# this version of raise is a syntax error in Python 3\u001b[0m\u001b[0;34m\u001b[0m\u001b[0;34m\u001b[0m\u001b[0;34m\u001b[0m\u001b[0m\n",
      "\u001b[0;32m~/Environments/py37/lib/python3.7/site-packages/pandas/io/sql.py\u001b[0m in \u001b[0;36mexecute\u001b[0;34m(self, *args, **kwargs)\u001b[0m\n\u001b[1;32m   1429\u001b[0m                 \u001b[0mcur\u001b[0m\u001b[0;34m.\u001b[0m\u001b[0mexecute\u001b[0m\u001b[0;34m(\u001b[0m\u001b[0;34m*\u001b[0m\u001b[0margs\u001b[0m\u001b[0;34m,\u001b[0m \u001b[0;34m**\u001b[0m\u001b[0mkwargs\u001b[0m\u001b[0;34m)\u001b[0m\u001b[0;34m\u001b[0m\u001b[0;34m\u001b[0m\u001b[0m\n\u001b[1;32m   1430\u001b[0m             \u001b[0;32melse\u001b[0m\u001b[0;34m:\u001b[0m\u001b[0;34m\u001b[0m\u001b[0;34m\u001b[0m\u001b[0m\n\u001b[0;32m-> 1431\u001b[0;31m                 \u001b[0mcur\u001b[0m\u001b[0;34m.\u001b[0m\u001b[0mexecute\u001b[0m\u001b[0;34m(\u001b[0m\u001b[0;34m*\u001b[0m\u001b[0margs\u001b[0m\u001b[0;34m)\u001b[0m\u001b[0;34m\u001b[0m\u001b[0;34m\u001b[0m\u001b[0m\n\u001b[0m\u001b[1;32m   1432\u001b[0m             \u001b[0;32mreturn\u001b[0m \u001b[0mcur\u001b[0m\u001b[0;34m\u001b[0m\u001b[0;34m\u001b[0m\u001b[0m\n\u001b[1;32m   1433\u001b[0m         \u001b[0;32mexcept\u001b[0m \u001b[0mException\u001b[0m \u001b[0;32mas\u001b[0m \u001b[0mexc\u001b[0m\u001b[0;34m:\u001b[0m\u001b[0;34m\u001b[0m\u001b[0;34m\u001b[0m\u001b[0m\n",
      "\u001b[0;31mDatabaseError\u001b[0m: Execution failed on sql 'select * from graph_search1(CAST('45c8a383-1123-4fe9-994c-de38e3de7ce5' AS UUID))': syntax error at or near \"c8a383\"\nLINE 20:           n1 = 45c8a383-1123-4fe9-994c-de38e3de7ce5         ...\n                          ^\nQUERY:        \nWITH RECURSIVE search_graph(        \n  n1,     -- point 1        \n  n2,     -- point 2        \n  prop,   -- current edge property      \n  all_prop,  -- properties of all edges  \n  depth,  -- current depth, starting from 1         \n  path    -- path, stored as an array         \n) AS (        \n        select n1,n2,prop,all_prop,depth,path from (        \n        SELECT                               -- ROOT node query        \n          g.n1,                              -- point 1        \n          g.n2,                              -- point 2        \n          g.prop,                            -- edge property        \n      g.prop::text as all_prop,          -- properties of all edges  \n          1 depth,                           -- initial depth=1        \n          ARRAY[g.n1, g.n2] path             -- initial path        \n        FROM tbl_edge AS g         \n        WHERE         \n          n1 = 45c8a383-1123-4fe9-994c-de38e3de7ce5                            -- ROOT node=?        \n          limit 2000000000                           -- How many records are limited at each tier?        \n        ) t        \n      UNION ALL        \n        select n1,n2,prop,all_prop,depth,path from (        \n        SELECT                               -- recursive clause         \n          g.n1,                              -- point 1        \n          g.n2,                              -- point 2        \n          g.prop,                            -- edge property     \n      sg.all_prop || g.prop::text as all_prop,    -- properties of all edges  \n          sg.depth + 1 depth,                   -- depth +1        \n          sg.path || g.n2 path                 -- Add a new point to the path        \n        FROM tbl_edge AS g, search_graph AS sg    -- circular INNER JOIN        \n        WHERE         \n          g.n1 = sg.n2                       -- recursive JOIN condition        \n          AND (g.n2 <> ALL(sg.path))                      -- Prevent loop, determine whether it is a loop and judge if the new point is already in the previous path   \n          AND sg.depth <= 99999                 -- search depth =?          \n          limit 2000000000                           -- How many records are limited at each tier?       \n        ) t        \n)        \nSELECT path as o_path, n1 as o_point1, n2 as o_point2, prop as o_link_prop, all_prop as o_link_prop_all, depth as o_depth      \nFROM search_graph;                           -- query a recursive table. You can add LIMIT output or use a cursor       \n\nCONTEXT:  PL/pgSQL function graph_search1(uuid,integer,bigint) line 50 at RETURN QUERY\n"
     ]
    }
   ],
   "source": [
    "%%time\n",
    "sql = \"select * from graph_search1(CAST('45c8a383-1123-4fe9-994c-de38e3de7ce5' AS UUID))\"\n",
    "df = sqlio.read_sql_query(sql, conn)"
   ]
  },
  {
   "cell_type": "code",
   "execution_count": 181,
   "metadata": {},
   "outputs": [],
   "source": [
    "sql = \"select * from graph_search1(262)\"\n",
    "df = sqlio.read_sql_query(sql, conn)"
   ]
  },
  {
   "cell_type": "code",
   "execution_count": 182,
   "metadata": {},
   "outputs": [
    {
     "data": {
      "text/html": [
       "<div>\n",
       "<style scoped>\n",
       "    .dataframe tbody tr th:only-of-type {\n",
       "        vertical-align: middle;\n",
       "    }\n",
       "\n",
       "    .dataframe tbody tr th {\n",
       "        vertical-align: top;\n",
       "    }\n",
       "\n",
       "    .dataframe thead th {\n",
       "        text-align: right;\n",
       "    }\n",
       "</style>\n",
       "<table border=\"1\" class=\"dataframe\">\n",
       "  <thead>\n",
       "    <tr style=\"text-align: right;\">\n",
       "      <th></th>\n",
       "      <th>o_path</th>\n",
       "      <th>o_point1</th>\n",
       "      <th>o_point2</th>\n",
       "      <th>o_link_prop</th>\n",
       "      <th>o_link_prop_all</th>\n",
       "      <th>o_depth</th>\n",
       "    </tr>\n",
       "  </thead>\n",
       "  <tbody>\n",
       "    <tr>\n",
       "      <th>0</th>\n",
       "      <td>[262, 247]</td>\n",
       "      <td>262</td>\n",
       "      <td>247</td>\n",
       "      <td>[6]</td>\n",
       "      <td>{6}</td>\n",
       "      <td>1</td>\n",
       "    </tr>\n",
       "    <tr>\n",
       "      <th>1</th>\n",
       "      <td>[262, 248]</td>\n",
       "      <td>262</td>\n",
       "      <td>248</td>\n",
       "      <td>[6]</td>\n",
       "      <td>{6}</td>\n",
       "      <td>1</td>\n",
       "    </tr>\n",
       "    <tr>\n",
       "      <th>2</th>\n",
       "      <td>[262, 249]</td>\n",
       "      <td>262</td>\n",
       "      <td>249</td>\n",
       "      <td>[6]</td>\n",
       "      <td>{6}</td>\n",
       "      <td>1</td>\n",
       "    </tr>\n",
       "    <tr>\n",
       "      <th>3</th>\n",
       "      <td>[262, 250]</td>\n",
       "      <td>262</td>\n",
       "      <td>250</td>\n",
       "      <td>[6]</td>\n",
       "      <td>{6}</td>\n",
       "      <td>1</td>\n",
       "    </tr>\n",
       "    <tr>\n",
       "      <th>4</th>\n",
       "      <td>[262, 252]</td>\n",
       "      <td>262</td>\n",
       "      <td>252</td>\n",
       "      <td>[6]</td>\n",
       "      <td>{6}</td>\n",
       "      <td>1</td>\n",
       "    </tr>\n",
       "    <tr>\n",
       "      <th>5</th>\n",
       "      <td>[262, 253]</td>\n",
       "      <td>262</td>\n",
       "      <td>253</td>\n",
       "      <td>[6]</td>\n",
       "      <td>{6}</td>\n",
       "      <td>1</td>\n",
       "    </tr>\n",
       "    <tr>\n",
       "      <th>6</th>\n",
       "      <td>[262, 255]</td>\n",
       "      <td>262</td>\n",
       "      <td>255</td>\n",
       "      <td>[6]</td>\n",
       "      <td>{6}</td>\n",
       "      <td>1</td>\n",
       "    </tr>\n",
       "    <tr>\n",
       "      <th>7</th>\n",
       "      <td>[262, 256]</td>\n",
       "      <td>262</td>\n",
       "      <td>256</td>\n",
       "      <td>[6]</td>\n",
       "      <td>{6}</td>\n",
       "      <td>1</td>\n",
       "    </tr>\n",
       "  </tbody>\n",
       "</table>\n",
       "</div>"
      ],
      "text/plain": [
       "       o_path  o_point1  o_point2 o_link_prop o_link_prop_all  o_depth\n",
       "0  [262, 247]       262       247         [6]             {6}        1\n",
       "1  [262, 248]       262       248         [6]             {6}        1\n",
       "2  [262, 249]       262       249         [6]             {6}        1\n",
       "3  [262, 250]       262       250         [6]             {6}        1\n",
       "4  [262, 252]       262       252         [6]             {6}        1\n",
       "5  [262, 253]       262       253         [6]             {6}        1\n",
       "6  [262, 255]       262       255         [6]             {6}        1\n",
       "7  [262, 256]       262       256         [6]             {6}        1"
      ]
     },
     "execution_count": 182,
     "metadata": {},
     "output_type": "execute_result"
    }
   ],
   "source": [
    "df"
   ]
  },
  {
   "cell_type": "code",
   "execution_count": 183,
   "metadata": {},
   "outputs": [
    {
     "data": {
      "text/html": [
       "<div>\n",
       "<style scoped>\n",
       "    .dataframe tbody tr th:only-of-type {\n",
       "        vertical-align: middle;\n",
       "    }\n",
       "\n",
       "    .dataframe tbody tr th {\n",
       "        vertical-align: top;\n",
       "    }\n",
       "\n",
       "    .dataframe thead th {\n",
       "        text-align: right;\n",
       "    }\n",
       "</style>\n",
       "<table border=\"1\" class=\"dataframe\">\n",
       "  <thead>\n",
       "    <tr style=\"text-align: right;\">\n",
       "      <th></th>\n",
       "      <th>name</th>\n",
       "      <th>source</th>\n",
       "      <th>target</th>\n",
       "      <th>target_node_id</th>\n",
       "      <th>source_node_id</th>\n",
       "      <th>weight</th>\n",
       "    </tr>\n",
       "  </thead>\n",
       "  <tbody>\n",
       "    <tr>\n",
       "      <th>0</th>\n",
       "      <td>contains concept</td>\n",
       "      <td>FAMILIERELASJONER</td>\n",
       "      <td>ADOPSJON</td>\n",
       "      <td>247</td>\n",
       "      <td>262</td>\n",
       "      <td>1</td>\n",
       "    </tr>\n",
       "    <tr>\n",
       "      <th>1</th>\n",
       "      <td>contains concept</td>\n",
       "      <td>FAMILIERELASJONER</td>\n",
       "      <td>BARN</td>\n",
       "      <td>248</td>\n",
       "      <td>262</td>\n",
       "      <td>1</td>\n",
       "    </tr>\n",
       "    <tr>\n",
       "      <th>2</th>\n",
       "      <td>contains concept</td>\n",
       "      <td>FAMILIERELASJONER</td>\n",
       "      <td>DAGLIG OMSORG</td>\n",
       "      <td>249</td>\n",
       "      <td>262</td>\n",
       "      <td>1</td>\n",
       "    </tr>\n",
       "    <tr>\n",
       "      <th>3</th>\n",
       "      <td>contains concept</td>\n",
       "      <td>FAMILIERELASJONER</td>\n",
       "      <td>DELT BOSTED</td>\n",
       "      <td>250</td>\n",
       "      <td>262</td>\n",
       "      <td>1</td>\n",
       "    </tr>\n",
       "    <tr>\n",
       "      <th>4</th>\n",
       "      <td>contains concept</td>\n",
       "      <td>FAMILIERELASJONER</td>\n",
       "      <td>FARSKAP</td>\n",
       "      <td>252</td>\n",
       "      <td>262</td>\n",
       "      <td>1</td>\n",
       "    </tr>\n",
       "    <tr>\n",
       "      <th>5</th>\n",
       "      <td>contains concept</td>\n",
       "      <td>FAMILIERELASJONER</td>\n",
       "      <td>FLERFØDSEL</td>\n",
       "      <td>253</td>\n",
       "      <td>262</td>\n",
       "      <td>1</td>\n",
       "    </tr>\n",
       "    <tr>\n",
       "      <th>6</th>\n",
       "      <td>contains concept</td>\n",
       "      <td>FAMILIERELASJONER</td>\n",
       "      <td>FORELDREANSVAR</td>\n",
       "      <td>255</td>\n",
       "      <td>262</td>\n",
       "      <td>1</td>\n",
       "    </tr>\n",
       "    <tr>\n",
       "      <th>7</th>\n",
       "      <td>contains concept</td>\n",
       "      <td>FAMILIERELASJONER</td>\n",
       "      <td>FORSTERFORELDRE</td>\n",
       "      <td>256</td>\n",
       "      <td>262</td>\n",
       "      <td>1</td>\n",
       "    </tr>\n",
       "  </tbody>\n",
       "</table>\n",
       "</div>"
      ],
      "text/plain": [
       "               name             source           target  target_node_id  \\\n",
       "0  contains concept  FAMILIERELASJONER         ADOPSJON             247   \n",
       "1  contains concept  FAMILIERELASJONER             BARN             248   \n",
       "2  contains concept  FAMILIERELASJONER    DAGLIG OMSORG             249   \n",
       "3  contains concept  FAMILIERELASJONER      DELT BOSTED             250   \n",
       "4  contains concept  FAMILIERELASJONER          FARSKAP             252   \n",
       "5  contains concept  FAMILIERELASJONER       FLERFØDSEL             253   \n",
       "6  contains concept  FAMILIERELASJONER   FORELDREANSVAR             255   \n",
       "7  contains concept  FAMILIERELASJONER  FORSTERFORELDRE             256   \n",
       "\n",
       "   source_node_id  weight  \n",
       "0             262       1  \n",
       "1             262       1  \n",
       "2             262       1  \n",
       "3             262       1  \n",
       "4             262       1  \n",
       "5             262       1  \n",
       "6             262       1  \n",
       "7             262       1  "
      ]
     },
     "execution_count": 183,
     "metadata": {},
     "output_type": "execute_result"
    }
   ],
   "source": [
    "df_edgelist=df[['o_point1','o_point2','o_link_prop','o_depth']].copy()\n",
    "df_edgelist.columns=['source','target','id','weight']\n",
    "df_edgelist['id'] = df_edgelist['id'].apply(lambda x: x[0])\n",
    "df_edgelist = pd.merge(df_edgelist, df_links, on='id', how='left')\n",
    "df_edgelist = pd.merge(df_edgelist, df_nodes[['id', 'name']], left_on='source', right_on='id')\n",
    "df_edgelist = pd.merge(df_edgelist, df_nodes[['id', 'name']], left_on='target', right_on='id')\n",
    "df_edgelist = df_edgelist[['prop', 'name_x', 'name_y','id','id_y', 'weight']]\n",
    "df_edgelist.columns = ['name', 'source', 'target','target_node_id','source_node_id', 'weight']\n",
    "df_edgelist"
   ]
  },
  {
   "cell_type": "code",
   "execution_count": 184,
   "metadata": {},
   "outputs": [],
   "source": [
    "#!pip install nx_altair"
   ]
  },
  {
   "cell_type": "code",
   "execution_count": 185,
   "metadata": {},
   "outputs": [],
   "source": [
    "import altair as alt\n",
    "alt.renderers.enable('notebook')\n",
    "alt.themes.enable('opaque')\n",
    "import networkx as nx\n",
    "import nx_altair as nxa\n",
    "import numpy as np\n",
    "\n",
    "G = nx.from_pandas_edgelist(df_edgelist, 'source', 'target', ['name','target_node_id','source_node_id','weight'])\n",
    "pos = nx.spring_layout(G)"
   ]
  },
  {
   "cell_type": "code",
   "execution_count": 186,
   "metadata": {},
   "outputs": [
    {
     "data": {
      "image/png": "[encoded data removed]",
      "text/plain": [
       "<Figure size 432x288 with 1 Axes>"
      ]
     },
     "metadata": {},
     "output_type": "display_data"
    }
   ],
   "source": [
    "nx.draw_networkx(\n",
    "    G=G,\n",
    "    pos=pos\n",
    ")"
   ]
  },
  {
   "cell_type": "code",
   "execution_count": 187,
   "metadata": {},
   "outputs": [
    {
     "data": {
      "application/javascript": [
       "const spec = {\"config\": {\"background\": \"white\", \"view\": {\"width\": 400, \"height\": 300}, \"mark\": {\"tooltip\": null}, \"axis\": {\"domain\": false, \"grid\": false, \"labels\": false, \"ticks\": false}}, \"layer\": [{\"data\": {\"name\": \"data-75130357ed33e7a0d4809e80fb26571f\"}, \"mark\": {\"type\": \"line\", \"color\": \"black\", \"opacity\": 1}, \"encoding\": {\"detail\": {\"type\": \"quantitative\", \"field\": \"edge\"}, \"size\": {\"type\": \"nominal\", \"field\": \"weight\", \"legend\": null}, \"x\": {\"type\": \"quantitative\", \"axis\": {\"title\": \"\"}, \"field\": \"x\"}, \"y\": {\"type\": \"quantitative\", \"axis\": {\"title\": \"\"}, \"field\": \"y\"}}, \"selection\": {\"selector003\": {\"type\": \"interval\", \"bind\": \"scales\", \"encodings\": [\"x\", \"y\"]}}}, {\"data\": {\"name\": \"data-a5166145e3c195fe425c87894b1f5cae\"}, \"mark\": {\"type\": \"point\", \"fill\": \"id:N\", \"opacity\": 1, \"size\": 300}, \"encoding\": {\"fill\": {\"type\": \"nominal\", \"field\": \"id\", \"scale\": {\"scheme\": \"viridis\"}}, \"tooltip\": [{\"type\": \"nominal\", \"field\": \"weight\"}], \"x\": {\"type\": \"quantitative\", \"field\": \"x\"}, \"y\": {\"type\": \"quantitative\", \"field\": \"y\"}}}], \"$schema\": \"https://vega.github.io/schema/vega-lite/v3.4.0.json\", \"datasets\": {\"data-75130357ed33e7a0d4809e80fb26571f\": [{\"x\": 0.0013437302172059694, \"pair\": [\"FAMILIERELASJONER\", \"ADOPSJON\"], \"weight\": 1, \"y\": 0.0009015739946875066, \"edge\": 0, \"name\": \"contains concept\", \"target_node_id\": 247, \"source_node_id\": 262, \"target\": \"ADOPSJON\", \"source\": \"FAMILIERELASJONER\"}, {\"x\": -0.6010982371043002, \"pair\": [\"FAMILIERELASJONER\", \"ADOPSJON\"], \"weight\": 1, \"y\": -0.8126356792532373, \"edge\": 0, \"name\": \"contains concept\", \"target_node_id\": 247, \"source_node_id\": 262, \"target\": \"ADOPSJON\", \"source\": \"FAMILIERELASJONER\"}, {\"x\": 0.0013437302172059694, \"pair\": [\"FAMILIERELASJONER\", \"BARN\"], \"weight\": 1, \"y\": 0.0009015739946875066, \"edge\": 1, \"name\": \"contains concept\", \"target_node_id\": 248, \"source_node_id\": 262, \"target\": \"BARN\", \"source\": \"FAMILIERELASJONER\"}, {\"x\": -0.8138423567122731, \"pair\": [\"FAMILIERELASJONER\", \"BARN\"], \"weight\": 1, \"y\": 0.6006055033100498, \"edge\": 1, \"name\": \"contains concept\", \"target_node_id\": 248, \"source_node_id\": 262, \"target\": \"BARN\", \"source\": \"FAMILIERELASJONER\"}, {\"x\": 0.0013437302172059694, \"pair\": [\"FAMILIERELASJONER\", \"DAGLIG OMSORG\"], \"weight\": 1, \"y\": 0.0009015739946875066, \"edge\": 2, \"name\": \"contains concept\", \"target_node_id\": 249, \"source_node_id\": 262, \"target\": \"DAGLIG OMSORG\", \"source\": \"FAMILIERELASJONER\"}, {\"x\": -0.1506589117317762, \"pair\": [\"FAMILIERELASJONER\", \"DAGLIG OMSORG\"], \"weight\": 1, \"y\": 0.9985851527934895, \"edge\": 2, \"name\": \"contains concept\", \"target_node_id\": 249, \"source_node_id\": 262, \"target\": \"DAGLIG OMSORG\", \"source\": \"FAMILIERELASJONER\"}, {\"x\": 0.0013437302172059694, \"pair\": [\"FAMILIERELASJONER\", \"DELT BOSTED\"], \"weight\": 1, \"y\": 0.0009015739946875066, \"edge\": 3, \"name\": \"contains concept\", \"target_node_id\": 250, \"source_node_id\": 262, \"target\": \"DELT BOSTED\", \"source\": \"FAMILIERELASJONER\"}, {\"x\": 0.6029557641700191, \"pair\": [\"FAMILIERELASJONER\", \"DELT BOSTED\"], \"weight\": 1, \"y\": 0.8154632431949125, \"edge\": 3, \"name\": \"contains concept\", \"target_node_id\": 250, \"source_node_id\": 262, \"target\": \"DELT BOSTED\", \"source\": \"FAMILIERELASJONER\"}, {\"x\": 0.0013437302172059694, \"pair\": [\"FAMILIERELASJONER\", \"FARSKAP\"], \"weight\": 1, \"y\": 0.0009015739946875066, \"edge\": 4, \"name\": \"contains concept\", \"target_node_id\": 252, \"source_node_id\": 262, \"target\": \"FARSKAP\", \"source\": \"FAMILIERELASJONER\"}, {\"x\": 0.8105247085786178, \"pair\": [\"FAMILIERELASJONER\", \"FARSKAP\"], \"weight\": 1, \"y\": -0.6018651378334652, \"edge\": 4, \"name\": \"contains concept\", \"target_node_id\": 252, \"source_node_id\": 262, \"target\": \"FARSKAP\", \"source\": \"FAMILIERELASJONER\"}, {\"x\": 0.0013437302172059694, \"pair\": [\"FAMILIERELASJONER\", \"FLERF\\u00d8DSEL\"], \"weight\": 1, \"y\": 0.0009015739946875066, \"edge\": 5, \"name\": \"contains concept\", \"target_node_id\": 253, \"source_node_id\": 262, \"target\": \"FLERF\\u00d8DSEL\", \"source\": \"FAMILIERELASJONER\"}, {\"x\": -0.9968718902589649, \"pair\": [\"FAMILIERELASJONER\", \"FLERF\\u00d8DSEL\"], \"weight\": 1, \"y\": -0.14936002181679375, \"edge\": 5, \"name\": \"contains concept\", \"target_node_id\": 253, \"source_node_id\": 262, \"target\": \"FLERF\\u00d8DSEL\", \"source\": \"FAMILIERELASJONER\"}, {\"x\": 0.0013437302172059694, \"pair\": [\"FAMILIERELASJONER\", \"FORELDREANSVAR\"], \"weight\": 1, \"y\": 0.0009015739946875066, \"edge\": 6, \"name\": \"contains concept\", \"target_node_id\": 255, \"source_node_id\": 262, \"target\": \"FORELDREANSVAR\", \"source\": \"FAMILIERELASJONER\"}, {\"x\": 0.14884646531266868, \"pair\": [\"FAMILIERELASJONER\", \"FORELDREANSVAR\"], \"weight\": 1, \"y\": -1.0, \"edge\": 6, \"name\": \"contains concept\", \"target_node_id\": 255, \"source_node_id\": 262, \"target\": \"FORELDREANSVAR\", \"source\": \"FAMILIERELASJONER\"}, {\"x\": 0.0013437302172059694, \"pair\": [\"FAMILIERELASJONER\", \"FORSTERFORELDRE\"], \"weight\": 1, \"y\": 0.0009015739946875066, \"edge\": 7, \"name\": \"contains concept\", \"target_node_id\": 256, \"source_node_id\": 262, \"target\": \"FORSTERFORELDRE\", \"source\": \"FAMILIERELASJONER\"}, {\"x\": 0.9988007275288027, \"pair\": [\"FAMILIERELASJONER\", \"FORSTERFORELDRE\"], \"weight\": 1, \"y\": 0.14830536561035662, \"edge\": 7, \"name\": \"contains concept\", \"target_node_id\": 256, \"source_node_id\": 262, \"target\": \"FORSTERFORELDRE\", \"source\": \"FAMILIERELASJONER\"}], \"data-a5166145e3c195fe425c87894b1f5cae\": [{\"y\": 0.0009015739946875066, \"x\": 0.0013437302172059694}, {\"y\": -0.8126356792532373, \"x\": -0.6010982371043002}, {\"y\": 0.6006055033100498, \"x\": -0.8138423567122731}, {\"y\": 0.9985851527934895, \"x\": -0.1506589117317762}, {\"y\": 0.8154632431949125, \"x\": 0.6029557641700191}, {\"y\": -0.6018651378334652, \"x\": 0.8105247085786178}, {\"y\": -0.14936002181679375, \"x\": -0.9968718902589649}, {\"y\": -1.0, \"x\": 0.14884646531266868}, {\"y\": 0.14830536561035662, \"x\": 0.9988007275288027}]}};\n",
       "const opt = {};\n",
       "const type = \"vega-lite\";\n",
       "const id = \"3f4435c1-b5a1-418c-9cf8-8d764733f754\";\n",
       "\n",
       "const output_area = this;\n",
       "\n",
       "require([\"nbextensions/jupyter-vega/index\"], function(vega) {\n",
       "  const target = document.createElement(\"div\");\n",
       "  target.id = id;\n",
       "  target.className = \"vega-embed\";\n",
       "\n",
       "  const style = document.createElement(\"style\");\n",
       "  style.textContent = [\n",
       "    \".vega-embed .error p {\",\n",
       "    \"  color: firebrick;\",\n",
       "    \"  font-size: 14px;\",\n",
       "    \"}\",\n",
       "  ].join(\"\\\\n\");\n",
       "\n",
       "  // element is a jQuery wrapped DOM element inside the output area\n",
       "  // see http://ipython.readthedocs.io/en/stable/api/generated/\\\n",
       "  // IPython.display.html#IPython.display.Javascript.__init__\n",
       "  element[0].appendChild(target);\n",
       "  element[0].appendChild(style);\n",
       "\n",
       "  vega.render(\"#\" + id, spec, type, opt, output_area);\n",
       "}, function (err) {\n",
       "  if (err.requireType !== \"scripterror\") {\n",
       "    throw(err);\n",
       "  }\n",
       "});\n"
      ],
      "text/plain": [
       "<vega.vegalite.VegaLite at 0x7f62efc1ec18>"
      ]
     },
     "metadata": {
      "jupyter-vega": "#3f4435c1-b5a1-418c-9cf8-8d764733f754"
     },
     "output_type": "display_data"
    },
    {
     "data": {
      "text/plain": []
     },
     "execution_count": 187,
     "metadata": {},
     "output_type": "execute_result"
    },
    {
     "data": {
      "image/png": "[encoded data removed]"
     },
     "metadata": {
      "jupyter-vega": "#3f4435c1-b5a1-418c-9cf8-8d764733f754"
     },
     "output_type": "display_data"
    }
   ],
   "source": [
    "# Compute positions for viz.\n",
    "pos = nx.spring_layout(G)\n",
    "\n",
    "viz = nxa.draw_networkx(\n",
    "    G, pos=pos,\n",
    "    node_color='id:N',\n",
    "    cmap='viridis',\n",
    "    width='weight:N',\n",
    "    edge_color='black',\n",
    "    node_tooltip=['weight:N']\n",
    ")\n",
    "\n",
    "viz.interactive()"
   ]
  },
  {
   "cell_type": "code",
   "execution_count": null,
   "metadata": {},
   "outputs": [],
   "source": []
  }
 ],
 "metadata": {
  "kernelspec": {
   "display_name": "Python 3",
   "language": "python",
   "name": "python3"
  },
  "language_info": {
   "codemirror_mode": {
    "name": "ipython",
    "version": 3
   },
   "file_extension": ".py",
   "mimetype": "text/x-python",
   "name": "python",
   "nbconvert_exporter": "python",
   "pygments_lexer": "ipython3",
   "version": "3.7.2"
  },
  "varInspector": {
   "cols": {
    "lenName": 16,
    "lenType": 16,
    "lenVar": 40
   },
   "kernels_config": {
    "python": {
     "delete_cmd_postfix": "",
     "delete_cmd_prefix": "del ",
     "library": "var_list.py",
     "varRefreshCmd": "print(var_dic_list())"
    },
    "r": {
     "delete_cmd_postfix": ") ",
     "delete_cmd_prefix": "rm(",
     "library": "var_list.r",
     "varRefreshCmd": "cat(var_dic_list()) "
    }
   },
   "types_to_exclude": [
    "module",
    "function",
    "builtin_function_or_method",
    "instance",
    "_Feature"
   ],
   "window_display": false
  }
 },
 "nbformat": 4,
 "nbformat_minor": 2
}
