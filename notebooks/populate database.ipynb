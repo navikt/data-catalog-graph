{
 "cells": [
  {
   "cell_type": "code",
   "execution_count": 412,
   "metadata": {},
   "outputs": [],
   "source": [
    "import pandas as pd\n",
    "import pandas.io.sql as sqlio\n",
    "import psycopg2\n",
    "import sqlalchemy\n",
    "import os\n",
    "import json\n",
    "import uuid\n"
   ]
  },
  {
   "cell_type": "code",
   "execution_count": 396,
   "metadata": {},
   "outputs": [],
   "source": [
    "conn = psycopg2.connect(\n",
    "    user=\"dcat\", \n",
    "    password=\"dcat\", \n",
    "    host=\"127.0.0.1\", \n",
    "    port=\"54320\", \n",
    "    database=\"dcat\")"
   ]
  },
  {
   "cell_type": "code",
   "execution_count": 413,
   "metadata": {},
   "outputs": [],
   "source": [
    "conn = psycopg2.connect(\n",
    "    user=\"v-oidc-Pau-data-cat-JttunzZohPHCVqCALH7e-1574349384\", \n",
    "    password=\"A1a-KVbk7te3wn4ndtue\", \n",
    "    host=\"A01DBVL010.adeo.no\", \n",
    "    port=\"5432\", \n",
    "    database=\"data-catalog-metadata\")"
   ]
  },
  {
   "cell_type": "code",
   "execution_count": 414,
   "metadata": {},
   "outputs": [],
   "source": [
    "conn.commit()"
   ]
  },
  {
   "cell_type": "markdown",
   "metadata": {},
   "source": [
    "conn.commit()\n",
    "node = {\"id\":\"test\"}\n",
    "js = json.dumps(node)\n",
    "statement = f\"insert into tbl_node (prop) values ('{js}')\"\n",
    "cur.execute(statement)\n",
    "conn.commit()"
   ]
  },
  {
   "cell_type": "code",
   "execution_count": 415,
   "metadata": {},
   "outputs": [],
   "source": [
    "cur = conn.cursor()"
   ]
  },
  {
   "cell_type": "code",
   "execution_count": 416,
   "metadata": {},
   "outputs": [
    {
     "name": "stdout",
     "output_type": "stream",
     "text": [
      "{'user': 'v-oidc-Pau-data-cat-JttunzZohPHCVqCALH7e-1574349384', 'dbname': 'data-catalog-metadata', 'host': 'A01DBVL010.adeo.no', 'port': '5432', 'tty': '', 'options': '', 'sslmode': 'prefer', 'sslcompression': '0', 'krbsrvname': 'postgres', 'target_session_attrs': 'any'} \n",
      "\n"
     ]
    }
   ],
   "source": [
    "print ( conn.get_dsn_parameters(),\"\\n\")"
   ]
  },
  {
   "cell_type": "code",
   "execution_count": 417,
   "metadata": {},
   "outputs": [
    {
     "name": "stdout",
     "output_type": "stream",
     "text": [
      "You are connected to -  ('PostgreSQL 11.3 on x86_64-pc-linux-gnu, compiled by gcc (GCC) 4.8.5 20150623 (Red Hat 4.8.5-36), 64-bit',) \n",
      "\n"
     ]
    }
   ],
   "source": [
    "cur.execute(\"SELECT version();\")\n",
    "record = cur.fetchone()\n",
    "print(\"You are connected to - \", record,\"\\n\")"
   ]
  },
  {
   "cell_type": "markdown",
   "metadata": {},
   "source": [
    "# Init"
   ]
  },
  {
   "cell_type": "code",
   "execution_count": 418,
   "metadata": {},
   "outputs": [],
   "source": [
    "#Relationship description/attributes\n",
    "cur.execute(\"delete from tbl_edge_desc\")\n",
    "#Relationships/Edges\n",
    "cur.execute(\"delete from tbl_edge\")\n",
    "#Node details table\n",
    "cur.execute(\"delete from tbl_node\")\n",
    "\n",
    "conn.commit()"
   ]
  },
  {
   "cell_type": "markdown",
   "metadata": {},
   "source": [
    "# Get data"
   ]
  },
  {
   "cell_type": "code",
   "execution_count": 419,
   "metadata": {},
   "outputs": [
    {
     "data": {
      "text/plain": [
       "['Formål GML',\n",
       " 'Formål',\n",
       " 'Ark1',\n",
       " 'data-catalog-backend',\n",
       " 'data-catalog-policies',\n",
       " 'Category']"
      ]
     },
     "execution_count": 419,
     "metadata": {},
     "output_type": "execute_result"
    }
   ],
   "source": [
    "xls = pd.ExcelFile(\"../data/testdata.xlsx\")\n",
    "xls.sheet_names"
   ]
  },
  {
   "cell_type": "markdown",
   "metadata": {},
   "source": [
    "# Populate tables"
   ]
  },
  {
   "cell_type": "code",
   "execution_count": 420,
   "metadata": {},
   "outputs": [],
   "source": [
    "def get_id(row):\n",
    "    return row['type'] + '.' + row['name'].upper()\n",
    "\n",
    "def get_uuid(row):\n",
    "    return row['type'] + '.' + str(uuid.uuid4()).upper()"
   ]
  },
  {
   "cell_type": "markdown",
   "metadata": {},
   "source": [
    "### Relationships"
   ]
  },
  {
   "cell_type": "code",
   "execution_count": 421,
   "metadata": {},
   "outputs": [],
   "source": [
    "relationships = [\"has purpose\", \"based on purpose\", \"has attribute\", \"attribute of\",\"belongs to category\", \"contains concept\"]\n",
    "index = 1\n",
    "for relationship in relationships:\n",
    "    insert_query = f\"insert into tbl_edge_desc values ({index},'{relationship}')\"\n",
    "    cur.execute(insert_query)\n",
    "    index += 1\n",
    "    \n",
    "conn.commit()"
   ]
  },
  {
   "cell_type": "code",
   "execution_count": 422,
   "metadata": {},
   "outputs": [
    {
     "data": {
      "text/html": [
       "<div>\n",
       "<style scoped>\n",
       "    .dataframe tbody tr th:only-of-type {\n",
       "        vertical-align: middle;\n",
       "    }\n",
       "\n",
       "    .dataframe tbody tr th {\n",
       "        vertical-align: top;\n",
       "    }\n",
       "\n",
       "    .dataframe thead th {\n",
       "        text-align: right;\n",
       "    }\n",
       "</style>\n",
       "<table border=\"1\" class=\"dataframe\">\n",
       "  <thead>\n",
       "    <tr style=\"text-align: right;\">\n",
       "      <th></th>\n",
       "      <th>id</th>\n",
       "      <th>prop</th>\n",
       "    </tr>\n",
       "  </thead>\n",
       "  <tbody>\n",
       "    <tr>\n",
       "      <th>0</th>\n",
       "      <td>1</td>\n",
       "      <td>has purpose</td>\n",
       "    </tr>\n",
       "    <tr>\n",
       "      <th>1</th>\n",
       "      <td>2</td>\n",
       "      <td>based on purpose</td>\n",
       "    </tr>\n",
       "    <tr>\n",
       "      <th>2</th>\n",
       "      <td>3</td>\n",
       "      <td>has attribute</td>\n",
       "    </tr>\n",
       "    <tr>\n",
       "      <th>3</th>\n",
       "      <td>4</td>\n",
       "      <td>attribute of</td>\n",
       "    </tr>\n",
       "    <tr>\n",
       "      <th>4</th>\n",
       "      <td>5</td>\n",
       "      <td>belongs to category</td>\n",
       "    </tr>\n",
       "    <tr>\n",
       "      <th>5</th>\n",
       "      <td>6</td>\n",
       "      <td>contains concept</td>\n",
       "    </tr>\n",
       "  </tbody>\n",
       "</table>\n",
       "</div>"
      ],
      "text/plain": [
       "   id                 prop\n",
       "0   1          has purpose\n",
       "1   2     based on purpose\n",
       "2   3        has attribute\n",
       "3   4         attribute of\n",
       "4   5  belongs to category\n",
       "5   6     contains concept"
      ]
     },
     "execution_count": 422,
     "metadata": {},
     "output_type": "execute_result"
    }
   ],
   "source": [
    "df_links = sqlio.read_sql_query(\"select * from tbl_edge_desc\", conn)\n",
    "df_links"
   ]
  },
  {
   "cell_type": "markdown",
   "metadata": {},
   "source": [
    "### Processing activities"
   ]
  },
  {
   "cell_type": "code",
   "execution_count": 423,
   "metadata": {},
   "outputs": [
    {
     "data": {
      "text/html": [
       "<div>\n",
       "<style scoped>\n",
       "    .dataframe tbody tr th:only-of-type {\n",
       "        vertical-align: middle;\n",
       "    }\n",
       "\n",
       "    .dataframe tbody tr th {\n",
       "        vertical-align: top;\n",
       "    }\n",
       "\n",
       "    .dataframe thead th {\n",
       "        text-align: right;\n",
       "    }\n",
       "</style>\n",
       "<table border=\"1\" class=\"dataframe\">\n",
       "  <thead>\n",
       "    <tr style=\"text-align: right;\">\n",
       "      <th></th>\n",
       "      <th>description</th>\n",
       "      <th>name</th>\n",
       "      <th>label</th>\n",
       "      <th>type</th>\n",
       "      <th>id</th>\n",
       "    </tr>\n",
       "  </thead>\n",
       "  <tbody>\n",
       "    <tr>\n",
       "      <th>33</th>\n",
       "      <td>Behandle og vurdere rett til uføretrygd som sk...</td>\n",
       "      <td>UFØRETRYGD</td>\n",
       "      <td>Processing activity</td>\n",
       "      <td>GDPR.PROCESSING_ACTIVITY</td>\n",
       "      <td>GDPR.PROCESSING_ACTIVITY.UFØRETRYGD</td>\n",
       "    </tr>\n",
       "    <tr>\n",
       "      <th>34</th>\n",
       "      <td>Behandle og vurdere rett til ventelønn som ska...</td>\n",
       "      <td>VENTELØNN</td>\n",
       "      <td>Processing activity</td>\n",
       "      <td>GDPR.PROCESSING_ACTIVITY</td>\n",
       "      <td>GDPR.PROCESSING_ACTIVITY.VENTELØNN</td>\n",
       "    </tr>\n",
       "    <tr>\n",
       "      <th>35</th>\n",
       "      <td>Behandle og vurdere rett til ytelser ved yrkes...</td>\n",
       "      <td>YRKESSKADE- OG SYKDOM</td>\n",
       "      <td>Processing activity</td>\n",
       "      <td>GDPR.PROCESSING_ACTIVITY</td>\n",
       "      <td>GDPR.PROCESSING_ACTIVITY.YRKESSKADE- OG SYKDOM</td>\n",
       "    </tr>\n",
       "    <tr>\n",
       "      <th>36</th>\n",
       "      <td>Behandle og vurdere rett til ytelser til famil...</td>\n",
       "      <td>YTELSER TIL FAMILIEPLEIER</td>\n",
       "      <td>Processing activity</td>\n",
       "      <td>GDPR.PROCESSING_ACTIVITY</td>\n",
       "      <td>GDPR.PROCESSING_ACTIVITY.YTELSER TIL FAMILIEPL...</td>\n",
       "    </tr>\n",
       "    <tr>\n",
       "      <th>37</th>\n",
       "      <td>Not Available -Verdi mangler</td>\n",
       "      <td>NOT AVAILABLE</td>\n",
       "      <td>Processing activity</td>\n",
       "      <td>GDPR.PROCESSING_ACTIVITY</td>\n",
       "      <td>GDPR.PROCESSING_ACTIVITY.NOT AVAILABLE</td>\n",
       "    </tr>\n",
       "  </tbody>\n",
       "</table>\n",
       "</div>"
      ],
      "text/plain": [
       "                                          description  \\\n",
       "33  Behandle og vurdere rett til uføretrygd som sk...   \n",
       "34  Behandle og vurdere rett til ventelønn som ska...   \n",
       "35  Behandle og vurdere rett til ytelser ved yrkes...   \n",
       "36  Behandle og vurdere rett til ytelser til famil...   \n",
       "37                       Not Available -Verdi mangler   \n",
       "\n",
       "                         name                label                      type  \\\n",
       "33                 UFØRETRYGD  Processing activity  GDPR.PROCESSING_ACTIVITY   \n",
       "34                  VENTELØNN  Processing activity  GDPR.PROCESSING_ACTIVITY   \n",
       "35      YRKESSKADE- OG SYKDOM  Processing activity  GDPR.PROCESSING_ACTIVITY   \n",
       "36  YTELSER TIL FAMILIEPLEIER  Processing activity  GDPR.PROCESSING_ACTIVITY   \n",
       "37              NOT AVAILABLE  Processing activity  GDPR.PROCESSING_ACTIVITY   \n",
       "\n",
       "                                                   id  \n",
       "33                GDPR.PROCESSING_ACTIVITY.UFØRETRYGD  \n",
       "34                 GDPR.PROCESSING_ACTIVITY.VENTELØNN  \n",
       "35     GDPR.PROCESSING_ACTIVITY.YRKESSKADE- OG SYKDOM  \n",
       "36  GDPR.PROCESSING_ACTIVITY.YTELSER TIL FAMILIEPL...  \n",
       "37             GDPR.PROCESSING_ACTIVITY.NOT AVAILABLE  "
      ]
     },
     "execution_count": 423,
     "metadata": {},
     "output_type": "execute_result"
    }
   ],
   "source": [
    "sheet=xls.sheet_names[1]\n",
    "df_formål = pd.read_excel(xls, sheet, encoding='latin1')\n",
    "df_formål = df_formål[['Forslag til endelig formålskode', 'Formålsbeskrivelse']]\n",
    "df_formål.columns=['code', 'description']\n",
    "df_formål['name'] = df_formål['code'].apply(lambda x: x.upper())\n",
    "df_formål = df_formål.append({'name': 'NOT AVAILABLE', 'description': 'Not Available -Verdi mangler'}, ignore_index=True)\n",
    "df_formål.drop(['code'], axis=1, inplace=True)\n",
    "df_formål['label'] = 'Processing activity'\n",
    "df_formål['type'] = 'GDPR.PROCESSING_ACTIVITY'\n",
    "df_formål['id'] = df_formål.apply(get_id, axis=1)\n",
    "df_formål.tail()"
   ]
  },
  {
   "cell_type": "code",
   "execution_count": 424,
   "metadata": {},
   "outputs": [],
   "source": [
    "for index, row in df_formål.iterrows():\n",
    "    id = index + 1\n",
    "    jsonb = row.to_json()\n",
    "    insert_query = f\"insert into tbl_node (prop) values ('{jsonb}')\"\n",
    "    cur.execute(insert_query, (jsonb,))\n",
    "    \n",
    "conn.commit()"
   ]
  },
  {
   "cell_type": "code",
   "execution_count": 425,
   "metadata": {},
   "outputs": [
    {
     "data": {
      "text/html": [
       "<div>\n",
       "<style scoped>\n",
       "    .dataframe tbody tr th:only-of-type {\n",
       "        vertical-align: middle;\n",
       "    }\n",
       "\n",
       "    .dataframe tbody tr th {\n",
       "        vertical-align: top;\n",
       "    }\n",
       "\n",
       "    .dataframe thead th {\n",
       "        text-align: right;\n",
       "    }\n",
       "</style>\n",
       "<table border=\"1\" class=\"dataframe\">\n",
       "  <thead>\n",
       "    <tr style=\"text-align: right;\">\n",
       "      <th></th>\n",
       "      <th>id</th>\n",
       "      <th>prop</th>\n",
       "      <th>created</th>\n",
       "    </tr>\n",
       "  </thead>\n",
       "  <tbody>\n",
       "    <tr>\n",
       "      <th>33</th>\n",
       "      <td>34</td>\n",
       "      <td>{'id': 'GDPR.PROCESSING_ACTIVITY.UFØRETRYGD', ...</td>\n",
       "      <td>2019-11-21 16:26:30.272231</td>\n",
       "    </tr>\n",
       "    <tr>\n",
       "      <th>34</th>\n",
       "      <td>35</td>\n",
       "      <td>{'id': 'GDPR.PROCESSING_ACTIVITY.VENTELØNN', '...</td>\n",
       "      <td>2019-11-21 16:26:30.272231</td>\n",
       "    </tr>\n",
       "    <tr>\n",
       "      <th>35</th>\n",
       "      <td>36</td>\n",
       "      <td>{'id': 'GDPR.PROCESSING_ACTIVITY.YRKESSKADE- O...</td>\n",
       "      <td>2019-11-21 16:26:30.272231</td>\n",
       "    </tr>\n",
       "    <tr>\n",
       "      <th>36</th>\n",
       "      <td>37</td>\n",
       "      <td>{'id': 'GDPR.PROCESSING_ACTIVITY.YTELSER TIL F...</td>\n",
       "      <td>2019-11-21 16:26:30.272231</td>\n",
       "    </tr>\n",
       "    <tr>\n",
       "      <th>37</th>\n",
       "      <td>38</td>\n",
       "      <td>{'id': 'GDPR.PROCESSING_ACTIVITY.NOT AVAILABLE...</td>\n",
       "      <td>2019-11-21 16:26:30.272231</td>\n",
       "    </tr>\n",
       "  </tbody>\n",
       "</table>\n",
       "</div>"
      ],
      "text/plain": [
       "    id                                               prop  \\\n",
       "33  34  {'id': 'GDPR.PROCESSING_ACTIVITY.UFØRETRYGD', ...   \n",
       "34  35  {'id': 'GDPR.PROCESSING_ACTIVITY.VENTELØNN', '...   \n",
       "35  36  {'id': 'GDPR.PROCESSING_ACTIVITY.YRKESSKADE- O...   \n",
       "36  37  {'id': 'GDPR.PROCESSING_ACTIVITY.YTELSER TIL F...   \n",
       "37  38  {'id': 'GDPR.PROCESSING_ACTIVITY.NOT AVAILABLE...   \n",
       "\n",
       "                      created  \n",
       "33 2019-11-21 16:26:30.272231  \n",
       "34 2019-11-21 16:26:30.272231  \n",
       "35 2019-11-21 16:26:30.272231  \n",
       "36 2019-11-21 16:26:30.272231  \n",
       "37 2019-11-21 16:26:30.272231  "
      ]
     },
     "execution_count": 425,
     "metadata": {},
     "output_type": "execute_result"
    }
   ],
   "source": [
    "df = sqlio.read_sql_query(\"select * from tbl_node\", conn)\n",
    "df.tail()"
   ]
  },
  {
   "cell_type": "markdown",
   "metadata": {},
   "source": [
    "### Purpose"
   ]
  },
  {
   "cell_type": "code",
   "execution_count": 426,
   "metadata": {},
   "outputs": [],
   "source": [
    "df_purpose = df_formål.copy()\n",
    "df_purpose['type'] = 'GDPR.PURPOSE'\n",
    "df_purpose['label'] = 'Purpose'\n",
    "df_purpose['id'] = df_purpose.apply(get_id, axis=1)"
   ]
  },
  {
   "cell_type": "code",
   "execution_count": 427,
   "metadata": {},
   "outputs": [],
   "source": [
    "for i, row in df_purpose.iterrows():\n",
    "    jsonb = row.to_json()\n",
    "    insert_query = f\"insert into tbl_node (prop) values ('{jsonb}')\"\n",
    "    cur.execute(insert_query, (jsonb,))\n",
    "    \n",
    "conn.commit()"
   ]
  },
  {
   "cell_type": "code",
   "execution_count": 428,
   "metadata": {},
   "outputs": [
    {
     "data": {
      "text/html": [
       "<div>\n",
       "<style scoped>\n",
       "    .dataframe tbody tr th:only-of-type {\n",
       "        vertical-align: middle;\n",
       "    }\n",
       "\n",
       "    .dataframe tbody tr th {\n",
       "        vertical-align: top;\n",
       "    }\n",
       "\n",
       "    .dataframe thead th {\n",
       "        text-align: right;\n",
       "    }\n",
       "</style>\n",
       "<table border=\"1\" class=\"dataframe\">\n",
       "  <thead>\n",
       "    <tr style=\"text-align: right;\">\n",
       "      <th></th>\n",
       "      <th>id</th>\n",
       "      <th>prop</th>\n",
       "      <th>created</th>\n",
       "    </tr>\n",
       "  </thead>\n",
       "  <tbody>\n",
       "    <tr>\n",
       "      <th>71</th>\n",
       "      <td>72</td>\n",
       "      <td>{'id': 'GDPR.PURPOSE.UFØRETRYGD', 'name': 'UFØ...</td>\n",
       "      <td>2019-11-21 16:26:36.304312</td>\n",
       "    </tr>\n",
       "    <tr>\n",
       "      <th>72</th>\n",
       "      <td>73</td>\n",
       "      <td>{'id': 'GDPR.PURPOSE.VENTELØNN', 'name': 'VENT...</td>\n",
       "      <td>2019-11-21 16:26:36.304312</td>\n",
       "    </tr>\n",
       "    <tr>\n",
       "      <th>73</th>\n",
       "      <td>74</td>\n",
       "      <td>{'id': 'GDPR.PURPOSE.YRKESSKADE- OG SYKDOM', '...</td>\n",
       "      <td>2019-11-21 16:26:36.304312</td>\n",
       "    </tr>\n",
       "    <tr>\n",
       "      <th>74</th>\n",
       "      <td>75</td>\n",
       "      <td>{'id': 'GDPR.PURPOSE.YTELSER TIL FAMILIEPLEIER...</td>\n",
       "      <td>2019-11-21 16:26:36.304312</td>\n",
       "    </tr>\n",
       "    <tr>\n",
       "      <th>75</th>\n",
       "      <td>76</td>\n",
       "      <td>{'id': 'GDPR.PURPOSE.NOT AVAILABLE', 'name': '...</td>\n",
       "      <td>2019-11-21 16:26:36.304312</td>\n",
       "    </tr>\n",
       "  </tbody>\n",
       "</table>\n",
       "</div>"
      ],
      "text/plain": [
       "    id                                               prop  \\\n",
       "71  72  {'id': 'GDPR.PURPOSE.UFØRETRYGD', 'name': 'UFØ...   \n",
       "72  73  {'id': 'GDPR.PURPOSE.VENTELØNN', 'name': 'VENT...   \n",
       "73  74  {'id': 'GDPR.PURPOSE.YRKESSKADE- OG SYKDOM', '...   \n",
       "74  75  {'id': 'GDPR.PURPOSE.YTELSER TIL FAMILIEPLEIER...   \n",
       "75  76  {'id': 'GDPR.PURPOSE.NOT AVAILABLE', 'name': '...   \n",
       "\n",
       "                      created  \n",
       "71 2019-11-21 16:26:36.304312  \n",
       "72 2019-11-21 16:26:36.304312  \n",
       "73 2019-11-21 16:26:36.304312  \n",
       "74 2019-11-21 16:26:36.304312  \n",
       "75 2019-11-21 16:26:36.304312  "
      ]
     },
     "execution_count": 428,
     "metadata": {},
     "output_type": "execute_result"
    }
   ],
   "source": [
    "df = sqlio.read_sql_query(\"select * from tbl_node\", conn)\n",
    "df.tail()"
   ]
  },
  {
   "cell_type": "markdown",
   "metadata": {},
   "source": [
    "### Legal basis"
   ]
  },
  {
   "cell_type": "code",
   "execution_count": 429,
   "metadata": {},
   "outputs": [
    {
     "data": {
      "text/html": [
       "<div>\n",
       "<style scoped>\n",
       "    .dataframe tbody tr th:only-of-type {\n",
       "        vertical-align: middle;\n",
       "    }\n",
       "\n",
       "    .dataframe tbody tr th {\n",
       "        vertical-align: top;\n",
       "    }\n",
       "\n",
       "    .dataframe thead th {\n",
       "        text-align: right;\n",
       "    }\n",
       "</style>\n",
       "<table border=\"1\" class=\"dataframe\">\n",
       "  <thead>\n",
       "    <tr style=\"text-align: right;\">\n",
       "      <th></th>\n",
       "      <th>name</th>\n",
       "      <th>type</th>\n",
       "      <th>label</th>\n",
       "      <th>id</th>\n",
       "    </tr>\n",
       "  </thead>\n",
       "  <tbody>\n",
       "    <tr>\n",
       "      <th>0</th>\n",
       "      <td>Ftrl. § 11-20</td>\n",
       "      <td>GDPR.LEGAL_BASIS</td>\n",
       "      <td>Legal basis</td>\n",
       "      <td>GDPR.LEGAL_BASIS.A1AC0403-5210-4449-B6E0-96DA6...</td>\n",
       "    </tr>\n",
       "    <tr>\n",
       "      <th>1</th>\n",
       "      <td>Ftrl. §§ 3-16, 3-24, 3-25, 20-8.</td>\n",
       "      <td>GDPR.LEGAL_BASIS</td>\n",
       "      <td>Legal basis</td>\n",
       "      <td>GDPR.LEGAL_BASIS.4943BA9D-C1EB-4888-82A4-C7CA2...</td>\n",
       "    </tr>\n",
       "    <tr>\n",
       "      <th>2</th>\n",
       "      <td>Kapittel 3, 19, 20 0g 22</td>\n",
       "      <td>GDPR.LEGAL_BASIS</td>\n",
       "      <td>Legal basis</td>\n",
       "      <td>GDPR.LEGAL_BASIS.12A6C98D-4BC0-41E6-A76E-529BA...</td>\n",
       "    </tr>\n",
       "    <tr>\n",
       "      <th>3</th>\n",
       "      <td>Ftrl § 3-2 og § 3-3</td>\n",
       "      <td>GDPR.LEGAL_BASIS</td>\n",
       "      <td>Legal basis</td>\n",
       "      <td>GDPR.LEGAL_BASIS.B4AFC359-377E-434B-882E-EE135...</td>\n",
       "    </tr>\n",
       "    <tr>\n",
       "      <th>4</th>\n",
       "      <td>Barnetrygdloven § 9</td>\n",
       "      <td>GDPR.LEGAL_BASIS</td>\n",
       "      <td>Legal basis</td>\n",
       "      <td>GDPR.LEGAL_BASIS.FAEC1EFF-DF24-49AC-B4D1-7CE0B...</td>\n",
       "    </tr>\n",
       "  </tbody>\n",
       "</table>\n",
       "</div>"
      ],
      "text/plain": [
       "                               name              type        label  \\\n",
       "0                     Ftrl. § 11-20  GDPR.LEGAL_BASIS  Legal basis   \n",
       "1  Ftrl. §§ 3-16, 3-24, 3-25, 20-8.  GDPR.LEGAL_BASIS  Legal basis   \n",
       "2          Kapittel 3, 19, 20 0g 22  GDPR.LEGAL_BASIS  Legal basis   \n",
       "3              Ftrl § 3-2 og § 3-3   GDPR.LEGAL_BASIS  Legal basis   \n",
       "4               Barnetrygdloven § 9  GDPR.LEGAL_BASIS  Legal basis   \n",
       "\n",
       "                                                  id  \n",
       "0  GDPR.LEGAL_BASIS.A1AC0403-5210-4449-B6E0-96DA6...  \n",
       "1  GDPR.LEGAL_BASIS.4943BA9D-C1EB-4888-82A4-C7CA2...  \n",
       "2  GDPR.LEGAL_BASIS.12A6C98D-4BC0-41E6-A76E-529BA...  \n",
       "3  GDPR.LEGAL_BASIS.B4AFC359-377E-434B-882E-EE135...  \n",
       "4  GDPR.LEGAL_BASIS.FAEC1EFF-DF24-49AC-B4D1-7CE0B...  "
      ]
     },
     "execution_count": 429,
     "metadata": {},
     "output_type": "execute_result"
    }
   ],
   "source": [
    "sheet=xls.sheet_names[4]\n",
    "df_legal_basis = pd.read_excel(xls, sheet, encoding='latin1')\n",
    "df_legal_basis = df_legal_basis[['legalBasisDescription']].drop_duplicates()\n",
    "df_legal_basis.columns=['name']\n",
    "df_legal_basis = df_legal_basis.append({'name': 'NOT AVAILABLE'}, ignore_index=True)\n",
    "df_legal_basis['type'] = 'GDPR.LEGAL_BASIS'\n",
    "df_legal_basis['label'] = 'Legal basis'\n",
    "df_legal_basis['id'] = df_legal_basis.apply(get_uuid, axis=1)\n",
    "df_legal_basis.head()"
   ]
  },
  {
   "cell_type": "code",
   "execution_count": 430,
   "metadata": {},
   "outputs": [],
   "source": [
    "for i, row in df_legal_basis.iterrows():\n",
    "    index = index + 1\n",
    "    jsonb = row.to_json()\n",
    "    insert_query = f\"insert into tbl_node (prop) values ('{jsonb}')\"\n",
    "    cur.execute(insert_query, (jsonb,))\n",
    "    \n",
    "conn.commit()"
   ]
  },
  {
   "cell_type": "code",
   "execution_count": 431,
   "metadata": {},
   "outputs": [
    {
     "data": {
      "text/html": [
       "<div>\n",
       "<style scoped>\n",
       "    .dataframe tbody tr th:only-of-type {\n",
       "        vertical-align: middle;\n",
       "    }\n",
       "\n",
       "    .dataframe tbody tr th {\n",
       "        vertical-align: top;\n",
       "    }\n",
       "\n",
       "    .dataframe thead th {\n",
       "        text-align: right;\n",
       "    }\n",
       "</style>\n",
       "<table border=\"1\" class=\"dataframe\">\n",
       "  <thead>\n",
       "    <tr style=\"text-align: right;\">\n",
       "      <th></th>\n",
       "      <th>id</th>\n",
       "      <th>prop</th>\n",
       "      <th>created</th>\n",
       "    </tr>\n",
       "  </thead>\n",
       "  <tbody>\n",
       "    <tr>\n",
       "      <th>232</th>\n",
       "      <td>233</td>\n",
       "      <td>{'id': 'GDPR.LEGAL_BASIS.02331367-05F8-4B43-B4...</td>\n",
       "      <td>2019-11-21 16:26:41.444365</td>\n",
       "    </tr>\n",
       "    <tr>\n",
       "      <th>233</th>\n",
       "      <td>234</td>\n",
       "      <td>{'id': 'GDPR.LEGAL_BASIS.8B31C0BB-375B-4CB3-88...</td>\n",
       "      <td>2019-11-21 16:26:41.444365</td>\n",
       "    </tr>\n",
       "    <tr>\n",
       "      <th>234</th>\n",
       "      <td>235</td>\n",
       "      <td>{'id': 'GDPR.LEGAL_BASIS.9F6C56A9-3576-4DC0-AD...</td>\n",
       "      <td>2019-11-21 16:26:41.444365</td>\n",
       "    </tr>\n",
       "    <tr>\n",
       "      <th>235</th>\n",
       "      <td>236</td>\n",
       "      <td>{'id': 'GDPR.LEGAL_BASIS.42DA062C-2864-432C-94...</td>\n",
       "      <td>2019-11-21 16:26:41.444365</td>\n",
       "    </tr>\n",
       "    <tr>\n",
       "      <th>236</th>\n",
       "      <td>237</td>\n",
       "      <td>{'id': 'GDPR.LEGAL_BASIS.D2A50AD4-6212-433E-A0...</td>\n",
       "      <td>2019-11-21 16:26:41.444365</td>\n",
       "    </tr>\n",
       "  </tbody>\n",
       "</table>\n",
       "</div>"
      ],
      "text/plain": [
       "      id                                               prop  \\\n",
       "232  233  {'id': 'GDPR.LEGAL_BASIS.02331367-05F8-4B43-B4...   \n",
       "233  234  {'id': 'GDPR.LEGAL_BASIS.8B31C0BB-375B-4CB3-88...   \n",
       "234  235  {'id': 'GDPR.LEGAL_BASIS.9F6C56A9-3576-4DC0-AD...   \n",
       "235  236  {'id': 'GDPR.LEGAL_BASIS.42DA062C-2864-432C-94...   \n",
       "236  237  {'id': 'GDPR.LEGAL_BASIS.D2A50AD4-6212-433E-A0...   \n",
       "\n",
       "                       created  \n",
       "232 2019-11-21 16:26:41.444365  \n",
       "233 2019-11-21 16:26:41.444365  \n",
       "234 2019-11-21 16:26:41.444365  \n",
       "235 2019-11-21 16:26:41.444365  \n",
       "236 2019-11-21 16:26:41.444365  "
      ]
     },
     "execution_count": 431,
     "metadata": {},
     "output_type": "execute_result"
    }
   ],
   "source": [
    "df = sqlio.read_sql_query(\"select * from tbl_node\", conn)\n",
    "df.tail()"
   ]
  },
  {
   "cell_type": "markdown",
   "metadata": {},
   "source": [
    "### Information types"
   ]
  },
  {
   "cell_type": "code",
   "execution_count": 432,
   "metadata": {},
   "outputs": [
    {
     "data": {
      "text/html": [
       "<div>\n",
       "<style scoped>\n",
       "    .dataframe tbody tr th:only-of-type {\n",
       "        vertical-align: middle;\n",
       "    }\n",
       "\n",
       "    .dataframe tbody tr th {\n",
       "        vertical-align: top;\n",
       "    }\n",
       "\n",
       "    .dataframe thead th {\n",
       "        text-align: right;\n",
       "    }\n",
       "</style>\n",
       "<table border=\"1\" class=\"dataframe\">\n",
       "  <thead>\n",
       "    <tr style=\"text-align: right;\">\n",
       "      <th></th>\n",
       "      <th>name</th>\n",
       "      <th>description</th>\n",
       "      <th>label</th>\n",
       "      <th>type</th>\n",
       "      <th>id</th>\n",
       "    </tr>\n",
       "  </thead>\n",
       "  <tbody>\n",
       "    <tr>\n",
       "      <th>0</th>\n",
       "      <td>SIVILSTAND</td>\n",
       "      <td>En overordnet kategori som beskriver en person...</td>\n",
       "      <td>Information type</td>\n",
       "      <td>GDPR.INFORMATION_TYPE</td>\n",
       "      <td>GDPR.INFORMATION_TYPE.SIVILSTAND</td>\n",
       "    </tr>\n",
       "    <tr>\n",
       "      <th>1</th>\n",
       "      <td>ARBEIDSFORHOLD</td>\n",
       "      <td>Avtaleforhold hvor den ene part, arbeidstakere...</td>\n",
       "      <td>Information type</td>\n",
       "      <td>GDPR.INFORMATION_TYPE</td>\n",
       "      <td>GDPR.INFORMATION_TYPE.ARBEIDSFORHOLD</td>\n",
       "    </tr>\n",
       "    <tr>\n",
       "      <th>2</th>\n",
       "      <td>KJØNN</td>\n",
       "      <td>TODO - mangler i begrepskatalogen og i MFNs be...</td>\n",
       "      <td>Information type</td>\n",
       "      <td>GDPR.INFORMATION_TYPE</td>\n",
       "      <td>GDPR.INFORMATION_TYPE.KJØNN</td>\n",
       "    </tr>\n",
       "    <tr>\n",
       "      <th>3</th>\n",
       "      <td>NAVN</td>\n",
       "      <td>I Norge skal alle ha fornavn og ett enkelt ell...</td>\n",
       "      <td>Information type</td>\n",
       "      <td>GDPR.INFORMATION_TYPE</td>\n",
       "      <td>GDPR.INFORMATION_TYPE.NAVN</td>\n",
       "    </tr>\n",
       "    <tr>\n",
       "      <th>4</th>\n",
       "      <td>FØDSELSDATO</td>\n",
       "      <td>Datoen personen er født.</td>\n",
       "      <td>Information type</td>\n",
       "      <td>GDPR.INFORMATION_TYPE</td>\n",
       "      <td>GDPR.INFORMATION_TYPE.FØDSELSDATO</td>\n",
       "    </tr>\n",
       "  </tbody>\n",
       "</table>\n",
       "</div>"
      ],
      "text/plain": [
       "             name                                        description  \\\n",
       "0      SIVILSTAND  En overordnet kategori som beskriver en person...   \n",
       "1  ARBEIDSFORHOLD  Avtaleforhold hvor den ene part, arbeidstakere...   \n",
       "2           KJØNN  TODO - mangler i begrepskatalogen og i MFNs be...   \n",
       "3            NAVN  I Norge skal alle ha fornavn og ett enkelt ell...   \n",
       "4     FØDSELSDATO                           Datoen personen er født.   \n",
       "\n",
       "              label                   type  \\\n",
       "0  Information type  GDPR.INFORMATION_TYPE   \n",
       "1  Information type  GDPR.INFORMATION_TYPE   \n",
       "2  Information type  GDPR.INFORMATION_TYPE   \n",
       "3  Information type  GDPR.INFORMATION_TYPE   \n",
       "4  Information type  GDPR.INFORMATION_TYPE   \n",
       "\n",
       "                                     id  \n",
       "0      GDPR.INFORMATION_TYPE.SIVILSTAND  \n",
       "1  GDPR.INFORMATION_TYPE.ARBEIDSFORHOLD  \n",
       "2           GDPR.INFORMATION_TYPE.KJØNN  \n",
       "3            GDPR.INFORMATION_TYPE.NAVN  \n",
       "4     GDPR.INFORMATION_TYPE.FØDSELSDATO  "
      ]
     },
     "execution_count": 432,
     "metadata": {},
     "output_type": "execute_result"
    }
   ],
   "source": [
    "sheet=xls.sheet_names[3]\n",
    "\n",
    "df_concepts = pd.read_excel(xls, sheet, encoding='latin1')\n",
    "df_concepts = df_concepts[['title', 'description']]\n",
    "df_concepts.columns=['name', 'description']\n",
    "df_concepts['name'] = df_concepts['name'].apply(lambda x: x.strip().upper())\n",
    "df_concepts = df_concepts.append({'name': 'NOT AVAILABLE', 'description': 'Not Available -Verdi mangler'}, ignore_index=True).drop_duplicates()\n",
    "df_concepts['label'] = 'Information type'\n",
    "df_concepts['type'] = 'GDPR.INFORMATION_TYPE'\n",
    "df_concepts['id'] = df_concepts.apply(get_id, axis=1)\n",
    "df_concepts.head()"
   ]
  },
  {
   "cell_type": "code",
   "execution_count": 433,
   "metadata": {},
   "outputs": [
    {
     "data": {
      "text/plain": [
       "'GDPR.INFORMATION_TYPE.SIVILSTAND'"
      ]
     },
     "execution_count": 433,
     "metadata": {},
     "output_type": "execute_result"
    }
   ],
   "source": [
    "df_concepts.iloc[0]['id']"
   ]
  },
  {
   "cell_type": "code",
   "execution_count": 434,
   "metadata": {},
   "outputs": [],
   "source": [
    "for i, row in df_concepts.iterrows():\n",
    "    jsonb = row.to_json()\n",
    "    insert_query = f\"insert into tbl_node (prop) values ('{jsonb}')\"\n",
    "    cur.execute(insert_query, (jsonb,))\n",
    "    \n",
    "conn.commit()"
   ]
  },
  {
   "cell_type": "code",
   "execution_count": 435,
   "metadata": {},
   "outputs": [
    {
     "data": {
      "text/html": [
       "<div>\n",
       "<style scoped>\n",
       "    .dataframe tbody tr th:only-of-type {\n",
       "        vertical-align: middle;\n",
       "    }\n",
       "\n",
       "    .dataframe tbody tr th {\n",
       "        vertical-align: top;\n",
       "    }\n",
       "\n",
       "    .dataframe thead th {\n",
       "        text-align: right;\n",
       "    }\n",
       "</style>\n",
       "<table border=\"1\" class=\"dataframe\">\n",
       "  <thead>\n",
       "    <tr style=\"text-align: right;\">\n",
       "      <th></th>\n",
       "      <th>id</th>\n",
       "      <th>prop</th>\n",
       "      <th>created</th>\n",
       "    </tr>\n",
       "  </thead>\n",
       "  <tbody>\n",
       "    <tr>\n",
       "      <th>253</th>\n",
       "      <td>254</td>\n",
       "      <td>{'id': 'GDPR.INFORMATION_TYPE.FLYKTNINGSTATUS'...</td>\n",
       "      <td>2019-11-21 16:26:46.964393</td>\n",
       "    </tr>\n",
       "    <tr>\n",
       "      <th>254</th>\n",
       "      <td>255</td>\n",
       "      <td>{'id': 'GDPR.INFORMATION_TYPE.FORELDREANSVAR',...</td>\n",
       "      <td>2019-11-21 16:26:46.964393</td>\n",
       "    </tr>\n",
       "    <tr>\n",
       "      <th>255</th>\n",
       "      <td>256</td>\n",
       "      <td>{'id': 'GDPR.INFORMATION_TYPE.FORSTERFORELDRE'...</td>\n",
       "      <td>2019-11-21 16:26:46.964393</td>\n",
       "    </tr>\n",
       "    <tr>\n",
       "      <th>256</th>\n",
       "      <td>257</td>\n",
       "      <td>{'id': 'GDPR.INFORMATION_TYPE.FULLMAKT', 'name...</td>\n",
       "      <td>2019-11-21 16:26:46.964393</td>\n",
       "    </tr>\n",
       "    <tr>\n",
       "      <th>257</th>\n",
       "      <td>258</td>\n",
       "      <td>{'id': 'GDPR.INFORMATION_TYPE.NOT AVAILABLE', ...</td>\n",
       "      <td>2019-11-21 16:26:46.964393</td>\n",
       "    </tr>\n",
       "  </tbody>\n",
       "</table>\n",
       "</div>"
      ],
      "text/plain": [
       "      id                                               prop  \\\n",
       "253  254  {'id': 'GDPR.INFORMATION_TYPE.FLYKTNINGSTATUS'...   \n",
       "254  255  {'id': 'GDPR.INFORMATION_TYPE.FORELDREANSVAR',...   \n",
       "255  256  {'id': 'GDPR.INFORMATION_TYPE.FORSTERFORELDRE'...   \n",
       "256  257  {'id': 'GDPR.INFORMATION_TYPE.FULLMAKT', 'name...   \n",
       "257  258  {'id': 'GDPR.INFORMATION_TYPE.NOT AVAILABLE', ...   \n",
       "\n",
       "                       created  \n",
       "253 2019-11-21 16:26:46.964393  \n",
       "254 2019-11-21 16:26:46.964393  \n",
       "255 2019-11-21 16:26:46.964393  \n",
       "256 2019-11-21 16:26:46.964393  \n",
       "257 2019-11-21 16:26:46.964393  "
      ]
     },
     "execution_count": 435,
     "metadata": {},
     "output_type": "execute_result"
    }
   ],
   "source": [
    "df = sqlio.read_sql_query(\"select * from tbl_node\", conn)\n",
    "df.tail()"
   ]
  },
  {
   "cell_type": "markdown",
   "metadata": {},
   "source": [
    "### Categories"
   ]
  },
  {
   "cell_type": "code",
   "execution_count": 436,
   "metadata": {},
   "outputs": [
    {
     "data": {
      "text/html": [
       "<div>\n",
       "<style scoped>\n",
       "    .dataframe tbody tr th:only-of-type {\n",
       "        vertical-align: middle;\n",
       "    }\n",
       "\n",
       "    .dataframe tbody tr th {\n",
       "        vertical-align: top;\n",
       "    }\n",
       "\n",
       "    .dataframe thead th {\n",
       "        text-align: right;\n",
       "    }\n",
       "</style>\n",
       "<table border=\"1\" class=\"dataframe\">\n",
       "  <thead>\n",
       "    <tr style=\"text-align: right;\">\n",
       "      <th></th>\n",
       "      <th>name</th>\n",
       "      <th>label</th>\n",
       "      <th>type</th>\n",
       "      <th>id</th>\n",
       "    </tr>\n",
       "  </thead>\n",
       "  <tbody>\n",
       "    <tr>\n",
       "      <th>0</th>\n",
       "      <td>PERSONALIA</td>\n",
       "      <td>Information type category</td>\n",
       "      <td>GDPR.INFORMATION_TYPE_CATEGORY</td>\n",
       "      <td>GDPR.INFORMATION_TYPE_CATEGORY.PERSONALIA</td>\n",
       "    </tr>\n",
       "    <tr>\n",
       "      <th>1</th>\n",
       "      <td>ARBEIDSFORHOLD</td>\n",
       "      <td>Information type category</td>\n",
       "      <td>GDPR.INFORMATION_TYPE_CATEGORY</td>\n",
       "      <td>GDPR.INFORMATION_TYPE_CATEGORY.ARBEIDSFORHOLD</td>\n",
       "    </tr>\n",
       "    <tr>\n",
       "      <th>6</th>\n",
       "      <td>KONTAKTOPPLYSNINGER</td>\n",
       "      <td>Information type category</td>\n",
       "      <td>GDPR.INFORMATION_TYPE_CATEGORY</td>\n",
       "      <td>GDPR.INFORMATION_TYPE_CATEGORY.KONTAKTOPPLYSNI...</td>\n",
       "    </tr>\n",
       "    <tr>\n",
       "      <th>9</th>\n",
       "      <td>FAMILIERELASJONER</td>\n",
       "      <td>Information type category</td>\n",
       "      <td>GDPR.INFORMATION_TYPE_CATEGORY</td>\n",
       "      <td>GDPR.INFORMATION_TYPE_CATEGORY.FAMILIERELASJONER</td>\n",
       "    </tr>\n",
       "    <tr>\n",
       "      <th>16</th>\n",
       "      <td>FOLKETRYGD</td>\n",
       "      <td>Information type category</td>\n",
       "      <td>GDPR.INFORMATION_TYPE_CATEGORY</td>\n",
       "      <td>GDPR.INFORMATION_TYPE_CATEGORY.FOLKETRYGD</td>\n",
       "    </tr>\n",
       "  </tbody>\n",
       "</table>\n",
       "</div>"
      ],
      "text/plain": [
       "                   name                      label  \\\n",
       "0            PERSONALIA  Information type category   \n",
       "1        ARBEIDSFORHOLD  Information type category   \n",
       "6   KONTAKTOPPLYSNINGER  Information type category   \n",
       "9     FAMILIERELASJONER  Information type category   \n",
       "16           FOLKETRYGD  Information type category   \n",
       "\n",
       "                              type  \\\n",
       "0   GDPR.INFORMATION_TYPE_CATEGORY   \n",
       "1   GDPR.INFORMATION_TYPE_CATEGORY   \n",
       "6   GDPR.INFORMATION_TYPE_CATEGORY   \n",
       "9   GDPR.INFORMATION_TYPE_CATEGORY   \n",
       "16  GDPR.INFORMATION_TYPE_CATEGORY   \n",
       "\n",
       "                                                   id  \n",
       "0           GDPR.INFORMATION_TYPE_CATEGORY.PERSONALIA  \n",
       "1       GDPR.INFORMATION_TYPE_CATEGORY.ARBEIDSFORHOLD  \n",
       "6   GDPR.INFORMATION_TYPE_CATEGORY.KONTAKTOPPLYSNI...  \n",
       "9    GDPR.INFORMATION_TYPE_CATEGORY.FAMILIERELASJONER  \n",
       "16          GDPR.INFORMATION_TYPE_CATEGORY.FOLKETRYGD  "
      ]
     },
     "execution_count": 436,
     "metadata": {},
     "output_type": "execute_result"
    }
   ],
   "source": [
    "sheet=xls.sheet_names[3]\n",
    "df_categories = pd.read_excel(xls, sheet, encoding='latin1')\n",
    "df_categories = df_categories[['categories']]\n",
    "df_categories.columns=['name']\n",
    "df_categories['name'] = df_categories['name'].apply(lambda x: x.strip().upper())\n",
    "df_categories = df_categories.append({'name': 'NOT AVAILABLE'}, ignore_index=True).drop_duplicates()\n",
    "df_categories['label'] = 'Information type category'\n",
    "df_categories['type'] = 'GDPR.INFORMATION_TYPE_CATEGORY'\n",
    "df_categories['id'] = df_categories.apply(get_id, axis=1)\n",
    "df_categories.head()"
   ]
  },
  {
   "cell_type": "code",
   "execution_count": 437,
   "metadata": {},
   "outputs": [],
   "source": [
    "for i, row in df_categories.iterrows():\n",
    "    index = index + 1\n",
    "    jsonb = row.to_json()\n",
    "    insert_query = f\"insert into tbl_node (prop) values ('{jsonb}')\"\n",
    "    cur.execute(insert_query, (jsonb,))\n",
    "    \n",
    "conn.commit()"
   ]
  },
  {
   "cell_type": "markdown",
   "metadata": {},
   "source": [
    "### Nodes"
   ]
  },
  {
   "cell_type": "code",
   "execution_count": 438,
   "metadata": {},
   "outputs": [
    {
     "data": {
      "text/html": [
       "<div>\n",
       "<style scoped>\n",
       "    .dataframe tbody tr th:only-of-type {\n",
       "        vertical-align: middle;\n",
       "    }\n",
       "\n",
       "    .dataframe tbody tr th {\n",
       "        vertical-align: top;\n",
       "    }\n",
       "\n",
       "    .dataframe thead th {\n",
       "        text-align: right;\n",
       "    }\n",
       "</style>\n",
       "<table border=\"1\" class=\"dataframe\">\n",
       "  <thead>\n",
       "    <tr style=\"text-align: right;\">\n",
       "      <th></th>\n",
       "      <th>id</th>\n",
       "      <th>prop</th>\n",
       "      <th>created</th>\n",
       "      <th>name</th>\n",
       "      <th>type</th>\n",
       "    </tr>\n",
       "  </thead>\n",
       "  <tbody>\n",
       "    <tr>\n",
       "      <th>0</th>\n",
       "      <td>1</td>\n",
       "      <td>{'id': 'GDPR.PROCESSING_ACTIVITY.ALDERSPENSJON...</td>\n",
       "      <td>2019-11-21 16:26:30.272231</td>\n",
       "      <td>ALDERSPENSJON</td>\n",
       "      <td>GDPR.PROCESSING_ACTIVITY</td>\n",
       "    </tr>\n",
       "    <tr>\n",
       "      <th>1</th>\n",
       "      <td>2</td>\n",
       "      <td>{'id': 'GDPR.PROCESSING_ACTIVITY.ARBEIDSAVKLAR...</td>\n",
       "      <td>2019-11-21 16:26:30.272231</td>\n",
       "      <td>ARBEIDSAVKLARINGSPENGER (AAP)</td>\n",
       "      <td>GDPR.PROCESSING_ACTIVITY</td>\n",
       "    </tr>\n",
       "    <tr>\n",
       "      <th>2</th>\n",
       "      <td>3</td>\n",
       "      <td>{'id': 'GDPR.PROCESSING_ACTIVITY.AVTALEFESTET ...</td>\n",
       "      <td>2019-11-21 16:26:30.272231</td>\n",
       "      <td>AVTALEFESTET PENSJON (AFP) FOR PRIVAT SEKTOR</td>\n",
       "      <td>GDPR.PROCESSING_ACTIVITY</td>\n",
       "    </tr>\n",
       "    <tr>\n",
       "      <th>3</th>\n",
       "      <td>4</td>\n",
       "      <td>{'id': 'GDPR.PROCESSING_ACTIVITY.AVTALEFESTET ...</td>\n",
       "      <td>2019-11-21 16:26:30.272231</td>\n",
       "      <td>AVTALEFESTET PENSJON (AFP) FOR STATLIG OG KOMM...</td>\n",
       "      <td>GDPR.PROCESSING_ACTIVITY</td>\n",
       "    </tr>\n",
       "    <tr>\n",
       "      <th>4</th>\n",
       "      <td>5</td>\n",
       "      <td>{'id': 'GDPR.PROCESSING_ACTIVITY.BARNEBIDRAG',...</td>\n",
       "      <td>2019-11-21 16:26:30.272231</td>\n",
       "      <td>BARNEBIDRAG</td>\n",
       "      <td>GDPR.PROCESSING_ACTIVITY</td>\n",
       "    </tr>\n",
       "  </tbody>\n",
       "</table>\n",
       "</div>"
      ],
      "text/plain": [
       "   id                                               prop  \\\n",
       "0   1  {'id': 'GDPR.PROCESSING_ACTIVITY.ALDERSPENSJON...   \n",
       "1   2  {'id': 'GDPR.PROCESSING_ACTIVITY.ARBEIDSAVKLAR...   \n",
       "2   3  {'id': 'GDPR.PROCESSING_ACTIVITY.AVTALEFESTET ...   \n",
       "3   4  {'id': 'GDPR.PROCESSING_ACTIVITY.AVTALEFESTET ...   \n",
       "4   5  {'id': 'GDPR.PROCESSING_ACTIVITY.BARNEBIDRAG',...   \n",
       "\n",
       "                     created  \\\n",
       "0 2019-11-21 16:26:30.272231   \n",
       "1 2019-11-21 16:26:30.272231   \n",
       "2 2019-11-21 16:26:30.272231   \n",
       "3 2019-11-21 16:26:30.272231   \n",
       "4 2019-11-21 16:26:30.272231   \n",
       "\n",
       "                                                name                      type  \n",
       "0                                      ALDERSPENSJON  GDPR.PROCESSING_ACTIVITY  \n",
       "1                      ARBEIDSAVKLARINGSPENGER (AAP)  GDPR.PROCESSING_ACTIVITY  \n",
       "2       AVTALEFESTET PENSJON (AFP) FOR PRIVAT SEKTOR  GDPR.PROCESSING_ACTIVITY  \n",
       "3  AVTALEFESTET PENSJON (AFP) FOR STATLIG OG KOMM...  GDPR.PROCESSING_ACTIVITY  \n",
       "4                                        BARNEBIDRAG  GDPR.PROCESSING_ACTIVITY  "
      ]
     },
     "execution_count": 438,
     "metadata": {},
     "output_type": "execute_result"
    }
   ],
   "source": [
    "df_nodes = sqlio.read_sql_query(\"select * from tbl_node\", conn)\n",
    "df_nodes['name'] = df_nodes['prop'].apply(lambda x : x['name'])\n",
    "df_nodes['type'] = df_nodes['prop'].apply(lambda x : x['type'])\n",
    "df_nodes.head()"
   ]
  },
  {
   "cell_type": "markdown",
   "metadata": {},
   "source": [
    "### Edges"
   ]
  },
  {
   "cell_type": "code",
   "execution_count": 439,
   "metadata": {},
   "outputs": [
    {
     "data": {
      "text/html": [
       "<div>\n",
       "<style scoped>\n",
       "    .dataframe tbody tr th:only-of-type {\n",
       "        vertical-align: middle;\n",
       "    }\n",
       "\n",
       "    .dataframe tbody tr th {\n",
       "        vertical-align: top;\n",
       "    }\n",
       "\n",
       "    .dataframe thead th {\n",
       "        text-align: right;\n",
       "    }\n",
       "</style>\n",
       "<table border=\"1\" class=\"dataframe\">\n",
       "  <thead>\n",
       "    <tr style=\"text-align: right;\">\n",
       "      <th></th>\n",
       "      <th>source</th>\n",
       "      <th>target</th>\n",
       "    </tr>\n",
       "  </thead>\n",
       "  <tbody>\n",
       "    <tr>\n",
       "      <th>0</th>\n",
       "      <td>SIVILSTAND</td>\n",
       "      <td>PERSONALIA</td>\n",
       "    </tr>\n",
       "    <tr>\n",
       "      <th>1</th>\n",
       "      <td>ARBEIDSFORHOLD</td>\n",
       "      <td>ARBEIDSFORHOLD</td>\n",
       "    </tr>\n",
       "    <tr>\n",
       "      <th>2</th>\n",
       "      <td>KJØNN</td>\n",
       "      <td>PERSONALIA</td>\n",
       "    </tr>\n",
       "    <tr>\n",
       "      <th>3</th>\n",
       "      <td>NAVN</td>\n",
       "      <td>PERSONALIA</td>\n",
       "    </tr>\n",
       "    <tr>\n",
       "      <th>4</th>\n",
       "      <td>FØDSELSDATO</td>\n",
       "      <td>PERSONALIA</td>\n",
       "    </tr>\n",
       "  </tbody>\n",
       "</table>\n",
       "</div>"
      ],
      "text/plain": [
       "           source          target\n",
       "0      SIVILSTAND      PERSONALIA\n",
       "1  ARBEIDSFORHOLD  ARBEIDSFORHOLD\n",
       "2           KJØNN      PERSONALIA\n",
       "3            NAVN      PERSONALIA\n",
       "4     FØDSELSDATO      PERSONALIA"
      ]
     },
     "execution_count": 439,
     "metadata": {},
     "output_type": "execute_result"
    }
   ],
   "source": [
    "sheet=xls.sheet_names[3]\n",
    "df_edges = pd.read_excel(xls, sheet, encoding='latin1')\n",
    "df_edges = df_edges[['title', 'categories']].drop_duplicates()\n",
    "df_edges.columns = ['source', 'target']\n",
    "df_edges['source'] = df_edges['source'].apply(lambda x: x.strip().upper())\n",
    "df_edges['target'] = df_edges['target'].apply(lambda x: x.strip().upper())\n",
    "df_edges.drop_duplicates()\n",
    "\n",
    "df_edges.head()"
   ]
  },
  {
   "cell_type": "code",
   "execution_count": 440,
   "metadata": {},
   "outputs": [],
   "source": [
    "conn.commit()"
   ]
  },
  {
   "cell_type": "code",
   "execution_count": 441,
   "metadata": {},
   "outputs": [
    {
     "ename": "KeyError",
     "evalue": "'source'",
     "output_type": "error",
     "traceback": [
      "\u001b[0;31m---------------------------------------------------------------------------\u001b[0m",
      "\u001b[0;31mTypeError\u001b[0m                                 Traceback (most recent call last)",
      "\u001b[0;32m~/Environments/py37/lib/python3.7/site-packages/pandas/core/indexes/base.py\u001b[0m in \u001b[0;36mget_value\u001b[0;34m(self, series, key)\u001b[0m\n\u001b[1;32m   4380\u001b[0m             \u001b[0;32mtry\u001b[0m\u001b[0;34m:\u001b[0m\u001b[0;34m\u001b[0m\u001b[0;34m\u001b[0m\u001b[0m\n\u001b[0;32m-> 4381\u001b[0;31m                 \u001b[0;32mreturn\u001b[0m \u001b[0mlibindex\u001b[0m\u001b[0;34m.\u001b[0m\u001b[0mget_value_box\u001b[0m\u001b[0;34m(\u001b[0m\u001b[0ms\u001b[0m\u001b[0;34m,\u001b[0m \u001b[0mkey\u001b[0m\u001b[0;34m)\u001b[0m\u001b[0;34m\u001b[0m\u001b[0;34m\u001b[0m\u001b[0m\n\u001b[0m\u001b[1;32m   4382\u001b[0m             \u001b[0;32mexcept\u001b[0m \u001b[0mIndexError\u001b[0m\u001b[0;34m:\u001b[0m\u001b[0;34m\u001b[0m\u001b[0;34m\u001b[0m\u001b[0m\n",
      "\u001b[0;32mpandas/_libs/index.pyx\u001b[0m in \u001b[0;36mpandas._libs.index.get_value_box\u001b[0;34m()\u001b[0m\n",
      "\u001b[0;32mpandas/_libs/index.pyx\u001b[0m in \u001b[0;36mpandas._libs.index.get_value_at\u001b[0;34m()\u001b[0m\n",
      "\u001b[0;32mpandas/_libs/util.pxd\u001b[0m in \u001b[0;36mpandas._libs.util.get_value_at\u001b[0;34m()\u001b[0m\n",
      "\u001b[0;32mpandas/_libs/util.pxd\u001b[0m in \u001b[0;36mpandas._libs.util.validate_indexer\u001b[0;34m()\u001b[0m\n",
      "\u001b[0;31mTypeError\u001b[0m: 'str' object cannot be interpreted as an integer",
      "\nDuring handling of the above exception, another exception occurred:\n",
      "\u001b[0;31mKeyError\u001b[0m                                  Traceback (most recent call last)",
      "\u001b[0;32m<ipython-input-441-f7db01c13008>\u001b[0m in \u001b[0;36m<module>\u001b[0;34m\u001b[0m\n\u001b[0;32m----> 1\u001b[0;31m \u001b[0mdf_nodes\u001b[0m\u001b[0;34m.\u001b[0m\u001b[0mloc\u001b[0m\u001b[0;34m[\u001b[0m\u001b[0;34m(\u001b[0m\u001b[0;34m(\u001b[0m\u001b[0mdf_nodes\u001b[0m\u001b[0;34m[\u001b[0m\u001b[0;34m'name'\u001b[0m\u001b[0;34m]\u001b[0m \u001b[0;34m==\u001b[0m \u001b[0mrow\u001b[0m\u001b[0;34m[\u001b[0m\u001b[0;34m'source'\u001b[0m\u001b[0;34m]\u001b[0m\u001b[0;34m)\u001b[0m \u001b[0;34m&\u001b[0m \u001b[0;34m(\u001b[0m\u001b[0mdf_nodes\u001b[0m\u001b[0;34m[\u001b[0m\u001b[0;34m'type'\u001b[0m\u001b[0;34m]\u001b[0m \u001b[0;34m==\u001b[0m \u001b[0;34m'GDPR.INFORMATION_TYPE'\u001b[0m\u001b[0;34m)\u001b[0m\u001b[0;34m)\u001b[0m\u001b[0;34m,\u001b[0m \u001b[0;34m'id'\u001b[0m\u001b[0;34m]\u001b[0m\u001b[0;34m\u001b[0m\u001b[0;34m\u001b[0m\u001b[0m\n\u001b[0m",
      "\u001b[0;32m~/Environments/py37/lib/python3.7/site-packages/pandas/core/series.py\u001b[0m in \u001b[0;36m__getitem__\u001b[0;34m(self, key)\u001b[0m\n\u001b[1;32m    866\u001b[0m         \u001b[0mkey\u001b[0m \u001b[0;34m=\u001b[0m \u001b[0mcom\u001b[0m\u001b[0;34m.\u001b[0m\u001b[0mapply_if_callable\u001b[0m\u001b[0;34m(\u001b[0m\u001b[0mkey\u001b[0m\u001b[0;34m,\u001b[0m \u001b[0mself\u001b[0m\u001b[0;34m)\u001b[0m\u001b[0;34m\u001b[0m\u001b[0;34m\u001b[0m\u001b[0m\n\u001b[1;32m    867\u001b[0m         \u001b[0;32mtry\u001b[0m\u001b[0;34m:\u001b[0m\u001b[0;34m\u001b[0m\u001b[0;34m\u001b[0m\u001b[0m\n\u001b[0;32m--> 868\u001b[0;31m             \u001b[0mresult\u001b[0m \u001b[0;34m=\u001b[0m \u001b[0mself\u001b[0m\u001b[0;34m.\u001b[0m\u001b[0mindex\u001b[0m\u001b[0;34m.\u001b[0m\u001b[0mget_value\u001b[0m\u001b[0;34m(\u001b[0m\u001b[0mself\u001b[0m\u001b[0;34m,\u001b[0m \u001b[0mkey\u001b[0m\u001b[0;34m)\u001b[0m\u001b[0;34m\u001b[0m\u001b[0;34m\u001b[0m\u001b[0m\n\u001b[0m\u001b[1;32m    869\u001b[0m \u001b[0;34m\u001b[0m\u001b[0m\n\u001b[1;32m    870\u001b[0m             \u001b[0;32mif\u001b[0m \u001b[0;32mnot\u001b[0m \u001b[0mis_scalar\u001b[0m\u001b[0;34m(\u001b[0m\u001b[0mresult\u001b[0m\u001b[0;34m)\u001b[0m\u001b[0;34m:\u001b[0m\u001b[0;34m\u001b[0m\u001b[0;34m\u001b[0m\u001b[0m\n",
      "\u001b[0;32m~/Environments/py37/lib/python3.7/site-packages/pandas/core/indexes/base.py\u001b[0m in \u001b[0;36mget_value\u001b[0;34m(self, series, key)\u001b[0m\n\u001b[1;32m   4387\u001b[0m                     \u001b[0;32mraise\u001b[0m \u001b[0mInvalidIndexError\u001b[0m\u001b[0;34m(\u001b[0m\u001b[0mkey\u001b[0m\u001b[0;34m)\u001b[0m\u001b[0;34m\u001b[0m\u001b[0;34m\u001b[0m\u001b[0m\n\u001b[1;32m   4388\u001b[0m                 \u001b[0;32melse\u001b[0m\u001b[0;34m:\u001b[0m\u001b[0;34m\u001b[0m\u001b[0;34m\u001b[0m\u001b[0m\n\u001b[0;32m-> 4389\u001b[0;31m                     \u001b[0;32mraise\u001b[0m \u001b[0me1\u001b[0m\u001b[0;34m\u001b[0m\u001b[0;34m\u001b[0m\u001b[0m\n\u001b[0m\u001b[1;32m   4390\u001b[0m             \u001b[0;32mexcept\u001b[0m \u001b[0mException\u001b[0m\u001b[0;34m:\u001b[0m  \u001b[0;31m# pragma: no cover\u001b[0m\u001b[0;34m\u001b[0m\u001b[0;34m\u001b[0m\u001b[0m\n\u001b[1;32m   4391\u001b[0m                 \u001b[0;32mraise\u001b[0m \u001b[0me1\u001b[0m\u001b[0;34m\u001b[0m\u001b[0;34m\u001b[0m\u001b[0m\n",
      "\u001b[0;32m~/Environments/py37/lib/python3.7/site-packages/pandas/core/indexes/base.py\u001b[0m in \u001b[0;36mget_value\u001b[0;34m(self, series, key)\u001b[0m\n\u001b[1;32m   4373\u001b[0m         \u001b[0;32mtry\u001b[0m\u001b[0;34m:\u001b[0m\u001b[0;34m\u001b[0m\u001b[0;34m\u001b[0m\u001b[0m\n\u001b[1;32m   4374\u001b[0m             return self._engine.get_value(s, k,\n\u001b[0;32m-> 4375\u001b[0;31m                                           tz=getattr(series.dtype, 'tz', None))\n\u001b[0m\u001b[1;32m   4376\u001b[0m         \u001b[0;32mexcept\u001b[0m \u001b[0mKeyError\u001b[0m \u001b[0;32mas\u001b[0m \u001b[0me1\u001b[0m\u001b[0;34m:\u001b[0m\u001b[0;34m\u001b[0m\u001b[0;34m\u001b[0m\u001b[0m\n\u001b[1;32m   4377\u001b[0m             \u001b[0;32mif\u001b[0m \u001b[0mlen\u001b[0m\u001b[0;34m(\u001b[0m\u001b[0mself\u001b[0m\u001b[0;34m)\u001b[0m \u001b[0;34m>\u001b[0m \u001b[0;36m0\u001b[0m \u001b[0;32mand\u001b[0m \u001b[0;34m(\u001b[0m\u001b[0mself\u001b[0m\u001b[0;34m.\u001b[0m\u001b[0mholds_integer\u001b[0m\u001b[0;34m(\u001b[0m\u001b[0;34m)\u001b[0m \u001b[0;32mor\u001b[0m \u001b[0mself\u001b[0m\u001b[0;34m.\u001b[0m\u001b[0mis_boolean\u001b[0m\u001b[0;34m(\u001b[0m\u001b[0;34m)\u001b[0m\u001b[0;34m)\u001b[0m\u001b[0;34m:\u001b[0m\u001b[0;34m\u001b[0m\u001b[0;34m\u001b[0m\u001b[0m\n",
      "\u001b[0;32mpandas/_libs/index.pyx\u001b[0m in \u001b[0;36mpandas._libs.index.IndexEngine.get_value\u001b[0;34m()\u001b[0m\n",
      "\u001b[0;32mpandas/_libs/index.pyx\u001b[0m in \u001b[0;36mpandas._libs.index.IndexEngine.get_value\u001b[0;34m()\u001b[0m\n",
      "\u001b[0;32mpandas/_libs/index.pyx\u001b[0m in \u001b[0;36mpandas._libs.index.IndexEngine.get_loc\u001b[0;34m()\u001b[0m\n",
      "\u001b[0;32mpandas/_libs/hashtable_class_helper.pxi\u001b[0m in \u001b[0;36mpandas._libs.hashtable.PyObjectHashTable.get_item\u001b[0;34m()\u001b[0m\n",
      "\u001b[0;32mpandas/_libs/hashtable_class_helper.pxi\u001b[0m in \u001b[0;36mpandas._libs.hashtable.PyObjectHashTable.get_item\u001b[0;34m()\u001b[0m\n",
      "\u001b[0;31mKeyError\u001b[0m: 'source'"
     ]
    }
   ],
   "source": [
    "df_nodes.loc[((df_nodes['name'] == row['source']) & (df_nodes['type'] == 'GDPR.INFORMATION_TYPE')), 'id']"
   ]
  },
  {
   "cell_type": "code",
   "execution_count": 442,
   "metadata": {},
   "outputs": [],
   "source": [
    "cur.execute(\"delete from tbl_edge\")\n",
    "conn.commit()\n",
    "\n",
    "for index, row in df_edges.iterrows():\n",
    "    df_nodes.loc[((df_nodes['name'] == row['source']) & (df_nodes['type'] == 'GDPR.INFORMATION_TYPE')), 'id']\n",
    "    source_id = df_nodes.loc[((df_nodes['name'] == row['source']) & (df_nodes['type'] == 'GDPR.INFORMATION_TYPE')), 'id'].item()\n",
    "    target_id = df_nodes.loc[((df_nodes['name'] == row['target']) & (df_nodes['type'] == 'GDPR.INFORMATION_TYPE_CATEGORY')), 'id'].item()\n",
    "    cur.execute(f\"insert into tbl_edge (n1,n2,prop) values ({source_id},{target_id},array[5]);\")\n",
    "    \n",
    "conn.commit()"
   ]
  },
  {
   "cell_type": "code",
   "execution_count": 443,
   "metadata": {},
   "outputs": [
    {
     "data": {
      "text/html": [
       "<div>\n",
       "<style scoped>\n",
       "    .dataframe tbody tr th:only-of-type {\n",
       "        vertical-align: middle;\n",
       "    }\n",
       "\n",
       "    .dataframe tbody tr th {\n",
       "        vertical-align: top;\n",
       "    }\n",
       "\n",
       "    .dataframe thead th {\n",
       "        text-align: right;\n",
       "    }\n",
       "</style>\n",
       "<table border=\"1\" class=\"dataframe\">\n",
       "  <thead>\n",
       "    <tr style=\"text-align: right;\">\n",
       "      <th></th>\n",
       "      <th>source</th>\n",
       "      <th>target</th>\n",
       "    </tr>\n",
       "  </thead>\n",
       "  <tbody>\n",
       "    <tr>\n",
       "      <th>0</th>\n",
       "      <td>PERSONALIA</td>\n",
       "      <td>SIVILSTAND</td>\n",
       "    </tr>\n",
       "    <tr>\n",
       "      <th>1</th>\n",
       "      <td>ARBEIDSFORHOLD</td>\n",
       "      <td>ARBEIDSFORHOLD</td>\n",
       "    </tr>\n",
       "    <tr>\n",
       "      <th>2</th>\n",
       "      <td>PERSONALIA</td>\n",
       "      <td>KJØNN</td>\n",
       "    </tr>\n",
       "    <tr>\n",
       "      <th>3</th>\n",
       "      <td>PERSONALIA</td>\n",
       "      <td>NAVN</td>\n",
       "    </tr>\n",
       "    <tr>\n",
       "      <th>4</th>\n",
       "      <td>PERSONALIA</td>\n",
       "      <td>FØDSELSDATO</td>\n",
       "    </tr>\n",
       "  </tbody>\n",
       "</table>\n",
       "</div>"
      ],
      "text/plain": [
       "           source          target\n",
       "0      PERSONALIA      SIVILSTAND\n",
       "1  ARBEIDSFORHOLD  ARBEIDSFORHOLD\n",
       "2      PERSONALIA           KJØNN\n",
       "3      PERSONALIA            NAVN\n",
       "4      PERSONALIA     FØDSELSDATO"
      ]
     },
     "execution_count": 443,
     "metadata": {},
     "output_type": "execute_result"
    }
   ],
   "source": [
    "df_edges = pd.read_excel(xls, sheet, encoding='latin1')\n",
    "df_edges = df_edges[['categories', 'title']].drop_duplicates()\n",
    "df_edges.columns = ['source', 'target']\n",
    "df_edges['source'] = df_edges['source'].apply(lambda x: x.strip().upper())\n",
    "df_edges['target'] = df_edges['target'].apply(lambda x: x.strip().upper())\n",
    "df_edges.drop_duplicates()\n",
    "\n",
    "df_edges.head()"
   ]
  },
  {
   "cell_type": "code",
   "execution_count": 444,
   "metadata": {},
   "outputs": [],
   "source": [
    "for index, row in df_edges.iterrows():\n",
    "    df_nodes.loc[((df_nodes['name'] == row['source']) & (df_nodes['type'] == 'GDPR.INFORMATION_TYPE')), 'id']\n",
    "    source_id = df_nodes.loc[((df_nodes['name'] == row['source']) & (df_nodes['type'] == 'GDPR.INFORMATION_TYPE_CATEGORY')), 'id'].item()\n",
    "    target_id = df_nodes.loc[((df_nodes['name'] == row['target']) & (df_nodes['type'] == 'GDPR.INFORMATION_TYPE')), 'id'].item()\n",
    "    cur.execute(f\"insert into tbl_edge (n1,n2,prop) values ({source_id},{target_id},array[6]);\")\n",
    "    \n",
    "conn.commit()\n"
   ]
  },
  {
   "cell_type": "code",
   "execution_count": 445,
   "metadata": {},
   "outputs": [
    {
     "data": {
      "text/html": [
       "<div>\n",
       "<style scoped>\n",
       "    .dataframe tbody tr th:only-of-type {\n",
       "        vertical-align: middle;\n",
       "    }\n",
       "\n",
       "    .dataframe tbody tr th {\n",
       "        vertical-align: top;\n",
       "    }\n",
       "\n",
       "    .dataframe thead th {\n",
       "        text-align: right;\n",
       "    }\n",
       "</style>\n",
       "<table border=\"1\" class=\"dataframe\">\n",
       "  <thead>\n",
       "    <tr style=\"text-align: right;\">\n",
       "      <th></th>\n",
       "      <th>n1</th>\n",
       "      <th>n2</th>\n",
       "      <th>prop</th>\n",
       "      <th>created</th>\n",
       "    </tr>\n",
       "  </thead>\n",
       "  <tbody>\n",
       "    <tr>\n",
       "      <th>0</th>\n",
       "      <td>238</td>\n",
       "      <td>259</td>\n",
       "      <td>[5]</td>\n",
       "      <td>2019-11-21 16:27:45.472998</td>\n",
       "    </tr>\n",
       "    <tr>\n",
       "      <th>1</th>\n",
       "      <td>239</td>\n",
       "      <td>260</td>\n",
       "      <td>[5]</td>\n",
       "      <td>2019-11-21 16:27:45.472998</td>\n",
       "    </tr>\n",
       "    <tr>\n",
       "      <th>2</th>\n",
       "      <td>240</td>\n",
       "      <td>259</td>\n",
       "      <td>[5]</td>\n",
       "      <td>2019-11-21 16:27:45.472998</td>\n",
       "    </tr>\n",
       "    <tr>\n",
       "      <th>3</th>\n",
       "      <td>241</td>\n",
       "      <td>259</td>\n",
       "      <td>[5]</td>\n",
       "      <td>2019-11-21 16:27:45.472998</td>\n",
       "    </tr>\n",
       "    <tr>\n",
       "      <th>4</th>\n",
       "      <td>242</td>\n",
       "      <td>259</td>\n",
       "      <td>[5]</td>\n",
       "      <td>2019-11-21 16:27:45.472998</td>\n",
       "    </tr>\n",
       "  </tbody>\n",
       "</table>\n",
       "</div>"
      ],
      "text/plain": [
       "    n1   n2 prop                    created\n",
       "0  238  259  [5] 2019-11-21 16:27:45.472998\n",
       "1  239  260  [5] 2019-11-21 16:27:45.472998\n",
       "2  240  259  [5] 2019-11-21 16:27:45.472998\n",
       "3  241  259  [5] 2019-11-21 16:27:45.472998\n",
       "4  242  259  [5] 2019-11-21 16:27:45.472998"
      ]
     },
     "execution_count": 445,
     "metadata": {},
     "output_type": "execute_result"
    }
   ],
   "source": [
    "sql = \"select * from tbl_edge\"\n",
    "df = sqlio.read_sql_query(sql, conn)\n",
    "df.head()"
   ]
  },
  {
   "cell_type": "code",
   "execution_count": 449,
   "metadata": {},
   "outputs": [],
   "source": [
    "conn.commit()"
   ]
  },
  {
   "cell_type": "code",
   "execution_count": 447,
   "metadata": {},
   "outputs": [
    {
     "ename": "UndefinedFunction",
     "evalue": "function graph_search1(integer, integer, bigint) does not exist\n",
     "output_type": "error",
     "traceback": [
      "\u001b[0;31m---------------------------------------------------------------------------\u001b[0m",
      "\u001b[0;31mUndefinedFunction\u001b[0m                         Traceback (most recent call last)",
      "\u001b[0;32m<ipython-input-447-9f6fa76a8520>\u001b[0m in \u001b[0;36m<module>\u001b[0;34m\u001b[0m\n\u001b[0;32m----> 1\u001b[0;31m \u001b[0mcur\u001b[0m\u001b[0;34m.\u001b[0m\u001b[0mexecute\u001b[0m\u001b[0;34m(\u001b[0m\u001b[0;34m\"DROP FUNCTION graph_search1(integer,integer,bigint)\"\u001b[0m\u001b[0;34m)\u001b[0m\u001b[0;34m\u001b[0m\u001b[0;34m\u001b[0m\u001b[0m\n\u001b[0m",
      "\u001b[0;31mUndefinedFunction\u001b[0m: function graph_search1(integer, integer, bigint) does not exist\n"
     ]
    }
   ],
   "source": [
    "cur.execute(\"DROP FUNCTION graph_search1(integer,integer,bigint)\")"
   ]
  },
  {
   "cell_type": "code",
   "execution_count": 450,
   "metadata": {},
   "outputs": [],
   "source": [
    "sql = \"\"\"\n",
    "create or replace function graph_search1(      \n",
    "  IN i_root int,                       -- The node that the search is based on        \n",
    "  IN i_depth int  default 99999,       -- the tier to search (the depth limit)      \n",
    "  IN i_limit int8 default 2000000000,  -- limit the number of records returned for each tier      \n",
    "  OUT o_path int[],                    -- output: path, an array of IDs      \n",
    "  OUT o_point1 int,                    -- output: point 1 ID      \n",
    "  OUT o_point2 int,                    -- output: point 2 ID      \n",
    "  OUT o_link_prop int2[],              -- output: the connection property between the two current points      \n",
    "  OUT o_link_prop_all text,            -- output: the connection property from the starting node to the current node      \n",
    "  OUT o_depth int                      -- output: current depth (tier)      \n",
    ") returns setof record as \n",
    "$$\n",
    "      \n",
    "declare      \n",
    "  sql text;      \n",
    "begin      \n",
    "sql := format($_$      \n",
    "WITH RECURSIVE search_graph(        \n",
    "  n1,     -- point 1        \n",
    "  n2,     -- point 2        \n",
    "  prop,   -- current edge property      \n",
    "  all_prop,  -- properties of all edges  \n",
    "  depth,  -- current depth, starting from 1         \n",
    "  path    -- path, stored as an array         \n",
    ") AS (        \n",
    "        select n1,n2,prop,all_prop,depth,path from (        \n",
    "        SELECT                               -- ROOT node query        \n",
    "          g.n1,                              -- point 1        \n",
    "          g.n2,                              -- point 2        \n",
    "          g.prop,                            -- edge property        \n",
    "      g.prop::text as all_prop,          -- properties of all edges  \n",
    "          1 depth,                           -- initial depth=1        \n",
    "          ARRAY[g.n1, g.n2] path             -- initial path        \n",
    "        FROM tbl_edge AS g         \n",
    "        WHERE         \n",
    "          n1 = %s                            -- ROOT node=?        \n",
    "          limit %s                           -- How many records are limited at each tier?        \n",
    "        ) t        \n",
    "      UNION ALL        \n",
    "        select n1,n2,prop,all_prop,depth,path from (        \n",
    "        SELECT                               -- recursive clause         \n",
    "          g.n1,                              -- point 1        \n",
    "          g.n2,                              -- point 2        \n",
    "          g.prop,                            -- edge property     \n",
    "      sg.all_prop || g.prop::text as all_prop,    -- properties of all edges  \n",
    "          sg.depth + 1 depth,                   -- depth +1        \n",
    "          sg.path || g.n2 path                 -- Add a new point to the path        \n",
    "        FROM tbl_edge AS g, search_graph AS sg    -- circular INNER JOIN        \n",
    "        WHERE         \n",
    "          g.n1 = sg.n2                       -- recursive JOIN condition        \n",
    "          AND (g.n2 <> ALL(sg.path))                      -- Prevent loop, determine whether it is a loop and judge if the new point is already in the previous path   \n",
    "          AND sg.depth <= %s                 -- search depth =?          \n",
    "          limit %s                           -- How many records are limited at each tier?       \n",
    "        ) t        \n",
    ")        \n",
    "SELECT path as o_path, n1 as o_point1, n2 as o_point2, prop as o_link_prop, all_prop as o_link_prop_all, depth as o_depth      \n",
    "FROM search_graph;                           -- query a recursive table. You can add LIMIT output or use a cursor       \n",
    "$_$, i_root, i_limit, i_depth, i_limit      \n",
    ");      \n",
    "      \n",
    "return query execute sql;      \n",
    "      \n",
    "end;      \n",
    "\n",
    "$$\n",
    " language plpgsql strict;   \n",
    "\"\"\"\n",
    "\n",
    "cur.execute(sql)"
   ]
  },
  {
   "cell_type": "code",
   "execution_count": 451,
   "metadata": {},
   "outputs": [],
   "source": [
    "conn.commit()"
   ]
  },
  {
   "cell_type": "code",
   "execution_count": 455,
   "metadata": {},
   "outputs": [
    {
     "name": "stdout",
     "output_type": "stream",
     "text": [
      "CPU times: user 2.49 ms, sys: 0 ns, total: 2.49 ms\n",
      "Wall time: 14.2 ms\n"
     ]
    }
   ],
   "source": [
    "%%time\n",
    "sql = \"select * from graph_search1(259)\"\n",
    "df = sqlio.read_sql_query(sql, conn)"
   ]
  },
  {
   "cell_type": "code",
   "execution_count": 456,
   "metadata": {},
   "outputs": [],
   "source": [
    "sql = \"select * from graph_search1(259)\"\n",
    "df = sqlio.read_sql_query(sql, conn)"
   ]
  },
  {
   "cell_type": "code",
   "execution_count": 457,
   "metadata": {},
   "outputs": [
    {
     "data": {
      "text/html": [
       "<div>\n",
       "<style scoped>\n",
       "    .dataframe tbody tr th:only-of-type {\n",
       "        vertical-align: middle;\n",
       "    }\n",
       "\n",
       "    .dataframe tbody tr th {\n",
       "        vertical-align: top;\n",
       "    }\n",
       "\n",
       "    .dataframe thead th {\n",
       "        text-align: right;\n",
       "    }\n",
       "</style>\n",
       "<table border=\"1\" class=\"dataframe\">\n",
       "  <thead>\n",
       "    <tr style=\"text-align: right;\">\n",
       "      <th></th>\n",
       "      <th>o_path</th>\n",
       "      <th>o_point1</th>\n",
       "      <th>o_point2</th>\n",
       "      <th>o_link_prop</th>\n",
       "      <th>o_link_prop_all</th>\n",
       "      <th>o_depth</th>\n",
       "    </tr>\n",
       "  </thead>\n",
       "  <tbody>\n",
       "    <tr>\n",
       "      <th>0</th>\n",
       "      <td>[259, 238]</td>\n",
       "      <td>259</td>\n",
       "      <td>238</td>\n",
       "      <td>[6]</td>\n",
       "      <td>{6}</td>\n",
       "      <td>1</td>\n",
       "    </tr>\n",
       "    <tr>\n",
       "      <th>1</th>\n",
       "      <td>[259, 240]</td>\n",
       "      <td>259</td>\n",
       "      <td>240</td>\n",
       "      <td>[6]</td>\n",
       "      <td>{6}</td>\n",
       "      <td>1</td>\n",
       "    </tr>\n",
       "    <tr>\n",
       "      <th>2</th>\n",
       "      <td>[259, 241]</td>\n",
       "      <td>259</td>\n",
       "      <td>241</td>\n",
       "      <td>[6]</td>\n",
       "      <td>{6}</td>\n",
       "      <td>1</td>\n",
       "    </tr>\n",
       "    <tr>\n",
       "      <th>3</th>\n",
       "      <td>[259, 242]</td>\n",
       "      <td>259</td>\n",
       "      <td>242</td>\n",
       "      <td>[6]</td>\n",
       "      <td>{6}</td>\n",
       "      <td>1</td>\n",
       "    </tr>\n",
       "    <tr>\n",
       "      <th>4</th>\n",
       "      <td>[259, 243]</td>\n",
       "      <td>259</td>\n",
       "      <td>243</td>\n",
       "      <td>[6]</td>\n",
       "      <td>{6}</td>\n",
       "      <td>1</td>\n",
       "    </tr>\n",
       "  </tbody>\n",
       "</table>\n",
       "</div>"
      ],
      "text/plain": [
       "       o_path  o_point1  o_point2 o_link_prop o_link_prop_all  o_depth\n",
       "0  [259, 238]       259       238         [6]             {6}        1\n",
       "1  [259, 240]       259       240         [6]             {6}        1\n",
       "2  [259, 241]       259       241         [6]             {6}        1\n",
       "3  [259, 242]       259       242         [6]             {6}        1\n",
       "4  [259, 243]       259       243         [6]             {6}        1"
      ]
     },
     "execution_count": 457,
     "metadata": {},
     "output_type": "execute_result"
    }
   ],
   "source": [
    "df"
   ]
  },
  {
   "cell_type": "code",
   "execution_count": 458,
   "metadata": {},
   "outputs": [
    {
     "data": {
      "text/html": [
       "<div>\n",
       "<style scoped>\n",
       "    .dataframe tbody tr th:only-of-type {\n",
       "        vertical-align: middle;\n",
       "    }\n",
       "\n",
       "    .dataframe tbody tr th {\n",
       "        vertical-align: top;\n",
       "    }\n",
       "\n",
       "    .dataframe thead th {\n",
       "        text-align: right;\n",
       "    }\n",
       "</style>\n",
       "<table border=\"1\" class=\"dataframe\">\n",
       "  <thead>\n",
       "    <tr style=\"text-align: right;\">\n",
       "      <th></th>\n",
       "      <th>name</th>\n",
       "      <th>source</th>\n",
       "      <th>target</th>\n",
       "      <th>target_node_id</th>\n",
       "      <th>source_node_id</th>\n",
       "      <th>weight</th>\n",
       "    </tr>\n",
       "  </thead>\n",
       "  <tbody>\n",
       "    <tr>\n",
       "      <th>0</th>\n",
       "      <td>contains concept</td>\n",
       "      <td>PERSONALIA</td>\n",
       "      <td>SIVILSTAND</td>\n",
       "      <td>238</td>\n",
       "      <td>259</td>\n",
       "      <td>1</td>\n",
       "    </tr>\n",
       "    <tr>\n",
       "      <th>1</th>\n",
       "      <td>contains concept</td>\n",
       "      <td>PERSONALIA</td>\n",
       "      <td>KJØNN</td>\n",
       "      <td>240</td>\n",
       "      <td>259</td>\n",
       "      <td>1</td>\n",
       "    </tr>\n",
       "    <tr>\n",
       "      <th>2</th>\n",
       "      <td>contains concept</td>\n",
       "      <td>PERSONALIA</td>\n",
       "      <td>NAVN</td>\n",
       "      <td>241</td>\n",
       "      <td>259</td>\n",
       "      <td>1</td>\n",
       "    </tr>\n",
       "    <tr>\n",
       "      <th>3</th>\n",
       "      <td>contains concept</td>\n",
       "      <td>PERSONALIA</td>\n",
       "      <td>FØDSELSDATO</td>\n",
       "      <td>242</td>\n",
       "      <td>259</td>\n",
       "      <td>1</td>\n",
       "    </tr>\n",
       "    <tr>\n",
       "      <th>4</th>\n",
       "      <td>contains concept</td>\n",
       "      <td>PERSONALIA</td>\n",
       "      <td>FØDSELSNUMMER</td>\n",
       "      <td>243</td>\n",
       "      <td>259</td>\n",
       "      <td>1</td>\n",
       "    </tr>\n",
       "  </tbody>\n",
       "</table>\n",
       "</div>"
      ],
      "text/plain": [
       "               name      source         target  target_node_id  \\\n",
       "0  contains concept  PERSONALIA     SIVILSTAND             238   \n",
       "1  contains concept  PERSONALIA          KJØNN             240   \n",
       "2  contains concept  PERSONALIA           NAVN             241   \n",
       "3  contains concept  PERSONALIA    FØDSELSDATO             242   \n",
       "4  contains concept  PERSONALIA  FØDSELSNUMMER             243   \n",
       "\n",
       "   source_node_id  weight  \n",
       "0             259       1  \n",
       "1             259       1  \n",
       "2             259       1  \n",
       "3             259       1  \n",
       "4             259       1  "
      ]
     },
     "execution_count": 458,
     "metadata": {},
     "output_type": "execute_result"
    }
   ],
   "source": [
    "df_edgelist=df[['o_point1','o_point2','o_link_prop','o_depth']].copy()\n",
    "df_edgelist.columns=['source','target','id','weight']\n",
    "df_edgelist['id'] = df_edgelist['id'].apply(lambda x: x[0])\n",
    "df_edgelist = pd.merge(df_edgelist, df_links, on='id', how='left')\n",
    "df_edgelist = pd.merge(df_edgelist, df_nodes[['id', 'name']], left_on='source', right_on='id')\n",
    "df_edgelist = pd.merge(df_edgelist, df_nodes[['id', 'name']], left_on='target', right_on='id')\n",
    "df_edgelist = df_edgelist[['prop', 'name_x', 'name_y','id','id_y', 'weight']]\n",
    "df_edgelist.columns = ['name', 'source', 'target','target_node_id','source_node_id', 'weight']\n",
    "df_edgelist"
   ]
  },
  {
   "cell_type": "code",
   "execution_count": 459,
   "metadata": {},
   "outputs": [],
   "source": [
    "#!pip install nx_altair"
   ]
  },
  {
   "cell_type": "code",
   "execution_count": 460,
   "metadata": {},
   "outputs": [],
   "source": [
    "import altair as alt\n",
    "alt.renderers.enable('notebook')\n",
    "alt.themes.enable('opaque')\n",
    "import networkx as nx\n",
    "import nx_altair as nxa\n",
    "import numpy as np\n",
    "\n",
    "G = nx.from_pandas_edgelist(df_edgelist, 'source', 'target', ['name','target_node_id','source_node_id','weight'])\n",
    "pos = nx.spring_layout(G)"
   ]
  },
  {
   "cell_type": "code",
   "execution_count": 461,
   "metadata": {},
   "outputs": [
    {
     "data": {
      "image/png": "[encoded data removed]",
      "text/plain": [
       "<Figure size 432x288 with 1 Axes>"
      ]
     },
     "metadata": {},
     "output_type": "display_data"
    }
   ],
   "source": [
    "nx.draw_networkx(\n",
    "    G=G,\n",
    "    pos=pos\n",
    ")"
   ]
  },
  {
   "cell_type": "code",
   "execution_count": 462,
   "metadata": {},
   "outputs": [
    {
     "data": {
      "application/javascript": [
       "const spec = {\"config\": {\"background\": \"white\", \"view\": {\"width\": 400, \"height\": 300}, \"mark\": {\"tooltip\": null}, \"axis\": {\"domain\": false, \"grid\": false, \"labels\": false, \"ticks\": false}}, \"layer\": [{\"data\": {\"name\": \"data-81cf845863a26612247ebb1108135ae3\"}, \"mark\": {\"type\": \"line\", \"color\": \"black\", \"opacity\": 1}, \"encoding\": {\"detail\": {\"type\": \"quantitative\", \"field\": \"edge\"}, \"size\": {\"type\": \"nominal\", \"field\": \"weight\", \"legend\": null}, \"x\": {\"type\": \"quantitative\", \"axis\": {\"title\": \"\"}, \"field\": \"x\"}, \"y\": {\"type\": \"quantitative\", \"axis\": {\"title\": \"\"}, \"field\": \"y\"}}, \"selection\": {\"selector006\": {\"type\": \"interval\", \"bind\": \"scales\", \"encodings\": [\"x\", \"y\"]}}}, {\"data\": {\"name\": \"data-b19f797a772bee76ed5e2882fe878c47\"}, \"mark\": {\"type\": \"point\", \"fill\": \"id:N\", \"opacity\": 1, \"size\": 300}, \"encoding\": {\"fill\": {\"type\": \"nominal\", \"field\": \"id\", \"scale\": {\"scheme\": \"viridis\"}}, \"tooltip\": [{\"type\": \"nominal\", \"field\": \"weight\"}], \"x\": {\"type\": \"quantitative\", \"field\": \"x\"}, \"y\": {\"type\": \"quantitative\", \"field\": \"y\"}}}], \"$schema\": \"https://vega.github.io/schema/vega-lite/v3.4.0.json\", \"datasets\": {\"data-81cf845863a26612247ebb1108135ae3\": [{\"x\": 0.002644762958373462, \"pair\": [\"PERSONALIA\", \"SIVILSTAND\"], \"weight\": 1, \"y\": -0.0015460012354964099, \"edge\": 0, \"name\": \"contains concept\", \"target_node_id\": 238, \"source_node_id\": 259, \"target\": \"SIVILSTAND\", \"source\": \"PERSONALIA\"}, {\"x\": 1.0, \"pair\": [\"PERSONALIA\", \"SIVILSTAND\"], \"weight\": 1, \"y\": -0.07269447008791746, \"edge\": 0, \"name\": \"contains concept\", \"target_node_id\": 238, \"source_node_id\": 259, \"target\": \"SIVILSTAND\", \"source\": \"PERSONALIA\"}, {\"x\": 0.002644762958373462, \"pair\": [\"PERSONALIA\", \"KJ\\u00d8NN\"], \"weight\": 1, \"y\": -0.0015460012354964099, \"edge\": 1, \"name\": \"contains concept\", \"target_node_id\": 240, \"source_node_id\": 259, \"target\": \"KJ\\u00d8NN\", \"source\": \"PERSONALIA\"}, {\"x\": -0.7692280391742919, \"pair\": [\"PERSONALIA\", \"KJ\\u00d8NN\"], \"weight\": 1, \"y\": 0.6464822656812951, \"edge\": 1, \"name\": \"contains concept\", \"target_node_id\": 240, \"source_node_id\": 259, \"target\": \"KJ\\u00d8NN\", \"source\": \"PERSONALIA\"}, {\"x\": 0.002644762958373462, \"pair\": [\"PERSONALIA\", \"NAVN\"], \"weight\": 1, \"y\": -0.0015460012354964099, \"edge\": 2, \"name\": \"contains concept\", \"target_node_id\": 241, \"source_node_id\": 259, \"target\": \"NAVN\", \"source\": \"PERSONALIA\"}, {\"x\": -0.8482746543232274, \"pair\": [\"PERSONALIA\", \"NAVN\"], \"weight\": 1, \"y\": -0.5285862676431106, \"edge\": 2, \"name\": \"contains concept\", \"target_node_id\": 241, \"source_node_id\": 259, \"target\": \"NAVN\", \"source\": \"PERSONALIA\"}, {\"x\": 0.002644762958373462, \"pair\": [\"PERSONALIA\", \"F\\u00d8DSELSDATO\"], \"weight\": 1, \"y\": -0.0015460012354964099, \"edge\": 3, \"name\": \"contains concept\", \"target_node_id\": 242, \"source_node_id\": 259, \"target\": \"F\\u00d8DSELSDATO\", \"source\": \"PERSONALIA\"}, {\"x\": 0.23916400682820604, \"pair\": [\"PERSONALIA\", \"F\\u00d8DSELSDATO\"], \"weight\": 1, \"y\": -0.9721914162511041, \"edge\": 3, \"name\": \"contains concept\", \"target_node_id\": 242, \"source_node_id\": 259, \"target\": \"F\\u00d8DSELSDATO\", \"source\": \"PERSONALIA\"}, {\"x\": 0.002644762958373462, \"pair\": [\"PERSONALIA\", \"F\\u00d8DSELSNUMMER\"], \"weight\": 1, \"y\": -0.0015460012354964099, \"edge\": 4, \"name\": \"contains concept\", \"target_node_id\": 243, \"source_node_id\": 259, \"target\": \"F\\u00d8DSELSNUMMER\", \"source\": \"PERSONALIA\"}, {\"x\": 0.3756939237109407, \"pair\": [\"PERSONALIA\", \"F\\u00d8DSELSNUMMER\"], \"weight\": 1, \"y\": 0.9285358895363331, \"edge\": 4, \"name\": \"contains concept\", \"target_node_id\": 243, \"source_node_id\": 259, \"target\": \"F\\u00d8DSELSNUMMER\", \"source\": \"PERSONALIA\"}], \"data-b19f797a772bee76ed5e2882fe878c47\": [{\"y\": -0.0015460012354964099, \"x\": 0.002644762958373462}, {\"y\": -0.07269447008791746, \"x\": 1.0}, {\"y\": 0.6464822656812951, \"x\": -0.7692280391742919}, {\"y\": -0.5285862676431106, \"x\": -0.8482746543232274}, {\"y\": -0.9721914162511041, \"x\": 0.23916400682820604}, {\"y\": 0.9285358895363331, \"x\": 0.3756939237109407}]}};\n",
       "const opt = {};\n",
       "const type = \"vega-lite\";\n",
       "const id = \"39f2c78d-957e-4c1a-be4a-6259aa3f4347\";\n",
       "\n",
       "const output_area = this;\n",
       "\n",
       "require([\"nbextensions/jupyter-vega/index\"], function(vega) {\n",
       "  const target = document.createElement(\"div\");\n",
       "  target.id = id;\n",
       "  target.className = \"vega-embed\";\n",
       "\n",
       "  const style = document.createElement(\"style\");\n",
       "  style.textContent = [\n",
       "    \".vega-embed .error p {\",\n",
       "    \"  color: firebrick;\",\n",
       "    \"  font-size: 14px;\",\n",
       "    \"}\",\n",
       "  ].join(\"\\\\n\");\n",
       "\n",
       "  // element is a jQuery wrapped DOM element inside the output area\n",
       "  // see http://ipython.readthedocs.io/en/stable/api/generated/\\\n",
       "  // IPython.display.html#IPython.display.Javascript.__init__\n",
       "  element[0].appendChild(target);\n",
       "  element[0].appendChild(style);\n",
       "\n",
       "  vega.render(\"#\" + id, spec, type, opt, output_area);\n",
       "}, function (err) {\n",
       "  if (err.requireType !== \"scripterror\") {\n",
       "    throw(err);\n",
       "  }\n",
       "});\n"
      ],
      "text/plain": [
       "<vega.vegalite.VegaLite at 0x7f62ef15c828>"
      ]
     },
     "metadata": {
      "jupyter-vega": "#39f2c78d-957e-4c1a-be4a-6259aa3f4347"
     },
     "output_type": "display_data"
    },
    {
     "data": {
      "text/plain": []
     },
     "execution_count": 462,
     "metadata": {},
     "output_type": "execute_result"
    },
    {
     "data": {
      "image/png": "[encoded data removed]"
     },
     "metadata": {
      "jupyter-vega": "#39f2c78d-957e-4c1a-be4a-6259aa3f4347"
     },
     "output_type": "display_data"
    }
   ],
   "source": [
    "# Compute positions for viz.\n",
    "pos = nx.spring_layout(G)\n",
    "\n",
    "viz = nxa.draw_networkx(\n",
    "    G, pos=pos,\n",
    "    node_color='id:N',\n",
    "    cmap='viridis',\n",
    "    width='weight:N',\n",
    "    edge_color='black',\n",
    "    node_tooltip=['weight:N']\n",
    ")\n",
    "\n",
    "viz.interactive()"
   ]
  },
  {
   "cell_type": "code",
   "execution_count": null,
   "metadata": {},
   "outputs": [],
   "source": []
  }
 ],
 "metadata": {
  "kernelspec": {
   "display_name": "Python 3",
   "language": "python",
   "name": "python3"
  },
  "language_info": {
   "codemirror_mode": {
    "name": "ipython",
    "version": 3
   },
   "file_extension": ".py",
   "mimetype": "text/x-python",
   "name": "python",
   "nbconvert_exporter": "python",
   "pygments_lexer": "ipython3",
   "version": "3.7.2"
  },
  "varInspector": {
   "cols": {
    "lenName": 16,
    "lenType": 16,
    "lenVar": 40
   },
   "kernels_config": {
    "python": {
     "delete_cmd_postfix": "",
     "delete_cmd_prefix": "del ",
     "library": "var_list.py",
     "varRefreshCmd": "print(var_dic_list())"
    },
    "r": {
     "delete_cmd_postfix": ") ",
     "delete_cmd_prefix": "rm(",
     "library": "var_list.r",
     "varRefreshCmd": "cat(var_dic_list()) "
    }
   },
   "types_to_exclude": [
    "module",
    "function",
    "builtin_function_or_method",
    "instance",
    "_Feature"
   ],
   "window_display": false
  }
 },
 "nbformat": 4,
 "nbformat_minor": 2
}
