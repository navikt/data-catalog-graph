{
 "cells": [
  {
   "cell_type": "code",
   "execution_count": 319,
   "metadata": {},
   "outputs": [],
   "source": [
    "import pandas as pd\n",
    "import pandas.io.sql as sqlio\n",
    "import psycopg2\n",
    "import sqlalchemy\n",
    "import os\n",
    "import json\n",
    "import uuid\n"
   ]
  },
  {
   "cell_type": "code",
   "execution_count": 247,
   "metadata": {},
   "outputs": [],
   "source": [
    "conn = psycopg2.connect(\n",
    "    user=\"dcat\", \n",
    "    password=\"dcat\", \n",
    "    host=\"127.0.0.1\", \n",
    "    port=\"54320\", \n",
    "    database=\"dcat\")"
   ]
  },
  {
   "cell_type": "code",
   "execution_count": 36,
   "metadata": {},
   "outputs": [],
   "source": [
    "conn = psycopg2.connect(\n",
    "    user=\"v-oidc-Pau-datacata-8M61CzhFYnWwyGe4RT5T-1573823273\", \n",
    "    password=\"A1a-uUUBJHlTN9oyrAQB\", \n",
    "    host=\"b27dbvl008.preprod.local\", \n",
    "    port=\"5432\", \n",
    "    database=\"datacatalog-term\")"
   ]
  },
  {
   "cell_type": "code",
   "execution_count": 342,
   "metadata": {},
   "outputs": [],
   "source": [
    "conn.commit()"
   ]
  },
  {
   "cell_type": "code",
   "execution_count": 248,
   "metadata": {},
   "outputs": [],
   "source": [
    "cur = conn.cursor()"
   ]
  },
  {
   "cell_type": "code",
   "execution_count": 249,
   "metadata": {},
   "outputs": [
    {
     "name": "stdout",
     "output_type": "stream",
     "text": [
      "{'user': 'dcat', 'dbname': 'dcat', 'host': '127.0.0.1', 'port': '54320', 'tty': '', 'options': '', 'sslmode': 'prefer', 'sslcompression': '0', 'krbsrvname': 'postgres', 'target_session_attrs': 'any'} \n",
      "\n"
     ]
    }
   ],
   "source": [
    "print ( conn.get_dsn_parameters(),\"\\n\")"
   ]
  },
  {
   "cell_type": "code",
   "execution_count": 250,
   "metadata": {},
   "outputs": [
    {
     "name": "stdout",
     "output_type": "stream",
     "text": [
      "You are connected to -  ('PostgreSQL 12.0 (Debian 12.0-2.pgdg100+1) on x86_64-pc-linux-gnu, compiled by gcc (Debian 8.3.0-6) 8.3.0, 64-bit',) \n",
      "\n"
     ]
    }
   ],
   "source": [
    "cur.execute(\"SELECT version();\")\n",
    "record = cur.fetchone()\n",
    "print(\"You are connected to - \", record,\"\\n\")"
   ]
  },
  {
   "cell_type": "markdown",
   "metadata": {},
   "source": [
    "# Init"
   ]
  },
  {
   "cell_type": "code",
   "execution_count": 343,
   "metadata": {},
   "outputs": [],
   "source": [
    "#Relationship description/attributes\n",
    "cur.execute(\"delete from tbl_edge_desc\")\n",
    "#Relationships/Edges\n",
    "cur.execute(\"delete from tbl_edge\")\n",
    "#Node details table\n",
    "cur.execute(\"delete from tbl_node\")\n",
    "\n",
    "conn.commit()"
   ]
  },
  {
   "cell_type": "markdown",
   "metadata": {},
   "source": [
    "# Get data"
   ]
  },
  {
   "cell_type": "code",
   "execution_count": 344,
   "metadata": {},
   "outputs": [
    {
     "data": {
      "text/plain": [
       "['Formål GML',\n",
       " 'Formål',\n",
       " 'Ark1',\n",
       " 'data-catalog-backend',\n",
       " 'data-catalog-policies',\n",
       " 'Category']"
      ]
     },
     "execution_count": 344,
     "metadata": {},
     "output_type": "execute_result"
    }
   ],
   "source": [
    "xls = pd.ExcelFile(\"../data/testdata.xlsx\")\n",
    "xls.sheet_names"
   ]
  },
  {
   "cell_type": "markdown",
   "metadata": {},
   "source": [
    "# Populate tables"
   ]
  },
  {
   "cell_type": "code",
   "execution_count": 345,
   "metadata": {},
   "outputs": [],
   "source": [
    "def get_id(row):\n",
    "    return row['type'] + '.' + row['name'].upper()\n",
    "\n",
    "def get_uuid(row):\n",
    "    return row['type'] + '.' + str(uuid.uuid4()).upper()"
   ]
  },
  {
   "cell_type": "markdown",
   "metadata": {},
   "source": [
    "### Relationships"
   ]
  },
  {
   "cell_type": "code",
   "execution_count": 346,
   "metadata": {},
   "outputs": [],
   "source": [
    "relationships = [\"has purpose\", \"based on purpose\", \"has attribute\", \"attribute of\",\"belongs to category\", \"contains concept\"]\n",
    "index = 1\n",
    "for relationship in relationships:\n",
    "    insert_query = f\"insert into tbl_edge_desc values ({index},'{relationship}')\"\n",
    "    cur.execute(insert_query)\n",
    "    index += 1\n",
    "    \n",
    "conn.commit()"
   ]
  },
  {
   "cell_type": "code",
   "execution_count": 347,
   "metadata": {},
   "outputs": [
    {
     "data": {
      "text/html": [
       "<div>\n",
       "<style scoped>\n",
       "    .dataframe tbody tr th:only-of-type {\n",
       "        vertical-align: middle;\n",
       "    }\n",
       "\n",
       "    .dataframe tbody tr th {\n",
       "        vertical-align: top;\n",
       "    }\n",
       "\n",
       "    .dataframe thead th {\n",
       "        text-align: right;\n",
       "    }\n",
       "</style>\n",
       "<table border=\"1\" class=\"dataframe\">\n",
       "  <thead>\n",
       "    <tr style=\"text-align: right;\">\n",
       "      <th></th>\n",
       "      <th>id</th>\n",
       "      <th>prop</th>\n",
       "    </tr>\n",
       "  </thead>\n",
       "  <tbody>\n",
       "    <tr>\n",
       "      <th>0</th>\n",
       "      <td>1</td>\n",
       "      <td>has purpose</td>\n",
       "    </tr>\n",
       "    <tr>\n",
       "      <th>1</th>\n",
       "      <td>2</td>\n",
       "      <td>based on purpose</td>\n",
       "    </tr>\n",
       "    <tr>\n",
       "      <th>2</th>\n",
       "      <td>3</td>\n",
       "      <td>has attribute</td>\n",
       "    </tr>\n",
       "    <tr>\n",
       "      <th>3</th>\n",
       "      <td>4</td>\n",
       "      <td>attribute of</td>\n",
       "    </tr>\n",
       "    <tr>\n",
       "      <th>4</th>\n",
       "      <td>5</td>\n",
       "      <td>belongs to category</td>\n",
       "    </tr>\n",
       "    <tr>\n",
       "      <th>5</th>\n",
       "      <td>6</td>\n",
       "      <td>contains concept</td>\n",
       "    </tr>\n",
       "  </tbody>\n",
       "</table>\n",
       "</div>"
      ],
      "text/plain": [
       "   id                 prop\n",
       "0   1          has purpose\n",
       "1   2     based on purpose\n",
       "2   3        has attribute\n",
       "3   4         attribute of\n",
       "4   5  belongs to category\n",
       "5   6     contains concept"
      ]
     },
     "execution_count": 347,
     "metadata": {},
     "output_type": "execute_result"
    }
   ],
   "source": [
    "df_links = sqlio.read_sql_query(\"select * from tbl_edge_desc\", conn)\n",
    "df_links"
   ]
  },
  {
   "cell_type": "markdown",
   "metadata": {},
   "source": [
    "### Processing activities"
   ]
  },
  {
   "cell_type": "code",
   "execution_count": 348,
   "metadata": {},
   "outputs": [
    {
     "data": {
      "text/html": [
       "<div>\n",
       "<style scoped>\n",
       "    .dataframe tbody tr th:only-of-type {\n",
       "        vertical-align: middle;\n",
       "    }\n",
       "\n",
       "    .dataframe tbody tr th {\n",
       "        vertical-align: top;\n",
       "    }\n",
       "\n",
       "    .dataframe thead th {\n",
       "        text-align: right;\n",
       "    }\n",
       "</style>\n",
       "<table border=\"1\" class=\"dataframe\">\n",
       "  <thead>\n",
       "    <tr style=\"text-align: right;\">\n",
       "      <th></th>\n",
       "      <th>description</th>\n",
       "      <th>name</th>\n",
       "      <th>label</th>\n",
       "      <th>type</th>\n",
       "      <th>id</th>\n",
       "    </tr>\n",
       "  </thead>\n",
       "  <tbody>\n",
       "    <tr>\n",
       "      <th>33</th>\n",
       "      <td>Behandle og vurdere rett til uføretrygd som sk...</td>\n",
       "      <td>UFØRETRYGD</td>\n",
       "      <td>Processing activity</td>\n",
       "      <td>GDPR.PROCESSING_ACTIVITY</td>\n",
       "      <td>GDPR.PROCESSING_ACTIVITY.UFØRETRYGD</td>\n",
       "    </tr>\n",
       "    <tr>\n",
       "      <th>34</th>\n",
       "      <td>Behandle og vurdere rett til ventelønn som ska...</td>\n",
       "      <td>VENTELØNN</td>\n",
       "      <td>Processing activity</td>\n",
       "      <td>GDPR.PROCESSING_ACTIVITY</td>\n",
       "      <td>GDPR.PROCESSING_ACTIVITY.VENTELØNN</td>\n",
       "    </tr>\n",
       "    <tr>\n",
       "      <th>35</th>\n",
       "      <td>Behandle og vurdere rett til ytelser ved yrkes...</td>\n",
       "      <td>YRKESSKADE- OG SYKDOM</td>\n",
       "      <td>Processing activity</td>\n",
       "      <td>GDPR.PROCESSING_ACTIVITY</td>\n",
       "      <td>GDPR.PROCESSING_ACTIVITY.YRKESSKADE- OG SYKDOM</td>\n",
       "    </tr>\n",
       "    <tr>\n",
       "      <th>36</th>\n",
       "      <td>Behandle og vurdere rett til ytelser til famil...</td>\n",
       "      <td>YTELSER TIL FAMILIEPLEIER</td>\n",
       "      <td>Processing activity</td>\n",
       "      <td>GDPR.PROCESSING_ACTIVITY</td>\n",
       "      <td>GDPR.PROCESSING_ACTIVITY.YTELSER TIL FAMILIEPL...</td>\n",
       "    </tr>\n",
       "    <tr>\n",
       "      <th>37</th>\n",
       "      <td>Not Available -Verdi mangler</td>\n",
       "      <td>NOT AVAILABLE</td>\n",
       "      <td>Processing activity</td>\n",
       "      <td>GDPR.PROCESSING_ACTIVITY</td>\n",
       "      <td>GDPR.PROCESSING_ACTIVITY.NOT AVAILABLE</td>\n",
       "    </tr>\n",
       "  </tbody>\n",
       "</table>\n",
       "</div>"
      ],
      "text/plain": [
       "                                          description  \\\n",
       "33  Behandle og vurdere rett til uføretrygd som sk...   \n",
       "34  Behandle og vurdere rett til ventelønn som ska...   \n",
       "35  Behandle og vurdere rett til ytelser ved yrkes...   \n",
       "36  Behandle og vurdere rett til ytelser til famil...   \n",
       "37                       Not Available -Verdi mangler   \n",
       "\n",
       "                         name                label                      type  \\\n",
       "33                 UFØRETRYGD  Processing activity  GDPR.PROCESSING_ACTIVITY   \n",
       "34                  VENTELØNN  Processing activity  GDPR.PROCESSING_ACTIVITY   \n",
       "35      YRKESSKADE- OG SYKDOM  Processing activity  GDPR.PROCESSING_ACTIVITY   \n",
       "36  YTELSER TIL FAMILIEPLEIER  Processing activity  GDPR.PROCESSING_ACTIVITY   \n",
       "37              NOT AVAILABLE  Processing activity  GDPR.PROCESSING_ACTIVITY   \n",
       "\n",
       "                                                   id  \n",
       "33                GDPR.PROCESSING_ACTIVITY.UFØRETRYGD  \n",
       "34                 GDPR.PROCESSING_ACTIVITY.VENTELØNN  \n",
       "35     GDPR.PROCESSING_ACTIVITY.YRKESSKADE- OG SYKDOM  \n",
       "36  GDPR.PROCESSING_ACTIVITY.YTELSER TIL FAMILIEPL...  \n",
       "37             GDPR.PROCESSING_ACTIVITY.NOT AVAILABLE  "
      ]
     },
     "execution_count": 348,
     "metadata": {},
     "output_type": "execute_result"
    }
   ],
   "source": [
    "sheet=xls.sheet_names[1]\n",
    "df_formål = pd.read_excel(xls, sheet, encoding='latin1')\n",
    "df_formål = df_formål[['Forslag til endelig formålskode', 'Formålsbeskrivelse']]\n",
    "df_formål.columns=['code', 'description']\n",
    "df_formål['name'] = df_formål['code'].apply(lambda x: x.upper())\n",
    "df_formål = df_formål.append({'name': 'NOT AVAILABLE', 'description': 'Not Available -Verdi mangler'}, ignore_index=True)\n",
    "df_formål.drop(['code'], axis=1, inplace=True)\n",
    "df_formål['label'] = 'Processing activity'\n",
    "df_formål['type'] = 'GDPR.PROCESSING_ACTIVITY'\n",
    "df_formål['id'] = df_formål.apply(get_id, axis=1)\n",
    "df_formål.tail()"
   ]
  },
  {
   "cell_type": "code",
   "execution_count": 349,
   "metadata": {},
   "outputs": [],
   "source": [
    "for index, row in df_formål.iterrows():\n",
    "    id = index + 1\n",
    "    jsonb = row.to_json()\n",
    "    insert_query = f\"insert into tbl_node (prop) values ('{jsonb}')\"\n",
    "    cur.execute(insert_query, (jsonb,))\n",
    "    \n",
    "conn.commit()"
   ]
  },
  {
   "cell_type": "code",
   "execution_count": 350,
   "metadata": {},
   "outputs": [
    {
     "data": {
      "text/html": [
       "<div>\n",
       "<style scoped>\n",
       "    .dataframe tbody tr th:only-of-type {\n",
       "        vertical-align: middle;\n",
       "    }\n",
       "\n",
       "    .dataframe tbody tr th {\n",
       "        vertical-align: top;\n",
       "    }\n",
       "\n",
       "    .dataframe thead th {\n",
       "        text-align: right;\n",
       "    }\n",
       "</style>\n",
       "<table border=\"1\" class=\"dataframe\">\n",
       "  <thead>\n",
       "    <tr style=\"text-align: right;\">\n",
       "      <th></th>\n",
       "      <th>id</th>\n",
       "      <th>guid</th>\n",
       "      <th>prop</th>\n",
       "      <th>created</th>\n",
       "    </tr>\n",
       "  </thead>\n",
       "  <tbody>\n",
       "    <tr>\n",
       "      <th>33</th>\n",
       "      <td>413</td>\n",
       "      <td>331bbc59-ffc2-4a3b-b883-b8cea64b9159</td>\n",
       "      <td>{'id': 'GDPR.PROCESSING_ACTIVITY.UFØRETRYGD', ...</td>\n",
       "      <td>2019-11-20 14:54:30.635553</td>\n",
       "    </tr>\n",
       "    <tr>\n",
       "      <th>34</th>\n",
       "      <td>414</td>\n",
       "      <td>2c93dc3f-9724-4df9-9403-c8c21116f04b</td>\n",
       "      <td>{'id': 'GDPR.PROCESSING_ACTIVITY.VENTELØNN', '...</td>\n",
       "      <td>2019-11-20 14:54:30.635553</td>\n",
       "    </tr>\n",
       "    <tr>\n",
       "      <th>35</th>\n",
       "      <td>415</td>\n",
       "      <td>c2f178df-4085-42d7-8c86-5673e14f9381</td>\n",
       "      <td>{'id': 'GDPR.PROCESSING_ACTIVITY.YRKESSKADE- O...</td>\n",
       "      <td>2019-11-20 14:54:30.635553</td>\n",
       "    </tr>\n",
       "    <tr>\n",
       "      <th>36</th>\n",
       "      <td>416</td>\n",
       "      <td>2dc60483-c209-4ae7-a37d-ba251ea672c1</td>\n",
       "      <td>{'id': 'GDPR.PROCESSING_ACTIVITY.YTELSER TIL F...</td>\n",
       "      <td>2019-11-20 14:54:30.635553</td>\n",
       "    </tr>\n",
       "    <tr>\n",
       "      <th>37</th>\n",
       "      <td>417</td>\n",
       "      <td>3cc63349-03d4-4205-95e1-0c40c1e2600a</td>\n",
       "      <td>{'id': 'GDPR.PROCESSING_ACTIVITY.NOT AVAILABLE...</td>\n",
       "      <td>2019-11-20 14:54:30.635553</td>\n",
       "    </tr>\n",
       "  </tbody>\n",
       "</table>\n",
       "</div>"
      ],
      "text/plain": [
       "     id                                  guid  \\\n",
       "33  413  331bbc59-ffc2-4a3b-b883-b8cea64b9159   \n",
       "34  414  2c93dc3f-9724-4df9-9403-c8c21116f04b   \n",
       "35  415  c2f178df-4085-42d7-8c86-5673e14f9381   \n",
       "36  416  2dc60483-c209-4ae7-a37d-ba251ea672c1   \n",
       "37  417  3cc63349-03d4-4205-95e1-0c40c1e2600a   \n",
       "\n",
       "                                                 prop  \\\n",
       "33  {'id': 'GDPR.PROCESSING_ACTIVITY.UFØRETRYGD', ...   \n",
       "34  {'id': 'GDPR.PROCESSING_ACTIVITY.VENTELØNN', '...   \n",
       "35  {'id': 'GDPR.PROCESSING_ACTIVITY.YRKESSKADE- O...   \n",
       "36  {'id': 'GDPR.PROCESSING_ACTIVITY.YTELSER TIL F...   \n",
       "37  {'id': 'GDPR.PROCESSING_ACTIVITY.NOT AVAILABLE...   \n",
       "\n",
       "                      created  \n",
       "33 2019-11-20 14:54:30.635553  \n",
       "34 2019-11-20 14:54:30.635553  \n",
       "35 2019-11-20 14:54:30.635553  \n",
       "36 2019-11-20 14:54:30.635553  \n",
       "37 2019-11-20 14:54:30.635553  "
      ]
     },
     "execution_count": 350,
     "metadata": {},
     "output_type": "execute_result"
    }
   ],
   "source": [
    "df = sqlio.read_sql_query(\"select * from tbl_node\", conn)\n",
    "df.tail()"
   ]
  },
  {
   "cell_type": "markdown",
   "metadata": {},
   "source": [
    "### Purpose"
   ]
  },
  {
   "cell_type": "code",
   "execution_count": 351,
   "metadata": {},
   "outputs": [],
   "source": [
    "df_purpose = df_formål.copy()\n",
    "df_purpose['type'] = 'GDPR.PURPOSE'\n",
    "df_purpose['label'] = 'Purpose'\n",
    "df_purpose['id'] = df_purpose.apply(get_id, axis=1)"
   ]
  },
  {
   "cell_type": "code",
   "execution_count": 352,
   "metadata": {},
   "outputs": [],
   "source": [
    "for i, row in df_purpose.iterrows():\n",
    "    jsonb = row.to_json()\n",
    "    insert_query = f\"insert into tbl_node (prop) values ('{jsonb}')\"\n",
    "    cur.execute(insert_query, (jsonb,))\n",
    "    \n",
    "conn.commit()"
   ]
  },
  {
   "cell_type": "code",
   "execution_count": 353,
   "metadata": {},
   "outputs": [
    {
     "data": {
      "text/html": [
       "<div>\n",
       "<style scoped>\n",
       "    .dataframe tbody tr th:only-of-type {\n",
       "        vertical-align: middle;\n",
       "    }\n",
       "\n",
       "    .dataframe tbody tr th {\n",
       "        vertical-align: top;\n",
       "    }\n",
       "\n",
       "    .dataframe thead th {\n",
       "        text-align: right;\n",
       "    }\n",
       "</style>\n",
       "<table border=\"1\" class=\"dataframe\">\n",
       "  <thead>\n",
       "    <tr style=\"text-align: right;\">\n",
       "      <th></th>\n",
       "      <th>id</th>\n",
       "      <th>guid</th>\n",
       "      <th>prop</th>\n",
       "      <th>created</th>\n",
       "    </tr>\n",
       "  </thead>\n",
       "  <tbody>\n",
       "    <tr>\n",
       "      <th>71</th>\n",
       "      <td>451</td>\n",
       "      <td>e26cc422-329e-4b9b-bae9-dd349b508532</td>\n",
       "      <td>{'id': 'GDPR.PURPOSE.UFØRETRYGD', 'name': 'UFØ...</td>\n",
       "      <td>2019-11-20 14:55:54.160288</td>\n",
       "    </tr>\n",
       "    <tr>\n",
       "      <th>72</th>\n",
       "      <td>452</td>\n",
       "      <td>b5442edf-4566-4045-9fbd-a5f71349f344</td>\n",
       "      <td>{'id': 'GDPR.PURPOSE.VENTELØNN', 'name': 'VENT...</td>\n",
       "      <td>2019-11-20 14:55:54.160288</td>\n",
       "    </tr>\n",
       "    <tr>\n",
       "      <th>73</th>\n",
       "      <td>453</td>\n",
       "      <td>c313ea02-26de-469a-b58e-4e49920e7078</td>\n",
       "      <td>{'id': 'GDPR.PURPOSE.YRKESSKADE- OG SYKDOM', '...</td>\n",
       "      <td>2019-11-20 14:55:54.160288</td>\n",
       "    </tr>\n",
       "    <tr>\n",
       "      <th>74</th>\n",
       "      <td>454</td>\n",
       "      <td>bf8f1743-8f8d-4efb-8662-4730e7d7b054</td>\n",
       "      <td>{'id': 'GDPR.PURPOSE.YTELSER TIL FAMILIEPLEIER...</td>\n",
       "      <td>2019-11-20 14:55:54.160288</td>\n",
       "    </tr>\n",
       "    <tr>\n",
       "      <th>75</th>\n",
       "      <td>455</td>\n",
       "      <td>949eb1f9-93af-4a55-996b-aa3e9be67ef3</td>\n",
       "      <td>{'id': 'GDPR.PURPOSE.NOT AVAILABLE', 'name': '...</td>\n",
       "      <td>2019-11-20 14:55:54.160288</td>\n",
       "    </tr>\n",
       "  </tbody>\n",
       "</table>\n",
       "</div>"
      ],
      "text/plain": [
       "     id                                  guid  \\\n",
       "71  451  e26cc422-329e-4b9b-bae9-dd349b508532   \n",
       "72  452  b5442edf-4566-4045-9fbd-a5f71349f344   \n",
       "73  453  c313ea02-26de-469a-b58e-4e49920e7078   \n",
       "74  454  bf8f1743-8f8d-4efb-8662-4730e7d7b054   \n",
       "75  455  949eb1f9-93af-4a55-996b-aa3e9be67ef3   \n",
       "\n",
       "                                                 prop  \\\n",
       "71  {'id': 'GDPR.PURPOSE.UFØRETRYGD', 'name': 'UFØ...   \n",
       "72  {'id': 'GDPR.PURPOSE.VENTELØNN', 'name': 'VENT...   \n",
       "73  {'id': 'GDPR.PURPOSE.YRKESSKADE- OG SYKDOM', '...   \n",
       "74  {'id': 'GDPR.PURPOSE.YTELSER TIL FAMILIEPLEIER...   \n",
       "75  {'id': 'GDPR.PURPOSE.NOT AVAILABLE', 'name': '...   \n",
       "\n",
       "                      created  \n",
       "71 2019-11-20 14:55:54.160288  \n",
       "72 2019-11-20 14:55:54.160288  \n",
       "73 2019-11-20 14:55:54.160288  \n",
       "74 2019-11-20 14:55:54.160288  \n",
       "75 2019-11-20 14:55:54.160288  "
      ]
     },
     "execution_count": 353,
     "metadata": {},
     "output_type": "execute_result"
    }
   ],
   "source": [
    "df = sqlio.read_sql_query(\"select * from tbl_node\", conn)\n",
    "df.tail()"
   ]
  },
  {
   "cell_type": "markdown",
   "metadata": {},
   "source": [
    "### Legal basis"
   ]
  },
  {
   "cell_type": "code",
   "execution_count": 354,
   "metadata": {},
   "outputs": [
    {
     "data": {
      "text/html": [
       "<div>\n",
       "<style scoped>\n",
       "    .dataframe tbody tr th:only-of-type {\n",
       "        vertical-align: middle;\n",
       "    }\n",
       "\n",
       "    .dataframe tbody tr th {\n",
       "        vertical-align: top;\n",
       "    }\n",
       "\n",
       "    .dataframe thead th {\n",
       "        text-align: right;\n",
       "    }\n",
       "</style>\n",
       "<table border=\"1\" class=\"dataframe\">\n",
       "  <thead>\n",
       "    <tr style=\"text-align: right;\">\n",
       "      <th></th>\n",
       "      <th>name</th>\n",
       "      <th>type</th>\n",
       "      <th>label</th>\n",
       "      <th>id</th>\n",
       "    </tr>\n",
       "  </thead>\n",
       "  <tbody>\n",
       "    <tr>\n",
       "      <th>0</th>\n",
       "      <td>Ftrl. § 11-20</td>\n",
       "      <td>GDPR.LEGAL_BASIS</td>\n",
       "      <td>Legal basis</td>\n",
       "      <td>GDPR.LEGAL_BASIS.1581AB0D-93D9-472A-8102-8A80A...</td>\n",
       "    </tr>\n",
       "    <tr>\n",
       "      <th>1</th>\n",
       "      <td>Ftrl. §§ 3-16, 3-24, 3-25, 20-8.</td>\n",
       "      <td>GDPR.LEGAL_BASIS</td>\n",
       "      <td>Legal basis</td>\n",
       "      <td>GDPR.LEGAL_BASIS.A1BAF47B-AE98-4BCE-BA0D-C488B...</td>\n",
       "    </tr>\n",
       "    <tr>\n",
       "      <th>2</th>\n",
       "      <td>Kapittel 3, 19, 20 0g 22</td>\n",
       "      <td>GDPR.LEGAL_BASIS</td>\n",
       "      <td>Legal basis</td>\n",
       "      <td>GDPR.LEGAL_BASIS.3D5069BE-9E34-4AD5-927F-645FE...</td>\n",
       "    </tr>\n",
       "    <tr>\n",
       "      <th>3</th>\n",
       "      <td>Ftrl § 3-2 og § 3-3</td>\n",
       "      <td>GDPR.LEGAL_BASIS</td>\n",
       "      <td>Legal basis</td>\n",
       "      <td>GDPR.LEGAL_BASIS.093B1DBD-F2D1-4BCF-853D-B3109...</td>\n",
       "    </tr>\n",
       "    <tr>\n",
       "      <th>4</th>\n",
       "      <td>Barnetrygdloven § 9</td>\n",
       "      <td>GDPR.LEGAL_BASIS</td>\n",
       "      <td>Legal basis</td>\n",
       "      <td>GDPR.LEGAL_BASIS.6886D071-74AB-455D-AFCB-A72A4...</td>\n",
       "    </tr>\n",
       "  </tbody>\n",
       "</table>\n",
       "</div>"
      ],
      "text/plain": [
       "                               name              type        label  \\\n",
       "0                     Ftrl. § 11-20  GDPR.LEGAL_BASIS  Legal basis   \n",
       "1  Ftrl. §§ 3-16, 3-24, 3-25, 20-8.  GDPR.LEGAL_BASIS  Legal basis   \n",
       "2          Kapittel 3, 19, 20 0g 22  GDPR.LEGAL_BASIS  Legal basis   \n",
       "3              Ftrl § 3-2 og § 3-3   GDPR.LEGAL_BASIS  Legal basis   \n",
       "4               Barnetrygdloven § 9  GDPR.LEGAL_BASIS  Legal basis   \n",
       "\n",
       "                                                  id  \n",
       "0  GDPR.LEGAL_BASIS.1581AB0D-93D9-472A-8102-8A80A...  \n",
       "1  GDPR.LEGAL_BASIS.A1BAF47B-AE98-4BCE-BA0D-C488B...  \n",
       "2  GDPR.LEGAL_BASIS.3D5069BE-9E34-4AD5-927F-645FE...  \n",
       "3  GDPR.LEGAL_BASIS.093B1DBD-F2D1-4BCF-853D-B3109...  \n",
       "4  GDPR.LEGAL_BASIS.6886D071-74AB-455D-AFCB-A72A4...  "
      ]
     },
     "execution_count": 354,
     "metadata": {},
     "output_type": "execute_result"
    }
   ],
   "source": [
    "sheet=xls.sheet_names[4]\n",
    "df_legal_basis = pd.read_excel(xls, sheet, encoding='latin1')\n",
    "df_legal_basis = df_legal_basis[['legalBasisDescription']].drop_duplicates()\n",
    "df_legal_basis.columns=['name']\n",
    "df_legal_basis = df_legal_basis.append({'name': 'NOT AVAILABLE'}, ignore_index=True)\n",
    "df_legal_basis['type'] = 'GDPR.LEGAL_BASIS'\n",
    "df_legal_basis['label'] = 'Legal basis'\n",
    "df_legal_basis['id'] = df_legal_basis.apply(get_uuid, axis=1)\n",
    "df_legal_basis.head()"
   ]
  },
  {
   "cell_type": "code",
   "execution_count": 355,
   "metadata": {},
   "outputs": [],
   "source": [
    "for i, row in df_legal_basis.iterrows():\n",
    "    index = index + 1\n",
    "    jsonb = row.to_json()\n",
    "    insert_query = f\"insert into tbl_node (prop) values ('{jsonb}')\"\n",
    "    cur.execute(insert_query, (jsonb,))\n",
    "    \n",
    "conn.commit()"
   ]
  },
  {
   "cell_type": "code",
   "execution_count": 356,
   "metadata": {},
   "outputs": [
    {
     "data": {
      "text/html": [
       "<div>\n",
       "<style scoped>\n",
       "    .dataframe tbody tr th:only-of-type {\n",
       "        vertical-align: middle;\n",
       "    }\n",
       "\n",
       "    .dataframe tbody tr th {\n",
       "        vertical-align: top;\n",
       "    }\n",
       "\n",
       "    .dataframe thead th {\n",
       "        text-align: right;\n",
       "    }\n",
       "</style>\n",
       "<table border=\"1\" class=\"dataframe\">\n",
       "  <thead>\n",
       "    <tr style=\"text-align: right;\">\n",
       "      <th></th>\n",
       "      <th>id</th>\n",
       "      <th>guid</th>\n",
       "      <th>prop</th>\n",
       "      <th>created</th>\n",
       "    </tr>\n",
       "  </thead>\n",
       "  <tbody>\n",
       "    <tr>\n",
       "      <th>232</th>\n",
       "      <td>612</td>\n",
       "      <td>321717f5-5e7d-4f47-aad5-0f8355684e77</td>\n",
       "      <td>{'id': 'GDPR.LEGAL_BASIS.35DA7B7A-977B-4D06-95...</td>\n",
       "      <td>2019-11-20 14:56:02.478466</td>\n",
       "    </tr>\n",
       "    <tr>\n",
       "      <th>233</th>\n",
       "      <td>613</td>\n",
       "      <td>867fda13-1c76-4ae1-9dbf-d55fe87adf96</td>\n",
       "      <td>{'id': 'GDPR.LEGAL_BASIS.D9A2FF2A-F463-4EE6-9D...</td>\n",
       "      <td>2019-11-20 14:56:02.478466</td>\n",
       "    </tr>\n",
       "    <tr>\n",
       "      <th>234</th>\n",
       "      <td>614</td>\n",
       "      <td>295bda9b-b134-48dd-8a32-43fcd79d3d44</td>\n",
       "      <td>{'id': 'GDPR.LEGAL_BASIS.97B754AE-65FB-43BF-9E...</td>\n",
       "      <td>2019-11-20 14:56:02.478466</td>\n",
       "    </tr>\n",
       "    <tr>\n",
       "      <th>235</th>\n",
       "      <td>615</td>\n",
       "      <td>57c0af94-6d4b-4746-a344-40af9fd99d38</td>\n",
       "      <td>{'id': 'GDPR.LEGAL_BASIS.8BB3C35F-0332-48EF-BB...</td>\n",
       "      <td>2019-11-20 14:56:02.478466</td>\n",
       "    </tr>\n",
       "    <tr>\n",
       "      <th>236</th>\n",
       "      <td>616</td>\n",
       "      <td>01b57414-271e-4504-ac70-0dc7f3317ad8</td>\n",
       "      <td>{'id': 'GDPR.LEGAL_BASIS.1CE8D01F-4735-47DB-B6...</td>\n",
       "      <td>2019-11-20 14:56:02.478466</td>\n",
       "    </tr>\n",
       "  </tbody>\n",
       "</table>\n",
       "</div>"
      ],
      "text/plain": [
       "      id                                  guid  \\\n",
       "232  612  321717f5-5e7d-4f47-aad5-0f8355684e77   \n",
       "233  613  867fda13-1c76-4ae1-9dbf-d55fe87adf96   \n",
       "234  614  295bda9b-b134-48dd-8a32-43fcd79d3d44   \n",
       "235  615  57c0af94-6d4b-4746-a344-40af9fd99d38   \n",
       "236  616  01b57414-271e-4504-ac70-0dc7f3317ad8   \n",
       "\n",
       "                                                  prop  \\\n",
       "232  {'id': 'GDPR.LEGAL_BASIS.35DA7B7A-977B-4D06-95...   \n",
       "233  {'id': 'GDPR.LEGAL_BASIS.D9A2FF2A-F463-4EE6-9D...   \n",
       "234  {'id': 'GDPR.LEGAL_BASIS.97B754AE-65FB-43BF-9E...   \n",
       "235  {'id': 'GDPR.LEGAL_BASIS.8BB3C35F-0332-48EF-BB...   \n",
       "236  {'id': 'GDPR.LEGAL_BASIS.1CE8D01F-4735-47DB-B6...   \n",
       "\n",
       "                       created  \n",
       "232 2019-11-20 14:56:02.478466  \n",
       "233 2019-11-20 14:56:02.478466  \n",
       "234 2019-11-20 14:56:02.478466  \n",
       "235 2019-11-20 14:56:02.478466  \n",
       "236 2019-11-20 14:56:02.478466  "
      ]
     },
     "execution_count": 356,
     "metadata": {},
     "output_type": "execute_result"
    }
   ],
   "source": [
    "df = sqlio.read_sql_query(\"select * from tbl_node\", conn)\n",
    "df.tail()"
   ]
  },
  {
   "cell_type": "markdown",
   "metadata": {},
   "source": [
    "### Information types"
   ]
  },
  {
   "cell_type": "code",
   "execution_count": 357,
   "metadata": {},
   "outputs": [
    {
     "data": {
      "text/html": [
       "<div>\n",
       "<style scoped>\n",
       "    .dataframe tbody tr th:only-of-type {\n",
       "        vertical-align: middle;\n",
       "    }\n",
       "\n",
       "    .dataframe tbody tr th {\n",
       "        vertical-align: top;\n",
       "    }\n",
       "\n",
       "    .dataframe thead th {\n",
       "        text-align: right;\n",
       "    }\n",
       "</style>\n",
       "<table border=\"1\" class=\"dataframe\">\n",
       "  <thead>\n",
       "    <tr style=\"text-align: right;\">\n",
       "      <th></th>\n",
       "      <th>name</th>\n",
       "      <th>description</th>\n",
       "      <th>label</th>\n",
       "      <th>type</th>\n",
       "      <th>id</th>\n",
       "    </tr>\n",
       "  </thead>\n",
       "  <tbody>\n",
       "    <tr>\n",
       "      <th>0</th>\n",
       "      <td>SIVILSTAND</td>\n",
       "      <td>En overordnet kategori som beskriver en person...</td>\n",
       "      <td>Information type</td>\n",
       "      <td>GDPR.INFORMATION_TYPE</td>\n",
       "      <td>GDPR.INFORMATION_TYPE.SIVILSTAND</td>\n",
       "    </tr>\n",
       "    <tr>\n",
       "      <th>1</th>\n",
       "      <td>ARBEIDSFORHOLD</td>\n",
       "      <td>Avtaleforhold hvor den ene part, arbeidstakere...</td>\n",
       "      <td>Information type</td>\n",
       "      <td>GDPR.INFORMATION_TYPE</td>\n",
       "      <td>GDPR.INFORMATION_TYPE.ARBEIDSFORHOLD</td>\n",
       "    </tr>\n",
       "    <tr>\n",
       "      <th>2</th>\n",
       "      <td>KJØNN</td>\n",
       "      <td>TODO - mangler i begrepskatalogen og i MFNs be...</td>\n",
       "      <td>Information type</td>\n",
       "      <td>GDPR.INFORMATION_TYPE</td>\n",
       "      <td>GDPR.INFORMATION_TYPE.KJØNN</td>\n",
       "    </tr>\n",
       "    <tr>\n",
       "      <th>3</th>\n",
       "      <td>NAVN</td>\n",
       "      <td>I Norge skal alle ha fornavn og ett enkelt ell...</td>\n",
       "      <td>Information type</td>\n",
       "      <td>GDPR.INFORMATION_TYPE</td>\n",
       "      <td>GDPR.INFORMATION_TYPE.NAVN</td>\n",
       "    </tr>\n",
       "    <tr>\n",
       "      <th>4</th>\n",
       "      <td>FØDSELSDATO</td>\n",
       "      <td>Datoen personen er født.</td>\n",
       "      <td>Information type</td>\n",
       "      <td>GDPR.INFORMATION_TYPE</td>\n",
       "      <td>GDPR.INFORMATION_TYPE.FØDSELSDATO</td>\n",
       "    </tr>\n",
       "  </tbody>\n",
       "</table>\n",
       "</div>"
      ],
      "text/plain": [
       "             name                                        description  \\\n",
       "0      SIVILSTAND  En overordnet kategori som beskriver en person...   \n",
       "1  ARBEIDSFORHOLD  Avtaleforhold hvor den ene part, arbeidstakere...   \n",
       "2           KJØNN  TODO - mangler i begrepskatalogen og i MFNs be...   \n",
       "3            NAVN  I Norge skal alle ha fornavn og ett enkelt ell...   \n",
       "4     FØDSELSDATO                           Datoen personen er født.   \n",
       "\n",
       "              label                   type  \\\n",
       "0  Information type  GDPR.INFORMATION_TYPE   \n",
       "1  Information type  GDPR.INFORMATION_TYPE   \n",
       "2  Information type  GDPR.INFORMATION_TYPE   \n",
       "3  Information type  GDPR.INFORMATION_TYPE   \n",
       "4  Information type  GDPR.INFORMATION_TYPE   \n",
       "\n",
       "                                     id  \n",
       "0      GDPR.INFORMATION_TYPE.SIVILSTAND  \n",
       "1  GDPR.INFORMATION_TYPE.ARBEIDSFORHOLD  \n",
       "2           GDPR.INFORMATION_TYPE.KJØNN  \n",
       "3            GDPR.INFORMATION_TYPE.NAVN  \n",
       "4     GDPR.INFORMATION_TYPE.FØDSELSDATO  "
      ]
     },
     "execution_count": 357,
     "metadata": {},
     "output_type": "execute_result"
    }
   ],
   "source": [
    "sheet=xls.sheet_names[3]\n",
    "\n",
    "df_concepts = pd.read_excel(xls, sheet, encoding='latin1')\n",
    "df_concepts = df_concepts[['title', 'description']]\n",
    "df_concepts.columns=['name', 'description']\n",
    "df_concepts['name'] = df_concepts['name'].apply(lambda x: x.strip().upper())\n",
    "df_concepts = df_concepts.append({'name': 'NOT AVAILABLE', 'description': 'Not Available -Verdi mangler'}, ignore_index=True).drop_duplicates()\n",
    "df_concepts['label'] = 'Information type'\n",
    "df_concepts['type'] = 'GDPR.INFORMATION_TYPE'\n",
    "df_concepts['id'] = df_concepts.apply(get_id, axis=1)\n",
    "df_concepts.head()"
   ]
  },
  {
   "cell_type": "code",
   "execution_count": 358,
   "metadata": {},
   "outputs": [
    {
     "data": {
      "text/plain": [
       "'GDPR.INFORMATION_TYPE.SIVILSTAND'"
      ]
     },
     "execution_count": 358,
     "metadata": {},
     "output_type": "execute_result"
    }
   ],
   "source": [
    "df_concepts.iloc[0]['id']"
   ]
  },
  {
   "cell_type": "code",
   "execution_count": 359,
   "metadata": {},
   "outputs": [],
   "source": [
    "for i, row in df_concepts.iterrows():\n",
    "    jsonb = row.to_json()\n",
    "    insert_query = f\"insert into tbl_node (prop) values ('{jsonb}')\"\n",
    "    cur.execute(insert_query, (jsonb,))\n",
    "    \n",
    "conn.commit()"
   ]
  },
  {
   "cell_type": "code",
   "execution_count": 360,
   "metadata": {},
   "outputs": [
    {
     "data": {
      "text/html": [
       "<div>\n",
       "<style scoped>\n",
       "    .dataframe tbody tr th:only-of-type {\n",
       "        vertical-align: middle;\n",
       "    }\n",
       "\n",
       "    .dataframe tbody tr th {\n",
       "        vertical-align: top;\n",
       "    }\n",
       "\n",
       "    .dataframe thead th {\n",
       "        text-align: right;\n",
       "    }\n",
       "</style>\n",
       "<table border=\"1\" class=\"dataframe\">\n",
       "  <thead>\n",
       "    <tr style=\"text-align: right;\">\n",
       "      <th></th>\n",
       "      <th>id</th>\n",
       "      <th>guid</th>\n",
       "      <th>prop</th>\n",
       "      <th>created</th>\n",
       "    </tr>\n",
       "  </thead>\n",
       "  <tbody>\n",
       "    <tr>\n",
       "      <th>253</th>\n",
       "      <td>633</td>\n",
       "      <td>1e183c64-4342-4cfb-bc25-362337273821</td>\n",
       "      <td>{'id': 'GDPR.INFORMATION_TYPE.FLYKTNINGSTATUS'...</td>\n",
       "      <td>2019-11-20 14:56:19.974984</td>\n",
       "    </tr>\n",
       "    <tr>\n",
       "      <th>254</th>\n",
       "      <td>634</td>\n",
       "      <td>5a16b8aa-3ce7-4214-ac44-1c17136855f8</td>\n",
       "      <td>{'id': 'GDPR.INFORMATION_TYPE.FORELDREANSVAR',...</td>\n",
       "      <td>2019-11-20 14:56:19.974984</td>\n",
       "    </tr>\n",
       "    <tr>\n",
       "      <th>255</th>\n",
       "      <td>635</td>\n",
       "      <td>ceddd42f-2a99-45bd-952f-cbc9f7062687</td>\n",
       "      <td>{'id': 'GDPR.INFORMATION_TYPE.FORSTERFORELDRE'...</td>\n",
       "      <td>2019-11-20 14:56:19.974984</td>\n",
       "    </tr>\n",
       "    <tr>\n",
       "      <th>256</th>\n",
       "      <td>636</td>\n",
       "      <td>1998a328-c31f-4837-9b9f-9d6bdff2f180</td>\n",
       "      <td>{'id': 'GDPR.INFORMATION_TYPE.FULLMAKT', 'name...</td>\n",
       "      <td>2019-11-20 14:56:19.974984</td>\n",
       "    </tr>\n",
       "    <tr>\n",
       "      <th>257</th>\n",
       "      <td>637</td>\n",
       "      <td>9569b998-75de-4848-8f22-be6b05179120</td>\n",
       "      <td>{'id': 'GDPR.INFORMATION_TYPE.NOT AVAILABLE', ...</td>\n",
       "      <td>2019-11-20 14:56:19.974984</td>\n",
       "    </tr>\n",
       "  </tbody>\n",
       "</table>\n",
       "</div>"
      ],
      "text/plain": [
       "      id                                  guid  \\\n",
       "253  633  1e183c64-4342-4cfb-bc25-362337273821   \n",
       "254  634  5a16b8aa-3ce7-4214-ac44-1c17136855f8   \n",
       "255  635  ceddd42f-2a99-45bd-952f-cbc9f7062687   \n",
       "256  636  1998a328-c31f-4837-9b9f-9d6bdff2f180   \n",
       "257  637  9569b998-75de-4848-8f22-be6b05179120   \n",
       "\n",
       "                                                  prop  \\\n",
       "253  {'id': 'GDPR.INFORMATION_TYPE.FLYKTNINGSTATUS'...   \n",
       "254  {'id': 'GDPR.INFORMATION_TYPE.FORELDREANSVAR',...   \n",
       "255  {'id': 'GDPR.INFORMATION_TYPE.FORSTERFORELDRE'...   \n",
       "256  {'id': 'GDPR.INFORMATION_TYPE.FULLMAKT', 'name...   \n",
       "257  {'id': 'GDPR.INFORMATION_TYPE.NOT AVAILABLE', ...   \n",
       "\n",
       "                       created  \n",
       "253 2019-11-20 14:56:19.974984  \n",
       "254 2019-11-20 14:56:19.974984  \n",
       "255 2019-11-20 14:56:19.974984  \n",
       "256 2019-11-20 14:56:19.974984  \n",
       "257 2019-11-20 14:56:19.974984  "
      ]
     },
     "execution_count": 360,
     "metadata": {},
     "output_type": "execute_result"
    }
   ],
   "source": [
    "df = sqlio.read_sql_query(\"select * from tbl_node\", conn)\n",
    "df.tail()"
   ]
  },
  {
   "cell_type": "markdown",
   "metadata": {},
   "source": [
    "### Categories"
   ]
  },
  {
   "cell_type": "code",
   "execution_count": 361,
   "metadata": {},
   "outputs": [
    {
     "data": {
      "text/html": [
       "<div>\n",
       "<style scoped>\n",
       "    .dataframe tbody tr th:only-of-type {\n",
       "        vertical-align: middle;\n",
       "    }\n",
       "\n",
       "    .dataframe tbody tr th {\n",
       "        vertical-align: top;\n",
       "    }\n",
       "\n",
       "    .dataframe thead th {\n",
       "        text-align: right;\n",
       "    }\n",
       "</style>\n",
       "<table border=\"1\" class=\"dataframe\">\n",
       "  <thead>\n",
       "    <tr style=\"text-align: right;\">\n",
       "      <th></th>\n",
       "      <th>name</th>\n",
       "      <th>label</th>\n",
       "      <th>type</th>\n",
       "      <th>id</th>\n",
       "    </tr>\n",
       "  </thead>\n",
       "  <tbody>\n",
       "    <tr>\n",
       "      <th>0</th>\n",
       "      <td>PERSONALIA</td>\n",
       "      <td>Information type category</td>\n",
       "      <td>GDPR.INFORMATION_TYPE_CATEGORY</td>\n",
       "      <td>GDPR.INFORMATION_TYPE_CATEGORY.PERSONALIA</td>\n",
       "    </tr>\n",
       "    <tr>\n",
       "      <th>1</th>\n",
       "      <td>ARBEIDSFORHOLD</td>\n",
       "      <td>Information type category</td>\n",
       "      <td>GDPR.INFORMATION_TYPE_CATEGORY</td>\n",
       "      <td>GDPR.INFORMATION_TYPE_CATEGORY.ARBEIDSFORHOLD</td>\n",
       "    </tr>\n",
       "    <tr>\n",
       "      <th>6</th>\n",
       "      <td>KONTAKTOPPLYSNINGER</td>\n",
       "      <td>Information type category</td>\n",
       "      <td>GDPR.INFORMATION_TYPE_CATEGORY</td>\n",
       "      <td>GDPR.INFORMATION_TYPE_CATEGORY.KONTAKTOPPLYSNI...</td>\n",
       "    </tr>\n",
       "    <tr>\n",
       "      <th>9</th>\n",
       "      <td>FAMILIERELASJONER</td>\n",
       "      <td>Information type category</td>\n",
       "      <td>GDPR.INFORMATION_TYPE_CATEGORY</td>\n",
       "      <td>GDPR.INFORMATION_TYPE_CATEGORY.FAMILIERELASJONER</td>\n",
       "    </tr>\n",
       "    <tr>\n",
       "      <th>16</th>\n",
       "      <td>FOLKETRYGD</td>\n",
       "      <td>Information type category</td>\n",
       "      <td>GDPR.INFORMATION_TYPE_CATEGORY</td>\n",
       "      <td>GDPR.INFORMATION_TYPE_CATEGORY.FOLKETRYGD</td>\n",
       "    </tr>\n",
       "  </tbody>\n",
       "</table>\n",
       "</div>"
      ],
      "text/plain": [
       "                   name                      label  \\\n",
       "0            PERSONALIA  Information type category   \n",
       "1        ARBEIDSFORHOLD  Information type category   \n",
       "6   KONTAKTOPPLYSNINGER  Information type category   \n",
       "9     FAMILIERELASJONER  Information type category   \n",
       "16           FOLKETRYGD  Information type category   \n",
       "\n",
       "                              type  \\\n",
       "0   GDPR.INFORMATION_TYPE_CATEGORY   \n",
       "1   GDPR.INFORMATION_TYPE_CATEGORY   \n",
       "6   GDPR.INFORMATION_TYPE_CATEGORY   \n",
       "9   GDPR.INFORMATION_TYPE_CATEGORY   \n",
       "16  GDPR.INFORMATION_TYPE_CATEGORY   \n",
       "\n",
       "                                                   id  \n",
       "0           GDPR.INFORMATION_TYPE_CATEGORY.PERSONALIA  \n",
       "1       GDPR.INFORMATION_TYPE_CATEGORY.ARBEIDSFORHOLD  \n",
       "6   GDPR.INFORMATION_TYPE_CATEGORY.KONTAKTOPPLYSNI...  \n",
       "9    GDPR.INFORMATION_TYPE_CATEGORY.FAMILIERELASJONER  \n",
       "16          GDPR.INFORMATION_TYPE_CATEGORY.FOLKETRYGD  "
      ]
     },
     "execution_count": 361,
     "metadata": {},
     "output_type": "execute_result"
    }
   ],
   "source": [
    "sheet=xls.sheet_names[3]\n",
    "df_categories = pd.read_excel(xls, sheet, encoding='latin1')\n",
    "df_categories = df_categories[['categories']]\n",
    "df_categories.columns=['name']\n",
    "df_categories['name'] = df_categories['name'].apply(lambda x: x.strip().upper())\n",
    "df_categories = df_categories.append({'name': 'NOT AVAILABLE'}, ignore_index=True).drop_duplicates()\n",
    "df_categories['label'] = 'Information type category'\n",
    "df_categories['type'] = 'GDPR.INFORMATION_TYPE_CATEGORY'\n",
    "df_categories['id'] = df_categories.apply(get_id, axis=1)\n",
    "df_categories.head()"
   ]
  },
  {
   "cell_type": "code",
   "execution_count": 362,
   "metadata": {},
   "outputs": [],
   "source": [
    "for i, row in df_categories.iterrows():\n",
    "    index = index + 1\n",
    "    jsonb = row.to_json()\n",
    "    insert_query = f\"insert into tbl_node (prop) values ('{jsonb}')\"\n",
    "    cur.execute(insert_query, (jsonb,))\n",
    "    \n",
    "conn.commit()"
   ]
  },
  {
   "cell_type": "markdown",
   "metadata": {},
   "source": [
    "### Nodes"
   ]
  },
  {
   "cell_type": "code",
   "execution_count": 363,
   "metadata": {},
   "outputs": [
    {
     "data": {
      "text/html": [
       "<div>\n",
       "<style scoped>\n",
       "    .dataframe tbody tr th:only-of-type {\n",
       "        vertical-align: middle;\n",
       "    }\n",
       "\n",
       "    .dataframe tbody tr th {\n",
       "        vertical-align: top;\n",
       "    }\n",
       "\n",
       "    .dataframe thead th {\n",
       "        text-align: right;\n",
       "    }\n",
       "</style>\n",
       "<table border=\"1\" class=\"dataframe\">\n",
       "  <thead>\n",
       "    <tr style=\"text-align: right;\">\n",
       "      <th></th>\n",
       "      <th>id</th>\n",
       "      <th>guid</th>\n",
       "      <th>prop</th>\n",
       "      <th>created</th>\n",
       "      <th>name</th>\n",
       "      <th>type</th>\n",
       "    </tr>\n",
       "  </thead>\n",
       "  <tbody>\n",
       "    <tr>\n",
       "      <th>0</th>\n",
       "      <td>380</td>\n",
       "      <td>d122642f-261a-4cba-a671-0e340c0a10d9</td>\n",
       "      <td>{'id': 'GDPR.PROCESSING_ACTIVITY.ALDERSPENSJON...</td>\n",
       "      <td>2019-11-20 14:54:30.635553</td>\n",
       "      <td>ALDERSPENSJON</td>\n",
       "      <td>GDPR.PROCESSING_ACTIVITY</td>\n",
       "    </tr>\n",
       "    <tr>\n",
       "      <th>1</th>\n",
       "      <td>381</td>\n",
       "      <td>b617d778-376d-4f1b-b923-25f7427c9ffd</td>\n",
       "      <td>{'id': 'GDPR.PROCESSING_ACTIVITY.ARBEIDSAVKLAR...</td>\n",
       "      <td>2019-11-20 14:54:30.635553</td>\n",
       "      <td>ARBEIDSAVKLARINGSPENGER (AAP)</td>\n",
       "      <td>GDPR.PROCESSING_ACTIVITY</td>\n",
       "    </tr>\n",
       "    <tr>\n",
       "      <th>2</th>\n",
       "      <td>382</td>\n",
       "      <td>1ee33c7b-9fc5-4788-b4f0-6a9161fc4ae2</td>\n",
       "      <td>{'id': 'GDPR.PROCESSING_ACTIVITY.AVTALEFESTET ...</td>\n",
       "      <td>2019-11-20 14:54:30.635553</td>\n",
       "      <td>AVTALEFESTET PENSJON (AFP) FOR PRIVAT SEKTOR</td>\n",
       "      <td>GDPR.PROCESSING_ACTIVITY</td>\n",
       "    </tr>\n",
       "    <tr>\n",
       "      <th>3</th>\n",
       "      <td>383</td>\n",
       "      <td>2b0fe3b7-7747-4445-ba4d-01916f0918e9</td>\n",
       "      <td>{'id': 'GDPR.PROCESSING_ACTIVITY.AVTALEFESTET ...</td>\n",
       "      <td>2019-11-20 14:54:30.635553</td>\n",
       "      <td>AVTALEFESTET PENSJON (AFP) FOR STATLIG OG KOMM...</td>\n",
       "      <td>GDPR.PROCESSING_ACTIVITY</td>\n",
       "    </tr>\n",
       "    <tr>\n",
       "      <th>4</th>\n",
       "      <td>384</td>\n",
       "      <td>116dc406-b5be-44e9-b076-1fcc25766ab9</td>\n",
       "      <td>{'id': 'GDPR.PROCESSING_ACTIVITY.BARNEBIDRAG',...</td>\n",
       "      <td>2019-11-20 14:54:30.635553</td>\n",
       "      <td>BARNEBIDRAG</td>\n",
       "      <td>GDPR.PROCESSING_ACTIVITY</td>\n",
       "    </tr>\n",
       "  </tbody>\n",
       "</table>\n",
       "</div>"
      ],
      "text/plain": [
       "    id                                  guid  \\\n",
       "0  380  d122642f-261a-4cba-a671-0e340c0a10d9   \n",
       "1  381  b617d778-376d-4f1b-b923-25f7427c9ffd   \n",
       "2  382  1ee33c7b-9fc5-4788-b4f0-6a9161fc4ae2   \n",
       "3  383  2b0fe3b7-7747-4445-ba4d-01916f0918e9   \n",
       "4  384  116dc406-b5be-44e9-b076-1fcc25766ab9   \n",
       "\n",
       "                                                prop  \\\n",
       "0  {'id': 'GDPR.PROCESSING_ACTIVITY.ALDERSPENSJON...   \n",
       "1  {'id': 'GDPR.PROCESSING_ACTIVITY.ARBEIDSAVKLAR...   \n",
       "2  {'id': 'GDPR.PROCESSING_ACTIVITY.AVTALEFESTET ...   \n",
       "3  {'id': 'GDPR.PROCESSING_ACTIVITY.AVTALEFESTET ...   \n",
       "4  {'id': 'GDPR.PROCESSING_ACTIVITY.BARNEBIDRAG',...   \n",
       "\n",
       "                     created  \\\n",
       "0 2019-11-20 14:54:30.635553   \n",
       "1 2019-11-20 14:54:30.635553   \n",
       "2 2019-11-20 14:54:30.635553   \n",
       "3 2019-11-20 14:54:30.635553   \n",
       "4 2019-11-20 14:54:30.635553   \n",
       "\n",
       "                                                name                      type  \n",
       "0                                      ALDERSPENSJON  GDPR.PROCESSING_ACTIVITY  \n",
       "1                      ARBEIDSAVKLARINGSPENGER (AAP)  GDPR.PROCESSING_ACTIVITY  \n",
       "2       AVTALEFESTET PENSJON (AFP) FOR PRIVAT SEKTOR  GDPR.PROCESSING_ACTIVITY  \n",
       "3  AVTALEFESTET PENSJON (AFP) FOR STATLIG OG KOMM...  GDPR.PROCESSING_ACTIVITY  \n",
       "4                                        BARNEBIDRAG  GDPR.PROCESSING_ACTIVITY  "
      ]
     },
     "execution_count": 363,
     "metadata": {},
     "output_type": "execute_result"
    }
   ],
   "source": [
    "df_nodes = sqlio.read_sql_query(\"select * from tbl_node\", conn)\n",
    "df_nodes['name'] = df_nodes['prop'].apply(lambda x : x['name'])\n",
    "df_nodes['type'] = df_nodes['prop'].apply(lambda x : x['type'])\n",
    "df_nodes.head()"
   ]
  },
  {
   "cell_type": "markdown",
   "metadata": {},
   "source": [
    "### Edges"
   ]
  },
  {
   "cell_type": "code",
   "execution_count": 364,
   "metadata": {},
   "outputs": [
    {
     "data": {
      "text/html": [
       "<div>\n",
       "<style scoped>\n",
       "    .dataframe tbody tr th:only-of-type {\n",
       "        vertical-align: middle;\n",
       "    }\n",
       "\n",
       "    .dataframe tbody tr th {\n",
       "        vertical-align: top;\n",
       "    }\n",
       "\n",
       "    .dataframe thead th {\n",
       "        text-align: right;\n",
       "    }\n",
       "</style>\n",
       "<table border=\"1\" class=\"dataframe\">\n",
       "  <thead>\n",
       "    <tr style=\"text-align: right;\">\n",
       "      <th></th>\n",
       "      <th>source</th>\n",
       "      <th>target</th>\n",
       "    </tr>\n",
       "  </thead>\n",
       "  <tbody>\n",
       "    <tr>\n",
       "      <th>0</th>\n",
       "      <td>SIVILSTAND</td>\n",
       "      <td>PERSONALIA</td>\n",
       "    </tr>\n",
       "    <tr>\n",
       "      <th>1</th>\n",
       "      <td>ARBEIDSFORHOLD</td>\n",
       "      <td>ARBEIDSFORHOLD</td>\n",
       "    </tr>\n",
       "    <tr>\n",
       "      <th>2</th>\n",
       "      <td>KJØNN</td>\n",
       "      <td>PERSONALIA</td>\n",
       "    </tr>\n",
       "    <tr>\n",
       "      <th>3</th>\n",
       "      <td>NAVN</td>\n",
       "      <td>PERSONALIA</td>\n",
       "    </tr>\n",
       "    <tr>\n",
       "      <th>4</th>\n",
       "      <td>FØDSELSDATO</td>\n",
       "      <td>PERSONALIA</td>\n",
       "    </tr>\n",
       "  </tbody>\n",
       "</table>\n",
       "</div>"
      ],
      "text/plain": [
       "           source          target\n",
       "0      SIVILSTAND      PERSONALIA\n",
       "1  ARBEIDSFORHOLD  ARBEIDSFORHOLD\n",
       "2           KJØNN      PERSONALIA\n",
       "3            NAVN      PERSONALIA\n",
       "4     FØDSELSDATO      PERSONALIA"
      ]
     },
     "execution_count": 364,
     "metadata": {},
     "output_type": "execute_result"
    }
   ],
   "source": [
    "sheet=xls.sheet_names[3]\n",
    "df_edges = pd.read_excel(xls, sheet, encoding='latin1')\n",
    "df_edges = df_edges[['title', 'categories']].drop_duplicates()\n",
    "df_edges.columns = ['source', 'target']\n",
    "df_edges['source'] = df_edges['source'].apply(lambda x: x.strip().upper())\n",
    "df_edges['target'] = df_edges['target'].apply(lambda x: x.strip().upper())\n",
    "df_edges.drop_duplicates()\n",
    "\n",
    "df_edges.head()"
   ]
  },
  {
   "cell_type": "code",
   "execution_count": 368,
   "metadata": {},
   "outputs": [],
   "source": [
    "conn.commit()"
   ]
  },
  {
   "cell_type": "code",
   "execution_count": 369,
   "metadata": {},
   "outputs": [
    {
     "data": {
      "text/plain": [
       "237    617\n",
       "Name: id, dtype: int64"
      ]
     },
     "execution_count": 369,
     "metadata": {},
     "output_type": "execute_result"
    }
   ],
   "source": [
    "df_nodes.loc[((df_nodes['name'] == row['source']) & (df_nodes['type'] == 'GDPR.INFORMATION_TYPE')), 'id']"
   ]
  },
  {
   "cell_type": "code",
   "execution_count": 370,
   "metadata": {},
   "outputs": [],
   "source": [
    "cur.execute(\"delete from tbl_edge\")\n",
    "conn.commit()\n",
    "\n",
    "for index, row in df_edges.iterrows():\n",
    "    df_nodes.loc[((df_nodes['name'] == row['source']) & (df_nodes['type'] == 'GDPR.INFORMATION_TYPE')), 'id']\n",
    "    source_id = df_nodes.loc[((df_nodes['name'] == row['source']) & (df_nodes['type'] == 'GDPR.INFORMATION_TYPE')), 'id'].item()\n",
    "    target_id = df_nodes.loc[((df_nodes['name'] == row['target']) & (df_nodes['type'] == 'GDPR.INFORMATION_TYPE_CATEGORY')), 'id'].item()\n",
    "    cur.execute(f\"insert into tbl_edge (n1,n2,prop) values ({source_id},{target_id},array[5]);\")\n",
    "    \n",
    "conn.commit()"
   ]
  },
  {
   "cell_type": "code",
   "execution_count": 373,
   "metadata": {},
   "outputs": [
    {
     "data": {
      "text/html": [
       "<div>\n",
       "<style scoped>\n",
       "    .dataframe tbody tr th:only-of-type {\n",
       "        vertical-align: middle;\n",
       "    }\n",
       "\n",
       "    .dataframe tbody tr th {\n",
       "        vertical-align: top;\n",
       "    }\n",
       "\n",
       "    .dataframe thead th {\n",
       "        text-align: right;\n",
       "    }\n",
       "</style>\n",
       "<table border=\"1\" class=\"dataframe\">\n",
       "  <thead>\n",
       "    <tr style=\"text-align: right;\">\n",
       "      <th></th>\n",
       "      <th>source</th>\n",
       "      <th>target</th>\n",
       "    </tr>\n",
       "  </thead>\n",
       "  <tbody>\n",
       "    <tr>\n",
       "      <th>0</th>\n",
       "      <td>PERSONALIA</td>\n",
       "      <td>SIVILSTAND</td>\n",
       "    </tr>\n",
       "    <tr>\n",
       "      <th>1</th>\n",
       "      <td>ARBEIDSFORHOLD</td>\n",
       "      <td>ARBEIDSFORHOLD</td>\n",
       "    </tr>\n",
       "    <tr>\n",
       "      <th>2</th>\n",
       "      <td>PERSONALIA</td>\n",
       "      <td>KJØNN</td>\n",
       "    </tr>\n",
       "    <tr>\n",
       "      <th>3</th>\n",
       "      <td>PERSONALIA</td>\n",
       "      <td>NAVN</td>\n",
       "    </tr>\n",
       "    <tr>\n",
       "      <th>4</th>\n",
       "      <td>PERSONALIA</td>\n",
       "      <td>FØDSELSDATO</td>\n",
       "    </tr>\n",
       "  </tbody>\n",
       "</table>\n",
       "</div>"
      ],
      "text/plain": [
       "           source          target\n",
       "0      PERSONALIA      SIVILSTAND\n",
       "1  ARBEIDSFORHOLD  ARBEIDSFORHOLD\n",
       "2      PERSONALIA           KJØNN\n",
       "3      PERSONALIA            NAVN\n",
       "4      PERSONALIA     FØDSELSDATO"
      ]
     },
     "execution_count": 373,
     "metadata": {},
     "output_type": "execute_result"
    }
   ],
   "source": [
    "df_edges = pd.read_excel(xls, sheet, encoding='latin1')\n",
    "df_edges = df_edges[['categories', 'title']].drop_duplicates()\n",
    "df_edges.columns = ['source', 'target']\n",
    "df_edges['source'] = df_edges['source'].apply(lambda x: x.strip().upper())\n",
    "df_edges['target'] = df_edges['target'].apply(lambda x: x.strip().upper())\n",
    "df_edges.drop_duplicates()\n",
    "\n",
    "df_edges.head()"
   ]
  },
  {
   "cell_type": "code",
   "execution_count": 374,
   "metadata": {},
   "outputs": [],
   "source": [
    "for index, row in df_edges.iterrows():\n",
    "    df_nodes.loc[((df_nodes['name'] == row['source']) & (df_nodes['type'] == 'GDPR.INFORMATION_TYPE')), 'id']\n",
    "    source_id = df_nodes.loc[((df_nodes['name'] == row['source']) & (df_nodes['type'] == 'GDPR.INFORMATION_TYPE_CATEGORY')), 'id'].item()\n",
    "    target_id = df_nodes.loc[((df_nodes['name'] == row['target']) & (df_nodes['type'] == 'GDPR.INFORMATION_TYPE')), 'id'].item()\n",
    "    cur.execute(f\"insert into tbl_edge (n1,n2,prop) values ({source_id},{target_id},array[6]);\")\n",
    "    \n",
    "conn.commit()\n"
   ]
  },
  {
   "cell_type": "code",
   "execution_count": 375,
   "metadata": {},
   "outputs": [
    {
     "data": {
      "text/html": [
       "<div>\n",
       "<style scoped>\n",
       "    .dataframe tbody tr th:only-of-type {\n",
       "        vertical-align: middle;\n",
       "    }\n",
       "\n",
       "    .dataframe tbody tr th {\n",
       "        vertical-align: top;\n",
       "    }\n",
       "\n",
       "    .dataframe thead th {\n",
       "        text-align: right;\n",
       "    }\n",
       "</style>\n",
       "<table border=\"1\" class=\"dataframe\">\n",
       "  <thead>\n",
       "    <tr style=\"text-align: right;\">\n",
       "      <th></th>\n",
       "      <th>n1</th>\n",
       "      <th>n2</th>\n",
       "      <th>guid</th>\n",
       "      <th>prop</th>\n",
       "      <th>created</th>\n",
       "    </tr>\n",
       "  </thead>\n",
       "  <tbody>\n",
       "    <tr>\n",
       "      <th>0</th>\n",
       "      <td>617</td>\n",
       "      <td>638</td>\n",
       "      <td>13e8f869-c0fa-4792-a50f-5eddda7c0673</td>\n",
       "      <td>[5]</td>\n",
       "      <td>2019-11-20 15:04:48.116982</td>\n",
       "    </tr>\n",
       "    <tr>\n",
       "      <th>1</th>\n",
       "      <td>618</td>\n",
       "      <td>639</td>\n",
       "      <td>2af01a2a-e711-4429-89a9-375b52767ce8</td>\n",
       "      <td>[5]</td>\n",
       "      <td>2019-11-20 15:04:48.116982</td>\n",
       "    </tr>\n",
       "    <tr>\n",
       "      <th>2</th>\n",
       "      <td>619</td>\n",
       "      <td>638</td>\n",
       "      <td>1b8d3e4d-f9c1-4cbc-b7f8-6ca7cab780fe</td>\n",
       "      <td>[5]</td>\n",
       "      <td>2019-11-20 15:04:48.116982</td>\n",
       "    </tr>\n",
       "    <tr>\n",
       "      <th>3</th>\n",
       "      <td>620</td>\n",
       "      <td>638</td>\n",
       "      <td>85969089-295c-4f19-86ea-22cbc2699bf6</td>\n",
       "      <td>[5]</td>\n",
       "      <td>2019-11-20 15:04:48.116982</td>\n",
       "    </tr>\n",
       "    <tr>\n",
       "      <th>4</th>\n",
       "      <td>621</td>\n",
       "      <td>638</td>\n",
       "      <td>f923c740-6517-4c68-a532-b6b05bb7df33</td>\n",
       "      <td>[5]</td>\n",
       "      <td>2019-11-20 15:04:48.116982</td>\n",
       "    </tr>\n",
       "  </tbody>\n",
       "</table>\n",
       "</div>"
      ],
      "text/plain": [
       "    n1   n2                                  guid prop  \\\n",
       "0  617  638  13e8f869-c0fa-4792-a50f-5eddda7c0673  [5]   \n",
       "1  618  639  2af01a2a-e711-4429-89a9-375b52767ce8  [5]   \n",
       "2  619  638  1b8d3e4d-f9c1-4cbc-b7f8-6ca7cab780fe  [5]   \n",
       "3  620  638  85969089-295c-4f19-86ea-22cbc2699bf6  [5]   \n",
       "4  621  638  f923c740-6517-4c68-a532-b6b05bb7df33  [5]   \n",
       "\n",
       "                     created  \n",
       "0 2019-11-20 15:04:48.116982  \n",
       "1 2019-11-20 15:04:48.116982  \n",
       "2 2019-11-20 15:04:48.116982  \n",
       "3 2019-11-20 15:04:48.116982  \n",
       "4 2019-11-20 15:04:48.116982  "
      ]
     },
     "execution_count": 375,
     "metadata": {},
     "output_type": "execute_result"
    }
   ],
   "source": [
    "sql = \"select * from tbl_edge\"\n",
    "df = sqlio.read_sql_query(sql, conn)\n",
    "df.head()"
   ]
  },
  {
   "cell_type": "code",
   "execution_count": 376,
   "metadata": {},
   "outputs": [],
   "source": [
    "conn.commit()"
   ]
  },
  {
   "cell_type": "code",
   "execution_count": 377,
   "metadata": {},
   "outputs": [],
   "source": [
    "cur.execute(\"DROP FUNCTION graph_search1(integer,integer,bigint)\")"
   ]
  },
  {
   "cell_type": "code",
   "execution_count": 378,
   "metadata": {},
   "outputs": [],
   "source": [
    "sql = \"\"\"\n",
    "create or replace function graph_search1(      \n",
    "  IN i_root int,                       -- The node that the search is based on        \n",
    "  IN i_depth int  default 99999,       -- the tier to search (the depth limit)      \n",
    "  IN i_limit int8 default 2000000000,  -- limit the number of records returned for each tier      \n",
    "  OUT o_path int[],                    -- output: path, an array of IDs      \n",
    "  OUT o_point1 int,                    -- output: point 1 ID      \n",
    "  OUT o_point2 int,                    -- output: point 2 ID      \n",
    "  OUT o_link_prop int2[],              -- output: the connection property between the two current points      \n",
    "  OUT o_link_prop_all text,            -- output: the connection property from the starting node to the current node      \n",
    "  OUT o_depth int                      -- output: current depth (tier)      \n",
    ") returns setof record as \n",
    "$$\n",
    "      \n",
    "declare      \n",
    "  sql text;      \n",
    "begin      \n",
    "sql := format($_$      \n",
    "WITH RECURSIVE search_graph(        \n",
    "  n1,     -- point 1        \n",
    "  n2,     -- point 2        \n",
    "  prop,   -- current edge property      \n",
    "  all_prop,  -- properties of all edges  \n",
    "  depth,  -- current depth, starting from 1         \n",
    "  path    -- path, stored as an array         \n",
    ") AS (        \n",
    "        select n1,n2,prop,all_prop,depth,path from (        \n",
    "        SELECT                               -- ROOT node query        \n",
    "          g.n1,                              -- point 1        \n",
    "          g.n2,                              -- point 2        \n",
    "          g.prop,                            -- edge property        \n",
    "      g.prop::text as all_prop,          -- properties of all edges  \n",
    "          1 depth,                           -- initial depth=1        \n",
    "          ARRAY[g.n1, g.n2] path             -- initial path        \n",
    "        FROM tbl_edge AS g         \n",
    "        WHERE         \n",
    "          n1 = %s                            -- ROOT node=?        \n",
    "          limit %s                           -- How many records are limited at each tier?        \n",
    "        ) t        \n",
    "      UNION ALL        \n",
    "        select n1,n2,prop,all_prop,depth,path from (        \n",
    "        SELECT                               -- recursive clause         \n",
    "          g.n1,                              -- point 1        \n",
    "          g.n2,                              -- point 2        \n",
    "          g.prop,                            -- edge property     \n",
    "      sg.all_prop || g.prop::text as all_prop,    -- properties of all edges  \n",
    "          sg.depth + 1 depth,                   -- depth +1        \n",
    "          sg.path || g.n2 path                 -- Add a new point to the path        \n",
    "        FROM tbl_edge AS g, search_graph AS sg    -- circular INNER JOIN        \n",
    "        WHERE         \n",
    "          g.n1 = sg.n2                       -- recursive JOIN condition        \n",
    "          AND (g.n2 <> ALL(sg.path))                      -- Prevent loop, determine whether it is a loop and judge if the new point is already in the previous path   \n",
    "          AND sg.depth <= %s                 -- search depth =?          \n",
    "          limit %s                           -- How many records are limited at each tier?       \n",
    "        ) t        \n",
    ")        \n",
    "SELECT path as o_path, n1 as o_point1, n2 as o_point2, prop as o_link_prop, all_prop as o_link_prop_all, depth as o_depth      \n",
    "FROM search_graph;                           -- query a recursive table. You can add LIMIT output or use a cursor       \n",
    "$_$, i_root, i_limit, i_depth, i_limit      \n",
    ");      \n",
    "      \n",
    "return query execute sql;      \n",
    "      \n",
    "end;      \n",
    "\n",
    "$$\n",
    " language plpgsql strict;   \n",
    "\"\"\"\n",
    "\n",
    "cur.execute(sql)"
   ]
  },
  {
   "cell_type": "code",
   "execution_count": 379,
   "metadata": {},
   "outputs": [],
   "source": [
    "conn.commit()"
   ]
  },
  {
   "cell_type": "code",
   "execution_count": 384,
   "metadata": {},
   "outputs": [
    {
     "name": "stdout",
     "output_type": "stream",
     "text": [
      "CPU times: user 2.69 ms, sys: 0 ns, total: 2.69 ms\n",
      "Wall time: 3.87 ms\n"
     ]
    }
   ],
   "source": [
    "%%time\n",
    "sql = \"select * from graph_search1(620)\"\n",
    "df = sqlio.read_sql_query(sql, conn)"
   ]
  },
  {
   "cell_type": "code",
   "execution_count": 387,
   "metadata": {},
   "outputs": [],
   "source": [
    "sql = \"select * from graph_search1(620)\"\n",
    "df = sqlio.read_sql_query(sql, conn)"
   ]
  },
  {
   "cell_type": "code",
   "execution_count": 388,
   "metadata": {},
   "outputs": [
    {
     "data": {
      "text/html": [
       "<div>\n",
       "<style scoped>\n",
       "    .dataframe tbody tr th:only-of-type {\n",
       "        vertical-align: middle;\n",
       "    }\n",
       "\n",
       "    .dataframe tbody tr th {\n",
       "        vertical-align: top;\n",
       "    }\n",
       "\n",
       "    .dataframe thead th {\n",
       "        text-align: right;\n",
       "    }\n",
       "</style>\n",
       "<table border=\"1\" class=\"dataframe\">\n",
       "  <thead>\n",
       "    <tr style=\"text-align: right;\">\n",
       "      <th></th>\n",
       "      <th>o_path</th>\n",
       "      <th>o_point1</th>\n",
       "      <th>o_point2</th>\n",
       "      <th>o_link_prop</th>\n",
       "      <th>o_link_prop_all</th>\n",
       "      <th>o_depth</th>\n",
       "    </tr>\n",
       "  </thead>\n",
       "  <tbody>\n",
       "    <tr>\n",
       "      <th>0</th>\n",
       "      <td>[620, 638]</td>\n",
       "      <td>620</td>\n",
       "      <td>638</td>\n",
       "      <td>[5]</td>\n",
       "      <td>{5}</td>\n",
       "      <td>1</td>\n",
       "    </tr>\n",
       "    <tr>\n",
       "      <th>1</th>\n",
       "      <td>[620, 638, 622]</td>\n",
       "      <td>638</td>\n",
       "      <td>622</td>\n",
       "      <td>[6]</td>\n",
       "      <td>{5}{6}</td>\n",
       "      <td>2</td>\n",
       "    </tr>\n",
       "    <tr>\n",
       "      <th>2</th>\n",
       "      <td>[620, 638, 621]</td>\n",
       "      <td>638</td>\n",
       "      <td>621</td>\n",
       "      <td>[6]</td>\n",
       "      <td>{5}{6}</td>\n",
       "      <td>2</td>\n",
       "    </tr>\n",
       "    <tr>\n",
       "      <th>3</th>\n",
       "      <td>[620, 638, 619]</td>\n",
       "      <td>638</td>\n",
       "      <td>619</td>\n",
       "      <td>[6]</td>\n",
       "      <td>{5}{6}</td>\n",
       "      <td>2</td>\n",
       "    </tr>\n",
       "    <tr>\n",
       "      <th>4</th>\n",
       "      <td>[620, 638, 617]</td>\n",
       "      <td>638</td>\n",
       "      <td>617</td>\n",
       "      <td>[6]</td>\n",
       "      <td>{5}{6}</td>\n",
       "      <td>2</td>\n",
       "    </tr>\n",
       "  </tbody>\n",
       "</table>\n",
       "</div>"
      ],
      "text/plain": [
       "            o_path  o_point1  o_point2 o_link_prop o_link_prop_all  o_depth\n",
       "0       [620, 638]       620       638         [5]             {5}        1\n",
       "1  [620, 638, 622]       638       622         [6]          {5}{6}        2\n",
       "2  [620, 638, 621]       638       621         [6]          {5}{6}        2\n",
       "3  [620, 638, 619]       638       619         [6]          {5}{6}        2\n",
       "4  [620, 638, 617]       638       617         [6]          {5}{6}        2"
      ]
     },
     "execution_count": 388,
     "metadata": {},
     "output_type": "execute_result"
    }
   ],
   "source": [
    "df"
   ]
  },
  {
   "cell_type": "code",
   "execution_count": 389,
   "metadata": {},
   "outputs": [
    {
     "data": {
      "text/html": [
       "<div>\n",
       "<style scoped>\n",
       "    .dataframe tbody tr th:only-of-type {\n",
       "        vertical-align: middle;\n",
       "    }\n",
       "\n",
       "    .dataframe tbody tr th {\n",
       "        vertical-align: top;\n",
       "    }\n",
       "\n",
       "    .dataframe thead th {\n",
       "        text-align: right;\n",
       "    }\n",
       "</style>\n",
       "<table border=\"1\" class=\"dataframe\">\n",
       "  <thead>\n",
       "    <tr style=\"text-align: right;\">\n",
       "      <th></th>\n",
       "      <th>name</th>\n",
       "      <th>source</th>\n",
       "      <th>target</th>\n",
       "      <th>target_node_id</th>\n",
       "      <th>source_node_id</th>\n",
       "      <th>weight</th>\n",
       "    </tr>\n",
       "  </thead>\n",
       "  <tbody>\n",
       "    <tr>\n",
       "      <th>0</th>\n",
       "      <td>belongs to category</td>\n",
       "      <td>NAVN</td>\n",
       "      <td>PERSONALIA</td>\n",
       "      <td>638</td>\n",
       "      <td>620</td>\n",
       "      <td>1</td>\n",
       "    </tr>\n",
       "    <tr>\n",
       "      <th>1</th>\n",
       "      <td>contains concept</td>\n",
       "      <td>PERSONALIA</td>\n",
       "      <td>FØDSELSNUMMER</td>\n",
       "      <td>622</td>\n",
       "      <td>638</td>\n",
       "      <td>2</td>\n",
       "    </tr>\n",
       "    <tr>\n",
       "      <th>2</th>\n",
       "      <td>contains concept</td>\n",
       "      <td>PERSONALIA</td>\n",
       "      <td>FØDSELSDATO</td>\n",
       "      <td>621</td>\n",
       "      <td>638</td>\n",
       "      <td>2</td>\n",
       "    </tr>\n",
       "    <tr>\n",
       "      <th>3</th>\n",
       "      <td>contains concept</td>\n",
       "      <td>PERSONALIA</td>\n",
       "      <td>KJØNN</td>\n",
       "      <td>619</td>\n",
       "      <td>638</td>\n",
       "      <td>2</td>\n",
       "    </tr>\n",
       "    <tr>\n",
       "      <th>4</th>\n",
       "      <td>contains concept</td>\n",
       "      <td>PERSONALIA</td>\n",
       "      <td>SIVILSTAND</td>\n",
       "      <td>617</td>\n",
       "      <td>638</td>\n",
       "      <td>2</td>\n",
       "    </tr>\n",
       "  </tbody>\n",
       "</table>\n",
       "</div>"
      ],
      "text/plain": [
       "                  name      source         target  target_node_id  \\\n",
       "0  belongs to category        NAVN     PERSONALIA             638   \n",
       "1     contains concept  PERSONALIA  FØDSELSNUMMER             622   \n",
       "2     contains concept  PERSONALIA    FØDSELSDATO             621   \n",
       "3     contains concept  PERSONALIA          KJØNN             619   \n",
       "4     contains concept  PERSONALIA     SIVILSTAND             617   \n",
       "\n",
       "   source_node_id  weight  \n",
       "0             620       1  \n",
       "1             638       2  \n",
       "2             638       2  \n",
       "3             638       2  \n",
       "4             638       2  "
      ]
     },
     "execution_count": 389,
     "metadata": {},
     "output_type": "execute_result"
    }
   ],
   "source": [
    "df_edgelist=df[['o_point1','o_point2','o_link_prop','o_depth']].copy()\n",
    "df_edgelist.columns=['source','target','id','weight']\n",
    "df_edgelist['id'] = df_edgelist['id'].apply(lambda x: x[0])\n",
    "df_edgelist = pd.merge(df_edgelist, df_links, on='id', how='left')\n",
    "df_edgelist = pd.merge(df_edgelist, df_nodes[['id', 'name']], left_on='source', right_on='id')\n",
    "df_edgelist = pd.merge(df_edgelist, df_nodes[['id', 'name']], left_on='target', right_on='id')\n",
    "df_edgelist = df_edgelist[['prop', 'name_x', 'name_y','id','id_y', 'weight']]\n",
    "df_edgelist.columns = ['name', 'source', 'target','target_node_id','source_node_id', 'weight']\n",
    "df_edgelist"
   ]
  },
  {
   "cell_type": "code",
   "execution_count": 390,
   "metadata": {},
   "outputs": [],
   "source": [
    "#!pip install nx_altair"
   ]
  },
  {
   "cell_type": "code",
   "execution_count": 391,
   "metadata": {},
   "outputs": [],
   "source": [
    "import altair as alt\n",
    "alt.renderers.enable('notebook')\n",
    "alt.themes.enable('opaque')\n",
    "import networkx as nx\n",
    "import nx_altair as nxa\n",
    "import numpy as np\n",
    "\n",
    "G = nx.from_pandas_edgelist(df_edgelist, 'source', 'target', ['name','target_node_id','source_node_id','weight'])\n",
    "pos = nx.spring_layout(G)"
   ]
  },
  {
   "cell_type": "code",
   "execution_count": 392,
   "metadata": {},
   "outputs": [
    {
     "data": {
      "image/png": "[encoded data removed]",
      "text/plain": [
       "<Figure size 432x288 with 1 Axes>"
      ]
     },
     "metadata": {},
     "output_type": "display_data"
    }
   ],
   "source": [
    "nx.draw_networkx(\n",
    "    G=G,\n",
    "    pos=pos\n",
    ")"
   ]
  },
  {
   "cell_type": "code",
   "execution_count": 393,
   "metadata": {},
   "outputs": [
    {
     "data": {
      "application/javascript": [
       "const spec = {\"config\": {\"background\": \"white\", \"view\": {\"width\": 400, \"height\": 300}, \"mark\": {\"tooltip\": null}, \"axis\": {\"domain\": false, \"grid\": false, \"labels\": false, \"ticks\": false}}, \"layer\": [{\"data\": {\"name\": \"data-b472d9420a8c46ca1b56e82b1288f34c\"}, \"mark\": {\"type\": \"line\", \"color\": \"black\", \"opacity\": 1}, \"encoding\": {\"detail\": {\"type\": \"quantitative\", \"field\": \"edge\"}, \"size\": {\"type\": \"nominal\", \"field\": \"weight\", \"legend\": null}, \"x\": {\"type\": \"quantitative\", \"axis\": {\"title\": \"\"}, \"field\": \"x\"}, \"y\": {\"type\": \"quantitative\", \"axis\": {\"title\": \"\"}, \"field\": \"y\"}}, \"selection\": {\"selector005\": {\"type\": \"interval\", \"bind\": \"scales\", \"encodings\": [\"x\", \"y\"]}}}, {\"data\": {\"name\": \"data-33dda79142296a6f9287c6c368b05f2a\"}, \"mark\": {\"type\": \"point\", \"fill\": \"id:N\", \"opacity\": 1, \"size\": 300}, \"encoding\": {\"fill\": {\"type\": \"nominal\", \"field\": \"id\", \"scale\": {\"scheme\": \"viridis\"}}, \"tooltip\": [{\"type\": \"nominal\", \"field\": \"weight\"}], \"x\": {\"type\": \"quantitative\", \"field\": \"x\"}, \"y\": {\"type\": \"quantitative\", \"field\": \"y\"}}}], \"$schema\": \"https://vega.github.io/schema/vega-lite/v3.4.0.json\", \"datasets\": {\"data-b472d9420a8c46ca1b56e82b1288f34c\": [{\"x\": -1.0, \"pair\": [\"NAVN\", \"PERSONALIA\"], \"weight\": 1, \"y\": -0.43120517831839494, \"edge\": 0, \"name\": \"belongs to category\", \"target_node_id\": 638, \"source_node_id\": 620, \"target\": \"PERSONALIA\", \"source\": \"NAVN\"}, {\"x\": 0.05063996753158958, \"pair\": [\"NAVN\", \"PERSONALIA\"], \"weight\": 1, \"y\": 0.02078543003543922, \"edge\": 0, \"name\": \"belongs to category\", \"target_node_id\": 638, \"source_node_id\": 620, \"target\": \"PERSONALIA\", \"source\": \"NAVN\"}, {\"x\": 0.05063996753158958, \"pair\": [\"PERSONALIA\", \"F\\u00d8DSELSNUMMER\"], \"weight\": 2, \"y\": 0.02078543003543922, \"edge\": 1, \"name\": \"contains concept\", \"target_node_id\": 622, \"source_node_id\": 638, \"target\": \"F\\u00d8DSELSNUMMER\", \"source\": \"PERSONALIA\"}, {\"x\": 0.10884804890607153, \"pair\": [\"PERSONALIA\", \"F\\u00d8DSELSNUMMER\"], \"weight\": 2, \"y\": -0.8032743483408393, \"edge\": 1, \"name\": \"contains concept\", \"target_node_id\": 622, \"source_node_id\": 638, \"target\": \"F\\u00d8DSELSNUMMER\", \"source\": \"PERSONALIA\"}, {\"x\": 0.05063996753158958, \"pair\": [\"PERSONALIA\", \"F\\u00d8DSELSDATO\"], \"weight\": 2, \"y\": 0.02078543003543922, \"edge\": 2, \"name\": \"contains concept\", \"target_node_id\": 621, \"source_node_id\": 638, \"target\": \"F\\u00d8DSELSDATO\", \"source\": \"PERSONALIA\"}, {\"x\": 0.8751315063464603, \"pair\": [\"PERSONALIA\", \"F\\u00d8DSELSDATO\"], \"weight\": 2, \"y\": -0.16733104386468142, \"edge\": 2, \"name\": \"contains concept\", \"target_node_id\": 621, \"source_node_id\": 638, \"target\": \"F\\u00d8DSELSDATO\", \"source\": \"PERSONALIA\"}, {\"x\": 0.05063996753158958, \"pair\": [\"PERSONALIA\", \"KJ\\u00d8NN\"], \"weight\": 2, \"y\": 0.02078543003543922, \"edge\": 3, \"name\": \"contains concept\", \"target_node_id\": 619, \"source_node_id\": 638, \"target\": \"KJ\\u00d8NN\", \"source\": \"PERSONALIA\"}, {\"x\": 0.476125232071038, \"pair\": [\"PERSONALIA\", \"KJ\\u00d8NN\"], \"weight\": 2, \"y\": 0.751195958807033, \"edge\": 3, \"name\": \"contains concept\", \"target_node_id\": 619, \"source_node_id\": 638, \"target\": \"KJ\\u00d8NN\", \"source\": \"PERSONALIA\"}, {\"x\": 0.05063996753158958, \"pair\": [\"PERSONALIA\", \"SIVILSTAND\"], \"weight\": 2, \"y\": 0.02078543003543922, \"edge\": 4, \"name\": \"contains concept\", \"target_node_id\": 617, \"source_node_id\": 638, \"target\": \"SIVILSTAND\", \"source\": \"PERSONALIA\"}, {\"x\": -0.5107447548551598, \"pair\": [\"PERSONALIA\", \"SIVILSTAND\"], \"weight\": 2, \"y\": 0.6298291816814434, \"edge\": 4, \"name\": \"contains concept\", \"target_node_id\": 617, \"source_node_id\": 638, \"target\": \"SIVILSTAND\", \"source\": \"PERSONALIA\"}], \"data-33dda79142296a6f9287c6c368b05f2a\": [{\"y\": -0.43120517831839494, \"x\": -1.0}, {\"y\": 0.02078543003543922, \"x\": 0.05063996753158958}, {\"y\": -0.8032743483408393, \"x\": 0.10884804890607153}, {\"y\": -0.16733104386468142, \"x\": 0.8751315063464603}, {\"y\": 0.751195958807033, \"x\": 0.476125232071038}, {\"y\": 0.6298291816814434, \"x\": -0.5107447548551598}]}};\n",
       "const opt = {};\n",
       "const type = \"vega-lite\";\n",
       "const id = \"d8fbb5c3-d05c-47ca-a65f-93f6da91ea3a\";\n",
       "\n",
       "const output_area = this;\n",
       "\n",
       "require([\"nbextensions/jupyter-vega/index\"], function(vega) {\n",
       "  const target = document.createElement(\"div\");\n",
       "  target.id = id;\n",
       "  target.className = \"vega-embed\";\n",
       "\n",
       "  const style = document.createElement(\"style\");\n",
       "  style.textContent = [\n",
       "    \".vega-embed .error p {\",\n",
       "    \"  color: firebrick;\",\n",
       "    \"  font-size: 14px;\",\n",
       "    \"}\",\n",
       "  ].join(\"\\\\n\");\n",
       "\n",
       "  // element is a jQuery wrapped DOM element inside the output area\n",
       "  // see http://ipython.readthedocs.io/en/stable/api/generated/\\\n",
       "  // IPython.display.html#IPython.display.Javascript.__init__\n",
       "  element[0].appendChild(target);\n",
       "  element[0].appendChild(style);\n",
       "\n",
       "  vega.render(\"#\" + id, spec, type, opt, output_area);\n",
       "}, function (err) {\n",
       "  if (err.requireType !== \"scripterror\") {\n",
       "    throw(err);\n",
       "  }\n",
       "});\n"
      ],
      "text/plain": [
       "<vega.vegalite.VegaLite at 0x7f62ef2b5a90>"
      ]
     },
     "metadata": {
      "jupyter-vega": "#d8fbb5c3-d05c-47ca-a65f-93f6da91ea3a"
     },
     "output_type": "display_data"
    },
    {
     "data": {
      "text/plain": []
     },
     "execution_count": 393,
     "metadata": {},
     "output_type": "execute_result"
    },
    {
     "data": {
      "image/png": "[encoded data removed]"
     },
     "metadata": {
      "jupyter-vega": "#d8fbb5c3-d05c-47ca-a65f-93f6da91ea3a"
     },
     "output_type": "display_data"
    }
   ],
   "source": [
    "# Compute positions for viz.\n",
    "pos = nx.spring_layout(G)\n",
    "\n",
    "viz = nxa.draw_networkx(\n",
    "    G, pos=pos,\n",
    "    node_color='id:N',\n",
    "    cmap='viridis',\n",
    "    width='weight:N',\n",
    "    edge_color='black',\n",
    "    node_tooltip=['weight:N']\n",
    ")\n",
    "\n",
    "viz.interactive()"
   ]
  },
  {
   "cell_type": "code",
   "execution_count": null,
   "metadata": {},
   "outputs": [],
   "source": []
  }
 ],
 "metadata": {
  "kernelspec": {
   "display_name": "Python 3",
   "language": "python",
   "name": "python3"
  },
  "language_info": {
   "codemirror_mode": {
    "name": "ipython",
    "version": 3
   },
   "file_extension": ".py",
   "mimetype": "text/x-python",
   "name": "python",
   "nbconvert_exporter": "python",
   "pygments_lexer": "ipython3",
   "version": "3.7.2"
  },
  "varInspector": {
   "cols": {
    "lenName": 16,
    "lenType": 16,
    "lenVar": 40
   },
   "kernels_config": {
    "python": {
     "delete_cmd_postfix": "",
     "delete_cmd_prefix": "del ",
     "library": "var_list.py",
     "varRefreshCmd": "print(var_dic_list())"
    },
    "r": {
     "delete_cmd_postfix": ") ",
     "delete_cmd_prefix": "rm(",
     "library": "var_list.r",
     "varRefreshCmd": "cat(var_dic_list()) "
    }
   },
   "types_to_exclude": [
    "module",
    "function",
    "builtin_function_or_method",
    "instance",
    "_Feature"
   ],
   "window_display": false
  }
 },
 "nbformat": 4,
 "nbformat_minor": 2
}
