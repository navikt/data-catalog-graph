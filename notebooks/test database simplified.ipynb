{
 "cells": [
  {
   "cell_type": "code",
   "execution_count": 13,
   "metadata": {},
   "outputs": [],
   "source": [
    "import pandas as pd\n",
    "import pandas.io.sql as sqlio\n",
    "import psycopg2\n",
    "import sqlalchemy\n",
    "import os\n",
    "import json\n",
    "import uuid\n"
   ]
  },
  {
   "cell_type": "code",
   "execution_count": 14,
   "metadata": {},
   "outputs": [],
   "source": [
    "conn = psycopg2.connect(\n",
    "    user=\"dcat\", \n",
    "    password=\"dcat\", \n",
    "    host=\"127.0.0.1\", \n",
    "    port=\"54320\", \n",
    "    database=\"dcat\")"
   ]
  },
  {
   "cell_type": "code",
   "execution_count": 15,
   "metadata": {},
   "outputs": [],
   "source": [
    "cur = conn.cursor()"
   ]
  },
  {
   "cell_type": "code",
   "execution_count": 16,
   "metadata": {},
   "outputs": [
    {
     "data": {
      "text/html": [
       "<div>\n",
       "<style scoped>\n",
       "    .dataframe tbody tr th:only-of-type {\n",
       "        vertical-align: middle;\n",
       "    }\n",
       "\n",
       "    .dataframe tbody tr th {\n",
       "        vertical-align: top;\n",
       "    }\n",
       "\n",
       "    .dataframe thead th {\n",
       "        text-align: right;\n",
       "    }\n",
       "</style>\n",
       "<table border=\"1\" class=\"dataframe\">\n",
       "  <thead>\n",
       "    <tr style=\"text-align: right;\">\n",
       "      <th></th>\n",
       "      <th>id</th>\n",
       "      <th>prop</th>\n",
       "      <th>created</th>\n",
       "    </tr>\n",
       "  </thead>\n",
       "  <tbody>\n",
       "    <tr>\n",
       "      <th>0</th>\n",
       "      <td>34</td>\n",
       "      <td>{'id': 'GDPR.PROCESSING_ACTIVITY.UFØRETRYGD', ...</td>\n",
       "      <td>2019-12-11 18:14:45.452572</td>\n",
       "    </tr>\n",
       "  </tbody>\n",
       "</table>\n",
       "</div>"
      ],
      "text/plain": [
       "   id                                               prop  \\\n",
       "0  34  {'id': 'GDPR.PROCESSING_ACTIVITY.UFØRETRYGD', ...   \n",
       "\n",
       "                     created  \n",
       "0 2019-12-11 18:14:45.452572  "
      ]
     },
     "execution_count": 16,
     "metadata": {},
     "output_type": "execute_result"
    }
   ],
   "source": [
    "sql = \"SELECT * FROM tbl_node WHERE prop->>'id' = 'GDPR.PROCESSING_ACTIVITY.UFØRETRYGD'\"\n",
    "df = sqlio.read_sql_query(sql, conn)\n",
    "df"
   ]
  },
  {
   "cell_type": "code",
   "execution_count": 30,
   "metadata": {},
   "outputs": [
    {
     "name": "stdout",
     "output_type": "stream",
     "text": [
      "INSERT INTO tbl_edge (n1, n2, prop) VALUES (259, 260, '[\"part of\", \"belongs to\"]') ON CONFLICT (n1, n2) DO UPDATE SET n1 = excluded.n1, n2 = excluded.n2, prop=excluded.prop\n"
     ]
    }
   ],
   "source": [
    "edges = [\n",
    "  {\n",
    "    \"n1\": 259,\n",
    "    \"n2\": 260,\n",
    "    \"prop\": [\"part of\", \"belongs to\"]\n",
    "  }\n",
    "]\n",
    "\n",
    "statement = \"INSERT INTO tbl_edge (n1, n2, prop) VALUES \"\n",
    "\n",
    "for edge_item in edges:\n",
    "        n1 = edge_item.get(\"n1\")\n",
    "        n2 = edge_item.get(\"n2\")\n",
    "        prop = json.dumps(edge_item.get(\"prop\"))\n",
    "        if n1 is None:\n",
    "            abort(409, f\"The edge must have a source node n1 of type string\")\n",
    "        if n2 is None:\n",
    "            abort(409, f\"The edge must have a target node n2 of type string\")\n",
    "        if prop is None:\n",
    "            abort(409, f\"The edge must have a prop of type string\")\n",
    "        else:\n",
    "            statement = statement + f\"({n1}, {n2}, '{prop}'), \"\n",
    "\n",
    "# Deleting the space and ',' at the end of the statement\n",
    "statement = statement[:-2]\n",
    "# On receiving a pair of nodes that already exist it will add the prop to the prop array\n",
    "statement = statement + \" ON CONFLICT (n1, n2) DO UPDATE SET n1 = excluded.n1, n2 = excluded.n2, prop=excluded.prop\"\n",
    "print(statement)"
   ]
  },
  {
   "cell_type": "code",
   "execution_count": 31,
   "metadata": {},
   "outputs": [
    {
     "name": "stdout",
     "output_type": "stream",
     "text": [
      "None\n"
     ]
    }
   ],
   "source": [
    "res = cur.execute(statement)\n",
    "print(res)\n",
    "conn.commit()"
   ]
  },
  {
   "cell_type": "code",
   "execution_count": 32,
   "metadata": {},
   "outputs": [
    {
     "data": {
      "text/html": [
       "<div>\n",
       "<style scoped>\n",
       "    .dataframe tbody tr th:only-of-type {\n",
       "        vertical-align: middle;\n",
       "    }\n",
       "\n",
       "    .dataframe tbody tr th {\n",
       "        vertical-align: top;\n",
       "    }\n",
       "\n",
       "    .dataframe thead th {\n",
       "        text-align: right;\n",
       "    }\n",
       "</style>\n",
       "<table border=\"1\" class=\"dataframe\">\n",
       "  <thead>\n",
       "    <tr style=\"text-align: right;\">\n",
       "      <th></th>\n",
       "      <th>n1</th>\n",
       "      <th>n2</th>\n",
       "      <th>prop</th>\n",
       "      <th>created</th>\n",
       "    </tr>\n",
       "  </thead>\n",
       "  <tbody>\n",
       "    <tr>\n",
       "      <th>0</th>\n",
       "      <td>259</td>\n",
       "      <td>238</td>\n",
       "      <td>[contains concept]</td>\n",
       "      <td>2019-12-11 19:13:08.310467</td>\n",
       "    </tr>\n",
       "    <tr>\n",
       "      <th>1</th>\n",
       "      <td>259</td>\n",
       "      <td>240</td>\n",
       "      <td>[contains concept]</td>\n",
       "      <td>2019-12-11 19:13:08.310467</td>\n",
       "    </tr>\n",
       "    <tr>\n",
       "      <th>2</th>\n",
       "      <td>259</td>\n",
       "      <td>241</td>\n",
       "      <td>[contains concept]</td>\n",
       "      <td>2019-12-11 19:13:08.310467</td>\n",
       "    </tr>\n",
       "    <tr>\n",
       "      <th>3</th>\n",
       "      <td>259</td>\n",
       "      <td>242</td>\n",
       "      <td>[contains concept]</td>\n",
       "      <td>2019-12-11 19:13:08.310467</td>\n",
       "    </tr>\n",
       "    <tr>\n",
       "      <th>4</th>\n",
       "      <td>259</td>\n",
       "      <td>243</td>\n",
       "      <td>[contains concept]</td>\n",
       "      <td>2019-12-11 19:13:08.310467</td>\n",
       "    </tr>\n",
       "    <tr>\n",
       "      <th>5</th>\n",
       "      <td>259</td>\n",
       "      <td>260</td>\n",
       "      <td>[part of, belongs to]</td>\n",
       "      <td>2019-12-11 19:17:58.172759</td>\n",
       "    </tr>\n",
       "  </tbody>\n",
       "</table>\n",
       "</div>"
      ],
      "text/plain": [
       "    n1   n2                   prop                    created\n",
       "0  259  238     [contains concept] 2019-12-11 19:13:08.310467\n",
       "1  259  240     [contains concept] 2019-12-11 19:13:08.310467\n",
       "2  259  241     [contains concept] 2019-12-11 19:13:08.310467\n",
       "3  259  242     [contains concept] 2019-12-11 19:13:08.310467\n",
       "4  259  243     [contains concept] 2019-12-11 19:13:08.310467\n",
       "5  259  260  [part of, belongs to] 2019-12-11 19:17:58.172759"
      ]
     },
     "execution_count": 32,
     "metadata": {},
     "output_type": "execute_result"
    }
   ],
   "source": [
    "sql = \"SELECT * FROM tbl_edge WHERE n1 = 259\"\n",
    "df = sqlio.read_sql_query(sql, conn)\n",
    "df"
   ]
  },
  {
   "cell_type": "code",
   "execution_count": 23,
   "metadata": {},
   "outputs": [],
   "source": [
    "conn.commit()"
   ]
  },
  {
   "cell_type": "code",
   "execution_count": 133,
   "metadata": {},
   "outputs": [],
   "source": [
    "inp = {\n",
    "  \"prop\": {\"id\":\"test0\",\"type\": \"test6\"}\n",
    "}\n",
    "\n",
    "jsonb = json.dumps(inp['prop'])\n",
    "sql = f\"INSERT INTO tbl_node (id, prop) VALUES (270,'{jsonb}') ON CONFLICT (id) DO UPDATE SET prop  = '{jsonb}';\"\n",
    "cur.execute(sql, (jsonb,))\n",
    "conn.commit()"
   ]
  }
 ],
 "metadata": {
  "kernelspec": {
   "display_name": "Python 3",
   "language": "python",
   "name": "python3"
  },
  "language_info": {
   "codemirror_mode": {
    "name": "ipython",
    "version": 3
   },
   "file_extension": ".py",
   "mimetype": "text/x-python",
   "name": "python",
   "nbconvert_exporter": "python",
   "pygments_lexer": "ipython3",
   "version": "3.7.4"
  },
  "varInspector": {
   "cols": {
    "lenName": 16,
    "lenType": 16,
    "lenVar": 40
   },
   "kernels_config": {
    "python": {
     "delete_cmd_postfix": "",
     "delete_cmd_prefix": "del ",
     "library": "var_list.py",
     "varRefreshCmd": "print(var_dic_list())"
    },
    "r": {
     "delete_cmd_postfix": ") ",
     "delete_cmd_prefix": "rm(",
     "library": "var_list.r",
     "varRefreshCmd": "cat(var_dic_list()) "
    }
   },
   "types_to_exclude": [
    "module",
    "function",
    "builtin_function_or_method",
    "instance",
    "_Feature"
   ],
   "window_display": false
  }
 },
 "nbformat": 4,
 "nbformat_minor": 2
}
