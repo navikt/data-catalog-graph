{
 "cells": [
  {
   "cell_type": "code",
   "execution_count": 100,
   "metadata": {},
   "outputs": [],
   "source": [
    "import pandas as pd\n",
    "import pandas.io.sql as sqlio\n",
    "import psycopg2\n",
    "import sqlalchemy\n",
    "import os\n",
    "import json\n",
    "import uuid\n"
   ]
  },
  {
   "cell_type": "code",
   "execution_count": 101,
   "metadata": {},
   "outputs": [],
   "source": [
    "conn = psycopg2.connect(\n",
    "    user=\"dcat\", \n",
    "    password=\"dcat\", \n",
    "    host=\"127.0.0.1\", \n",
    "    port=\"54320\", \n",
    "    database=\"dcat\")"
   ]
  },
  {
   "cell_type": "code",
   "execution_count": 413,
   "metadata": {},
   "outputs": [],
   "source": [
    "conn = psycopg2.connect(\n",
    "    user=\"v-oidc-Pau-data-cat-JttunzZohPHCVqCALH7e-1574349384\", \n",
    "    password=\"A1a-KVbk7te3wn4ndtue\", \n",
    "    host=\"A01DBVL010.adeo.no\", \n",
    "    port=\"5432\", \n",
    "    database=\"data-catalog-metadata\")"
   ]
  },
  {
   "cell_type": "code",
   "execution_count": 102,
   "metadata": {},
   "outputs": [],
   "source": [
    "conn.commit()"
   ]
  },
  {
   "cell_type": "markdown",
   "metadata": {},
   "source": [
    "conn.commit()\n",
    "node = {\"id\":\"test\"}\n",
    "js = json.dumps(node)\n",
    "statement = f\"insert into tbl_node (prop) values ('{js}')\"\n",
    "cur.execute(statement)\n",
    "conn.commit()"
   ]
  },
  {
   "cell_type": "code",
   "execution_count": 103,
   "metadata": {},
   "outputs": [],
   "source": [
    "cur = conn.cursor()"
   ]
  },
  {
   "cell_type": "code",
   "execution_count": 104,
   "metadata": {},
   "outputs": [
    {
     "name": "stdout",
     "output_type": "stream",
     "text": [
      "{'user': 'dcat', 'dbname': 'dcat', 'host': '127.0.0.1', 'port': '54320', 'tty': '', 'options': '', 'sslmode': 'prefer', 'sslcompression': '0', 'krbsrvname': 'postgres', 'target_session_attrs': 'any'} \n",
      "\n"
     ]
    }
   ],
   "source": [
    "print ( conn.get_dsn_parameters(),\"\\n\")"
   ]
  },
  {
   "cell_type": "code",
   "execution_count": 105,
   "metadata": {},
   "outputs": [
    {
     "name": "stdout",
     "output_type": "stream",
     "text": [
      "You are connected to -  ('PostgreSQL 12.0 (Debian 12.0-1.pgdg100+1) on x86_64-pc-linux-gnu, compiled by gcc (Debian 8.3.0-6) 8.3.0, 64-bit',) \n",
      "\n"
     ]
    }
   ],
   "source": [
    "cur.execute(\"SELECT version();\")\n",
    "record = cur.fetchone()\n",
    "print(\"You are connected to - \", record,\"\\n\")"
   ]
  },
  {
   "cell_type": "markdown",
   "metadata": {},
   "source": [
    "# Init"
   ]
  },
  {
   "cell_type": "code",
   "execution_count": 106,
   "metadata": {},
   "outputs": [],
   "source": [
    "#Relationship description/attributes\n",
    "cur.execute(\"delete from tbl_edge_desc\")\n",
    "#Relationships/Edges\n",
    "cur.execute(\"delete from tbl_edge\")\n",
    "#Node details table\n",
    "cur.execute(\"delete from tbl_node\")\n",
    "\n",
    "conn.commit()"
   ]
  },
  {
   "cell_type": "code",
   "execution_count": 107,
   "metadata": {},
   "outputs": [
    {
     "data": {
      "text/html": [
       "<div>\n",
       "<style scoped>\n",
       "    .dataframe tbody tr th:only-of-type {\n",
       "        vertical-align: middle;\n",
       "    }\n",
       "\n",
       "    .dataframe tbody tr th {\n",
       "        vertical-align: top;\n",
       "    }\n",
       "\n",
       "    .dataframe thead th {\n",
       "        text-align: right;\n",
       "    }\n",
       "</style>\n",
       "<table border=\"1\" class=\"dataframe\">\n",
       "  <thead>\n",
       "    <tr style=\"text-align: right;\">\n",
       "      <th></th>\n",
       "      <th>id</th>\n",
       "      <th>prop</th>\n",
       "      <th>created</th>\n",
       "    </tr>\n",
       "  </thead>\n",
       "  <tbody>\n",
       "  </tbody>\n",
       "</table>\n",
       "</div>"
      ],
      "text/plain": [
       "Empty DataFrame\n",
       "Columns: [id, prop, created]\n",
       "Index: []"
      ]
     },
     "execution_count": 107,
     "metadata": {},
     "output_type": "execute_result"
    }
   ],
   "source": [
    "df = sqlio.read_sql_query(\"select * from tbl_node\", conn)\n",
    "df.tail()"
   ]
  },
  {
   "cell_type": "markdown",
   "metadata": {},
   "source": [
    "# Get data"
   ]
  },
  {
   "cell_type": "code",
   "execution_count": 108,
   "metadata": {},
   "outputs": [
    {
     "data": {
      "text/plain": [
       "['Formål GML',\n",
       " 'Formål',\n",
       " 'Ark1',\n",
       " 'data-catalog-backend',\n",
       " 'data-catalog-policies',\n",
       " 'Category']"
      ]
     },
     "execution_count": 108,
     "metadata": {},
     "output_type": "execute_result"
    }
   ],
   "source": [
    "xls = pd.ExcelFile(\"../data/testdata.xlsx\")\n",
    "xls.sheet_names"
   ]
  },
  {
   "cell_type": "markdown",
   "metadata": {},
   "source": [
    "# Populate tables"
   ]
  },
  {
   "cell_type": "code",
   "execution_count": 109,
   "metadata": {},
   "outputs": [],
   "source": [
    "def get_id(row):\n",
    "    return row['type'] + '.' + row['name'].upper()\n",
    "\n",
    "def get_uuid(row):\n",
    "    return row['type'] + '.' + str(uuid.uuid4()).upper()"
   ]
  },
  {
   "cell_type": "markdown",
   "metadata": {},
   "source": [
    "### Processing activities"
   ]
  },
  {
   "cell_type": "code",
   "execution_count": 112,
   "metadata": {},
   "outputs": [
    {
     "data": {
      "text/html": [
       "<div>\n",
       "<style scoped>\n",
       "    .dataframe tbody tr th:only-of-type {\n",
       "        vertical-align: middle;\n",
       "    }\n",
       "\n",
       "    .dataframe tbody tr th {\n",
       "        vertical-align: top;\n",
       "    }\n",
       "\n",
       "    .dataframe thead th {\n",
       "        text-align: right;\n",
       "    }\n",
       "</style>\n",
       "<table border=\"1\" class=\"dataframe\">\n",
       "  <thead>\n",
       "    <tr style=\"text-align: right;\">\n",
       "      <th></th>\n",
       "      <th>description</th>\n",
       "      <th>name</th>\n",
       "      <th>label</th>\n",
       "      <th>type</th>\n",
       "      <th>id</th>\n",
       "    </tr>\n",
       "  </thead>\n",
       "  <tbody>\n",
       "    <tr>\n",
       "      <th>33</th>\n",
       "      <td>Behandle og vurdere rett til uføretrygd som sk...</td>\n",
       "      <td>UFØRETRYGD</td>\n",
       "      <td>Processing activity</td>\n",
       "      <td>GDPR.PROCESSING_ACTIVITY</td>\n",
       "      <td>GDPR.PROCESSING_ACTIVITY.UFØRETRYGD</td>\n",
       "    </tr>\n",
       "    <tr>\n",
       "      <th>34</th>\n",
       "      <td>Behandle og vurdere rett til ventelønn som ska...</td>\n",
       "      <td>VENTELØNN</td>\n",
       "      <td>Processing activity</td>\n",
       "      <td>GDPR.PROCESSING_ACTIVITY</td>\n",
       "      <td>GDPR.PROCESSING_ACTIVITY.VENTELØNN</td>\n",
       "    </tr>\n",
       "    <tr>\n",
       "      <th>35</th>\n",
       "      <td>Behandle og vurdere rett til ytelser ved yrkes...</td>\n",
       "      <td>YRKESSKADE- OG SYKDOM</td>\n",
       "      <td>Processing activity</td>\n",
       "      <td>GDPR.PROCESSING_ACTIVITY</td>\n",
       "      <td>GDPR.PROCESSING_ACTIVITY.YRKESSKADE- OG SYKDOM</td>\n",
       "    </tr>\n",
       "    <tr>\n",
       "      <th>36</th>\n",
       "      <td>Behandle og vurdere rett til ytelser til famil...</td>\n",
       "      <td>YTELSER TIL FAMILIEPLEIER</td>\n",
       "      <td>Processing activity</td>\n",
       "      <td>GDPR.PROCESSING_ACTIVITY</td>\n",
       "      <td>GDPR.PROCESSING_ACTIVITY.YTELSER TIL FAMILIEPL...</td>\n",
       "    </tr>\n",
       "    <tr>\n",
       "      <th>37</th>\n",
       "      <td>Not Available -Verdi mangler</td>\n",
       "      <td>NOT AVAILABLE</td>\n",
       "      <td>Processing activity</td>\n",
       "      <td>GDPR.PROCESSING_ACTIVITY</td>\n",
       "      <td>GDPR.PROCESSING_ACTIVITY.NOT AVAILABLE</td>\n",
       "    </tr>\n",
       "  </tbody>\n",
       "</table>\n",
       "</div>"
      ],
      "text/plain": [
       "                                          description  \\\n",
       "33  Behandle og vurdere rett til uføretrygd som sk...   \n",
       "34  Behandle og vurdere rett til ventelønn som ska...   \n",
       "35  Behandle og vurdere rett til ytelser ved yrkes...   \n",
       "36  Behandle og vurdere rett til ytelser til famil...   \n",
       "37                       Not Available -Verdi mangler   \n",
       "\n",
       "                         name                label                      type  \\\n",
       "33                 UFØRETRYGD  Processing activity  GDPR.PROCESSING_ACTIVITY   \n",
       "34                  VENTELØNN  Processing activity  GDPR.PROCESSING_ACTIVITY   \n",
       "35      YRKESSKADE- OG SYKDOM  Processing activity  GDPR.PROCESSING_ACTIVITY   \n",
       "36  YTELSER TIL FAMILIEPLEIER  Processing activity  GDPR.PROCESSING_ACTIVITY   \n",
       "37              NOT AVAILABLE  Processing activity  GDPR.PROCESSING_ACTIVITY   \n",
       "\n",
       "                                                   id  \n",
       "33                GDPR.PROCESSING_ACTIVITY.UFØRETRYGD  \n",
       "34                 GDPR.PROCESSING_ACTIVITY.VENTELØNN  \n",
       "35     GDPR.PROCESSING_ACTIVITY.YRKESSKADE- OG SYKDOM  \n",
       "36  GDPR.PROCESSING_ACTIVITY.YTELSER TIL FAMILIEPL...  \n",
       "37             GDPR.PROCESSING_ACTIVITY.NOT AVAILABLE  "
      ]
     },
     "execution_count": 112,
     "metadata": {},
     "output_type": "execute_result"
    }
   ],
   "source": [
    "sheet=xls.sheet_names[1]\n",
    "df_formål = pd.read_excel(xls, sheet, encoding='latin1')\n",
    "df_formål = df_formål[['Forslag til endelig formålskode', 'Formålsbeskrivelse']]\n",
    "df_formål.columns=['code', 'description']\n",
    "df_formål['name'] = df_formål['code'].apply(lambda x: x.upper())\n",
    "df_formål = df_formål.append({'name': 'NOT AVAILABLE', 'description': 'Not Available -Verdi mangler'}, ignore_index=True)\n",
    "df_formål.drop(['code'], axis=1, inplace=True)\n",
    "df_formål['label'] = 'Processing activity'\n",
    "df_formål['type'] = 'GDPR.PROCESSING_ACTIVITY'\n",
    "df_formål['id'] = df_formål.apply(get_id, axis=1)\n",
    "df_formål.tail()"
   ]
  },
  {
   "cell_type": "code",
   "execution_count": 113,
   "metadata": {},
   "outputs": [],
   "source": [
    "for index, row in df_formål.iterrows():\n",
    "    id = index + 1\n",
    "    jsonb = row.to_json()\n",
    "    insert_query = f\"insert into tbl_node (prop) values ('{jsonb}')\"\n",
    "    cur.execute(insert_query, (jsonb,))\n",
    "    \n",
    "conn.commit()"
   ]
  },
  {
   "cell_type": "code",
   "execution_count": 114,
   "metadata": {},
   "outputs": [
    {
     "data": {
      "text/html": [
       "<div>\n",
       "<style scoped>\n",
       "    .dataframe tbody tr th:only-of-type {\n",
       "        vertical-align: middle;\n",
       "    }\n",
       "\n",
       "    .dataframe tbody tr th {\n",
       "        vertical-align: top;\n",
       "    }\n",
       "\n",
       "    .dataframe thead th {\n",
       "        text-align: right;\n",
       "    }\n",
       "</style>\n",
       "<table border=\"1\" class=\"dataframe\">\n",
       "  <thead>\n",
       "    <tr style=\"text-align: right;\">\n",
       "      <th></th>\n",
       "      <th>id</th>\n",
       "      <th>prop</th>\n",
       "      <th>created</th>\n",
       "    </tr>\n",
       "  </thead>\n",
       "  <tbody>\n",
       "    <tr>\n",
       "      <th>33</th>\n",
       "      <td>34</td>\n",
       "      <td>{'id': 'GDPR.PROCESSING_ACTIVITY.UFØRETRYGD', ...</td>\n",
       "      <td>2019-12-11 10:32:31.930888</td>\n",
       "    </tr>\n",
       "    <tr>\n",
       "      <th>34</th>\n",
       "      <td>35</td>\n",
       "      <td>{'id': 'GDPR.PROCESSING_ACTIVITY.VENTELØNN', '...</td>\n",
       "      <td>2019-12-11 10:32:31.930888</td>\n",
       "    </tr>\n",
       "    <tr>\n",
       "      <th>35</th>\n",
       "      <td>36</td>\n",
       "      <td>{'id': 'GDPR.PROCESSING_ACTIVITY.YRKESSKADE- O...</td>\n",
       "      <td>2019-12-11 10:32:31.930888</td>\n",
       "    </tr>\n",
       "    <tr>\n",
       "      <th>36</th>\n",
       "      <td>37</td>\n",
       "      <td>{'id': 'GDPR.PROCESSING_ACTIVITY.YTELSER TIL F...</td>\n",
       "      <td>2019-12-11 10:32:31.930888</td>\n",
       "    </tr>\n",
       "    <tr>\n",
       "      <th>37</th>\n",
       "      <td>38</td>\n",
       "      <td>{'id': 'GDPR.PROCESSING_ACTIVITY.NOT AVAILABLE...</td>\n",
       "      <td>2019-12-11 10:32:31.930888</td>\n",
       "    </tr>\n",
       "  </tbody>\n",
       "</table>\n",
       "</div>"
      ],
      "text/plain": [
       "    id                                               prop  \\\n",
       "33  34  {'id': 'GDPR.PROCESSING_ACTIVITY.UFØRETRYGD', ...   \n",
       "34  35  {'id': 'GDPR.PROCESSING_ACTIVITY.VENTELØNN', '...   \n",
       "35  36  {'id': 'GDPR.PROCESSING_ACTIVITY.YRKESSKADE- O...   \n",
       "36  37  {'id': 'GDPR.PROCESSING_ACTIVITY.YTELSER TIL F...   \n",
       "37  38  {'id': 'GDPR.PROCESSING_ACTIVITY.NOT AVAILABLE...   \n",
       "\n",
       "                      created  \n",
       "33 2019-12-11 10:32:31.930888  \n",
       "34 2019-12-11 10:32:31.930888  \n",
       "35 2019-12-11 10:32:31.930888  \n",
       "36 2019-12-11 10:32:31.930888  \n",
       "37 2019-12-11 10:32:31.930888  "
      ]
     },
     "execution_count": 114,
     "metadata": {},
     "output_type": "execute_result"
    }
   ],
   "source": [
    "df = sqlio.read_sql_query(\"select * from tbl_node\", conn)\n",
    "df.tail()"
   ]
  },
  {
   "cell_type": "markdown",
   "metadata": {},
   "source": [
    "### Purpose"
   ]
  },
  {
   "cell_type": "code",
   "execution_count": 115,
   "metadata": {},
   "outputs": [],
   "source": [
    "df_purpose = df_formål.copy()\n",
    "df_purpose['type'] = 'GDPR.PURPOSE'\n",
    "df_purpose['label'] = 'Purpose'\n",
    "df_purpose['id'] = df_purpose.apply(get_id, axis=1)"
   ]
  },
  {
   "cell_type": "code",
   "execution_count": 116,
   "metadata": {},
   "outputs": [],
   "source": [
    "for i, row in df_purpose.iterrows():\n",
    "    jsonb = row.to_json()\n",
    "    insert_query = f\"insert into tbl_node (prop) values ('{jsonb}')\"\n",
    "    cur.execute(insert_query, (jsonb,))\n",
    "    \n",
    "conn.commit()"
   ]
  },
  {
   "cell_type": "code",
   "execution_count": 117,
   "metadata": {},
   "outputs": [
    {
     "data": {
      "text/html": [
       "<div>\n",
       "<style scoped>\n",
       "    .dataframe tbody tr th:only-of-type {\n",
       "        vertical-align: middle;\n",
       "    }\n",
       "\n",
       "    .dataframe tbody tr th {\n",
       "        vertical-align: top;\n",
       "    }\n",
       "\n",
       "    .dataframe thead th {\n",
       "        text-align: right;\n",
       "    }\n",
       "</style>\n",
       "<table border=\"1\" class=\"dataframe\">\n",
       "  <thead>\n",
       "    <tr style=\"text-align: right;\">\n",
       "      <th></th>\n",
       "      <th>id</th>\n",
       "      <th>prop</th>\n",
       "      <th>created</th>\n",
       "    </tr>\n",
       "  </thead>\n",
       "  <tbody>\n",
       "    <tr>\n",
       "      <th>71</th>\n",
       "      <td>72</td>\n",
       "      <td>{'id': 'GDPR.PURPOSE.UFØRETRYGD', 'name': 'UFØ...</td>\n",
       "      <td>2019-12-11 10:32:37.187308</td>\n",
       "    </tr>\n",
       "    <tr>\n",
       "      <th>72</th>\n",
       "      <td>73</td>\n",
       "      <td>{'id': 'GDPR.PURPOSE.VENTELØNN', 'name': 'VENT...</td>\n",
       "      <td>2019-12-11 10:32:37.187308</td>\n",
       "    </tr>\n",
       "    <tr>\n",
       "      <th>73</th>\n",
       "      <td>74</td>\n",
       "      <td>{'id': 'GDPR.PURPOSE.YRKESSKADE- OG SYKDOM', '...</td>\n",
       "      <td>2019-12-11 10:32:37.187308</td>\n",
       "    </tr>\n",
       "    <tr>\n",
       "      <th>74</th>\n",
       "      <td>75</td>\n",
       "      <td>{'id': 'GDPR.PURPOSE.YTELSER TIL FAMILIEPLEIER...</td>\n",
       "      <td>2019-12-11 10:32:37.187308</td>\n",
       "    </tr>\n",
       "    <tr>\n",
       "      <th>75</th>\n",
       "      <td>76</td>\n",
       "      <td>{'id': 'GDPR.PURPOSE.NOT AVAILABLE', 'name': '...</td>\n",
       "      <td>2019-12-11 10:32:37.187308</td>\n",
       "    </tr>\n",
       "  </tbody>\n",
       "</table>\n",
       "</div>"
      ],
      "text/plain": [
       "    id                                               prop  \\\n",
       "71  72  {'id': 'GDPR.PURPOSE.UFØRETRYGD', 'name': 'UFØ...   \n",
       "72  73  {'id': 'GDPR.PURPOSE.VENTELØNN', 'name': 'VENT...   \n",
       "73  74  {'id': 'GDPR.PURPOSE.YRKESSKADE- OG SYKDOM', '...   \n",
       "74  75  {'id': 'GDPR.PURPOSE.YTELSER TIL FAMILIEPLEIER...   \n",
       "75  76  {'id': 'GDPR.PURPOSE.NOT AVAILABLE', 'name': '...   \n",
       "\n",
       "                      created  \n",
       "71 2019-12-11 10:32:37.187308  \n",
       "72 2019-12-11 10:32:37.187308  \n",
       "73 2019-12-11 10:32:37.187308  \n",
       "74 2019-12-11 10:32:37.187308  \n",
       "75 2019-12-11 10:32:37.187308  "
      ]
     },
     "execution_count": 117,
     "metadata": {},
     "output_type": "execute_result"
    }
   ],
   "source": [
    "df = sqlio.read_sql_query(\"select * from tbl_node\", conn)\n",
    "df.tail()"
   ]
  },
  {
   "cell_type": "markdown",
   "metadata": {},
   "source": [
    "### Legal basis"
   ]
  },
  {
   "cell_type": "code",
   "execution_count": 118,
   "metadata": {},
   "outputs": [
    {
     "data": {
      "text/html": [
       "<div>\n",
       "<style scoped>\n",
       "    .dataframe tbody tr th:only-of-type {\n",
       "        vertical-align: middle;\n",
       "    }\n",
       "\n",
       "    .dataframe tbody tr th {\n",
       "        vertical-align: top;\n",
       "    }\n",
       "\n",
       "    .dataframe thead th {\n",
       "        text-align: right;\n",
       "    }\n",
       "</style>\n",
       "<table border=\"1\" class=\"dataframe\">\n",
       "  <thead>\n",
       "    <tr style=\"text-align: right;\">\n",
       "      <th></th>\n",
       "      <th>name</th>\n",
       "      <th>type</th>\n",
       "      <th>label</th>\n",
       "      <th>id</th>\n",
       "    </tr>\n",
       "  </thead>\n",
       "  <tbody>\n",
       "    <tr>\n",
       "      <th>0</th>\n",
       "      <td>Ftrl. § 11-20</td>\n",
       "      <td>GDPR.LEGAL_BASIS</td>\n",
       "      <td>Legal basis</td>\n",
       "      <td>GDPR.LEGAL_BASIS.1E8A082A-F942-4C87-95FE-D6504...</td>\n",
       "    </tr>\n",
       "    <tr>\n",
       "      <th>1</th>\n",
       "      <td>Ftrl. §§ 3-16, 3-24, 3-25, 20-8.</td>\n",
       "      <td>GDPR.LEGAL_BASIS</td>\n",
       "      <td>Legal basis</td>\n",
       "      <td>GDPR.LEGAL_BASIS.2383A033-8C90-4C1D-B918-BA50B...</td>\n",
       "    </tr>\n",
       "    <tr>\n",
       "      <th>2</th>\n",
       "      <td>Kapittel 3, 19, 20 0g 22</td>\n",
       "      <td>GDPR.LEGAL_BASIS</td>\n",
       "      <td>Legal basis</td>\n",
       "      <td>GDPR.LEGAL_BASIS.B4D58661-6FD8-48B1-AA0D-21F84...</td>\n",
       "    </tr>\n",
       "    <tr>\n",
       "      <th>3</th>\n",
       "      <td>Ftrl § 3-2 og § 3-3</td>\n",
       "      <td>GDPR.LEGAL_BASIS</td>\n",
       "      <td>Legal basis</td>\n",
       "      <td>GDPR.LEGAL_BASIS.6C4A20CB-4FAF-49A5-8684-AA87A...</td>\n",
       "    </tr>\n",
       "    <tr>\n",
       "      <th>4</th>\n",
       "      <td>Barnetrygdloven § 9</td>\n",
       "      <td>GDPR.LEGAL_BASIS</td>\n",
       "      <td>Legal basis</td>\n",
       "      <td>GDPR.LEGAL_BASIS.D27A6C5A-3B09-40AD-A517-D9B87...</td>\n",
       "    </tr>\n",
       "  </tbody>\n",
       "</table>\n",
       "</div>"
      ],
      "text/plain": [
       "                               name              type        label  \\\n",
       "0                     Ftrl. § 11-20  GDPR.LEGAL_BASIS  Legal basis   \n",
       "1  Ftrl. §§ 3-16, 3-24, 3-25, 20-8.  GDPR.LEGAL_BASIS  Legal basis   \n",
       "2          Kapittel 3, 19, 20 0g 22  GDPR.LEGAL_BASIS  Legal basis   \n",
       "3              Ftrl § 3-2 og § 3-3   GDPR.LEGAL_BASIS  Legal basis   \n",
       "4               Barnetrygdloven § 9  GDPR.LEGAL_BASIS  Legal basis   \n",
       "\n",
       "                                                  id  \n",
       "0  GDPR.LEGAL_BASIS.1E8A082A-F942-4C87-95FE-D6504...  \n",
       "1  GDPR.LEGAL_BASIS.2383A033-8C90-4C1D-B918-BA50B...  \n",
       "2  GDPR.LEGAL_BASIS.B4D58661-6FD8-48B1-AA0D-21F84...  \n",
       "3  GDPR.LEGAL_BASIS.6C4A20CB-4FAF-49A5-8684-AA87A...  \n",
       "4  GDPR.LEGAL_BASIS.D27A6C5A-3B09-40AD-A517-D9B87...  "
      ]
     },
     "execution_count": 118,
     "metadata": {},
     "output_type": "execute_result"
    }
   ],
   "source": [
    "sheet=xls.sheet_names[4]\n",
    "df_legal_basis = pd.read_excel(xls, sheet, encoding='latin1')\n",
    "df_legal_basis = df_legal_basis[['legalBasisDescription']].drop_duplicates()\n",
    "df_legal_basis.columns=['name']\n",
    "df_legal_basis = df_legal_basis.append({'name': 'NOT AVAILABLE'}, ignore_index=True)\n",
    "df_legal_basis['type'] = 'GDPR.LEGAL_BASIS'\n",
    "df_legal_basis['label'] = 'Legal basis'\n",
    "df_legal_basis['id'] = df_legal_basis.apply(get_uuid, axis=1)\n",
    "df_legal_basis.head()"
   ]
  },
  {
   "cell_type": "code",
   "execution_count": 119,
   "metadata": {},
   "outputs": [],
   "source": [
    "for i, row in df_legal_basis.iterrows():\n",
    "    index = index + 1\n",
    "    jsonb = row.to_json()\n",
    "    insert_query = f\"insert into tbl_node (prop) values ('{jsonb}')\"\n",
    "    cur.execute(insert_query, (jsonb,))\n",
    "    \n",
    "conn.commit()"
   ]
  },
  {
   "cell_type": "code",
   "execution_count": 120,
   "metadata": {},
   "outputs": [
    {
     "data": {
      "text/html": [
       "<div>\n",
       "<style scoped>\n",
       "    .dataframe tbody tr th:only-of-type {\n",
       "        vertical-align: middle;\n",
       "    }\n",
       "\n",
       "    .dataframe tbody tr th {\n",
       "        vertical-align: top;\n",
       "    }\n",
       "\n",
       "    .dataframe thead th {\n",
       "        text-align: right;\n",
       "    }\n",
       "</style>\n",
       "<table border=\"1\" class=\"dataframe\">\n",
       "  <thead>\n",
       "    <tr style=\"text-align: right;\">\n",
       "      <th></th>\n",
       "      <th>id</th>\n",
       "      <th>prop</th>\n",
       "      <th>created</th>\n",
       "    </tr>\n",
       "  </thead>\n",
       "  <tbody>\n",
       "    <tr>\n",
       "      <th>232</th>\n",
       "      <td>233</td>\n",
       "      <td>{'id': 'GDPR.LEGAL_BASIS.4FF259DD-416D-4ACC-86...</td>\n",
       "      <td>2019-12-11 10:32:42.367224</td>\n",
       "    </tr>\n",
       "    <tr>\n",
       "      <th>233</th>\n",
       "      <td>234</td>\n",
       "      <td>{'id': 'GDPR.LEGAL_BASIS.1558E5DB-8190-4FBC-A2...</td>\n",
       "      <td>2019-12-11 10:32:42.367224</td>\n",
       "    </tr>\n",
       "    <tr>\n",
       "      <th>234</th>\n",
       "      <td>235</td>\n",
       "      <td>{'id': 'GDPR.LEGAL_BASIS.DF4A35A8-A40A-4708-9D...</td>\n",
       "      <td>2019-12-11 10:32:42.367224</td>\n",
       "    </tr>\n",
       "    <tr>\n",
       "      <th>235</th>\n",
       "      <td>236</td>\n",
       "      <td>{'id': 'GDPR.LEGAL_BASIS.F5D8E28A-7B5E-468F-87...</td>\n",
       "      <td>2019-12-11 10:32:42.367224</td>\n",
       "    </tr>\n",
       "    <tr>\n",
       "      <th>236</th>\n",
       "      <td>237</td>\n",
       "      <td>{'id': 'GDPR.LEGAL_BASIS.93589F9D-279B-4A42-99...</td>\n",
       "      <td>2019-12-11 10:32:42.367224</td>\n",
       "    </tr>\n",
       "  </tbody>\n",
       "</table>\n",
       "</div>"
      ],
      "text/plain": [
       "      id                                               prop  \\\n",
       "232  233  {'id': 'GDPR.LEGAL_BASIS.4FF259DD-416D-4ACC-86...   \n",
       "233  234  {'id': 'GDPR.LEGAL_BASIS.1558E5DB-8190-4FBC-A2...   \n",
       "234  235  {'id': 'GDPR.LEGAL_BASIS.DF4A35A8-A40A-4708-9D...   \n",
       "235  236  {'id': 'GDPR.LEGAL_BASIS.F5D8E28A-7B5E-468F-87...   \n",
       "236  237  {'id': 'GDPR.LEGAL_BASIS.93589F9D-279B-4A42-99...   \n",
       "\n",
       "                       created  \n",
       "232 2019-12-11 10:32:42.367224  \n",
       "233 2019-12-11 10:32:42.367224  \n",
       "234 2019-12-11 10:32:42.367224  \n",
       "235 2019-12-11 10:32:42.367224  \n",
       "236 2019-12-11 10:32:42.367224  "
      ]
     },
     "execution_count": 120,
     "metadata": {},
     "output_type": "execute_result"
    }
   ],
   "source": [
    "df = sqlio.read_sql_query(\"select * from tbl_node\", conn)\n",
    "df.tail()"
   ]
  },
  {
   "cell_type": "markdown",
   "metadata": {},
   "source": [
    "### Information types"
   ]
  },
  {
   "cell_type": "code",
   "execution_count": 121,
   "metadata": {},
   "outputs": [
    {
     "data": {
      "text/html": [
       "<div>\n",
       "<style scoped>\n",
       "    .dataframe tbody tr th:only-of-type {\n",
       "        vertical-align: middle;\n",
       "    }\n",
       "\n",
       "    .dataframe tbody tr th {\n",
       "        vertical-align: top;\n",
       "    }\n",
       "\n",
       "    .dataframe thead th {\n",
       "        text-align: right;\n",
       "    }\n",
       "</style>\n",
       "<table border=\"1\" class=\"dataframe\">\n",
       "  <thead>\n",
       "    <tr style=\"text-align: right;\">\n",
       "      <th></th>\n",
       "      <th>name</th>\n",
       "      <th>description</th>\n",
       "      <th>label</th>\n",
       "      <th>type</th>\n",
       "      <th>id</th>\n",
       "    </tr>\n",
       "  </thead>\n",
       "  <tbody>\n",
       "    <tr>\n",
       "      <th>0</th>\n",
       "      <td>SIVILSTAND</td>\n",
       "      <td>En overordnet kategori som beskriver en person...</td>\n",
       "      <td>Information type</td>\n",
       "      <td>GDPR.INFORMATION_TYPE</td>\n",
       "      <td>GDPR.INFORMATION_TYPE.SIVILSTAND</td>\n",
       "    </tr>\n",
       "    <tr>\n",
       "      <th>1</th>\n",
       "      <td>ARBEIDSFORHOLD</td>\n",
       "      <td>Avtaleforhold hvor den ene part, arbeidstakere...</td>\n",
       "      <td>Information type</td>\n",
       "      <td>GDPR.INFORMATION_TYPE</td>\n",
       "      <td>GDPR.INFORMATION_TYPE.ARBEIDSFORHOLD</td>\n",
       "    </tr>\n",
       "    <tr>\n",
       "      <th>2</th>\n",
       "      <td>KJØNN</td>\n",
       "      <td>TODO - mangler i begrepskatalogen og i MFNs be...</td>\n",
       "      <td>Information type</td>\n",
       "      <td>GDPR.INFORMATION_TYPE</td>\n",
       "      <td>GDPR.INFORMATION_TYPE.KJØNN</td>\n",
       "    </tr>\n",
       "    <tr>\n",
       "      <th>3</th>\n",
       "      <td>NAVN</td>\n",
       "      <td>I Norge skal alle ha fornavn og ett enkelt ell...</td>\n",
       "      <td>Information type</td>\n",
       "      <td>GDPR.INFORMATION_TYPE</td>\n",
       "      <td>GDPR.INFORMATION_TYPE.NAVN</td>\n",
       "    </tr>\n",
       "    <tr>\n",
       "      <th>4</th>\n",
       "      <td>FØDSELSDATO</td>\n",
       "      <td>Datoen personen er født.</td>\n",
       "      <td>Information type</td>\n",
       "      <td>GDPR.INFORMATION_TYPE</td>\n",
       "      <td>GDPR.INFORMATION_TYPE.FØDSELSDATO</td>\n",
       "    </tr>\n",
       "  </tbody>\n",
       "</table>\n",
       "</div>"
      ],
      "text/plain": [
       "             name                                        description  \\\n",
       "0      SIVILSTAND  En overordnet kategori som beskriver en person...   \n",
       "1  ARBEIDSFORHOLD  Avtaleforhold hvor den ene part, arbeidstakere...   \n",
       "2           KJØNN  TODO - mangler i begrepskatalogen og i MFNs be...   \n",
       "3            NAVN  I Norge skal alle ha fornavn og ett enkelt ell...   \n",
       "4     FØDSELSDATO                           Datoen personen er født.   \n",
       "\n",
       "              label                   type  \\\n",
       "0  Information type  GDPR.INFORMATION_TYPE   \n",
       "1  Information type  GDPR.INFORMATION_TYPE   \n",
       "2  Information type  GDPR.INFORMATION_TYPE   \n",
       "3  Information type  GDPR.INFORMATION_TYPE   \n",
       "4  Information type  GDPR.INFORMATION_TYPE   \n",
       "\n",
       "                                     id  \n",
       "0      GDPR.INFORMATION_TYPE.SIVILSTAND  \n",
       "1  GDPR.INFORMATION_TYPE.ARBEIDSFORHOLD  \n",
       "2           GDPR.INFORMATION_TYPE.KJØNN  \n",
       "3            GDPR.INFORMATION_TYPE.NAVN  \n",
       "4     GDPR.INFORMATION_TYPE.FØDSELSDATO  "
      ]
     },
     "execution_count": 121,
     "metadata": {},
     "output_type": "execute_result"
    }
   ],
   "source": [
    "sheet=xls.sheet_names[3]\n",
    "\n",
    "df_concepts = pd.read_excel(xls, sheet, encoding='latin1')\n",
    "df_concepts = df_concepts[['title', 'description']]\n",
    "df_concepts.columns=['name', 'description']\n",
    "df_concepts['name'] = df_concepts['name'].apply(lambda x: x.strip().upper())\n",
    "df_concepts = df_concepts.append({'name': 'NOT AVAILABLE', 'description': 'Not Available -Verdi mangler'}, ignore_index=True).drop_duplicates()\n",
    "df_concepts['label'] = 'Information type'\n",
    "df_concepts['type'] = 'GDPR.INFORMATION_TYPE'\n",
    "df_concepts['id'] = df_concepts.apply(get_id, axis=1)\n",
    "df_concepts.head()"
   ]
  },
  {
   "cell_type": "code",
   "execution_count": 122,
   "metadata": {},
   "outputs": [
    {
     "data": {
      "text/plain": [
       "'GDPR.INFORMATION_TYPE.SIVILSTAND'"
      ]
     },
     "execution_count": 122,
     "metadata": {},
     "output_type": "execute_result"
    }
   ],
   "source": [
    "df_concepts.iloc[0]['id']"
   ]
  },
  {
   "cell_type": "code",
   "execution_count": 123,
   "metadata": {},
   "outputs": [],
   "source": [
    "for i, row in df_concepts.iterrows():\n",
    "    jsonb = row.to_json()\n",
    "    insert_query = f\"insert into tbl_node (prop) values ('{jsonb}')\"\n",
    "    cur.execute(insert_query, (jsonb,))\n",
    "    \n",
    "conn.commit()"
   ]
  },
  {
   "cell_type": "code",
   "execution_count": 124,
   "metadata": {},
   "outputs": [
    {
     "data": {
      "text/html": [
       "<div>\n",
       "<style scoped>\n",
       "    .dataframe tbody tr th:only-of-type {\n",
       "        vertical-align: middle;\n",
       "    }\n",
       "\n",
       "    .dataframe tbody tr th {\n",
       "        vertical-align: top;\n",
       "    }\n",
       "\n",
       "    .dataframe thead th {\n",
       "        text-align: right;\n",
       "    }\n",
       "</style>\n",
       "<table border=\"1\" class=\"dataframe\">\n",
       "  <thead>\n",
       "    <tr style=\"text-align: right;\">\n",
       "      <th></th>\n",
       "      <th>id</th>\n",
       "      <th>prop</th>\n",
       "      <th>created</th>\n",
       "    </tr>\n",
       "  </thead>\n",
       "  <tbody>\n",
       "    <tr>\n",
       "      <th>253</th>\n",
       "      <td>254</td>\n",
       "      <td>{'id': 'GDPR.INFORMATION_TYPE.FLYKTNINGSTATUS'...</td>\n",
       "      <td>2019-12-11 10:32:46.459314</td>\n",
       "    </tr>\n",
       "    <tr>\n",
       "      <th>254</th>\n",
       "      <td>255</td>\n",
       "      <td>{'id': 'GDPR.INFORMATION_TYPE.FORELDREANSVAR',...</td>\n",
       "      <td>2019-12-11 10:32:46.459314</td>\n",
       "    </tr>\n",
       "    <tr>\n",
       "      <th>255</th>\n",
       "      <td>256</td>\n",
       "      <td>{'id': 'GDPR.INFORMATION_TYPE.FORSTERFORELDRE'...</td>\n",
       "      <td>2019-12-11 10:32:46.459314</td>\n",
       "    </tr>\n",
       "    <tr>\n",
       "      <th>256</th>\n",
       "      <td>257</td>\n",
       "      <td>{'id': 'GDPR.INFORMATION_TYPE.FULLMAKT', 'name...</td>\n",
       "      <td>2019-12-11 10:32:46.459314</td>\n",
       "    </tr>\n",
       "    <tr>\n",
       "      <th>257</th>\n",
       "      <td>258</td>\n",
       "      <td>{'id': 'GDPR.INFORMATION_TYPE.NOT AVAILABLE', ...</td>\n",
       "      <td>2019-12-11 10:32:46.459314</td>\n",
       "    </tr>\n",
       "  </tbody>\n",
       "</table>\n",
       "</div>"
      ],
      "text/plain": [
       "      id                                               prop  \\\n",
       "253  254  {'id': 'GDPR.INFORMATION_TYPE.FLYKTNINGSTATUS'...   \n",
       "254  255  {'id': 'GDPR.INFORMATION_TYPE.FORELDREANSVAR',...   \n",
       "255  256  {'id': 'GDPR.INFORMATION_TYPE.FORSTERFORELDRE'...   \n",
       "256  257  {'id': 'GDPR.INFORMATION_TYPE.FULLMAKT', 'name...   \n",
       "257  258  {'id': 'GDPR.INFORMATION_TYPE.NOT AVAILABLE', ...   \n",
       "\n",
       "                       created  \n",
       "253 2019-12-11 10:32:46.459314  \n",
       "254 2019-12-11 10:32:46.459314  \n",
       "255 2019-12-11 10:32:46.459314  \n",
       "256 2019-12-11 10:32:46.459314  \n",
       "257 2019-12-11 10:32:46.459314  "
      ]
     },
     "execution_count": 124,
     "metadata": {},
     "output_type": "execute_result"
    }
   ],
   "source": [
    "df = sqlio.read_sql_query(\"select * from tbl_node\", conn)\n",
    "df.tail()"
   ]
  },
  {
   "cell_type": "markdown",
   "metadata": {},
   "source": [
    "### Categories"
   ]
  },
  {
   "cell_type": "code",
   "execution_count": 125,
   "metadata": {},
   "outputs": [
    {
     "data": {
      "text/html": [
       "<div>\n",
       "<style scoped>\n",
       "    .dataframe tbody tr th:only-of-type {\n",
       "        vertical-align: middle;\n",
       "    }\n",
       "\n",
       "    .dataframe tbody tr th {\n",
       "        vertical-align: top;\n",
       "    }\n",
       "\n",
       "    .dataframe thead th {\n",
       "        text-align: right;\n",
       "    }\n",
       "</style>\n",
       "<table border=\"1\" class=\"dataframe\">\n",
       "  <thead>\n",
       "    <tr style=\"text-align: right;\">\n",
       "      <th></th>\n",
       "      <th>name</th>\n",
       "      <th>label</th>\n",
       "      <th>type</th>\n",
       "      <th>id</th>\n",
       "    </tr>\n",
       "  </thead>\n",
       "  <tbody>\n",
       "    <tr>\n",
       "      <th>0</th>\n",
       "      <td>PERSONALIA</td>\n",
       "      <td>Information type category</td>\n",
       "      <td>GDPR.INFORMATION_TYPE_CATEGORY</td>\n",
       "      <td>GDPR.INFORMATION_TYPE_CATEGORY.PERSONALIA</td>\n",
       "    </tr>\n",
       "    <tr>\n",
       "      <th>1</th>\n",
       "      <td>ARBEIDSFORHOLD</td>\n",
       "      <td>Information type category</td>\n",
       "      <td>GDPR.INFORMATION_TYPE_CATEGORY</td>\n",
       "      <td>GDPR.INFORMATION_TYPE_CATEGORY.ARBEIDSFORHOLD</td>\n",
       "    </tr>\n",
       "    <tr>\n",
       "      <th>6</th>\n",
       "      <td>KONTAKTOPPLYSNINGER</td>\n",
       "      <td>Information type category</td>\n",
       "      <td>GDPR.INFORMATION_TYPE_CATEGORY</td>\n",
       "      <td>GDPR.INFORMATION_TYPE_CATEGORY.KONTAKTOPPLYSNI...</td>\n",
       "    </tr>\n",
       "    <tr>\n",
       "      <th>9</th>\n",
       "      <td>FAMILIERELASJONER</td>\n",
       "      <td>Information type category</td>\n",
       "      <td>GDPR.INFORMATION_TYPE_CATEGORY</td>\n",
       "      <td>GDPR.INFORMATION_TYPE_CATEGORY.FAMILIERELASJONER</td>\n",
       "    </tr>\n",
       "    <tr>\n",
       "      <th>16</th>\n",
       "      <td>FOLKETRYGD</td>\n",
       "      <td>Information type category</td>\n",
       "      <td>GDPR.INFORMATION_TYPE_CATEGORY</td>\n",
       "      <td>GDPR.INFORMATION_TYPE_CATEGORY.FOLKETRYGD</td>\n",
       "    </tr>\n",
       "  </tbody>\n",
       "</table>\n",
       "</div>"
      ],
      "text/plain": [
       "                   name                      label  \\\n",
       "0            PERSONALIA  Information type category   \n",
       "1        ARBEIDSFORHOLD  Information type category   \n",
       "6   KONTAKTOPPLYSNINGER  Information type category   \n",
       "9     FAMILIERELASJONER  Information type category   \n",
       "16           FOLKETRYGD  Information type category   \n",
       "\n",
       "                              type  \\\n",
       "0   GDPR.INFORMATION_TYPE_CATEGORY   \n",
       "1   GDPR.INFORMATION_TYPE_CATEGORY   \n",
       "6   GDPR.INFORMATION_TYPE_CATEGORY   \n",
       "9   GDPR.INFORMATION_TYPE_CATEGORY   \n",
       "16  GDPR.INFORMATION_TYPE_CATEGORY   \n",
       "\n",
       "                                                   id  \n",
       "0           GDPR.INFORMATION_TYPE_CATEGORY.PERSONALIA  \n",
       "1       GDPR.INFORMATION_TYPE_CATEGORY.ARBEIDSFORHOLD  \n",
       "6   GDPR.INFORMATION_TYPE_CATEGORY.KONTAKTOPPLYSNI...  \n",
       "9    GDPR.INFORMATION_TYPE_CATEGORY.FAMILIERELASJONER  \n",
       "16          GDPR.INFORMATION_TYPE_CATEGORY.FOLKETRYGD  "
      ]
     },
     "execution_count": 125,
     "metadata": {},
     "output_type": "execute_result"
    }
   ],
   "source": [
    "sheet=xls.sheet_names[3]\n",
    "df_categories = pd.read_excel(xls, sheet, encoding='latin1')\n",
    "df_categories = df_categories[['categories']]\n",
    "df_categories.columns=['name']\n",
    "df_categories['name'] = df_categories['name'].apply(lambda x: x.strip().upper())\n",
    "df_categories = df_categories.append({'name': 'NOT AVAILABLE'}, ignore_index=True).drop_duplicates()\n",
    "df_categories['label'] = 'Information type category'\n",
    "df_categories['type'] = 'GDPR.INFORMATION_TYPE_CATEGORY'\n",
    "df_categories['id'] = df_categories.apply(get_id, axis=1)\n",
    "df_categories.head()"
   ]
  },
  {
   "cell_type": "code",
   "execution_count": 126,
   "metadata": {},
   "outputs": [],
   "source": [
    "for i, row in df_categories.iterrows():\n",
    "    index = index + 1\n",
    "    jsonb = row.to_json()\n",
    "    insert_query = f\"insert into tbl_node (prop) values ('{jsonb}')\"\n",
    "    cur.execute(insert_query, (jsonb,))\n",
    "    \n",
    "conn.commit()"
   ]
  },
  {
   "cell_type": "markdown",
   "metadata": {},
   "source": [
    "### Nodes"
   ]
  },
  {
   "cell_type": "code",
   "execution_count": 127,
   "metadata": {},
   "outputs": [],
   "source": [
    "df_nodes = sqlio.read_sql_query(\"select * from tbl_node\", conn)"
   ]
  },
  {
   "cell_type": "code",
   "execution_count": 128,
   "metadata": {},
   "outputs": [
    {
     "data": {
      "text/html": [
       "<div>\n",
       "<style scoped>\n",
       "    .dataframe tbody tr th:only-of-type {\n",
       "        vertical-align: middle;\n",
       "    }\n",
       "\n",
       "    .dataframe tbody tr th {\n",
       "        vertical-align: top;\n",
       "    }\n",
       "\n",
       "    .dataframe thead th {\n",
       "        text-align: right;\n",
       "    }\n",
       "</style>\n",
       "<table border=\"1\" class=\"dataframe\">\n",
       "  <thead>\n",
       "    <tr style=\"text-align: right;\">\n",
       "      <th></th>\n",
       "      <th>id</th>\n",
       "      <th>prop</th>\n",
       "      <th>created</th>\n",
       "    </tr>\n",
       "  </thead>\n",
       "  <tbody>\n",
       "    <tr>\n",
       "      <th>0</th>\n",
       "      <td>1</td>\n",
       "      <td>{'id': 'GDPR.PROCESSING_ACTIVITY.ALDERSPENSJON...</td>\n",
       "      <td>2019-12-11 10:32:31.930888</td>\n",
       "    </tr>\n",
       "    <tr>\n",
       "      <th>1</th>\n",
       "      <td>2</td>\n",
       "      <td>{'id': 'GDPR.PROCESSING_ACTIVITY.ARBEIDSAVKLAR...</td>\n",
       "      <td>2019-12-11 10:32:31.930888</td>\n",
       "    </tr>\n",
       "    <tr>\n",
       "      <th>2</th>\n",
       "      <td>3</td>\n",
       "      <td>{'id': 'GDPR.PROCESSING_ACTIVITY.AVTALEFESTET ...</td>\n",
       "      <td>2019-12-11 10:32:31.930888</td>\n",
       "    </tr>\n",
       "    <tr>\n",
       "      <th>3</th>\n",
       "      <td>4</td>\n",
       "      <td>{'id': 'GDPR.PROCESSING_ACTIVITY.AVTALEFESTET ...</td>\n",
       "      <td>2019-12-11 10:32:31.930888</td>\n",
       "    </tr>\n",
       "    <tr>\n",
       "      <th>4</th>\n",
       "      <td>5</td>\n",
       "      <td>{'id': 'GDPR.PROCESSING_ACTIVITY.BARNEBIDRAG',...</td>\n",
       "      <td>2019-12-11 10:32:31.930888</td>\n",
       "    </tr>\n",
       "  </tbody>\n",
       "</table>\n",
       "</div>"
      ],
      "text/plain": [
       "   id                                               prop  \\\n",
       "0   1  {'id': 'GDPR.PROCESSING_ACTIVITY.ALDERSPENSJON...   \n",
       "1   2  {'id': 'GDPR.PROCESSING_ACTIVITY.ARBEIDSAVKLAR...   \n",
       "2   3  {'id': 'GDPR.PROCESSING_ACTIVITY.AVTALEFESTET ...   \n",
       "3   4  {'id': 'GDPR.PROCESSING_ACTIVITY.AVTALEFESTET ...   \n",
       "4   5  {'id': 'GDPR.PROCESSING_ACTIVITY.BARNEBIDRAG',...   \n",
       "\n",
       "                     created  \n",
       "0 2019-12-11 10:32:31.930888  \n",
       "1 2019-12-11 10:32:31.930888  \n",
       "2 2019-12-11 10:32:31.930888  \n",
       "3 2019-12-11 10:32:31.930888  \n",
       "4 2019-12-11 10:32:31.930888  "
      ]
     },
     "execution_count": 128,
     "metadata": {},
     "output_type": "execute_result"
    }
   ],
   "source": [
    "df_nodes.head()"
   ]
  },
  {
   "cell_type": "code",
   "execution_count": 129,
   "metadata": {},
   "outputs": [
    {
     "data": {
      "text/plain": [
       "{'id': 'GDPR.PROCESSING_ACTIVITY.ALDERSPENSJON',\n",
       " 'name': 'ALDERSPENSJON',\n",
       " 'type': 'GDPR.PROCESSING_ACTIVITY',\n",
       " 'label': 'Processing activity',\n",
       " 'description': 'Behandle og vurdere rett til alderspensjon som skal sikre inntekt for personer i alderdommen og å legge til rette for en fleksibel og gradvis overgang fra arbeid til pensjon.'}"
      ]
     },
     "execution_count": 129,
     "metadata": {},
     "output_type": "execute_result"
    }
   ],
   "source": [
    "df_nodes.iloc[0]['prop']"
   ]
  },
  {
   "cell_type": "code",
   "execution_count": 130,
   "metadata": {},
   "outputs": [
    {
     "data": {
      "text/html": [
       "<div>\n",
       "<style scoped>\n",
       "    .dataframe tbody tr th:only-of-type {\n",
       "        vertical-align: middle;\n",
       "    }\n",
       "\n",
       "    .dataframe tbody tr th {\n",
       "        vertical-align: top;\n",
       "    }\n",
       "\n",
       "    .dataframe thead th {\n",
       "        text-align: right;\n",
       "    }\n",
       "</style>\n",
       "<table border=\"1\" class=\"dataframe\">\n",
       "  <thead>\n",
       "    <tr style=\"text-align: right;\">\n",
       "      <th></th>\n",
       "      <th>id</th>\n",
       "      <th>prop</th>\n",
       "      <th>created</th>\n",
       "      <th>name</th>\n",
       "      <th>type</th>\n",
       "    </tr>\n",
       "  </thead>\n",
       "  <tbody>\n",
       "    <tr>\n",
       "      <th>0</th>\n",
       "      <td>1</td>\n",
       "      <td>{'id': 'GDPR.PROCESSING_ACTIVITY.ALDERSPENSJON...</td>\n",
       "      <td>2019-12-11 10:32:31.930888</td>\n",
       "      <td>ALDERSPENSJON</td>\n",
       "      <td>GDPR.PROCESSING_ACTIVITY</td>\n",
       "    </tr>\n",
       "    <tr>\n",
       "      <th>1</th>\n",
       "      <td>2</td>\n",
       "      <td>{'id': 'GDPR.PROCESSING_ACTIVITY.ARBEIDSAVKLAR...</td>\n",
       "      <td>2019-12-11 10:32:31.930888</td>\n",
       "      <td>ARBEIDSAVKLARINGSPENGER (AAP)</td>\n",
       "      <td>GDPR.PROCESSING_ACTIVITY</td>\n",
       "    </tr>\n",
       "    <tr>\n",
       "      <th>2</th>\n",
       "      <td>3</td>\n",
       "      <td>{'id': 'GDPR.PROCESSING_ACTIVITY.AVTALEFESTET ...</td>\n",
       "      <td>2019-12-11 10:32:31.930888</td>\n",
       "      <td>AVTALEFESTET PENSJON (AFP) FOR PRIVAT SEKTOR</td>\n",
       "      <td>GDPR.PROCESSING_ACTIVITY</td>\n",
       "    </tr>\n",
       "    <tr>\n",
       "      <th>3</th>\n",
       "      <td>4</td>\n",
       "      <td>{'id': 'GDPR.PROCESSING_ACTIVITY.AVTALEFESTET ...</td>\n",
       "      <td>2019-12-11 10:32:31.930888</td>\n",
       "      <td>AVTALEFESTET PENSJON (AFP) FOR STATLIG OG KOMM...</td>\n",
       "      <td>GDPR.PROCESSING_ACTIVITY</td>\n",
       "    </tr>\n",
       "    <tr>\n",
       "      <th>4</th>\n",
       "      <td>5</td>\n",
       "      <td>{'id': 'GDPR.PROCESSING_ACTIVITY.BARNEBIDRAG',...</td>\n",
       "      <td>2019-12-11 10:32:31.930888</td>\n",
       "      <td>BARNEBIDRAG</td>\n",
       "      <td>GDPR.PROCESSING_ACTIVITY</td>\n",
       "    </tr>\n",
       "  </tbody>\n",
       "</table>\n",
       "</div>"
      ],
      "text/plain": [
       "   id                                               prop  \\\n",
       "0   1  {'id': 'GDPR.PROCESSING_ACTIVITY.ALDERSPENSJON...   \n",
       "1   2  {'id': 'GDPR.PROCESSING_ACTIVITY.ARBEIDSAVKLAR...   \n",
       "2   3  {'id': 'GDPR.PROCESSING_ACTIVITY.AVTALEFESTET ...   \n",
       "3   4  {'id': 'GDPR.PROCESSING_ACTIVITY.AVTALEFESTET ...   \n",
       "4   5  {'id': 'GDPR.PROCESSING_ACTIVITY.BARNEBIDRAG',...   \n",
       "\n",
       "                     created  \\\n",
       "0 2019-12-11 10:32:31.930888   \n",
       "1 2019-12-11 10:32:31.930888   \n",
       "2 2019-12-11 10:32:31.930888   \n",
       "3 2019-12-11 10:32:31.930888   \n",
       "4 2019-12-11 10:32:31.930888   \n",
       "\n",
       "                                                name                      type  \n",
       "0                                      ALDERSPENSJON  GDPR.PROCESSING_ACTIVITY  \n",
       "1                      ARBEIDSAVKLARINGSPENGER (AAP)  GDPR.PROCESSING_ACTIVITY  \n",
       "2       AVTALEFESTET PENSJON (AFP) FOR PRIVAT SEKTOR  GDPR.PROCESSING_ACTIVITY  \n",
       "3  AVTALEFESTET PENSJON (AFP) FOR STATLIG OG KOMM...  GDPR.PROCESSING_ACTIVITY  \n",
       "4                                        BARNEBIDRAG  GDPR.PROCESSING_ACTIVITY  "
      ]
     },
     "execution_count": 130,
     "metadata": {},
     "output_type": "execute_result"
    }
   ],
   "source": [
    "df_nodes = sqlio.read_sql_query(\"select * from tbl_node\", conn)\n",
    "df_nodes['name'] = df_nodes['prop'].apply(lambda x : x['name'])\n",
    "df_nodes['type'] = df_nodes['prop'].apply(lambda x : x['type'])\n",
    "df_nodes.head()"
   ]
  },
  {
   "cell_type": "markdown",
   "metadata": {},
   "source": [
    "### Edges"
   ]
  },
  {
   "cell_type": "code",
   "execution_count": 131,
   "metadata": {},
   "outputs": [
    {
     "data": {
      "text/html": [
       "<div>\n",
       "<style scoped>\n",
       "    .dataframe tbody tr th:only-of-type {\n",
       "        vertical-align: middle;\n",
       "    }\n",
       "\n",
       "    .dataframe tbody tr th {\n",
       "        vertical-align: top;\n",
       "    }\n",
       "\n",
       "    .dataframe thead th {\n",
       "        text-align: right;\n",
       "    }\n",
       "</style>\n",
       "<table border=\"1\" class=\"dataframe\">\n",
       "  <thead>\n",
       "    <tr style=\"text-align: right;\">\n",
       "      <th></th>\n",
       "      <th>source</th>\n",
       "      <th>target</th>\n",
       "    </tr>\n",
       "  </thead>\n",
       "  <tbody>\n",
       "    <tr>\n",
       "      <th>0</th>\n",
       "      <td>SIVILSTAND</td>\n",
       "      <td>PERSONALIA</td>\n",
       "    </tr>\n",
       "    <tr>\n",
       "      <th>1</th>\n",
       "      <td>ARBEIDSFORHOLD</td>\n",
       "      <td>ARBEIDSFORHOLD</td>\n",
       "    </tr>\n",
       "    <tr>\n",
       "      <th>2</th>\n",
       "      <td>KJØNN</td>\n",
       "      <td>PERSONALIA</td>\n",
       "    </tr>\n",
       "    <tr>\n",
       "      <th>3</th>\n",
       "      <td>NAVN</td>\n",
       "      <td>PERSONALIA</td>\n",
       "    </tr>\n",
       "    <tr>\n",
       "      <th>4</th>\n",
       "      <td>FØDSELSDATO</td>\n",
       "      <td>PERSONALIA</td>\n",
       "    </tr>\n",
       "  </tbody>\n",
       "</table>\n",
       "</div>"
      ],
      "text/plain": [
       "           source          target\n",
       "0      SIVILSTAND      PERSONALIA\n",
       "1  ARBEIDSFORHOLD  ARBEIDSFORHOLD\n",
       "2           KJØNN      PERSONALIA\n",
       "3            NAVN      PERSONALIA\n",
       "4     FØDSELSDATO      PERSONALIA"
      ]
     },
     "execution_count": 131,
     "metadata": {},
     "output_type": "execute_result"
    }
   ],
   "source": [
    "sheet=xls.sheet_names[3]\n",
    "df_edges = pd.read_excel(xls, sheet, encoding='latin1')\n",
    "df_edges = df_edges[['title', 'categories']].drop_duplicates()\n",
    "df_edges.columns = ['source', 'target']\n",
    "df_edges['source'] = df_edges['source'].apply(lambda x: x.strip().upper())\n",
    "df_edges['target'] = df_edges['target'].apply(lambda x: x.strip().upper())\n",
    "df_edges.drop_duplicates()\n",
    "\n",
    "df_edges.head()"
   ]
  },
  {
   "cell_type": "code",
   "execution_count": 132,
   "metadata": {},
   "outputs": [],
   "source": [
    "conn.commit()"
   ]
  },
  {
   "cell_type": "code",
   "execution_count": 133,
   "metadata": {},
   "outputs": [],
   "source": [
    "cur.execute(\"delete from tbl_edge\")\n",
    "conn.commit()\n",
    "\n",
    "for index, row in df_edges.iterrows():\n",
    "    df_nodes.loc[((df_nodes['name'] == row['source']) & (df_nodes['type'] == 'GDPR.INFORMATION_TYPE')), 'id']\n",
    "    source_id = df_nodes.loc[((df_nodes['name'] == row['source']) & (df_nodes['type'] == 'GDPR.INFORMATION_TYPE')), 'id'].item()\n",
    "    target_id = df_nodes.loc[((df_nodes['name'] == row['target']) & (df_nodes['type'] == 'GDPR.INFORMATION_TYPE_CATEGORY')), 'id'].item()\n",
    "    cur.execute(f\"insert into tbl_edge (n1,n2,prop) values ({source_id},{target_id},array['belongs to category']);\")\n",
    "    \n",
    "conn.commit()"
   ]
  },
  {
   "cell_type": "code",
   "execution_count": 134,
   "metadata": {},
   "outputs": [
    {
     "data": {
      "text/html": [
       "<div>\n",
       "<style scoped>\n",
       "    .dataframe tbody tr th:only-of-type {\n",
       "        vertical-align: middle;\n",
       "    }\n",
       "\n",
       "    .dataframe tbody tr th {\n",
       "        vertical-align: top;\n",
       "    }\n",
       "\n",
       "    .dataframe thead th {\n",
       "        text-align: right;\n",
       "    }\n",
       "</style>\n",
       "<table border=\"1\" class=\"dataframe\">\n",
       "  <thead>\n",
       "    <tr style=\"text-align: right;\">\n",
       "      <th></th>\n",
       "      <th>source</th>\n",
       "      <th>target</th>\n",
       "    </tr>\n",
       "  </thead>\n",
       "  <tbody>\n",
       "    <tr>\n",
       "      <th>0</th>\n",
       "      <td>PERSONALIA</td>\n",
       "      <td>SIVILSTAND</td>\n",
       "    </tr>\n",
       "    <tr>\n",
       "      <th>1</th>\n",
       "      <td>ARBEIDSFORHOLD</td>\n",
       "      <td>ARBEIDSFORHOLD</td>\n",
       "    </tr>\n",
       "    <tr>\n",
       "      <th>2</th>\n",
       "      <td>PERSONALIA</td>\n",
       "      <td>KJØNN</td>\n",
       "    </tr>\n",
       "    <tr>\n",
       "      <th>3</th>\n",
       "      <td>PERSONALIA</td>\n",
       "      <td>NAVN</td>\n",
       "    </tr>\n",
       "    <tr>\n",
       "      <th>4</th>\n",
       "      <td>PERSONALIA</td>\n",
       "      <td>FØDSELSDATO</td>\n",
       "    </tr>\n",
       "  </tbody>\n",
       "</table>\n",
       "</div>"
      ],
      "text/plain": [
       "           source          target\n",
       "0      PERSONALIA      SIVILSTAND\n",
       "1  ARBEIDSFORHOLD  ARBEIDSFORHOLD\n",
       "2      PERSONALIA           KJØNN\n",
       "3      PERSONALIA            NAVN\n",
       "4      PERSONALIA     FØDSELSDATO"
      ]
     },
     "execution_count": 134,
     "metadata": {},
     "output_type": "execute_result"
    }
   ],
   "source": [
    "df_edges = pd.read_excel(xls, sheet, encoding='latin1')\n",
    "df_edges = df_edges[['categories', 'title']].drop_duplicates()\n",
    "df_edges.columns = ['source', 'target']\n",
    "df_edges['source'] = df_edges['source'].apply(lambda x: x.strip().upper())\n",
    "df_edges['target'] = df_edges['target'].apply(lambda x: x.strip().upper())\n",
    "df_edges.drop_duplicates()\n",
    "\n",
    "df_edges.head()"
   ]
  },
  {
   "cell_type": "code",
   "execution_count": 135,
   "metadata": {},
   "outputs": [],
   "source": [
    "for index, row in df_edges.iterrows():\n",
    "    df_nodes.loc[((df_nodes['name'] == row['source']) & (df_nodes['type'] == 'GDPR.INFORMATION_TYPE')), 'id']\n",
    "    source_id = df_nodes.loc[((df_nodes['name'] == row['source']) & (df_nodes['type'] == 'GDPR.INFORMATION_TYPE_CATEGORY')), 'id'].item()\n",
    "    target_id = df_nodes.loc[((df_nodes['name'] == row['target']) & (df_nodes['type'] == 'GDPR.INFORMATION_TYPE')), 'id'].item()\n",
    "    cur.execute(f\"insert into tbl_edge (n1,n2,prop) values ({source_id},{target_id},array['contains concept']);\")\n",
    "    \n",
    "conn.commit()\n"
   ]
  },
  {
   "cell_type": "code",
   "execution_count": 136,
   "metadata": {},
   "outputs": [
    {
     "data": {
      "text/html": [
       "<div>\n",
       "<style scoped>\n",
       "    .dataframe tbody tr th:only-of-type {\n",
       "        vertical-align: middle;\n",
       "    }\n",
       "\n",
       "    .dataframe tbody tr th {\n",
       "        vertical-align: top;\n",
       "    }\n",
       "\n",
       "    .dataframe thead th {\n",
       "        text-align: right;\n",
       "    }\n",
       "</style>\n",
       "<table border=\"1\" class=\"dataframe\">\n",
       "  <thead>\n",
       "    <tr style=\"text-align: right;\">\n",
       "      <th></th>\n",
       "      <th>n1</th>\n",
       "      <th>n2</th>\n",
       "      <th>prop</th>\n",
       "      <th>created</th>\n",
       "    </tr>\n",
       "  </thead>\n",
       "  <tbody>\n",
       "    <tr>\n",
       "      <th>0</th>\n",
       "      <td>238</td>\n",
       "      <td>259</td>\n",
       "      <td>[belongs to category]</td>\n",
       "      <td>2019-12-11 10:33:33.000157</td>\n",
       "    </tr>\n",
       "    <tr>\n",
       "      <th>1</th>\n",
       "      <td>239</td>\n",
       "      <td>260</td>\n",
       "      <td>[belongs to category]</td>\n",
       "      <td>2019-12-11 10:33:33.000157</td>\n",
       "    </tr>\n",
       "    <tr>\n",
       "      <th>2</th>\n",
       "      <td>240</td>\n",
       "      <td>259</td>\n",
       "      <td>[belongs to category]</td>\n",
       "      <td>2019-12-11 10:33:33.000157</td>\n",
       "    </tr>\n",
       "    <tr>\n",
       "      <th>3</th>\n",
       "      <td>241</td>\n",
       "      <td>259</td>\n",
       "      <td>[belongs to category]</td>\n",
       "      <td>2019-12-11 10:33:33.000157</td>\n",
       "    </tr>\n",
       "    <tr>\n",
       "      <th>4</th>\n",
       "      <td>242</td>\n",
       "      <td>259</td>\n",
       "      <td>[belongs to category]</td>\n",
       "      <td>2019-12-11 10:33:33.000157</td>\n",
       "    </tr>\n",
       "  </tbody>\n",
       "</table>\n",
       "</div>"
      ],
      "text/plain": [
       "    n1   n2                   prop                    created\n",
       "0  238  259  [belongs to category] 2019-12-11 10:33:33.000157\n",
       "1  239  260  [belongs to category] 2019-12-11 10:33:33.000157\n",
       "2  240  259  [belongs to category] 2019-12-11 10:33:33.000157\n",
       "3  241  259  [belongs to category] 2019-12-11 10:33:33.000157\n",
       "4  242  259  [belongs to category] 2019-12-11 10:33:33.000157"
      ]
     },
     "execution_count": 136,
     "metadata": {},
     "output_type": "execute_result"
    }
   ],
   "source": [
    "sql = \"select * from tbl_edge\"\n",
    "df = sqlio.read_sql_query(sql, conn)\n",
    "df.head()"
   ]
  },
  {
   "cell_type": "code",
   "execution_count": 147,
   "metadata": {},
   "outputs": [],
   "source": [
    "conn.commit()"
   ]
  },
  {
   "cell_type": "code",
   "execution_count": 148,
   "metadata": {},
   "outputs": [],
   "source": [
    "cur.execute(\"DROP FUNCTION graph_search1(integer,integer,bigint)\")"
   ]
  },
  {
   "cell_type": "code",
   "execution_count": 149,
   "metadata": {},
   "outputs": [],
   "source": [
    "sql = \"\"\"\n",
    "create or replace function graph_search1(      \n",
    "  IN i_root int,                       -- The node that the search is based on        \n",
    "  IN i_depth int  default 99999,       -- the tier to search (the depth limit)      \n",
    "  IN i_limit int8 default 2000000000,  -- limit the number of records returned for each tier      \n",
    "  OUT o_path int[],                    -- output: path, an array of IDs      \n",
    "  OUT o_point1 int,                    -- output: point 1 ID      \n",
    "  OUT o_point2 int,                    -- output: point 2 ID      \n",
    "  OUT o_link_prop text[],              -- output: the connection property between the two current points      \n",
    "  OUT o_link_prop_all text,            -- output: the connection property from the starting node to the current node      \n",
    "  OUT o_depth int                      -- output: current depth (tier)      \n",
    ") returns setof record as \n",
    "$$\n",
    "      \n",
    "declare      \n",
    "  sql text;      \n",
    "begin      \n",
    "sql := format($_$      \n",
    "WITH RECURSIVE search_graph(        \n",
    "  n1,     -- point 1        \n",
    "  n2,     -- point 2        \n",
    "  prop,   -- current edge property      \n",
    "  all_prop,  -- properties of all edges  \n",
    "  depth,  -- current depth, starting from 1         \n",
    "  path    -- path, stored as an array         \n",
    ") AS (        \n",
    "        select n1,n2,prop,all_prop,depth,path from (        \n",
    "        SELECT                               -- ROOT node query        \n",
    "          g.n1,                              -- point 1        \n",
    "          g.n2,                              -- point 2        \n",
    "          g.prop,                            -- edge property        \n",
    "      g.prop::text as all_prop,              -- properties of all edges  \n",
    "          1 depth,                           -- initial depth=1        \n",
    "          ARRAY[g.n1, g.n2] path             -- initial path        \n",
    "        FROM tbl_edge AS g         \n",
    "        WHERE         \n",
    "          n1 = %s                            -- ROOT node=?        \n",
    "          limit %s                           -- How many records are limited at each tier?        \n",
    "        ) t        \n",
    "      UNION ALL        \n",
    "        select n1,n2,prop,all_prop,depth,path from (        \n",
    "        SELECT                               -- recursive clause         \n",
    "          g.n1,                              -- point 1        \n",
    "          g.n2,                              -- point 2        \n",
    "          g.prop,                            -- edge property     \n",
    "      sg.all_prop || g.prop::text as all_prop,    -- properties of all edges  \n",
    "          sg.depth + 1 depth,                   -- depth +1        \n",
    "          sg.path || g.n2 path                 -- Add a new point to the path        \n",
    "        FROM tbl_edge AS g, search_graph AS sg    -- circular INNER JOIN        \n",
    "        WHERE         \n",
    "          g.n1 = sg.n2                       -- recursive JOIN condition        \n",
    "          AND (g.n2 <> ALL(sg.path))                      -- Prevent loop, determine whether it is a loop and judge if the new point is already in the previous path   \n",
    "          AND sg.depth <= %s                 -- search depth =?          \n",
    "          limit %s                           -- How many records are limited at each tier?       \n",
    "        ) t        \n",
    ")        \n",
    "SELECT path as o_path, n1 as o_point1, n2 as o_point2, prop as o_link_prop, all_prop as o_link_prop_all, depth as o_depth      \n",
    "FROM search_graph;                           -- query a recursive table. You can add LIMIT output or use a cursor       \n",
    "$_$, i_root, i_limit, i_depth, i_limit      \n",
    ");      \n",
    "      \n",
    "return query execute sql;      \n",
    "      \n",
    "end;      \n",
    "\n",
    "$$\n",
    " language plpgsql strict;   \n",
    "\"\"\"\n",
    "\n",
    "cur.execute(sql)"
   ]
  },
  {
   "cell_type": "code",
   "execution_count": 150,
   "metadata": {},
   "outputs": [],
   "source": [
    "conn.commit()"
   ]
  },
  {
   "cell_type": "code",
   "execution_count": 151,
   "metadata": {},
   "outputs": [
    {
     "name": "stdout",
     "output_type": "stream",
     "text": [
      "CPU times: user 2.33 ms, sys: 1.36 ms, total: 3.69 ms\n",
      "Wall time: 9.53 ms\n"
     ]
    }
   ],
   "source": [
    "%%time\n",
    "sql = \"select * from graph_search1(259)\"\n",
    "df = sqlio.read_sql_query(sql, conn)"
   ]
  },
  {
   "cell_type": "code",
   "execution_count": 163,
   "metadata": {},
   "outputs": [],
   "source": [
    "sql = \"select * from graph_search1(259)\"\n",
    "df = sqlio.read_sql_query(sql, conn)"
   ]
  },
  {
   "cell_type": "code",
   "execution_count": 164,
   "metadata": {},
   "outputs": [
    {
     "data": {
      "text/html": [
       "<div>\n",
       "<style scoped>\n",
       "    .dataframe tbody tr th:only-of-type {\n",
       "        vertical-align: middle;\n",
       "    }\n",
       "\n",
       "    .dataframe tbody tr th {\n",
       "        vertical-align: top;\n",
       "    }\n",
       "\n",
       "    .dataframe thead th {\n",
       "        text-align: right;\n",
       "    }\n",
       "</style>\n",
       "<table border=\"1\" class=\"dataframe\">\n",
       "  <thead>\n",
       "    <tr style=\"text-align: right;\">\n",
       "      <th></th>\n",
       "      <th>o_path</th>\n",
       "      <th>o_point1</th>\n",
       "      <th>o_point2</th>\n",
       "      <th>o_link_prop</th>\n",
       "      <th>o_link_prop_all</th>\n",
       "      <th>o_depth</th>\n",
       "    </tr>\n",
       "  </thead>\n",
       "  <tbody>\n",
       "    <tr>\n",
       "      <th>0</th>\n",
       "      <td>[259, 238]</td>\n",
       "      <td>259</td>\n",
       "      <td>238</td>\n",
       "      <td>[contains concept]</td>\n",
       "      <td>{\"contains concept\"}</td>\n",
       "      <td>1</td>\n",
       "    </tr>\n",
       "    <tr>\n",
       "      <th>1</th>\n",
       "      <td>[259, 240]</td>\n",
       "      <td>259</td>\n",
       "      <td>240</td>\n",
       "      <td>[contains concept]</td>\n",
       "      <td>{\"contains concept\"}</td>\n",
       "      <td>1</td>\n",
       "    </tr>\n",
       "    <tr>\n",
       "      <th>2</th>\n",
       "      <td>[259, 241]</td>\n",
       "      <td>259</td>\n",
       "      <td>241</td>\n",
       "      <td>[contains concept]</td>\n",
       "      <td>{\"contains concept\"}</td>\n",
       "      <td>1</td>\n",
       "    </tr>\n",
       "    <tr>\n",
       "      <th>3</th>\n",
       "      <td>[259, 242]</td>\n",
       "      <td>259</td>\n",
       "      <td>242</td>\n",
       "      <td>[contains concept]</td>\n",
       "      <td>{\"contains concept\"}</td>\n",
       "      <td>1</td>\n",
       "    </tr>\n",
       "    <tr>\n",
       "      <th>4</th>\n",
       "      <td>[259, 243]</td>\n",
       "      <td>259</td>\n",
       "      <td>243</td>\n",
       "      <td>[contains concept]</td>\n",
       "      <td>{\"contains concept\"}</td>\n",
       "      <td>1</td>\n",
       "    </tr>\n",
       "  </tbody>\n",
       "</table>\n",
       "</div>"
      ],
      "text/plain": [
       "       o_path  o_point1  o_point2         o_link_prop       o_link_prop_all  \\\n",
       "0  [259, 238]       259       238  [contains concept]  {\"contains concept\"}   \n",
       "1  [259, 240]       259       240  [contains concept]  {\"contains concept\"}   \n",
       "2  [259, 241]       259       241  [contains concept]  {\"contains concept\"}   \n",
       "3  [259, 242]       259       242  [contains concept]  {\"contains concept\"}   \n",
       "4  [259, 243]       259       243  [contains concept]  {\"contains concept\"}   \n",
       "\n",
       "   o_depth  \n",
       "0        1  \n",
       "1        1  \n",
       "2        1  \n",
       "3        1  \n",
       "4        1  "
      ]
     },
     "execution_count": 164,
     "metadata": {},
     "output_type": "execute_result"
    }
   ],
   "source": [
    "df"
   ]
  },
  {
   "cell_type": "code",
   "execution_count": 174,
   "metadata": {},
   "outputs": [],
   "source": [
    "df_edgelist=df[['o_point1','o_point2','o_link_prop','o_depth']].copy()\n",
    "df_edgelist.columns=['source','target','props','weight']\n",
    "df_edgelist['prop'] = df_edgelist['props'].apply(lambda x: x[0])\n",
    "df_edgelist = pd.merge(df_edgelist, df_nodes[['id', 'name']], left_on='source', right_on='id')\n",
    "df_edgelist = pd.merge(df_edgelist, df_nodes[['id', 'name']], left_on='target', right_on='id')\n"
   ]
  },
  {
   "cell_type": "code",
   "execution_count": 175,
   "metadata": {},
   "outputs": [
    {
     "data": {
      "text/html": [
       "<div>\n",
       "<style scoped>\n",
       "    .dataframe tbody tr th:only-of-type {\n",
       "        vertical-align: middle;\n",
       "    }\n",
       "\n",
       "    .dataframe tbody tr th {\n",
       "        vertical-align: top;\n",
       "    }\n",
       "\n",
       "    .dataframe thead th {\n",
       "        text-align: right;\n",
       "    }\n",
       "</style>\n",
       "<table border=\"1\" class=\"dataframe\">\n",
       "  <thead>\n",
       "    <tr style=\"text-align: right;\">\n",
       "      <th></th>\n",
       "      <th>source</th>\n",
       "      <th>target</th>\n",
       "      <th>props</th>\n",
       "      <th>weight</th>\n",
       "      <th>prop</th>\n",
       "      <th>id_x</th>\n",
       "      <th>name_x</th>\n",
       "      <th>id_y</th>\n",
       "      <th>name_y</th>\n",
       "    </tr>\n",
       "  </thead>\n",
       "  <tbody>\n",
       "    <tr>\n",
       "      <th>0</th>\n",
       "      <td>259</td>\n",
       "      <td>238</td>\n",
       "      <td>[contains concept]</td>\n",
       "      <td>1</td>\n",
       "      <td>contains concept</td>\n",
       "      <td>259</td>\n",
       "      <td>PERSONALIA</td>\n",
       "      <td>238</td>\n",
       "      <td>SIVILSTAND</td>\n",
       "    </tr>\n",
       "    <tr>\n",
       "      <th>1</th>\n",
       "      <td>259</td>\n",
       "      <td>240</td>\n",
       "      <td>[contains concept]</td>\n",
       "      <td>1</td>\n",
       "      <td>contains concept</td>\n",
       "      <td>259</td>\n",
       "      <td>PERSONALIA</td>\n",
       "      <td>240</td>\n",
       "      <td>KJØNN</td>\n",
       "    </tr>\n",
       "    <tr>\n",
       "      <th>2</th>\n",
       "      <td>259</td>\n",
       "      <td>241</td>\n",
       "      <td>[contains concept]</td>\n",
       "      <td>1</td>\n",
       "      <td>contains concept</td>\n",
       "      <td>259</td>\n",
       "      <td>PERSONALIA</td>\n",
       "      <td>241</td>\n",
       "      <td>NAVN</td>\n",
       "    </tr>\n",
       "    <tr>\n",
       "      <th>3</th>\n",
       "      <td>259</td>\n",
       "      <td>242</td>\n",
       "      <td>[contains concept]</td>\n",
       "      <td>1</td>\n",
       "      <td>contains concept</td>\n",
       "      <td>259</td>\n",
       "      <td>PERSONALIA</td>\n",
       "      <td>242</td>\n",
       "      <td>FØDSELSDATO</td>\n",
       "    </tr>\n",
       "    <tr>\n",
       "      <th>4</th>\n",
       "      <td>259</td>\n",
       "      <td>243</td>\n",
       "      <td>[contains concept]</td>\n",
       "      <td>1</td>\n",
       "      <td>contains concept</td>\n",
       "      <td>259</td>\n",
       "      <td>PERSONALIA</td>\n",
       "      <td>243</td>\n",
       "      <td>FØDSELSNUMMER</td>\n",
       "    </tr>\n",
       "  </tbody>\n",
       "</table>\n",
       "</div>"
      ],
      "text/plain": [
       "   source  target               props  weight              prop  id_x  \\\n",
       "0     259     238  [contains concept]       1  contains concept   259   \n",
       "1     259     240  [contains concept]       1  contains concept   259   \n",
       "2     259     241  [contains concept]       1  contains concept   259   \n",
       "3     259     242  [contains concept]       1  contains concept   259   \n",
       "4     259     243  [contains concept]       1  contains concept   259   \n",
       "\n",
       "       name_x  id_y         name_y  \n",
       "0  PERSONALIA   238     SIVILSTAND  \n",
       "1  PERSONALIA   240          KJØNN  \n",
       "2  PERSONALIA   241           NAVN  \n",
       "3  PERSONALIA   242    FØDSELSDATO  \n",
       "4  PERSONALIA   243  FØDSELSNUMMER  "
      ]
     },
     "execution_count": 175,
     "metadata": {},
     "output_type": "execute_result"
    }
   ],
   "source": [
    "df_edgelist.head()"
   ]
  },
  {
   "cell_type": "code",
   "execution_count": 178,
   "metadata": {},
   "outputs": [
    {
     "data": {
      "text/html": [
       "<div>\n",
       "<style scoped>\n",
       "    .dataframe tbody tr th:only-of-type {\n",
       "        vertical-align: middle;\n",
       "    }\n",
       "\n",
       "    .dataframe tbody tr th {\n",
       "        vertical-align: top;\n",
       "    }\n",
       "\n",
       "    .dataframe thead th {\n",
       "        text-align: right;\n",
       "    }\n",
       "</style>\n",
       "<table border=\"1\" class=\"dataframe\">\n",
       "  <thead>\n",
       "    <tr style=\"text-align: right;\">\n",
       "      <th></th>\n",
       "      <th>name</th>\n",
       "      <th>source</th>\n",
       "      <th>target</th>\n",
       "      <th>target_node_id</th>\n",
       "      <th>source_node_id</th>\n",
       "      <th>weight</th>\n",
       "    </tr>\n",
       "  </thead>\n",
       "  <tbody>\n",
       "    <tr>\n",
       "      <th>0</th>\n",
       "      <td>contains concept</td>\n",
       "      <td>PERSONALIA</td>\n",
       "      <td>SIVILSTAND</td>\n",
       "      <td>259</td>\n",
       "      <td>238</td>\n",
       "      <td>1</td>\n",
       "    </tr>\n",
       "    <tr>\n",
       "      <th>1</th>\n",
       "      <td>contains concept</td>\n",
       "      <td>PERSONALIA</td>\n",
       "      <td>KJØNN</td>\n",
       "      <td>259</td>\n",
       "      <td>240</td>\n",
       "      <td>1</td>\n",
       "    </tr>\n",
       "    <tr>\n",
       "      <th>2</th>\n",
       "      <td>contains concept</td>\n",
       "      <td>PERSONALIA</td>\n",
       "      <td>NAVN</td>\n",
       "      <td>259</td>\n",
       "      <td>241</td>\n",
       "      <td>1</td>\n",
       "    </tr>\n",
       "    <tr>\n",
       "      <th>3</th>\n",
       "      <td>contains concept</td>\n",
       "      <td>PERSONALIA</td>\n",
       "      <td>FØDSELSDATO</td>\n",
       "      <td>259</td>\n",
       "      <td>242</td>\n",
       "      <td>1</td>\n",
       "    </tr>\n",
       "    <tr>\n",
       "      <th>4</th>\n",
       "      <td>contains concept</td>\n",
       "      <td>PERSONALIA</td>\n",
       "      <td>FØDSELSNUMMER</td>\n",
       "      <td>259</td>\n",
       "      <td>243</td>\n",
       "      <td>1</td>\n",
       "    </tr>\n",
       "  </tbody>\n",
       "</table>\n",
       "</div>"
      ],
      "text/plain": [
       "               name      source         target  target_node_id  \\\n",
       "0  contains concept  PERSONALIA     SIVILSTAND             259   \n",
       "1  contains concept  PERSONALIA          KJØNN             259   \n",
       "2  contains concept  PERSONALIA           NAVN             259   \n",
       "3  contains concept  PERSONALIA    FØDSELSDATO             259   \n",
       "4  contains concept  PERSONALIA  FØDSELSNUMMER             259   \n",
       "\n",
       "   source_node_id  weight  \n",
       "0             238       1  \n",
       "1             240       1  \n",
       "2             241       1  \n",
       "3             242       1  \n",
       "4             243       1  "
      ]
     },
     "execution_count": 178,
     "metadata": {},
     "output_type": "execute_result"
    }
   ],
   "source": [
    "df_edgelist = df_edgelist[['prop', 'name_x', 'name_y','id_x','id_y', 'weight']]\n",
    "df_edgelist.columns = ['name', 'source', 'target','target_node_id','source_node_id', 'weight']\n",
    "df_edgelist"
   ]
  },
  {
   "cell_type": "code",
   "execution_count": 43,
   "metadata": {},
   "outputs": [],
   "source": [
    "#!pip install nx_altair"
   ]
  },
  {
   "cell_type": "code",
   "execution_count": 179,
   "metadata": {},
   "outputs": [],
   "source": [
    "import altair as alt\n",
    "alt.renderers.enable('notebook')\n",
    "alt.themes.enable('opaque')\n",
    "import networkx as nx\n",
    "import nx_altair as nxa\n",
    "import numpy as np\n",
    "\n",
    "G = nx.from_pandas_edgelist(df_edgelist, 'source', 'target', ['name','target_node_id','source_node_id','weight'])\n",
    "pos = nx.spring_layout(G)"
   ]
  },
  {
   "cell_type": "code",
   "execution_count": 180,
   "metadata": {},
   "outputs": [
    {
     "name": "stderr",
     "output_type": "stream",
     "text": [
      "/Users/B149899/anaconda3/envs/py37/lib/python3.7/site-packages/networkx/drawing/nx_pylab.py:563: MatplotlibDeprecationWarning: \n",
      "The iterable function was deprecated in Matplotlib 3.1 and will be removed in 3.3. Use np.iterable instead.\n",
      "  if not cb.iterable(width):\n",
      "/Users/B149899/anaconda3/envs/py37/lib/python3.7/site-packages/networkx/drawing/nx_pylab.py:611: MatplotlibDeprecationWarning: \n",
      "The is_numlike function was deprecated in Matplotlib 3.0 and will be removed in 3.2. Use isinstance(..., numbers.Number) instead.\n",
      "  if cb.is_numlike(alpha):\n"
     ]
    }
   ],
   "source": [
    "nx.draw_networkx(\n",
    "    G=G,\n",
    "    pos=pos\n",
    ")"
   ]
  },
  {
   "cell_type": "code",
   "execution_count": 181,
   "metadata": {},
   "outputs": [
    {
     "data": {
      "application/javascript": [
       "const spec = {\"config\": {\"background\": \"white\", \"view\": {\"width\": 400, \"height\": 300}, \"mark\": {\"tooltip\": null}, \"axis\": {\"domain\": false, \"grid\": false, \"labels\": false, \"ticks\": false}}, \"layer\": [{\"data\": {\"name\": \"data-5abfed787772612259370da9ff140dc0\"}, \"mark\": {\"type\": \"line\", \"color\": \"black\", \"opacity\": 1}, \"encoding\": {\"detail\": {\"type\": \"quantitative\", \"field\": \"edge\"}, \"size\": {\"type\": \"nominal\", \"field\": \"weight\", \"legend\": null}, \"x\": {\"type\": \"quantitative\", \"axis\": {\"title\": \"\"}, \"field\": \"x\"}, \"y\": {\"type\": \"quantitative\", \"axis\": {\"title\": \"\"}, \"field\": \"y\"}}, \"selection\": {\"selector001\": {\"type\": \"interval\", \"bind\": \"scales\", \"encodings\": [\"x\", \"y\"]}}}, {\"data\": {\"name\": \"data-fb0b423d4d1dd81b297fd8e1cb8acfcc\"}, \"mark\": {\"type\": \"point\", \"fill\": \"id:N\", \"opacity\": 1, \"size\": 300}, \"encoding\": {\"fill\": {\"type\": \"nominal\", \"field\": \"id\", \"scale\": {\"scheme\": \"viridis\"}}, \"tooltip\": [{\"type\": \"nominal\", \"field\": \"weight\"}], \"x\": {\"type\": \"quantitative\", \"field\": \"x\"}, \"y\": {\"type\": \"quantitative\", \"field\": \"y\"}}}], \"$schema\": \"https://vega.github.io/schema/vega-lite/v3.4.0.json\", \"datasets\": {\"data-5abfed787772612259370da9ff140dc0\": [{\"source\": \"PERSONALIA\", \"target_node_id\": 259, \"weight\": 1, \"edge\": 0, \"y\": -0.0007901946531495399, \"name\": \"contains concept\", \"target\": \"SIVILSTAND\", \"x\": 0.0019343485912021621, \"source_node_id\": 238, \"pair\": [\"PERSONALIA\", \"SIVILSTAND\"]}, {\"source\": \"PERSONALIA\", \"target_node_id\": 259, \"weight\": 1, \"edge\": 0, \"y\": 0.23001553255758717, \"name\": \"contains concept\", \"target\": \"SIVILSTAND\", \"x\": -0.9806696633572083, \"source_node_id\": 238, \"pair\": [\"PERSONALIA\", \"SIVILSTAND\"]}, {\"source\": \"PERSONALIA\", \"target_node_id\": 259, \"weight\": 1, \"edge\": 1, \"y\": -0.0007901946531495399, \"name\": \"contains concept\", \"target\": \"KJ\\u00d8NN\", \"x\": 0.0019343485912021621, \"source_node_id\": 240, \"pair\": [\"PERSONALIA\", \"KJ\\u00d8NN\"]}, {\"source\": \"PERSONALIA\", \"target_node_id\": 259, \"weight\": 1, \"edge\": 1, \"y\": -0.7611843852248212, \"name\": \"contains concept\", \"target\": \"KJ\\u00d8NN\", \"x\": 0.6563319521494798, \"source_node_id\": 240, \"pair\": [\"PERSONALIA\", \"KJ\\u00d8NN\"]}, {\"source\": \"PERSONALIA\", \"target_node_id\": 259, \"weight\": 1, \"edge\": 2, \"y\": -0.0007901946531495399, \"name\": \"contains concept\", \"target\": \"NAVN\", \"x\": 0.0019343485912021621, \"source_node_id\": 241, \"pair\": [\"PERSONALIA\", \"NAVN\"]}, {\"source\": \"PERSONALIA\", \"target_node_id\": 259, \"weight\": 1, \"edge\": 2, \"y\": 1.0, \"name\": \"contains concept\", \"target\": \"NAVN\", \"x\": -0.08411164597053171, \"source_node_id\": 241, \"pair\": [\"PERSONALIA\", \"NAVN\"]}, {\"source\": \"PERSONALIA\", \"target_node_id\": 259, \"weight\": 1, \"edge\": 3, \"y\": -0.0007901946531495399, \"name\": \"contains concept\", \"target\": \"F\\u00d8DSELSDATO\", \"x\": 0.0019343485912021621, \"source_node_id\": 242, \"pair\": [\"PERSONALIA\", \"F\\u00d8DSELSDATO\"]}, {\"source\": \"PERSONALIA\", \"target_node_id\": 259, \"weight\": 1, \"edge\": 3, \"y\": -0.8585122828104491, \"name\": \"contains concept\", \"target\": \"F\\u00d8DSELSDATO\", \"x\": -0.5211387939790797, \"source_node_id\": 242, \"pair\": [\"PERSONALIA\", \"F\\u00d8DSELSDATO\"]}, {\"source\": \"PERSONALIA\", \"target_node_id\": 259, \"weight\": 1, \"edge\": 4, \"y\": -0.0007901946531495399, \"name\": \"contains concept\", \"target\": \"F\\u00d8DSELSNUMMER\", \"x\": 0.0019343485912021621, \"source_node_id\": 243, \"pair\": [\"PERSONALIA\", \"F\\u00d8DSELSNUMMER\"]}, {\"source\": \"PERSONALIA\", \"target_node_id\": 259, \"weight\": 1, \"edge\": 4, \"y\": 0.39047133013083174, \"name\": \"contains concept\", \"target\": \"F\\u00d8DSELSNUMMER\", \"x\": 0.9276538025661378, \"source_node_id\": 243, \"pair\": [\"PERSONALIA\", \"F\\u00d8DSELSNUMMER\"]}], \"data-fb0b423d4d1dd81b297fd8e1cb8acfcc\": [{\"x\": 0.0019343485912021621, \"y\": -0.0007901946531495399}, {\"x\": -0.9806696633572083, \"y\": 0.23001553255758717}, {\"x\": 0.6563319521494798, \"y\": -0.7611843852248212}, {\"x\": -0.08411164597053171, \"y\": 1.0}, {\"x\": -0.5211387939790797, \"y\": -0.8585122828104491}, {\"x\": 0.9276538025661378, \"y\": 0.39047133013083174}]}};\n",
       "const opt = {};\n",
       "const type = \"vega-lite\";\n",
       "const id = \"ffc834b5-daf6-46a9-b2dc-94f7920b3333\";\n",
       "\n",
       "const output_area = this;\n",
       "\n",
       "require([\"nbextensions/jupyter-vega/index\"], function(vega) {\n",
       "  const target = document.createElement(\"div\");\n",
       "  target.id = id;\n",
       "  target.className = \"vega-embed\";\n",
       "\n",
       "  const style = document.createElement(\"style\");\n",
       "  style.textContent = [\n",
       "    \".vega-embed .error p {\",\n",
       "    \"  color: firebrick;\",\n",
       "    \"  font-size: 14px;\",\n",
       "    \"}\",\n",
       "  ].join(\"\\\\n\");\n",
       "\n",
       "  // element is a jQuery wrapped DOM element inside the output area\n",
       "  // see http://ipython.readthedocs.io/en/stable/api/generated/\\\n",
       "  // IPython.display.html#IPython.display.Javascript.__init__\n",
       "  element[0].appendChild(target);\n",
       "  element[0].appendChild(style);\n",
       "\n",
       "  vega.render(\"#\" + id, spec, type, opt, output_area);\n",
       "}, function (err) {\n",
       "  if (err.requireType !== \"scripterror\") {\n",
       "    throw(err);\n",
       "  }\n",
       "});\n"
      ],
      "text/plain": [
       "<vega.vegalite.VegaLite at 0xa1c3e1510>"
      ]
     },
     "metadata": {
      "jupyter-vega": "#ffc834b5-daf6-46a9-b2dc-94f7920b3333"
     },
     "output_type": "display_data"
    },
    {
     "data": {
      "text/plain": []
     },
     "execution_count": 181,
     "metadata": {},
     "output_type": "execute_result"
    },
    {
     "data": {
      "image/png": "[encoded data removed]"
     },
     "metadata": {
      "jupyter-vega": "#ffc834b5-daf6-46a9-b2dc-94f7920b3333"
     },
     "output_type": "display_data"
    }
   ],
   "source": [
    "# Compute positions for viz.\n",
    "pos = nx.spring_layout(G)\n",
    "\n",
    "viz = nxa.draw_networkx(\n",
    "    \n",
    "    G, pos=pos,\n",
    "    node_color='id:N',\n",
    "    cmap='viridis',\n",
    "    width='weight:N',\n",
    "    edge_color='black',\n",
    "    node_tooltip=['weight:N']\n",
    ")\n",
    "\n",
    "viz.interactive()"
   ]
  },
  {
   "cell_type": "code",
   "execution_count": 182,
   "metadata": {},
   "outputs": [
    {
     "data": {
      "text/html": [
       "<div>\n",
       "<style scoped>\n",
       "    .dataframe tbody tr th:only-of-type {\n",
       "        vertical-align: middle;\n",
       "    }\n",
       "\n",
       "    .dataframe tbody tr th {\n",
       "        vertical-align: top;\n",
       "    }\n",
       "\n",
       "    .dataframe thead th {\n",
       "        text-align: right;\n",
       "    }\n",
       "</style>\n",
       "<table border=\"1\" class=\"dataframe\">\n",
       "  <thead>\n",
       "    <tr style=\"text-align: right;\">\n",
       "      <th></th>\n",
       "      <th>id</th>\n",
       "      <th>prop</th>\n",
       "      <th>created</th>\n",
       "    </tr>\n",
       "  </thead>\n",
       "  <tbody>\n",
       "    <tr>\n",
       "      <th>0</th>\n",
       "      <td>259</td>\n",
       "      <td>{'id': 'GDPR.INFORMATION_TYPE_CATEGORY.PERSONA...</td>\n",
       "      <td>2019-12-11 10:32:50.164224</td>\n",
       "    </tr>\n",
       "    <tr>\n",
       "      <th>1</th>\n",
       "      <td>265</td>\n",
       "      <td>{'id': 'GDPR.INFORMATION_TYPE_CATEGORY.NOT AVA...</td>\n",
       "      <td>2019-12-11 10:32:50.164224</td>\n",
       "    </tr>\n",
       "    <tr>\n",
       "      <th>2</th>\n",
       "      <td>264</td>\n",
       "      <td>{'id': 'GDPR.INFORMATION_TYPE_CATEGORY.REPRESE...</td>\n",
       "      <td>2019-12-11 10:32:50.164224</td>\n",
       "    </tr>\n",
       "    <tr>\n",
       "      <th>3</th>\n",
       "      <td>263</td>\n",
       "      <td>{'id': 'GDPR.INFORMATION_TYPE_CATEGORY.FOLKETR...</td>\n",
       "      <td>2019-12-11 10:32:50.164224</td>\n",
       "    </tr>\n",
       "    <tr>\n",
       "      <th>4</th>\n",
       "      <td>262</td>\n",
       "      <td>{'id': 'GDPR.INFORMATION_TYPE_CATEGORY.FAMILIE...</td>\n",
       "      <td>2019-12-11 10:32:50.164224</td>\n",
       "    </tr>\n",
       "    <tr>\n",
       "      <th>5</th>\n",
       "      <td>261</td>\n",
       "      <td>{'id': 'GDPR.INFORMATION_TYPE_CATEGORY.KONTAKT...</td>\n",
       "      <td>2019-12-11 10:32:50.164224</td>\n",
       "    </tr>\n",
       "    <tr>\n",
       "      <th>6</th>\n",
       "      <td>260</td>\n",
       "      <td>{'id': 'GDPR.INFORMATION_TYPE_CATEGORY.ARBEIDS...</td>\n",
       "      <td>2019-12-11 10:32:50.164224</td>\n",
       "    </tr>\n",
       "    <tr>\n",
       "      <th>7</th>\n",
       "      <td>252</td>\n",
       "      <td>{'id': 'GDPR.INFORMATION_TYPE.FARSKAP', 'name'...</td>\n",
       "      <td>2019-12-11 10:32:46.459314</td>\n",
       "    </tr>\n",
       "    <tr>\n",
       "      <th>8</th>\n",
       "      <td>251</td>\n",
       "      <td>{'id': 'GDPR.INFORMATION_TYPE.E-POST', 'name':...</td>\n",
       "      <td>2019-12-11 10:32:46.459314</td>\n",
       "    </tr>\n",
       "    <tr>\n",
       "      <th>9</th>\n",
       "      <td>250</td>\n",
       "      <td>{'id': 'GDPR.INFORMATION_TYPE.DELT BOSTED', 'n...</td>\n",
       "      <td>2019-12-11 10:32:46.459314</td>\n",
       "    </tr>\n",
       "    <tr>\n",
       "      <th>10</th>\n",
       "      <td>249</td>\n",
       "      <td>{'id': 'GDPR.INFORMATION_TYPE.DAGLIG OMSORG', ...</td>\n",
       "      <td>2019-12-11 10:32:46.459314</td>\n",
       "    </tr>\n",
       "    <tr>\n",
       "      <th>11</th>\n",
       "      <td>248</td>\n",
       "      <td>{'id': 'GDPR.INFORMATION_TYPE.BARN', 'name': '...</td>\n",
       "      <td>2019-12-11 10:32:46.459314</td>\n",
       "    </tr>\n",
       "    <tr>\n",
       "      <th>12</th>\n",
       "      <td>247</td>\n",
       "      <td>{'id': 'GDPR.INFORMATION_TYPE.ADOPSJON', 'name...</td>\n",
       "      <td>2019-12-11 10:32:46.459314</td>\n",
       "    </tr>\n",
       "    <tr>\n",
       "      <th>13</th>\n",
       "      <td>246</td>\n",
       "      <td>{'id': 'GDPR.INFORMATION_TYPE.ARBEIDSTILLATELS...</td>\n",
       "      <td>2019-12-11 10:32:46.459314</td>\n",
       "    </tr>\n",
       "    <tr>\n",
       "      <th>14</th>\n",
       "      <td>245</td>\n",
       "      <td>{'id': 'GDPR.INFORMATION_TYPE.BOSTEDSADRESSE I...</td>\n",
       "      <td>2019-12-11 10:32:46.459314</td>\n",
       "    </tr>\n",
       "    <tr>\n",
       "      <th>15</th>\n",
       "      <td>244</td>\n",
       "      <td>{'id': 'GDPR.INFORMATION_TYPE.BOSTEDSADRESSE I...</td>\n",
       "      <td>2019-12-11 10:32:46.459314</td>\n",
       "    </tr>\n",
       "    <tr>\n",
       "      <th>16</th>\n",
       "      <td>243</td>\n",
       "      <td>{'id': 'GDPR.INFORMATION_TYPE.FØDSELSNUMMER', ...</td>\n",
       "      <td>2019-12-11 10:32:46.459314</td>\n",
       "    </tr>\n",
       "    <tr>\n",
       "      <th>17</th>\n",
       "      <td>242</td>\n",
       "      <td>{'id': 'GDPR.INFORMATION_TYPE.FØDSELSDATO', 'n...</td>\n",
       "      <td>2019-12-11 10:32:46.459314</td>\n",
       "    </tr>\n",
       "    <tr>\n",
       "      <th>18</th>\n",
       "      <td>241</td>\n",
       "      <td>{'id': 'GDPR.INFORMATION_TYPE.NAVN', 'name': '...</td>\n",
       "      <td>2019-12-11 10:32:46.459314</td>\n",
       "    </tr>\n",
       "    <tr>\n",
       "      <th>19</th>\n",
       "      <td>240</td>\n",
       "      <td>{'id': 'GDPR.INFORMATION_TYPE.KJØNN', 'name': ...</td>\n",
       "      <td>2019-12-11 10:32:46.459314</td>\n",
       "    </tr>\n",
       "  </tbody>\n",
       "</table>\n",
       "</div>"
      ],
      "text/plain": [
       "     id                                               prop  \\\n",
       "0   259  {'id': 'GDPR.INFORMATION_TYPE_CATEGORY.PERSONA...   \n",
       "1   265  {'id': 'GDPR.INFORMATION_TYPE_CATEGORY.NOT AVA...   \n",
       "2   264  {'id': 'GDPR.INFORMATION_TYPE_CATEGORY.REPRESE...   \n",
       "3   263  {'id': 'GDPR.INFORMATION_TYPE_CATEGORY.FOLKETR...   \n",
       "4   262  {'id': 'GDPR.INFORMATION_TYPE_CATEGORY.FAMILIE...   \n",
       "5   261  {'id': 'GDPR.INFORMATION_TYPE_CATEGORY.KONTAKT...   \n",
       "6   260  {'id': 'GDPR.INFORMATION_TYPE_CATEGORY.ARBEIDS...   \n",
       "7   252  {'id': 'GDPR.INFORMATION_TYPE.FARSKAP', 'name'...   \n",
       "8   251  {'id': 'GDPR.INFORMATION_TYPE.E-POST', 'name':...   \n",
       "9   250  {'id': 'GDPR.INFORMATION_TYPE.DELT BOSTED', 'n...   \n",
       "10  249  {'id': 'GDPR.INFORMATION_TYPE.DAGLIG OMSORG', ...   \n",
       "11  248  {'id': 'GDPR.INFORMATION_TYPE.BARN', 'name': '...   \n",
       "12  247  {'id': 'GDPR.INFORMATION_TYPE.ADOPSJON', 'name...   \n",
       "13  246  {'id': 'GDPR.INFORMATION_TYPE.ARBEIDSTILLATELS...   \n",
       "14  245  {'id': 'GDPR.INFORMATION_TYPE.BOSTEDSADRESSE I...   \n",
       "15  244  {'id': 'GDPR.INFORMATION_TYPE.BOSTEDSADRESSE I...   \n",
       "16  243  {'id': 'GDPR.INFORMATION_TYPE.FØDSELSNUMMER', ...   \n",
       "17  242  {'id': 'GDPR.INFORMATION_TYPE.FØDSELSDATO', 'n...   \n",
       "18  241  {'id': 'GDPR.INFORMATION_TYPE.NAVN', 'name': '...   \n",
       "19  240  {'id': 'GDPR.INFORMATION_TYPE.KJØNN', 'name': ...   \n",
       "\n",
       "                      created  \n",
       "0  2019-12-11 10:32:50.164224  \n",
       "1  2019-12-11 10:32:50.164224  \n",
       "2  2019-12-11 10:32:50.164224  \n",
       "3  2019-12-11 10:32:50.164224  \n",
       "4  2019-12-11 10:32:50.164224  \n",
       "5  2019-12-11 10:32:50.164224  \n",
       "6  2019-12-11 10:32:50.164224  \n",
       "7  2019-12-11 10:32:46.459314  \n",
       "8  2019-12-11 10:32:46.459314  \n",
       "9  2019-12-11 10:32:46.459314  \n",
       "10 2019-12-11 10:32:46.459314  \n",
       "11 2019-12-11 10:32:46.459314  \n",
       "12 2019-12-11 10:32:46.459314  \n",
       "13 2019-12-11 10:32:46.459314  \n",
       "14 2019-12-11 10:32:46.459314  \n",
       "15 2019-12-11 10:32:46.459314  \n",
       "16 2019-12-11 10:32:46.459314  \n",
       "17 2019-12-11 10:32:46.459314  \n",
       "18 2019-12-11 10:32:46.459314  \n",
       "19 2019-12-11 10:32:46.459314  "
      ]
     },
     "execution_count": 182,
     "metadata": {},
     "output_type": "execute_result"
    }
   ],
   "source": [
    "sql = \"select * from tbl_node order by created desc\"\n",
    "df = sqlio.read_sql_query(sql, conn)\n",
    "df.head(20)"
   ]
  },
  {
   "cell_type": "code",
   "execution_count": 62,
   "metadata": {},
   "outputs": [],
   "source": [
    "conn.commit()"
   ]
  },
  {
   "cell_type": "code",
   "execution_count": 97,
   "metadata": {},
   "outputs": [],
   "source": [
    "inp = {\"id\": \"test3\"}\n",
    "jsonb = json.dumps(inp)\n",
    "insert_query = f\"insert into tbl_node (prop) values ('{jsonb}')\"\n",
    "cur.execute(insert_query, (jsonb,))\n",
    "    \n",
    "conn.commit()"
   ]
  },
  {
   "cell_type": "code",
   "execution_count": 6,
   "metadata": {},
   "outputs": [
    {
     "data": {
      "text/html": [
       "<div>\n",
       "<style scoped>\n",
       "    .dataframe tbody tr th:only-of-type {\n",
       "        vertical-align: middle;\n",
       "    }\n",
       "\n",
       "    .dataframe tbody tr th {\n",
       "        vertical-align: top;\n",
       "    }\n",
       "\n",
       "    .dataframe thead th {\n",
       "        text-align: right;\n",
       "    }\n",
       "</style>\n",
       "<table border=\"1\" class=\"dataframe\">\n",
       "  <thead>\n",
       "    <tr style=\"text-align: right;\">\n",
       "      <th></th>\n",
       "      <th>id</th>\n",
       "      <th>prop</th>\n",
       "      <th>created</th>\n",
       "    </tr>\n",
       "  </thead>\n",
       "  <tbody>\n",
       "    <tr>\n",
       "      <th>0</th>\n",
       "      <td>268</td>\n",
       "      <td>{'id': 'test3'}</td>\n",
       "      <td>2019-11-23 18:42:36.847657</td>\n",
       "    </tr>\n",
       "  </tbody>\n",
       "</table>\n",
       "</div>"
      ],
      "text/plain": [
       "    id             prop                    created\n",
       "0  268  {'id': 'test3'} 2019-11-23 18:42:36.847657"
      ]
     },
     "execution_count": 6,
     "metadata": {},
     "output_type": "execute_result"
    }
   ],
   "source": [
    "sql = \"SELECT * FROM tbl_node WHERE prop->>'id' = 'test3'\"\n",
    "df = sqlio.read_sql_query(sql, conn)\n",
    "df"
   ]
  },
  {
   "cell_type": "code",
   "execution_count": 125,
   "metadata": {},
   "outputs": [],
   "source": [
    "inp = {\n",
    "  \"prop\": {\"id\":\"test0\",\"type\": \"test\"}\n",
    "}\n",
    "\n",
    "jsonb = json.dumps(inp['prop'])\n",
    "insert_query = f\"insert into tbl_node (prop) values ('{jsonb}')\"\n",
    "cur.execute(insert_query, (jsonb,))\n",
    "    \n",
    "conn.commit()"
   ]
  },
  {
   "cell_type": "code",
   "execution_count": 126,
   "metadata": {},
   "outputs": [],
   "source": [
    "conn.commit()"
   ]
  },
  {
   "cell_type": "code",
   "execution_count": 133,
   "metadata": {},
   "outputs": [],
   "source": [
    "inp = {\n",
    "  \"prop\": {\"id\":\"test0\",\"type\": \"test6\"}\n",
    "}\n",
    "\n",
    "jsonb = json.dumps(inp['prop'])\n",
    "sql = f\"INSERT INTO tbl_node (id, prop) VALUES (270,'{jsonb}') ON CONFLICT (id) DO UPDATE SET prop  = '{jsonb}';\"\n",
    "cur.execute(sql, (jsonb,))\n",
    "conn.commit()"
   ]
  }
 ],
 "metadata": {
  "kernelspec": {
   "display_name": "Python 3",
   "language": "python",
   "name": "python3"
  },
  "language_info": {
   "codemirror_mode": {
    "name": "ipython",
    "version": 3
   },
   "file_extension": ".py",
   "mimetype": "text/x-python",
   "name": "python",
   "nbconvert_exporter": "python",
   "pygments_lexer": "ipython3",
   "version": "3.7.4"
  },
  "varInspector": {
   "cols": {
    "lenName": 16,
    "lenType": 16,
    "lenVar": 40
   },
   "kernels_config": {
    "python": {
     "delete_cmd_postfix": "",
     "delete_cmd_prefix": "del ",
     "library": "var_list.py",
     "varRefreshCmd": "print(var_dic_list())"
    },
    "r": {
     "delete_cmd_postfix": ") ",
     "delete_cmd_prefix": "rm(",
     "library": "var_list.r",
     "varRefreshCmd": "cat(var_dic_list()) "
    }
   },
   "types_to_exclude": [
    "module",
    "function",
    "builtin_function_or_method",
    "instance",
    "_Feature"
   ],
   "window_display": false
  }
 },
 "nbformat": 4,
 "nbformat_minor": 2
}
