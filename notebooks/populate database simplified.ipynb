{
 "cells": [
  {
   "cell_type": "code",
   "execution_count": 1,
   "metadata": {},
   "outputs": [],
   "source": [
    "import pandas as pd\n",
    "import pandas.io.sql as sqlio\n",
    "import psycopg2\n",
    "import sqlalchemy\n",
    "import os\n",
    "import json\n",
    "import uuid\n"
   ]
  },
  {
   "cell_type": "code",
   "execution_count": 2,
   "metadata": {},
   "outputs": [],
   "source": [
    "conn = psycopg2.connect(\n",
    "    user=\"dcat\", \n",
    "    password=\"dcat\", \n",
    "    host=\"127.0.0.1\", \n",
    "    port=\"54320\", \n",
    "    database=\"dcat\")"
   ]
  },
  {
   "cell_type": "code",
   "execution_count": 3,
   "metadata": {},
   "outputs": [],
   "source": [
    "conn.commit()"
   ]
  },
  {
   "cell_type": "markdown",
   "metadata": {},
   "source": [
    "conn.commit()\n",
    "node = {\"id\":\"test\"}\n",
    "js = json.dumps(node)\n",
    "statement = f\"insert into tbl_node (prop) values ('{js}')\"\n",
    "cur.execute(statement)\n",
    "conn.commit()"
   ]
  },
  {
   "cell_type": "code",
   "execution_count": 4,
   "metadata": {},
   "outputs": [],
   "source": [
    "cur = conn.cursor()"
   ]
  },
  {
   "cell_type": "code",
   "execution_count": 5,
   "metadata": {},
   "outputs": [
    {
     "name": "stdout",
     "output_type": "stream",
     "text": [
      "{'user': 'dcat', 'dbname': 'dcat', 'host': '127.0.0.1', 'port': '54320', 'tty': '', 'options': '', 'sslmode': 'prefer', 'sslcompression': '0', 'krbsrvname': 'postgres', 'target_session_attrs': 'any'} \n",
      "\n"
     ]
    }
   ],
   "source": [
    "print ( conn.get_dsn_parameters(),\"\\n\")"
   ]
  },
  {
   "cell_type": "code",
   "execution_count": 6,
   "metadata": {},
   "outputs": [
    {
     "name": "stdout",
     "output_type": "stream",
     "text": [
      "You are connected to -  ('PostgreSQL 12.0 (Debian 12.0-1.pgdg100+1) on x86_64-pc-linux-gnu, compiled by gcc (Debian 8.3.0-6) 8.3.0, 64-bit',) \n",
      "\n"
     ]
    }
   ],
   "source": [
    "cur.execute(\"SELECT version();\")\n",
    "record = cur.fetchone()\n",
    "print(\"You are connected to - \", record,\"\\n\")"
   ]
  },
  {
   "cell_type": "markdown",
   "metadata": {},
   "source": [
    "# Init"
   ]
  },
  {
   "cell_type": "code",
   "execution_count": 7,
   "metadata": {},
   "outputs": [],
   "source": [
    "#Relationship description/attributes\n",
    "cur.execute(\"delete from tbl_edge_desc\")\n",
    "#Relationships/Edges\n",
    "cur.execute(\"delete from tbl_edge\")\n",
    "#Node details table\n",
    "cur.execute(\"delete from tbl_node\")\n",
    "\n",
    "conn.commit()"
   ]
  },
  {
   "cell_type": "code",
   "execution_count": 8,
   "metadata": {},
   "outputs": [
    {
     "data": {
      "text/html": [
       "<div>\n",
       "<style scoped>\n",
       "    .dataframe tbody tr th:only-of-type {\n",
       "        vertical-align: middle;\n",
       "    }\n",
       "\n",
       "    .dataframe tbody tr th {\n",
       "        vertical-align: top;\n",
       "    }\n",
       "\n",
       "    .dataframe thead th {\n",
       "        text-align: right;\n",
       "    }\n",
       "</style>\n",
       "<table border=\"1\" class=\"dataframe\">\n",
       "  <thead>\n",
       "    <tr style=\"text-align: right;\">\n",
       "      <th></th>\n",
       "      <th>id</th>\n",
       "      <th>prop</th>\n",
       "      <th>created</th>\n",
       "    </tr>\n",
       "  </thead>\n",
       "  <tbody>\n",
       "  </tbody>\n",
       "</table>\n",
       "</div>"
      ],
      "text/plain": [
       "Empty DataFrame\n",
       "Columns: [id, prop, created]\n",
       "Index: []"
      ]
     },
     "execution_count": 8,
     "metadata": {},
     "output_type": "execute_result"
    }
   ],
   "source": [
    "df = sqlio.read_sql_query(\"select * from tbl_node\", conn)\n",
    "df.tail()"
   ]
  },
  {
   "cell_type": "markdown",
   "metadata": {},
   "source": [
    "# Get data"
   ]
  },
  {
   "cell_type": "code",
   "execution_count": 9,
   "metadata": {},
   "outputs": [
    {
     "data": {
      "text/plain": [
       "['Formål GML',\n",
       " 'Formål',\n",
       " 'Ark1',\n",
       " 'data-catalog-backend',\n",
       " 'data-catalog-policies',\n",
       " 'Category']"
      ]
     },
     "execution_count": 9,
     "metadata": {},
     "output_type": "execute_result"
    }
   ],
   "source": [
    "xls = pd.ExcelFile(\"../data/testdata.xlsx\")\n",
    "xls.sheet_names"
   ]
  },
  {
   "cell_type": "markdown",
   "metadata": {},
   "source": [
    "# Populate tables"
   ]
  },
  {
   "cell_type": "code",
   "execution_count": 10,
   "metadata": {},
   "outputs": [],
   "source": [
    "def get_id(row):\n",
    "    return row['type'] + '.' + row['name'].upper()\n",
    "\n",
    "def get_uuid(row):\n",
    "    return row['type'] + '.' + str(uuid.uuid4()).upper()"
   ]
  },
  {
   "cell_type": "markdown",
   "metadata": {},
   "source": [
    "### Processing activities"
   ]
  },
  {
   "cell_type": "code",
   "execution_count": 11,
   "metadata": {},
   "outputs": [
    {
     "data": {
      "text/html": [
       "<div>\n",
       "<style scoped>\n",
       "    .dataframe tbody tr th:only-of-type {\n",
       "        vertical-align: middle;\n",
       "    }\n",
       "\n",
       "    .dataframe tbody tr th {\n",
       "        vertical-align: top;\n",
       "    }\n",
       "\n",
       "    .dataframe thead th {\n",
       "        text-align: right;\n",
       "    }\n",
       "</style>\n",
       "<table border=\"1\" class=\"dataframe\">\n",
       "  <thead>\n",
       "    <tr style=\"text-align: right;\">\n",
       "      <th></th>\n",
       "      <th>description</th>\n",
       "      <th>name</th>\n",
       "      <th>label</th>\n",
       "      <th>type</th>\n",
       "      <th>id</th>\n",
       "    </tr>\n",
       "  </thead>\n",
       "  <tbody>\n",
       "    <tr>\n",
       "      <th>33</th>\n",
       "      <td>Behandle og vurdere rett til uføretrygd som sk...</td>\n",
       "      <td>UFØRETRYGD</td>\n",
       "      <td>Processing activity</td>\n",
       "      <td>GDPR.PROCESSING_ACTIVITY</td>\n",
       "      <td>GDPR.PROCESSING_ACTIVITY.UFØRETRYGD</td>\n",
       "    </tr>\n",
       "    <tr>\n",
       "      <th>34</th>\n",
       "      <td>Behandle og vurdere rett til ventelønn som ska...</td>\n",
       "      <td>VENTELØNN</td>\n",
       "      <td>Processing activity</td>\n",
       "      <td>GDPR.PROCESSING_ACTIVITY</td>\n",
       "      <td>GDPR.PROCESSING_ACTIVITY.VENTELØNN</td>\n",
       "    </tr>\n",
       "    <tr>\n",
       "      <th>35</th>\n",
       "      <td>Behandle og vurdere rett til ytelser ved yrkes...</td>\n",
       "      <td>YRKESSKADE- OG SYKDOM</td>\n",
       "      <td>Processing activity</td>\n",
       "      <td>GDPR.PROCESSING_ACTIVITY</td>\n",
       "      <td>GDPR.PROCESSING_ACTIVITY.YRKESSKADE- OG SYKDOM</td>\n",
       "    </tr>\n",
       "    <tr>\n",
       "      <th>36</th>\n",
       "      <td>Behandle og vurdere rett til ytelser til famil...</td>\n",
       "      <td>YTELSER TIL FAMILIEPLEIER</td>\n",
       "      <td>Processing activity</td>\n",
       "      <td>GDPR.PROCESSING_ACTIVITY</td>\n",
       "      <td>GDPR.PROCESSING_ACTIVITY.YTELSER TIL FAMILIEPL...</td>\n",
       "    </tr>\n",
       "    <tr>\n",
       "      <th>37</th>\n",
       "      <td>Not Available -Verdi mangler</td>\n",
       "      <td>NOT AVAILABLE</td>\n",
       "      <td>Processing activity</td>\n",
       "      <td>GDPR.PROCESSING_ACTIVITY</td>\n",
       "      <td>GDPR.PROCESSING_ACTIVITY.NOT AVAILABLE</td>\n",
       "    </tr>\n",
       "  </tbody>\n",
       "</table>\n",
       "</div>"
      ],
      "text/plain": [
       "                                          description  \\\n",
       "33  Behandle og vurdere rett til uføretrygd som sk...   \n",
       "34  Behandle og vurdere rett til ventelønn som ska...   \n",
       "35  Behandle og vurdere rett til ytelser ved yrkes...   \n",
       "36  Behandle og vurdere rett til ytelser til famil...   \n",
       "37                       Not Available -Verdi mangler   \n",
       "\n",
       "                         name                label                      type  \\\n",
       "33                 UFØRETRYGD  Processing activity  GDPR.PROCESSING_ACTIVITY   \n",
       "34                  VENTELØNN  Processing activity  GDPR.PROCESSING_ACTIVITY   \n",
       "35      YRKESSKADE- OG SYKDOM  Processing activity  GDPR.PROCESSING_ACTIVITY   \n",
       "36  YTELSER TIL FAMILIEPLEIER  Processing activity  GDPR.PROCESSING_ACTIVITY   \n",
       "37              NOT AVAILABLE  Processing activity  GDPR.PROCESSING_ACTIVITY   \n",
       "\n",
       "                                                   id  \n",
       "33                GDPR.PROCESSING_ACTIVITY.UFØRETRYGD  \n",
       "34                 GDPR.PROCESSING_ACTIVITY.VENTELØNN  \n",
       "35     GDPR.PROCESSING_ACTIVITY.YRKESSKADE- OG SYKDOM  \n",
       "36  GDPR.PROCESSING_ACTIVITY.YTELSER TIL FAMILIEPL...  \n",
       "37             GDPR.PROCESSING_ACTIVITY.NOT AVAILABLE  "
      ]
     },
     "execution_count": 11,
     "metadata": {},
     "output_type": "execute_result"
    }
   ],
   "source": [
    "sheet=xls.sheet_names[1]\n",
    "df_formål = pd.read_excel(xls, sheet, encoding='latin1')\n",
    "df_formål = df_formål[['Forslag til endelig formålskode', 'Formålsbeskrivelse']]\n",
    "df_formål.columns=['code', 'description']\n",
    "df_formål['name'] = df_formål['code'].apply(lambda x: x.upper())\n",
    "df_formål = df_formål.append({'name': 'NOT AVAILABLE', 'description': 'Not Available -Verdi mangler'}, ignore_index=True)\n",
    "df_formål.drop(['code'], axis=1, inplace=True)\n",
    "df_formål['label'] = 'Processing activity'\n",
    "df_formål['type'] = 'GDPR.PROCESSING_ACTIVITY'\n",
    "df_formål['id'] = df_formål.apply(get_id, axis=1)\n",
    "df_formål.tail()"
   ]
  },
  {
   "cell_type": "code",
   "execution_count": 12,
   "metadata": {},
   "outputs": [],
   "source": [
    "for index, row in df_formål.iterrows():\n",
    "    id = index + 1\n",
    "    jsonb = row.to_json()\n",
    "    insert_query = f\"insert into tbl_node (prop) values ('{jsonb}')\"\n",
    "    cur.execute(insert_query, (jsonb,))\n",
    "    \n",
    "conn.commit()"
   ]
  },
  {
   "cell_type": "code",
   "execution_count": 13,
   "metadata": {},
   "outputs": [
    {
     "data": {
      "text/html": [
       "<div>\n",
       "<style scoped>\n",
       "    .dataframe tbody tr th:only-of-type {\n",
       "        vertical-align: middle;\n",
       "    }\n",
       "\n",
       "    .dataframe tbody tr th {\n",
       "        vertical-align: top;\n",
       "    }\n",
       "\n",
       "    .dataframe thead th {\n",
       "        text-align: right;\n",
       "    }\n",
       "</style>\n",
       "<table border=\"1\" class=\"dataframe\">\n",
       "  <thead>\n",
       "    <tr style=\"text-align: right;\">\n",
       "      <th></th>\n",
       "      <th>id</th>\n",
       "      <th>prop</th>\n",
       "      <th>created</th>\n",
       "    </tr>\n",
       "  </thead>\n",
       "  <tbody>\n",
       "    <tr>\n",
       "      <th>33</th>\n",
       "      <td>34</td>\n",
       "      <td>{'id': 'GDPR.PROCESSING_ACTIVITY.UFØRETRYGD', ...</td>\n",
       "      <td>2019-12-11 19:08:52.282378</td>\n",
       "    </tr>\n",
       "    <tr>\n",
       "      <th>34</th>\n",
       "      <td>35</td>\n",
       "      <td>{'id': 'GDPR.PROCESSING_ACTIVITY.VENTELØNN', '...</td>\n",
       "      <td>2019-12-11 19:08:52.282378</td>\n",
       "    </tr>\n",
       "    <tr>\n",
       "      <th>35</th>\n",
       "      <td>36</td>\n",
       "      <td>{'id': 'GDPR.PROCESSING_ACTIVITY.YRKESSKADE- O...</td>\n",
       "      <td>2019-12-11 19:08:52.282378</td>\n",
       "    </tr>\n",
       "    <tr>\n",
       "      <th>36</th>\n",
       "      <td>37</td>\n",
       "      <td>{'id': 'GDPR.PROCESSING_ACTIVITY.YTELSER TIL F...</td>\n",
       "      <td>2019-12-11 19:08:52.282378</td>\n",
       "    </tr>\n",
       "    <tr>\n",
       "      <th>37</th>\n",
       "      <td>38</td>\n",
       "      <td>{'id': 'GDPR.PROCESSING_ACTIVITY.NOT AVAILABLE...</td>\n",
       "      <td>2019-12-11 19:08:52.282378</td>\n",
       "    </tr>\n",
       "  </tbody>\n",
       "</table>\n",
       "</div>"
      ],
      "text/plain": [
       "    id                                               prop  \\\n",
       "33  34  {'id': 'GDPR.PROCESSING_ACTIVITY.UFØRETRYGD', ...   \n",
       "34  35  {'id': 'GDPR.PROCESSING_ACTIVITY.VENTELØNN', '...   \n",
       "35  36  {'id': 'GDPR.PROCESSING_ACTIVITY.YRKESSKADE- O...   \n",
       "36  37  {'id': 'GDPR.PROCESSING_ACTIVITY.YTELSER TIL F...   \n",
       "37  38  {'id': 'GDPR.PROCESSING_ACTIVITY.NOT AVAILABLE...   \n",
       "\n",
       "                      created  \n",
       "33 2019-12-11 19:08:52.282378  \n",
       "34 2019-12-11 19:08:52.282378  \n",
       "35 2019-12-11 19:08:52.282378  \n",
       "36 2019-12-11 19:08:52.282378  \n",
       "37 2019-12-11 19:08:52.282378  "
      ]
     },
     "execution_count": 13,
     "metadata": {},
     "output_type": "execute_result"
    }
   ],
   "source": [
    "df = sqlio.read_sql_query(\"select * from tbl_node\", conn)\n",
    "df.tail()"
   ]
  },
  {
   "cell_type": "markdown",
   "metadata": {},
   "source": [
    "### Purpose"
   ]
  },
  {
   "cell_type": "code",
   "execution_count": 14,
   "metadata": {},
   "outputs": [],
   "source": [
    "df_purpose = df_formål.copy()\n",
    "df_purpose['type'] = 'GDPR.PURPOSE'\n",
    "df_purpose['label'] = 'Purpose'\n",
    "df_purpose['id'] = df_purpose.apply(get_id, axis=1)"
   ]
  },
  {
   "cell_type": "code",
   "execution_count": 15,
   "metadata": {},
   "outputs": [],
   "source": [
    "for i, row in df_purpose.iterrows():\n",
    "    jsonb = row.to_json()\n",
    "    insert_query = f\"insert into tbl_node (prop) values ('{jsonb}')\"\n",
    "    cur.execute(insert_query, (jsonb,))\n",
    "    \n",
    "conn.commit()"
   ]
  },
  {
   "cell_type": "code",
   "execution_count": 16,
   "metadata": {},
   "outputs": [
    {
     "data": {
      "text/html": [
       "<div>\n",
       "<style scoped>\n",
       "    .dataframe tbody tr th:only-of-type {\n",
       "        vertical-align: middle;\n",
       "    }\n",
       "\n",
       "    .dataframe tbody tr th {\n",
       "        vertical-align: top;\n",
       "    }\n",
       "\n",
       "    .dataframe thead th {\n",
       "        text-align: right;\n",
       "    }\n",
       "</style>\n",
       "<table border=\"1\" class=\"dataframe\">\n",
       "  <thead>\n",
       "    <tr style=\"text-align: right;\">\n",
       "      <th></th>\n",
       "      <th>id</th>\n",
       "      <th>prop</th>\n",
       "      <th>created</th>\n",
       "    </tr>\n",
       "  </thead>\n",
       "  <tbody>\n",
       "    <tr>\n",
       "      <th>71</th>\n",
       "      <td>72</td>\n",
       "      <td>{'id': 'GDPR.PURPOSE.UFØRETRYGD', 'name': 'UFØ...</td>\n",
       "      <td>2019-12-11 19:09:00.775020</td>\n",
       "    </tr>\n",
       "    <tr>\n",
       "      <th>72</th>\n",
       "      <td>73</td>\n",
       "      <td>{'id': 'GDPR.PURPOSE.VENTELØNN', 'name': 'VENT...</td>\n",
       "      <td>2019-12-11 19:09:00.775020</td>\n",
       "    </tr>\n",
       "    <tr>\n",
       "      <th>73</th>\n",
       "      <td>74</td>\n",
       "      <td>{'id': 'GDPR.PURPOSE.YRKESSKADE- OG SYKDOM', '...</td>\n",
       "      <td>2019-12-11 19:09:00.775020</td>\n",
       "    </tr>\n",
       "    <tr>\n",
       "      <th>74</th>\n",
       "      <td>75</td>\n",
       "      <td>{'id': 'GDPR.PURPOSE.YTELSER TIL FAMILIEPLEIER...</td>\n",
       "      <td>2019-12-11 19:09:00.775020</td>\n",
       "    </tr>\n",
       "    <tr>\n",
       "      <th>75</th>\n",
       "      <td>76</td>\n",
       "      <td>{'id': 'GDPR.PURPOSE.NOT AVAILABLE', 'name': '...</td>\n",
       "      <td>2019-12-11 19:09:00.775020</td>\n",
       "    </tr>\n",
       "  </tbody>\n",
       "</table>\n",
       "</div>"
      ],
      "text/plain": [
       "    id                                               prop  \\\n",
       "71  72  {'id': 'GDPR.PURPOSE.UFØRETRYGD', 'name': 'UFØ...   \n",
       "72  73  {'id': 'GDPR.PURPOSE.VENTELØNN', 'name': 'VENT...   \n",
       "73  74  {'id': 'GDPR.PURPOSE.YRKESSKADE- OG SYKDOM', '...   \n",
       "74  75  {'id': 'GDPR.PURPOSE.YTELSER TIL FAMILIEPLEIER...   \n",
       "75  76  {'id': 'GDPR.PURPOSE.NOT AVAILABLE', 'name': '...   \n",
       "\n",
       "                      created  \n",
       "71 2019-12-11 19:09:00.775020  \n",
       "72 2019-12-11 19:09:00.775020  \n",
       "73 2019-12-11 19:09:00.775020  \n",
       "74 2019-12-11 19:09:00.775020  \n",
       "75 2019-12-11 19:09:00.775020  "
      ]
     },
     "execution_count": 16,
     "metadata": {},
     "output_type": "execute_result"
    }
   ],
   "source": [
    "df = sqlio.read_sql_query(\"select * from tbl_node\", conn)\n",
    "df.tail()"
   ]
  },
  {
   "cell_type": "markdown",
   "metadata": {},
   "source": [
    "### Legal basis"
   ]
  },
  {
   "cell_type": "code",
   "execution_count": 17,
   "metadata": {},
   "outputs": [
    {
     "data": {
      "text/html": [
       "<div>\n",
       "<style scoped>\n",
       "    .dataframe tbody tr th:only-of-type {\n",
       "        vertical-align: middle;\n",
       "    }\n",
       "\n",
       "    .dataframe tbody tr th {\n",
       "        vertical-align: top;\n",
       "    }\n",
       "\n",
       "    .dataframe thead th {\n",
       "        text-align: right;\n",
       "    }\n",
       "</style>\n",
       "<table border=\"1\" class=\"dataframe\">\n",
       "  <thead>\n",
       "    <tr style=\"text-align: right;\">\n",
       "      <th></th>\n",
       "      <th>name</th>\n",
       "      <th>type</th>\n",
       "      <th>label</th>\n",
       "      <th>id</th>\n",
       "    </tr>\n",
       "  </thead>\n",
       "  <tbody>\n",
       "    <tr>\n",
       "      <th>0</th>\n",
       "      <td>Ftrl. § 11-20</td>\n",
       "      <td>GDPR.LEGAL_BASIS</td>\n",
       "      <td>Legal basis</td>\n",
       "      <td>GDPR.LEGAL_BASIS.A2C2E3D3-0267-42D5-B1CA-297A5...</td>\n",
       "    </tr>\n",
       "    <tr>\n",
       "      <th>1</th>\n",
       "      <td>Ftrl. §§ 3-16, 3-24, 3-25, 20-8.</td>\n",
       "      <td>GDPR.LEGAL_BASIS</td>\n",
       "      <td>Legal basis</td>\n",
       "      <td>GDPR.LEGAL_BASIS.69C03CA4-4407-4090-884D-02828...</td>\n",
       "    </tr>\n",
       "    <tr>\n",
       "      <th>2</th>\n",
       "      <td>Kapittel 3, 19, 20 0g 22</td>\n",
       "      <td>GDPR.LEGAL_BASIS</td>\n",
       "      <td>Legal basis</td>\n",
       "      <td>GDPR.LEGAL_BASIS.A1D9F4D6-36F3-4637-B80A-DC00B...</td>\n",
       "    </tr>\n",
       "    <tr>\n",
       "      <th>3</th>\n",
       "      <td>Ftrl § 3-2 og § 3-3</td>\n",
       "      <td>GDPR.LEGAL_BASIS</td>\n",
       "      <td>Legal basis</td>\n",
       "      <td>GDPR.LEGAL_BASIS.5361A548-1036-4BBA-A8E8-27F21...</td>\n",
       "    </tr>\n",
       "    <tr>\n",
       "      <th>4</th>\n",
       "      <td>Barnetrygdloven § 9</td>\n",
       "      <td>GDPR.LEGAL_BASIS</td>\n",
       "      <td>Legal basis</td>\n",
       "      <td>GDPR.LEGAL_BASIS.063C5289-E18D-4E58-B27B-3A5F6...</td>\n",
       "    </tr>\n",
       "  </tbody>\n",
       "</table>\n",
       "</div>"
      ],
      "text/plain": [
       "                               name              type        label  \\\n",
       "0                     Ftrl. § 11-20  GDPR.LEGAL_BASIS  Legal basis   \n",
       "1  Ftrl. §§ 3-16, 3-24, 3-25, 20-8.  GDPR.LEGAL_BASIS  Legal basis   \n",
       "2          Kapittel 3, 19, 20 0g 22  GDPR.LEGAL_BASIS  Legal basis   \n",
       "3              Ftrl § 3-2 og § 3-3   GDPR.LEGAL_BASIS  Legal basis   \n",
       "4               Barnetrygdloven § 9  GDPR.LEGAL_BASIS  Legal basis   \n",
       "\n",
       "                                                  id  \n",
       "0  GDPR.LEGAL_BASIS.A2C2E3D3-0267-42D5-B1CA-297A5...  \n",
       "1  GDPR.LEGAL_BASIS.69C03CA4-4407-4090-884D-02828...  \n",
       "2  GDPR.LEGAL_BASIS.A1D9F4D6-36F3-4637-B80A-DC00B...  \n",
       "3  GDPR.LEGAL_BASIS.5361A548-1036-4BBA-A8E8-27F21...  \n",
       "4  GDPR.LEGAL_BASIS.063C5289-E18D-4E58-B27B-3A5F6...  "
      ]
     },
     "execution_count": 17,
     "metadata": {},
     "output_type": "execute_result"
    }
   ],
   "source": [
    "sheet=xls.sheet_names[4]\n",
    "df_legal_basis = pd.read_excel(xls, sheet, encoding='latin1')\n",
    "df_legal_basis = df_legal_basis[['legalBasisDescription']].drop_duplicates()\n",
    "df_legal_basis.columns=['name']\n",
    "df_legal_basis = df_legal_basis.append({'name': 'NOT AVAILABLE'}, ignore_index=True)\n",
    "df_legal_basis['type'] = 'GDPR.LEGAL_BASIS'\n",
    "df_legal_basis['label'] = 'Legal basis'\n",
    "df_legal_basis['id'] = df_legal_basis.apply(get_uuid, axis=1)\n",
    "df_legal_basis.head()"
   ]
  },
  {
   "cell_type": "code",
   "execution_count": 18,
   "metadata": {},
   "outputs": [],
   "source": [
    "for i, row in df_legal_basis.iterrows():\n",
    "    index = index + 1\n",
    "    jsonb = row.to_json()\n",
    "    insert_query = f\"insert into tbl_node (prop) values ('{jsonb}')\"\n",
    "    cur.execute(insert_query, (jsonb,))\n",
    "    \n",
    "conn.commit()"
   ]
  },
  {
   "cell_type": "code",
   "execution_count": 19,
   "metadata": {},
   "outputs": [
    {
     "data": {
      "text/html": [
       "<div>\n",
       "<style scoped>\n",
       "    .dataframe tbody tr th:only-of-type {\n",
       "        vertical-align: middle;\n",
       "    }\n",
       "\n",
       "    .dataframe tbody tr th {\n",
       "        vertical-align: top;\n",
       "    }\n",
       "\n",
       "    .dataframe thead th {\n",
       "        text-align: right;\n",
       "    }\n",
       "</style>\n",
       "<table border=\"1\" class=\"dataframe\">\n",
       "  <thead>\n",
       "    <tr style=\"text-align: right;\">\n",
       "      <th></th>\n",
       "      <th>id</th>\n",
       "      <th>prop</th>\n",
       "      <th>created</th>\n",
       "    </tr>\n",
       "  </thead>\n",
       "  <tbody>\n",
       "    <tr>\n",
       "      <th>232</th>\n",
       "      <td>233</td>\n",
       "      <td>{'id': 'GDPR.LEGAL_BASIS.27289D67-CFBE-4865-BD...</td>\n",
       "      <td>2019-12-11 19:09:04.058521</td>\n",
       "    </tr>\n",
       "    <tr>\n",
       "      <th>233</th>\n",
       "      <td>234</td>\n",
       "      <td>{'id': 'GDPR.LEGAL_BASIS.FEE22ADD-3FA4-4372-82...</td>\n",
       "      <td>2019-12-11 19:09:04.058521</td>\n",
       "    </tr>\n",
       "    <tr>\n",
       "      <th>234</th>\n",
       "      <td>235</td>\n",
       "      <td>{'id': 'GDPR.LEGAL_BASIS.B98A1379-BC9E-4F36-8F...</td>\n",
       "      <td>2019-12-11 19:09:04.058521</td>\n",
       "    </tr>\n",
       "    <tr>\n",
       "      <th>235</th>\n",
       "      <td>236</td>\n",
       "      <td>{'id': 'GDPR.LEGAL_BASIS.170A8D8E-8A77-4529-9A...</td>\n",
       "      <td>2019-12-11 19:09:04.058521</td>\n",
       "    </tr>\n",
       "    <tr>\n",
       "      <th>236</th>\n",
       "      <td>237</td>\n",
       "      <td>{'id': 'GDPR.LEGAL_BASIS.B0EFE4EF-B24F-4341-AD...</td>\n",
       "      <td>2019-12-11 19:09:04.058521</td>\n",
       "    </tr>\n",
       "  </tbody>\n",
       "</table>\n",
       "</div>"
      ],
      "text/plain": [
       "      id                                               prop  \\\n",
       "232  233  {'id': 'GDPR.LEGAL_BASIS.27289D67-CFBE-4865-BD...   \n",
       "233  234  {'id': 'GDPR.LEGAL_BASIS.FEE22ADD-3FA4-4372-82...   \n",
       "234  235  {'id': 'GDPR.LEGAL_BASIS.B98A1379-BC9E-4F36-8F...   \n",
       "235  236  {'id': 'GDPR.LEGAL_BASIS.170A8D8E-8A77-4529-9A...   \n",
       "236  237  {'id': 'GDPR.LEGAL_BASIS.B0EFE4EF-B24F-4341-AD...   \n",
       "\n",
       "                       created  \n",
       "232 2019-12-11 19:09:04.058521  \n",
       "233 2019-12-11 19:09:04.058521  \n",
       "234 2019-12-11 19:09:04.058521  \n",
       "235 2019-12-11 19:09:04.058521  \n",
       "236 2019-12-11 19:09:04.058521  "
      ]
     },
     "execution_count": 19,
     "metadata": {},
     "output_type": "execute_result"
    }
   ],
   "source": [
    "df = sqlio.read_sql_query(\"select * from tbl_node\", conn)\n",
    "df.tail()"
   ]
  },
  {
   "cell_type": "markdown",
   "metadata": {},
   "source": [
    "### Information types"
   ]
  },
  {
   "cell_type": "code",
   "execution_count": 20,
   "metadata": {},
   "outputs": [
    {
     "data": {
      "text/html": [
       "<div>\n",
       "<style scoped>\n",
       "    .dataframe tbody tr th:only-of-type {\n",
       "        vertical-align: middle;\n",
       "    }\n",
       "\n",
       "    .dataframe tbody tr th {\n",
       "        vertical-align: top;\n",
       "    }\n",
       "\n",
       "    .dataframe thead th {\n",
       "        text-align: right;\n",
       "    }\n",
       "</style>\n",
       "<table border=\"1\" class=\"dataframe\">\n",
       "  <thead>\n",
       "    <tr style=\"text-align: right;\">\n",
       "      <th></th>\n",
       "      <th>name</th>\n",
       "      <th>description</th>\n",
       "      <th>label</th>\n",
       "      <th>type</th>\n",
       "      <th>id</th>\n",
       "    </tr>\n",
       "  </thead>\n",
       "  <tbody>\n",
       "    <tr>\n",
       "      <th>0</th>\n",
       "      <td>SIVILSTAND</td>\n",
       "      <td>En overordnet kategori som beskriver en person...</td>\n",
       "      <td>Information type</td>\n",
       "      <td>GDPR.INFORMATION_TYPE</td>\n",
       "      <td>GDPR.INFORMATION_TYPE.SIVILSTAND</td>\n",
       "    </tr>\n",
       "    <tr>\n",
       "      <th>1</th>\n",
       "      <td>ARBEIDSFORHOLD</td>\n",
       "      <td>Avtaleforhold hvor den ene part, arbeidstakere...</td>\n",
       "      <td>Information type</td>\n",
       "      <td>GDPR.INFORMATION_TYPE</td>\n",
       "      <td>GDPR.INFORMATION_TYPE.ARBEIDSFORHOLD</td>\n",
       "    </tr>\n",
       "    <tr>\n",
       "      <th>2</th>\n",
       "      <td>KJØNN</td>\n",
       "      <td>TODO - mangler i begrepskatalogen og i MFNs be...</td>\n",
       "      <td>Information type</td>\n",
       "      <td>GDPR.INFORMATION_TYPE</td>\n",
       "      <td>GDPR.INFORMATION_TYPE.KJØNN</td>\n",
       "    </tr>\n",
       "    <tr>\n",
       "      <th>3</th>\n",
       "      <td>NAVN</td>\n",
       "      <td>I Norge skal alle ha fornavn og ett enkelt ell...</td>\n",
       "      <td>Information type</td>\n",
       "      <td>GDPR.INFORMATION_TYPE</td>\n",
       "      <td>GDPR.INFORMATION_TYPE.NAVN</td>\n",
       "    </tr>\n",
       "    <tr>\n",
       "      <th>4</th>\n",
       "      <td>FØDSELSDATO</td>\n",
       "      <td>Datoen personen er født.</td>\n",
       "      <td>Information type</td>\n",
       "      <td>GDPR.INFORMATION_TYPE</td>\n",
       "      <td>GDPR.INFORMATION_TYPE.FØDSELSDATO</td>\n",
       "    </tr>\n",
       "  </tbody>\n",
       "</table>\n",
       "</div>"
      ],
      "text/plain": [
       "             name                                        description  \\\n",
       "0      SIVILSTAND  En overordnet kategori som beskriver en person...   \n",
       "1  ARBEIDSFORHOLD  Avtaleforhold hvor den ene part, arbeidstakere...   \n",
       "2           KJØNN  TODO - mangler i begrepskatalogen og i MFNs be...   \n",
       "3            NAVN  I Norge skal alle ha fornavn og ett enkelt ell...   \n",
       "4     FØDSELSDATO                           Datoen personen er født.   \n",
       "\n",
       "              label                   type  \\\n",
       "0  Information type  GDPR.INFORMATION_TYPE   \n",
       "1  Information type  GDPR.INFORMATION_TYPE   \n",
       "2  Information type  GDPR.INFORMATION_TYPE   \n",
       "3  Information type  GDPR.INFORMATION_TYPE   \n",
       "4  Information type  GDPR.INFORMATION_TYPE   \n",
       "\n",
       "                                     id  \n",
       "0      GDPR.INFORMATION_TYPE.SIVILSTAND  \n",
       "1  GDPR.INFORMATION_TYPE.ARBEIDSFORHOLD  \n",
       "2           GDPR.INFORMATION_TYPE.KJØNN  \n",
       "3            GDPR.INFORMATION_TYPE.NAVN  \n",
       "4     GDPR.INFORMATION_TYPE.FØDSELSDATO  "
      ]
     },
     "execution_count": 20,
     "metadata": {},
     "output_type": "execute_result"
    }
   ],
   "source": [
    "sheet=xls.sheet_names[3]\n",
    "\n",
    "df_concepts = pd.read_excel(xls, sheet, encoding='latin1')\n",
    "df_concepts = df_concepts[['title', 'description']]\n",
    "df_concepts.columns=['name', 'description']\n",
    "df_concepts['name'] = df_concepts['name'].apply(lambda x: x.strip().upper())\n",
    "df_concepts = df_concepts.append({'name': 'NOT AVAILABLE', 'description': 'Not Available -Verdi mangler'}, ignore_index=True).drop_duplicates()\n",
    "df_concepts['label'] = 'Information type'\n",
    "df_concepts['type'] = 'GDPR.INFORMATION_TYPE'\n",
    "df_concepts['id'] = df_concepts.apply(get_id, axis=1)\n",
    "df_concepts.head()"
   ]
  },
  {
   "cell_type": "code",
   "execution_count": 21,
   "metadata": {},
   "outputs": [
    {
     "data": {
      "text/plain": [
       "'GDPR.INFORMATION_TYPE.SIVILSTAND'"
      ]
     },
     "execution_count": 21,
     "metadata": {},
     "output_type": "execute_result"
    }
   ],
   "source": [
    "df_concepts.iloc[0]['id']"
   ]
  },
  {
   "cell_type": "code",
   "execution_count": 22,
   "metadata": {},
   "outputs": [],
   "source": [
    "for i, row in df_concepts.iterrows():\n",
    "    jsonb = row.to_json()\n",
    "    insert_query = f\"insert into tbl_node (prop) values ('{jsonb}')\"\n",
    "    cur.execute(insert_query, (jsonb,))\n",
    "    \n",
    "conn.commit()"
   ]
  },
  {
   "cell_type": "code",
   "execution_count": 23,
   "metadata": {},
   "outputs": [
    {
     "data": {
      "text/html": [
       "<div>\n",
       "<style scoped>\n",
       "    .dataframe tbody tr th:only-of-type {\n",
       "        vertical-align: middle;\n",
       "    }\n",
       "\n",
       "    .dataframe tbody tr th {\n",
       "        vertical-align: top;\n",
       "    }\n",
       "\n",
       "    .dataframe thead th {\n",
       "        text-align: right;\n",
       "    }\n",
       "</style>\n",
       "<table border=\"1\" class=\"dataframe\">\n",
       "  <thead>\n",
       "    <tr style=\"text-align: right;\">\n",
       "      <th></th>\n",
       "      <th>id</th>\n",
       "      <th>prop</th>\n",
       "      <th>created</th>\n",
       "    </tr>\n",
       "  </thead>\n",
       "  <tbody>\n",
       "    <tr>\n",
       "      <th>253</th>\n",
       "      <td>254</td>\n",
       "      <td>{'id': 'GDPR.INFORMATION_TYPE.FLYKTNINGSTATUS'...</td>\n",
       "      <td>2019-12-11 19:09:07.519610</td>\n",
       "    </tr>\n",
       "    <tr>\n",
       "      <th>254</th>\n",
       "      <td>255</td>\n",
       "      <td>{'id': 'GDPR.INFORMATION_TYPE.FORELDREANSVAR',...</td>\n",
       "      <td>2019-12-11 19:09:07.519610</td>\n",
       "    </tr>\n",
       "    <tr>\n",
       "      <th>255</th>\n",
       "      <td>256</td>\n",
       "      <td>{'id': 'GDPR.INFORMATION_TYPE.FORSTERFORELDRE'...</td>\n",
       "      <td>2019-12-11 19:09:07.519610</td>\n",
       "    </tr>\n",
       "    <tr>\n",
       "      <th>256</th>\n",
       "      <td>257</td>\n",
       "      <td>{'id': 'GDPR.INFORMATION_TYPE.FULLMAKT', 'name...</td>\n",
       "      <td>2019-12-11 19:09:07.519610</td>\n",
       "    </tr>\n",
       "    <tr>\n",
       "      <th>257</th>\n",
       "      <td>258</td>\n",
       "      <td>{'id': 'GDPR.INFORMATION_TYPE.NOT AVAILABLE', ...</td>\n",
       "      <td>2019-12-11 19:09:07.519610</td>\n",
       "    </tr>\n",
       "  </tbody>\n",
       "</table>\n",
       "</div>"
      ],
      "text/plain": [
       "      id                                               prop  \\\n",
       "253  254  {'id': 'GDPR.INFORMATION_TYPE.FLYKTNINGSTATUS'...   \n",
       "254  255  {'id': 'GDPR.INFORMATION_TYPE.FORELDREANSVAR',...   \n",
       "255  256  {'id': 'GDPR.INFORMATION_TYPE.FORSTERFORELDRE'...   \n",
       "256  257  {'id': 'GDPR.INFORMATION_TYPE.FULLMAKT', 'name...   \n",
       "257  258  {'id': 'GDPR.INFORMATION_TYPE.NOT AVAILABLE', ...   \n",
       "\n",
       "                       created  \n",
       "253 2019-12-11 19:09:07.519610  \n",
       "254 2019-12-11 19:09:07.519610  \n",
       "255 2019-12-11 19:09:07.519610  \n",
       "256 2019-12-11 19:09:07.519610  \n",
       "257 2019-12-11 19:09:07.519610  "
      ]
     },
     "execution_count": 23,
     "metadata": {},
     "output_type": "execute_result"
    }
   ],
   "source": [
    "df = sqlio.read_sql_query(\"select * from tbl_node\", conn)\n",
    "df.tail()"
   ]
  },
  {
   "cell_type": "markdown",
   "metadata": {},
   "source": [
    "### Categories"
   ]
  },
  {
   "cell_type": "code",
   "execution_count": 24,
   "metadata": {},
   "outputs": [
    {
     "data": {
      "text/html": [
       "<div>\n",
       "<style scoped>\n",
       "    .dataframe tbody tr th:only-of-type {\n",
       "        vertical-align: middle;\n",
       "    }\n",
       "\n",
       "    .dataframe tbody tr th {\n",
       "        vertical-align: top;\n",
       "    }\n",
       "\n",
       "    .dataframe thead th {\n",
       "        text-align: right;\n",
       "    }\n",
       "</style>\n",
       "<table border=\"1\" class=\"dataframe\">\n",
       "  <thead>\n",
       "    <tr style=\"text-align: right;\">\n",
       "      <th></th>\n",
       "      <th>name</th>\n",
       "      <th>label</th>\n",
       "      <th>type</th>\n",
       "      <th>id</th>\n",
       "    </tr>\n",
       "  </thead>\n",
       "  <tbody>\n",
       "    <tr>\n",
       "      <th>0</th>\n",
       "      <td>PERSONALIA</td>\n",
       "      <td>Information type category</td>\n",
       "      <td>GDPR.INFORMATION_TYPE_CATEGORY</td>\n",
       "      <td>GDPR.INFORMATION_TYPE_CATEGORY.PERSONALIA</td>\n",
       "    </tr>\n",
       "    <tr>\n",
       "      <th>1</th>\n",
       "      <td>ARBEIDSFORHOLD</td>\n",
       "      <td>Information type category</td>\n",
       "      <td>GDPR.INFORMATION_TYPE_CATEGORY</td>\n",
       "      <td>GDPR.INFORMATION_TYPE_CATEGORY.ARBEIDSFORHOLD</td>\n",
       "    </tr>\n",
       "    <tr>\n",
       "      <th>6</th>\n",
       "      <td>KONTAKTOPPLYSNINGER</td>\n",
       "      <td>Information type category</td>\n",
       "      <td>GDPR.INFORMATION_TYPE_CATEGORY</td>\n",
       "      <td>GDPR.INFORMATION_TYPE_CATEGORY.KONTAKTOPPLYSNI...</td>\n",
       "    </tr>\n",
       "    <tr>\n",
       "      <th>9</th>\n",
       "      <td>FAMILIERELASJONER</td>\n",
       "      <td>Information type category</td>\n",
       "      <td>GDPR.INFORMATION_TYPE_CATEGORY</td>\n",
       "      <td>GDPR.INFORMATION_TYPE_CATEGORY.FAMILIERELASJONER</td>\n",
       "    </tr>\n",
       "    <tr>\n",
       "      <th>16</th>\n",
       "      <td>FOLKETRYGD</td>\n",
       "      <td>Information type category</td>\n",
       "      <td>GDPR.INFORMATION_TYPE_CATEGORY</td>\n",
       "      <td>GDPR.INFORMATION_TYPE_CATEGORY.FOLKETRYGD</td>\n",
       "    </tr>\n",
       "  </tbody>\n",
       "</table>\n",
       "</div>"
      ],
      "text/plain": [
       "                   name                      label  \\\n",
       "0            PERSONALIA  Information type category   \n",
       "1        ARBEIDSFORHOLD  Information type category   \n",
       "6   KONTAKTOPPLYSNINGER  Information type category   \n",
       "9     FAMILIERELASJONER  Information type category   \n",
       "16           FOLKETRYGD  Information type category   \n",
       "\n",
       "                              type  \\\n",
       "0   GDPR.INFORMATION_TYPE_CATEGORY   \n",
       "1   GDPR.INFORMATION_TYPE_CATEGORY   \n",
       "6   GDPR.INFORMATION_TYPE_CATEGORY   \n",
       "9   GDPR.INFORMATION_TYPE_CATEGORY   \n",
       "16  GDPR.INFORMATION_TYPE_CATEGORY   \n",
       "\n",
       "                                                   id  \n",
       "0           GDPR.INFORMATION_TYPE_CATEGORY.PERSONALIA  \n",
       "1       GDPR.INFORMATION_TYPE_CATEGORY.ARBEIDSFORHOLD  \n",
       "6   GDPR.INFORMATION_TYPE_CATEGORY.KONTAKTOPPLYSNI...  \n",
       "9    GDPR.INFORMATION_TYPE_CATEGORY.FAMILIERELASJONER  \n",
       "16          GDPR.INFORMATION_TYPE_CATEGORY.FOLKETRYGD  "
      ]
     },
     "execution_count": 24,
     "metadata": {},
     "output_type": "execute_result"
    }
   ],
   "source": [
    "sheet=xls.sheet_names[3]\n",
    "df_categories = pd.read_excel(xls, sheet, encoding='latin1')\n",
    "df_categories = df_categories[['categories']]\n",
    "df_categories.columns=['name']\n",
    "df_categories['name'] = df_categories['name'].apply(lambda x: x.strip().upper())\n",
    "df_categories = df_categories.append({'name': 'NOT AVAILABLE'}, ignore_index=True).drop_duplicates()\n",
    "df_categories['label'] = 'Information type category'\n",
    "df_categories['type'] = 'GDPR.INFORMATION_TYPE_CATEGORY'\n",
    "df_categories['id'] = df_categories.apply(get_id, axis=1)\n",
    "df_categories.head()"
   ]
  },
  {
   "cell_type": "code",
   "execution_count": 25,
   "metadata": {},
   "outputs": [],
   "source": [
    "for i, row in df_categories.iterrows():\n",
    "    index = index + 1\n",
    "    jsonb = row.to_json()\n",
    "    insert_query = f\"insert into tbl_node (prop) values ('{jsonb}')\"\n",
    "    cur.execute(insert_query, (jsonb,))\n",
    "    \n",
    "conn.commit()"
   ]
  },
  {
   "cell_type": "markdown",
   "metadata": {},
   "source": [
    "### Nodes"
   ]
  },
  {
   "cell_type": "code",
   "execution_count": 26,
   "metadata": {},
   "outputs": [],
   "source": [
    "df_nodes = sqlio.read_sql_query(\"select * from tbl_node\", conn)"
   ]
  },
  {
   "cell_type": "code",
   "execution_count": 27,
   "metadata": {},
   "outputs": [
    {
     "data": {
      "text/html": [
       "<div>\n",
       "<style scoped>\n",
       "    .dataframe tbody tr th:only-of-type {\n",
       "        vertical-align: middle;\n",
       "    }\n",
       "\n",
       "    .dataframe tbody tr th {\n",
       "        vertical-align: top;\n",
       "    }\n",
       "\n",
       "    .dataframe thead th {\n",
       "        text-align: right;\n",
       "    }\n",
       "</style>\n",
       "<table border=\"1\" class=\"dataframe\">\n",
       "  <thead>\n",
       "    <tr style=\"text-align: right;\">\n",
       "      <th></th>\n",
       "      <th>id</th>\n",
       "      <th>prop</th>\n",
       "      <th>created</th>\n",
       "    </tr>\n",
       "  </thead>\n",
       "  <tbody>\n",
       "    <tr>\n",
       "      <th>0</th>\n",
       "      <td>1</td>\n",
       "      <td>{'id': 'GDPR.PROCESSING_ACTIVITY.ALDERSPENSJON...</td>\n",
       "      <td>2019-12-11 19:08:52.282378</td>\n",
       "    </tr>\n",
       "    <tr>\n",
       "      <th>1</th>\n",
       "      <td>2</td>\n",
       "      <td>{'id': 'GDPR.PROCESSING_ACTIVITY.ARBEIDSAVKLAR...</td>\n",
       "      <td>2019-12-11 19:08:52.282378</td>\n",
       "    </tr>\n",
       "    <tr>\n",
       "      <th>2</th>\n",
       "      <td>3</td>\n",
       "      <td>{'id': 'GDPR.PROCESSING_ACTIVITY.AVTALEFESTET ...</td>\n",
       "      <td>2019-12-11 19:08:52.282378</td>\n",
       "    </tr>\n",
       "    <tr>\n",
       "      <th>3</th>\n",
       "      <td>4</td>\n",
       "      <td>{'id': 'GDPR.PROCESSING_ACTIVITY.AVTALEFESTET ...</td>\n",
       "      <td>2019-12-11 19:08:52.282378</td>\n",
       "    </tr>\n",
       "    <tr>\n",
       "      <th>4</th>\n",
       "      <td>5</td>\n",
       "      <td>{'id': 'GDPR.PROCESSING_ACTIVITY.BARNEBIDRAG',...</td>\n",
       "      <td>2019-12-11 19:08:52.282378</td>\n",
       "    </tr>\n",
       "  </tbody>\n",
       "</table>\n",
       "</div>"
      ],
      "text/plain": [
       "   id                                               prop  \\\n",
       "0   1  {'id': 'GDPR.PROCESSING_ACTIVITY.ALDERSPENSJON...   \n",
       "1   2  {'id': 'GDPR.PROCESSING_ACTIVITY.ARBEIDSAVKLAR...   \n",
       "2   3  {'id': 'GDPR.PROCESSING_ACTIVITY.AVTALEFESTET ...   \n",
       "3   4  {'id': 'GDPR.PROCESSING_ACTIVITY.AVTALEFESTET ...   \n",
       "4   5  {'id': 'GDPR.PROCESSING_ACTIVITY.BARNEBIDRAG',...   \n",
       "\n",
       "                     created  \n",
       "0 2019-12-11 19:08:52.282378  \n",
       "1 2019-12-11 19:08:52.282378  \n",
       "2 2019-12-11 19:08:52.282378  \n",
       "3 2019-12-11 19:08:52.282378  \n",
       "4 2019-12-11 19:08:52.282378  "
      ]
     },
     "execution_count": 27,
     "metadata": {},
     "output_type": "execute_result"
    }
   ],
   "source": [
    "df_nodes.head()"
   ]
  },
  {
   "cell_type": "code",
   "execution_count": 28,
   "metadata": {},
   "outputs": [
    {
     "data": {
      "text/plain": [
       "{'id': 'GDPR.PROCESSING_ACTIVITY.ALDERSPENSJON',\n",
       " 'name': 'ALDERSPENSJON',\n",
       " 'type': 'GDPR.PROCESSING_ACTIVITY',\n",
       " 'label': 'Processing activity',\n",
       " 'description': 'Behandle og vurdere rett til alderspensjon som skal sikre inntekt for personer i alderdommen og å legge til rette for en fleksibel og gradvis overgang fra arbeid til pensjon.'}"
      ]
     },
     "execution_count": 28,
     "metadata": {},
     "output_type": "execute_result"
    }
   ],
   "source": [
    "df_nodes.iloc[0]['prop']"
   ]
  },
  {
   "cell_type": "code",
   "execution_count": 29,
   "metadata": {},
   "outputs": [
    {
     "data": {
      "text/html": [
       "<div>\n",
       "<style scoped>\n",
       "    .dataframe tbody tr th:only-of-type {\n",
       "        vertical-align: middle;\n",
       "    }\n",
       "\n",
       "    .dataframe tbody tr th {\n",
       "        vertical-align: top;\n",
       "    }\n",
       "\n",
       "    .dataframe thead th {\n",
       "        text-align: right;\n",
       "    }\n",
       "</style>\n",
       "<table border=\"1\" class=\"dataframe\">\n",
       "  <thead>\n",
       "    <tr style=\"text-align: right;\">\n",
       "      <th></th>\n",
       "      <th>id</th>\n",
       "      <th>prop</th>\n",
       "      <th>created</th>\n",
       "      <th>name</th>\n",
       "      <th>type</th>\n",
       "    </tr>\n",
       "  </thead>\n",
       "  <tbody>\n",
       "    <tr>\n",
       "      <th>0</th>\n",
       "      <td>1</td>\n",
       "      <td>{'id': 'GDPR.PROCESSING_ACTIVITY.ALDERSPENSJON...</td>\n",
       "      <td>2019-12-11 19:08:52.282378</td>\n",
       "      <td>ALDERSPENSJON</td>\n",
       "      <td>GDPR.PROCESSING_ACTIVITY</td>\n",
       "    </tr>\n",
       "    <tr>\n",
       "      <th>1</th>\n",
       "      <td>2</td>\n",
       "      <td>{'id': 'GDPR.PROCESSING_ACTIVITY.ARBEIDSAVKLAR...</td>\n",
       "      <td>2019-12-11 19:08:52.282378</td>\n",
       "      <td>ARBEIDSAVKLARINGSPENGER (AAP)</td>\n",
       "      <td>GDPR.PROCESSING_ACTIVITY</td>\n",
       "    </tr>\n",
       "    <tr>\n",
       "      <th>2</th>\n",
       "      <td>3</td>\n",
       "      <td>{'id': 'GDPR.PROCESSING_ACTIVITY.AVTALEFESTET ...</td>\n",
       "      <td>2019-12-11 19:08:52.282378</td>\n",
       "      <td>AVTALEFESTET PENSJON (AFP) FOR PRIVAT SEKTOR</td>\n",
       "      <td>GDPR.PROCESSING_ACTIVITY</td>\n",
       "    </tr>\n",
       "    <tr>\n",
       "      <th>3</th>\n",
       "      <td>4</td>\n",
       "      <td>{'id': 'GDPR.PROCESSING_ACTIVITY.AVTALEFESTET ...</td>\n",
       "      <td>2019-12-11 19:08:52.282378</td>\n",
       "      <td>AVTALEFESTET PENSJON (AFP) FOR STATLIG OG KOMM...</td>\n",
       "      <td>GDPR.PROCESSING_ACTIVITY</td>\n",
       "    </tr>\n",
       "    <tr>\n",
       "      <th>4</th>\n",
       "      <td>5</td>\n",
       "      <td>{'id': 'GDPR.PROCESSING_ACTIVITY.BARNEBIDRAG',...</td>\n",
       "      <td>2019-12-11 19:08:52.282378</td>\n",
       "      <td>BARNEBIDRAG</td>\n",
       "      <td>GDPR.PROCESSING_ACTIVITY</td>\n",
       "    </tr>\n",
       "  </tbody>\n",
       "</table>\n",
       "</div>"
      ],
      "text/plain": [
       "   id                                               prop  \\\n",
       "0   1  {'id': 'GDPR.PROCESSING_ACTIVITY.ALDERSPENSJON...   \n",
       "1   2  {'id': 'GDPR.PROCESSING_ACTIVITY.ARBEIDSAVKLAR...   \n",
       "2   3  {'id': 'GDPR.PROCESSING_ACTIVITY.AVTALEFESTET ...   \n",
       "3   4  {'id': 'GDPR.PROCESSING_ACTIVITY.AVTALEFESTET ...   \n",
       "4   5  {'id': 'GDPR.PROCESSING_ACTIVITY.BARNEBIDRAG',...   \n",
       "\n",
       "                     created  \\\n",
       "0 2019-12-11 19:08:52.282378   \n",
       "1 2019-12-11 19:08:52.282378   \n",
       "2 2019-12-11 19:08:52.282378   \n",
       "3 2019-12-11 19:08:52.282378   \n",
       "4 2019-12-11 19:08:52.282378   \n",
       "\n",
       "                                                name                      type  \n",
       "0                                      ALDERSPENSJON  GDPR.PROCESSING_ACTIVITY  \n",
       "1                      ARBEIDSAVKLARINGSPENGER (AAP)  GDPR.PROCESSING_ACTIVITY  \n",
       "2       AVTALEFESTET PENSJON (AFP) FOR PRIVAT SEKTOR  GDPR.PROCESSING_ACTIVITY  \n",
       "3  AVTALEFESTET PENSJON (AFP) FOR STATLIG OG KOMM...  GDPR.PROCESSING_ACTIVITY  \n",
       "4                                        BARNEBIDRAG  GDPR.PROCESSING_ACTIVITY  "
      ]
     },
     "execution_count": 29,
     "metadata": {},
     "output_type": "execute_result"
    }
   ],
   "source": [
    "df_nodes = sqlio.read_sql_query(\"select * from tbl_node\", conn)\n",
    "df_nodes['name'] = df_nodes['prop'].apply(lambda x : x['name'])\n",
    "df_nodes['type'] = df_nodes['prop'].apply(lambda x : x['type'])\n",
    "df_nodes.head()"
   ]
  },
  {
   "cell_type": "markdown",
   "metadata": {},
   "source": [
    "### Edges"
   ]
  },
  {
   "cell_type": "code",
   "execution_count": 30,
   "metadata": {},
   "outputs": [
    {
     "data": {
      "text/html": [
       "<div>\n",
       "<style scoped>\n",
       "    .dataframe tbody tr th:only-of-type {\n",
       "        vertical-align: middle;\n",
       "    }\n",
       "\n",
       "    .dataframe tbody tr th {\n",
       "        vertical-align: top;\n",
       "    }\n",
       "\n",
       "    .dataframe thead th {\n",
       "        text-align: right;\n",
       "    }\n",
       "</style>\n",
       "<table border=\"1\" class=\"dataframe\">\n",
       "  <thead>\n",
       "    <tr style=\"text-align: right;\">\n",
       "      <th></th>\n",
       "      <th>source</th>\n",
       "      <th>target</th>\n",
       "    </tr>\n",
       "  </thead>\n",
       "  <tbody>\n",
       "    <tr>\n",
       "      <th>0</th>\n",
       "      <td>SIVILSTAND</td>\n",
       "      <td>PERSONALIA</td>\n",
       "    </tr>\n",
       "    <tr>\n",
       "      <th>1</th>\n",
       "      <td>ARBEIDSFORHOLD</td>\n",
       "      <td>ARBEIDSFORHOLD</td>\n",
       "    </tr>\n",
       "    <tr>\n",
       "      <th>2</th>\n",
       "      <td>KJØNN</td>\n",
       "      <td>PERSONALIA</td>\n",
       "    </tr>\n",
       "    <tr>\n",
       "      <th>3</th>\n",
       "      <td>NAVN</td>\n",
       "      <td>PERSONALIA</td>\n",
       "    </tr>\n",
       "    <tr>\n",
       "      <th>4</th>\n",
       "      <td>FØDSELSDATO</td>\n",
       "      <td>PERSONALIA</td>\n",
       "    </tr>\n",
       "  </tbody>\n",
       "</table>\n",
       "</div>"
      ],
      "text/plain": [
       "           source          target\n",
       "0      SIVILSTAND      PERSONALIA\n",
       "1  ARBEIDSFORHOLD  ARBEIDSFORHOLD\n",
       "2           KJØNN      PERSONALIA\n",
       "3            NAVN      PERSONALIA\n",
       "4     FØDSELSDATO      PERSONALIA"
      ]
     },
     "execution_count": 30,
     "metadata": {},
     "output_type": "execute_result"
    }
   ],
   "source": [
    "sheet=xls.sheet_names[3]\n",
    "df_edges = pd.read_excel(xls, sheet, encoding='latin1')\n",
    "df_edges = df_edges[['title', 'categories']].drop_duplicates()\n",
    "df_edges.columns = ['source', 'target']\n",
    "df_edges['source'] = df_edges['source'].apply(lambda x: x.strip().upper())\n",
    "df_edges['target'] = df_edges['target'].apply(lambda x: x.strip().upper())\n",
    "df_edges.drop_duplicates()\n",
    "\n",
    "df_edges.head()"
   ]
  },
  {
   "cell_type": "code",
   "execution_count": 31,
   "metadata": {},
   "outputs": [],
   "source": [
    "conn.commit()"
   ]
  },
  {
   "cell_type": "code",
   "execution_count": 32,
   "metadata": {},
   "outputs": [
    {
     "ename": "ProgrammingError",
     "evalue": "column \"prop\" is of type jsonb but expression is of type text[]\nLINE 1: insert into tbl_edge (n1,n2,prop) values (238,259,array['bel...\n                                                          ^\nHINT:  You will need to rewrite or cast the expression.\n",
     "output_type": "error",
     "traceback": [
      "\u001b[0;31m---------------------------------------------------------------------------\u001b[0m",
      "\u001b[0;31mProgrammingError\u001b[0m                          Traceback (most recent call last)",
      "\u001b[0;32m<ipython-input-32-0aebf8499541>\u001b[0m in \u001b[0;36m<module>\u001b[0;34m\u001b[0m\n\u001b[1;32m      6\u001b[0m     \u001b[0msource_id\u001b[0m \u001b[0;34m=\u001b[0m \u001b[0mdf_nodes\u001b[0m\u001b[0;34m.\u001b[0m\u001b[0mloc\u001b[0m\u001b[0;34m[\u001b[0m\u001b[0;34m(\u001b[0m\u001b[0;34m(\u001b[0m\u001b[0mdf_nodes\u001b[0m\u001b[0;34m[\u001b[0m\u001b[0;34m'name'\u001b[0m\u001b[0;34m]\u001b[0m \u001b[0;34m==\u001b[0m \u001b[0mrow\u001b[0m\u001b[0;34m[\u001b[0m\u001b[0;34m'source'\u001b[0m\u001b[0;34m]\u001b[0m\u001b[0;34m)\u001b[0m \u001b[0;34m&\u001b[0m \u001b[0;34m(\u001b[0m\u001b[0mdf_nodes\u001b[0m\u001b[0;34m[\u001b[0m\u001b[0;34m'type'\u001b[0m\u001b[0;34m]\u001b[0m \u001b[0;34m==\u001b[0m \u001b[0;34m'GDPR.INFORMATION_TYPE'\u001b[0m\u001b[0;34m)\u001b[0m\u001b[0;34m)\u001b[0m\u001b[0;34m,\u001b[0m \u001b[0;34m'id'\u001b[0m\u001b[0;34m]\u001b[0m\u001b[0;34m.\u001b[0m\u001b[0mitem\u001b[0m\u001b[0;34m(\u001b[0m\u001b[0;34m)\u001b[0m\u001b[0;34m\u001b[0m\u001b[0;34m\u001b[0m\u001b[0m\n\u001b[1;32m      7\u001b[0m     \u001b[0mtarget_id\u001b[0m \u001b[0;34m=\u001b[0m \u001b[0mdf_nodes\u001b[0m\u001b[0;34m.\u001b[0m\u001b[0mloc\u001b[0m\u001b[0;34m[\u001b[0m\u001b[0;34m(\u001b[0m\u001b[0;34m(\u001b[0m\u001b[0mdf_nodes\u001b[0m\u001b[0;34m[\u001b[0m\u001b[0;34m'name'\u001b[0m\u001b[0;34m]\u001b[0m \u001b[0;34m==\u001b[0m \u001b[0mrow\u001b[0m\u001b[0;34m[\u001b[0m\u001b[0;34m'target'\u001b[0m\u001b[0;34m]\u001b[0m\u001b[0;34m)\u001b[0m \u001b[0;34m&\u001b[0m \u001b[0;34m(\u001b[0m\u001b[0mdf_nodes\u001b[0m\u001b[0;34m[\u001b[0m\u001b[0;34m'type'\u001b[0m\u001b[0;34m]\u001b[0m \u001b[0;34m==\u001b[0m \u001b[0;34m'GDPR.INFORMATION_TYPE_CATEGORY'\u001b[0m\u001b[0;34m)\u001b[0m\u001b[0;34m)\u001b[0m\u001b[0;34m,\u001b[0m \u001b[0;34m'id'\u001b[0m\u001b[0;34m]\u001b[0m\u001b[0;34m.\u001b[0m\u001b[0mitem\u001b[0m\u001b[0;34m(\u001b[0m\u001b[0;34m)\u001b[0m\u001b[0;34m\u001b[0m\u001b[0;34m\u001b[0m\u001b[0m\n\u001b[0;32m----> 8\u001b[0;31m     \u001b[0mcur\u001b[0m\u001b[0;34m.\u001b[0m\u001b[0mexecute\u001b[0m\u001b[0;34m(\u001b[0m\u001b[0;34mf\"insert into tbl_edge (n1,n2,prop) values ({source_id},{target_id},array['belongs to category']);\"\u001b[0m\u001b[0;34m)\u001b[0m\u001b[0;34m\u001b[0m\u001b[0;34m\u001b[0m\u001b[0m\n\u001b[0m\u001b[1;32m      9\u001b[0m \u001b[0;34m\u001b[0m\u001b[0m\n\u001b[1;32m     10\u001b[0m \u001b[0mconn\u001b[0m\u001b[0;34m.\u001b[0m\u001b[0mcommit\u001b[0m\u001b[0;34m(\u001b[0m\u001b[0;34m)\u001b[0m\u001b[0;34m\u001b[0m\u001b[0;34m\u001b[0m\u001b[0m\n",
      "\u001b[0;31mProgrammingError\u001b[0m: column \"prop\" is of type jsonb but expression is of type text[]\nLINE 1: insert into tbl_edge (n1,n2,prop) values (238,259,array['bel...\n                                                          ^\nHINT:  You will need to rewrite or cast the expression.\n"
     ]
    }
   ],
   "source": [
    "cur.execute(\"delete from tbl_edge\")\n",
    "conn.commit()\n",
    "\n",
    "for index, row in df_edges.iterrows():\n",
    "    df_nodes.loc[((df_nodes['name'] == row['source']) & (df_nodes['type'] == 'GDPR.INFORMATION_TYPE')), 'id']\n",
    "    source_id = df_nodes.loc[((df_nodes['name'] == row['source']) & (df_nodes['type'] == 'GDPR.INFORMATION_TYPE')), 'id'].item()\n",
    "    target_id = df_nodes.loc[((df_nodes['name'] == row['target']) & (df_nodes['type'] == 'GDPR.INFORMATION_TYPE_CATEGORY')), 'id'].item()\n",
    "    cur.execute(f\"insert into tbl_edge (n1,n2,prop) values ({source_id},{target_id},array['belongs to category']);\")\n",
    "    \n",
    "conn.commit()"
   ]
  },
  {
   "cell_type": "code",
   "execution_count": 33,
   "metadata": {},
   "outputs": [
    {
     "data": {
      "text/html": [
       "<div>\n",
       "<style scoped>\n",
       "    .dataframe tbody tr th:only-of-type {\n",
       "        vertical-align: middle;\n",
       "    }\n",
       "\n",
       "    .dataframe tbody tr th {\n",
       "        vertical-align: top;\n",
       "    }\n",
       "\n",
       "    .dataframe thead th {\n",
       "        text-align: right;\n",
       "    }\n",
       "</style>\n",
       "<table border=\"1\" class=\"dataframe\">\n",
       "  <thead>\n",
       "    <tr style=\"text-align: right;\">\n",
       "      <th></th>\n",
       "      <th>source</th>\n",
       "      <th>target</th>\n",
       "    </tr>\n",
       "  </thead>\n",
       "  <tbody>\n",
       "    <tr>\n",
       "      <th>0</th>\n",
       "      <td>PERSONALIA</td>\n",
       "      <td>SIVILSTAND</td>\n",
       "    </tr>\n",
       "    <tr>\n",
       "      <th>1</th>\n",
       "      <td>ARBEIDSFORHOLD</td>\n",
       "      <td>ARBEIDSFORHOLD</td>\n",
       "    </tr>\n",
       "    <tr>\n",
       "      <th>2</th>\n",
       "      <td>PERSONALIA</td>\n",
       "      <td>KJØNN</td>\n",
       "    </tr>\n",
       "    <tr>\n",
       "      <th>3</th>\n",
       "      <td>PERSONALIA</td>\n",
       "      <td>NAVN</td>\n",
       "    </tr>\n",
       "    <tr>\n",
       "      <th>4</th>\n",
       "      <td>PERSONALIA</td>\n",
       "      <td>FØDSELSDATO</td>\n",
       "    </tr>\n",
       "  </tbody>\n",
       "</table>\n",
       "</div>"
      ],
      "text/plain": [
       "           source          target\n",
       "0      PERSONALIA      SIVILSTAND\n",
       "1  ARBEIDSFORHOLD  ARBEIDSFORHOLD\n",
       "2      PERSONALIA           KJØNN\n",
       "3      PERSONALIA            NAVN\n",
       "4      PERSONALIA     FØDSELSDATO"
      ]
     },
     "execution_count": 33,
     "metadata": {},
     "output_type": "execute_result"
    }
   ],
   "source": [
    "df_edges = pd.read_excel(xls, sheet, encoding='latin1')\n",
    "df_edges = df_edges[['categories', 'title']].drop_duplicates()\n",
    "df_edges.columns = ['source', 'target']\n",
    "df_edges['source'] = df_edges['source'].apply(lambda x: x.strip().upper())\n",
    "df_edges['target'] = df_edges['target'].apply(lambda x: x.strip().upper())\n",
    "df_edges.drop_duplicates()\n",
    "\n",
    "df_edges.head()"
   ]
  },
  {
   "cell_type": "code",
   "execution_count": 40,
   "metadata": {},
   "outputs": [],
   "source": [
    "conn.commit()"
   ]
  },
  {
   "cell_type": "code",
   "execution_count": 41,
   "metadata": {},
   "outputs": [],
   "source": [
    "for index, row in df_edges.iterrows():\n",
    "    df_nodes.loc[((df_nodes['name'] == row['source']) & (df_nodes['type'] == 'GDPR.INFORMATION_TYPE')), 'id']\n",
    "    source_id = df_nodes.loc[((df_nodes['name'] == row['source']) & (df_nodes['type'] == 'GDPR.INFORMATION_TYPE_CATEGORY')), 'id'].item()\n",
    "    target_id = df_nodes.loc[((df_nodes['name'] == row['target']) & (df_nodes['type'] == 'GDPR.INFORMATION_TYPE')), 'id'].item()\n",
    "    prop = json.dumps(['contains concept'])\n",
    "    cur.execute(f\"insert into tbl_edge (n1,n2,prop) values ({source_id},{target_id},'{prop}');\")\n",
    "    \n",
    "conn.commit()\n"
   ]
  },
  {
   "cell_type": "code",
   "execution_count": 42,
   "metadata": {},
   "outputs": [
    {
     "data": {
      "text/html": [
       "<div>\n",
       "<style scoped>\n",
       "    .dataframe tbody tr th:only-of-type {\n",
       "        vertical-align: middle;\n",
       "    }\n",
       "\n",
       "    .dataframe tbody tr th {\n",
       "        vertical-align: top;\n",
       "    }\n",
       "\n",
       "    .dataframe thead th {\n",
       "        text-align: right;\n",
       "    }\n",
       "</style>\n",
       "<table border=\"1\" class=\"dataframe\">\n",
       "  <thead>\n",
       "    <tr style=\"text-align: right;\">\n",
       "      <th></th>\n",
       "      <th>n1</th>\n",
       "      <th>n2</th>\n",
       "      <th>prop</th>\n",
       "      <th>created</th>\n",
       "    </tr>\n",
       "  </thead>\n",
       "  <tbody>\n",
       "    <tr>\n",
       "      <th>0</th>\n",
       "      <td>259</td>\n",
       "      <td>238</td>\n",
       "      <td>[contains concept]</td>\n",
       "      <td>2019-12-11 19:13:08.310467</td>\n",
       "    </tr>\n",
       "    <tr>\n",
       "      <th>1</th>\n",
       "      <td>260</td>\n",
       "      <td>239</td>\n",
       "      <td>[contains concept]</td>\n",
       "      <td>2019-12-11 19:13:08.310467</td>\n",
       "    </tr>\n",
       "    <tr>\n",
       "      <th>2</th>\n",
       "      <td>259</td>\n",
       "      <td>240</td>\n",
       "      <td>[contains concept]</td>\n",
       "      <td>2019-12-11 19:13:08.310467</td>\n",
       "    </tr>\n",
       "    <tr>\n",
       "      <th>3</th>\n",
       "      <td>259</td>\n",
       "      <td>241</td>\n",
       "      <td>[contains concept]</td>\n",
       "      <td>2019-12-11 19:13:08.310467</td>\n",
       "    </tr>\n",
       "    <tr>\n",
       "      <th>4</th>\n",
       "      <td>259</td>\n",
       "      <td>242</td>\n",
       "      <td>[contains concept]</td>\n",
       "      <td>2019-12-11 19:13:08.310467</td>\n",
       "    </tr>\n",
       "  </tbody>\n",
       "</table>\n",
       "</div>"
      ],
      "text/plain": [
       "    n1   n2                prop                    created\n",
       "0  259  238  [contains concept] 2019-12-11 19:13:08.310467\n",
       "1  260  239  [contains concept] 2019-12-11 19:13:08.310467\n",
       "2  259  240  [contains concept] 2019-12-11 19:13:08.310467\n",
       "3  259  241  [contains concept] 2019-12-11 19:13:08.310467\n",
       "4  259  242  [contains concept] 2019-12-11 19:13:08.310467"
      ]
     },
     "execution_count": 42,
     "metadata": {},
     "output_type": "execute_result"
    }
   ],
   "source": [
    "sql = \"select * from tbl_edge\"\n",
    "df = sqlio.read_sql_query(sql, conn)\n",
    "df.head()"
   ]
  },
  {
   "cell_type": "code",
   "execution_count": 45,
   "metadata": {},
   "outputs": [],
   "source": [
    "conn.commit()"
   ]
  },
  {
   "cell_type": "code",
   "execution_count": 46,
   "metadata": {},
   "outputs": [],
   "source": [
    "cur.execute(\"DROP FUNCTION graph_search1(integer,integer,bigint)\")"
   ]
  },
  {
   "cell_type": "code",
   "execution_count": 47,
   "metadata": {},
   "outputs": [],
   "source": [
    "sql = \"\"\"\n",
    "create or replace function graph_search1(      \n",
    "  IN i_root int,                       -- The node that the search is based on        \n",
    "  IN i_depth int  default 99999,       -- the tier to search (the depth limit)      \n",
    "  IN i_limit int8 default 2000000000,  -- limit the number of records returned for each tier      \n",
    "  OUT o_path int[],                    -- output: path, an array of IDs      \n",
    "  OUT o_point1 int,                    -- output: point 1 ID      \n",
    "  OUT o_point2 int,                    -- output: point 2 ID      \n",
    "  OUT o_link_prop JSONB,               -- output: the connection property between the two current points      \n",
    "  OUT o_link_prop_all text,            -- output: the connection property from the starting node to the current node      \n",
    "  OUT o_depth int                      -- output: current depth (tier)      \n",
    ") returns setof record as \n",
    "$$\n",
    "      \n",
    "declare      \n",
    "  sql text;      \n",
    "begin      \n",
    "sql := format($_$      \n",
    "WITH RECURSIVE search_graph(        \n",
    "  n1,     -- point 1        \n",
    "  n2,     -- point 2        \n",
    "  prop,   -- current edge property      \n",
    "  all_prop,  -- properties of all edges  \n",
    "  depth,  -- current depth, starting from 1         \n",
    "  path    -- path, stored as an array         \n",
    ") AS (        \n",
    "        select n1,n2,prop,all_prop,depth,path from (        \n",
    "        SELECT                               -- ROOT node query        \n",
    "          g.n1,                              -- point 1        \n",
    "          g.n2,                              -- point 2        \n",
    "          g.prop,                            -- edge property        \n",
    "      g.prop::text as all_prop,              -- properties of all edges  \n",
    "          1 depth,                           -- initial depth=1        \n",
    "          ARRAY[g.n1, g.n2] path             -- initial path        \n",
    "        FROM tbl_edge AS g         \n",
    "        WHERE         \n",
    "          n1 = %s                            -- ROOT node=?        \n",
    "          limit %s                           -- How many records are limited at each tier?        \n",
    "        ) t        \n",
    "      UNION ALL        \n",
    "        select n1,n2,prop,all_prop,depth,path from (        \n",
    "        SELECT                               -- recursive clause         \n",
    "          g.n1,                              -- point 1        \n",
    "          g.n2,                              -- point 2        \n",
    "          g.prop,                            -- edge property     \n",
    "      sg.all_prop || g.prop::text as all_prop,    -- properties of all edges  \n",
    "          sg.depth + 1 depth,                   -- depth +1        \n",
    "          sg.path || g.n2 path                 -- Add a new point to the path        \n",
    "        FROM tbl_edge AS g, search_graph AS sg    -- circular INNER JOIN        \n",
    "        WHERE         \n",
    "          g.n1 = sg.n2                       -- recursive JOIN condition        \n",
    "          AND (g.n2 <> ALL(sg.path))                      -- Prevent loop, determine whether it is a loop and judge if the new point is already in the previous path   \n",
    "          AND sg.depth <= %s                 -- search depth =?          \n",
    "          limit %s                           -- How many records are limited at each tier?       \n",
    "        ) t        \n",
    ")        \n",
    "SELECT path as o_path, n1 as o_point1, n2 as o_point2, prop as o_link_prop, all_prop as o_link_prop_all, depth as o_depth      \n",
    "FROM search_graph;                           -- query a recursive table. You can add LIMIT output or use a cursor       \n",
    "$_$, i_root, i_limit, i_depth, i_limit      \n",
    ");      \n",
    "      \n",
    "return query execute sql;      \n",
    "      \n",
    "end;      \n",
    "\n",
    "$$\n",
    " language plpgsql strict;   \n",
    "\"\"\"\n",
    "\n",
    "cur.execute(sql)"
   ]
  },
  {
   "cell_type": "code",
   "execution_count": 48,
   "metadata": {},
   "outputs": [],
   "source": [
    "conn.commit()"
   ]
  },
  {
   "cell_type": "code",
   "execution_count": 49,
   "metadata": {},
   "outputs": [
    {
     "name": "stdout",
     "output_type": "stream",
     "text": [
      "CPU times: user 2.6 ms, sys: 1.41 ms, total: 4.01 ms\n",
      "Wall time: 14.5 ms\n"
     ]
    }
   ],
   "source": [
    "%%time\n",
    "sql = \"select * from graph_search1(259)\"\n",
    "df = sqlio.read_sql_query(sql, conn)"
   ]
  },
  {
   "cell_type": "code",
   "execution_count": 50,
   "metadata": {},
   "outputs": [],
   "source": [
    "sql = \"select * from graph_search1(259)\"\n",
    "df = sqlio.read_sql_query(sql, conn)"
   ]
  },
  {
   "cell_type": "code",
   "execution_count": 51,
   "metadata": {},
   "outputs": [
    {
     "data": {
      "text/html": [
       "<div>\n",
       "<style scoped>\n",
       "    .dataframe tbody tr th:only-of-type {\n",
       "        vertical-align: middle;\n",
       "    }\n",
       "\n",
       "    .dataframe tbody tr th {\n",
       "        vertical-align: top;\n",
       "    }\n",
       "\n",
       "    .dataframe thead th {\n",
       "        text-align: right;\n",
       "    }\n",
       "</style>\n",
       "<table border=\"1\" class=\"dataframe\">\n",
       "  <thead>\n",
       "    <tr style=\"text-align: right;\">\n",
       "      <th></th>\n",
       "      <th>o_path</th>\n",
       "      <th>o_point1</th>\n",
       "      <th>o_point2</th>\n",
       "      <th>o_link_prop</th>\n",
       "      <th>o_link_prop_all</th>\n",
       "      <th>o_depth</th>\n",
       "    </tr>\n",
       "  </thead>\n",
       "  <tbody>\n",
       "    <tr>\n",
       "      <th>0</th>\n",
       "      <td>[259, 238]</td>\n",
       "      <td>259</td>\n",
       "      <td>238</td>\n",
       "      <td>[contains concept]</td>\n",
       "      <td>[\"contains concept\"]</td>\n",
       "      <td>1</td>\n",
       "    </tr>\n",
       "    <tr>\n",
       "      <th>1</th>\n",
       "      <td>[259, 240]</td>\n",
       "      <td>259</td>\n",
       "      <td>240</td>\n",
       "      <td>[contains concept]</td>\n",
       "      <td>[\"contains concept\"]</td>\n",
       "      <td>1</td>\n",
       "    </tr>\n",
       "    <tr>\n",
       "      <th>2</th>\n",
       "      <td>[259, 241]</td>\n",
       "      <td>259</td>\n",
       "      <td>241</td>\n",
       "      <td>[contains concept]</td>\n",
       "      <td>[\"contains concept\"]</td>\n",
       "      <td>1</td>\n",
       "    </tr>\n",
       "    <tr>\n",
       "      <th>3</th>\n",
       "      <td>[259, 242]</td>\n",
       "      <td>259</td>\n",
       "      <td>242</td>\n",
       "      <td>[contains concept]</td>\n",
       "      <td>[\"contains concept\"]</td>\n",
       "      <td>1</td>\n",
       "    </tr>\n",
       "    <tr>\n",
       "      <th>4</th>\n",
       "      <td>[259, 243]</td>\n",
       "      <td>259</td>\n",
       "      <td>243</td>\n",
       "      <td>[contains concept]</td>\n",
       "      <td>[\"contains concept\"]</td>\n",
       "      <td>1</td>\n",
       "    </tr>\n",
       "  </tbody>\n",
       "</table>\n",
       "</div>"
      ],
      "text/plain": [
       "       o_path  o_point1  o_point2         o_link_prop       o_link_prop_all  \\\n",
       "0  [259, 238]       259       238  [contains concept]  [\"contains concept\"]   \n",
       "1  [259, 240]       259       240  [contains concept]  [\"contains concept\"]   \n",
       "2  [259, 241]       259       241  [contains concept]  [\"contains concept\"]   \n",
       "3  [259, 242]       259       242  [contains concept]  [\"contains concept\"]   \n",
       "4  [259, 243]       259       243  [contains concept]  [\"contains concept\"]   \n",
       "\n",
       "   o_depth  \n",
       "0        1  \n",
       "1        1  \n",
       "2        1  \n",
       "3        1  \n",
       "4        1  "
      ]
     },
     "execution_count": 51,
     "metadata": {},
     "output_type": "execute_result"
    }
   ],
   "source": [
    "df"
   ]
  },
  {
   "cell_type": "code",
   "execution_count": 52,
   "metadata": {},
   "outputs": [],
   "source": [
    "df_edgelist=df[['o_point1','o_point2','o_link_prop','o_depth']].copy()\n",
    "df_edgelist.columns=['source','target','props','weight']\n",
    "df_edgelist['prop'] = df_edgelist['props'].apply(lambda x: x[0])\n",
    "df_edgelist = pd.merge(df_edgelist, df_nodes[['id', 'name']], left_on='source', right_on='id')\n",
    "df_edgelist = pd.merge(df_edgelist, df_nodes[['id', 'name']], left_on='target', right_on='id')\n"
   ]
  },
  {
   "cell_type": "code",
   "execution_count": 53,
   "metadata": {},
   "outputs": [
    {
     "data": {
      "text/html": [
       "<div>\n",
       "<style scoped>\n",
       "    .dataframe tbody tr th:only-of-type {\n",
       "        vertical-align: middle;\n",
       "    }\n",
       "\n",
       "    .dataframe tbody tr th {\n",
       "        vertical-align: top;\n",
       "    }\n",
       "\n",
       "    .dataframe thead th {\n",
       "        text-align: right;\n",
       "    }\n",
       "</style>\n",
       "<table border=\"1\" class=\"dataframe\">\n",
       "  <thead>\n",
       "    <tr style=\"text-align: right;\">\n",
       "      <th></th>\n",
       "      <th>source</th>\n",
       "      <th>target</th>\n",
       "      <th>props</th>\n",
       "      <th>weight</th>\n",
       "      <th>prop</th>\n",
       "      <th>id_x</th>\n",
       "      <th>name_x</th>\n",
       "      <th>id_y</th>\n",
       "      <th>name_y</th>\n",
       "    </tr>\n",
       "  </thead>\n",
       "  <tbody>\n",
       "    <tr>\n",
       "      <th>0</th>\n",
       "      <td>259</td>\n",
       "      <td>238</td>\n",
       "      <td>[contains concept]</td>\n",
       "      <td>1</td>\n",
       "      <td>contains concept</td>\n",
       "      <td>259</td>\n",
       "      <td>PERSONALIA</td>\n",
       "      <td>238</td>\n",
       "      <td>SIVILSTAND</td>\n",
       "    </tr>\n",
       "    <tr>\n",
       "      <th>1</th>\n",
       "      <td>259</td>\n",
       "      <td>240</td>\n",
       "      <td>[contains concept]</td>\n",
       "      <td>1</td>\n",
       "      <td>contains concept</td>\n",
       "      <td>259</td>\n",
       "      <td>PERSONALIA</td>\n",
       "      <td>240</td>\n",
       "      <td>KJØNN</td>\n",
       "    </tr>\n",
       "    <tr>\n",
       "      <th>2</th>\n",
       "      <td>259</td>\n",
       "      <td>241</td>\n",
       "      <td>[contains concept]</td>\n",
       "      <td>1</td>\n",
       "      <td>contains concept</td>\n",
       "      <td>259</td>\n",
       "      <td>PERSONALIA</td>\n",
       "      <td>241</td>\n",
       "      <td>NAVN</td>\n",
       "    </tr>\n",
       "    <tr>\n",
       "      <th>3</th>\n",
       "      <td>259</td>\n",
       "      <td>242</td>\n",
       "      <td>[contains concept]</td>\n",
       "      <td>1</td>\n",
       "      <td>contains concept</td>\n",
       "      <td>259</td>\n",
       "      <td>PERSONALIA</td>\n",
       "      <td>242</td>\n",
       "      <td>FØDSELSDATO</td>\n",
       "    </tr>\n",
       "    <tr>\n",
       "      <th>4</th>\n",
       "      <td>259</td>\n",
       "      <td>243</td>\n",
       "      <td>[contains concept]</td>\n",
       "      <td>1</td>\n",
       "      <td>contains concept</td>\n",
       "      <td>259</td>\n",
       "      <td>PERSONALIA</td>\n",
       "      <td>243</td>\n",
       "      <td>FØDSELSNUMMER</td>\n",
       "    </tr>\n",
       "  </tbody>\n",
       "</table>\n",
       "</div>"
      ],
      "text/plain": [
       "   source  target               props  weight              prop  id_x  \\\n",
       "0     259     238  [contains concept]       1  contains concept   259   \n",
       "1     259     240  [contains concept]       1  contains concept   259   \n",
       "2     259     241  [contains concept]       1  contains concept   259   \n",
       "3     259     242  [contains concept]       1  contains concept   259   \n",
       "4     259     243  [contains concept]       1  contains concept   259   \n",
       "\n",
       "       name_x  id_y         name_y  \n",
       "0  PERSONALIA   238     SIVILSTAND  \n",
       "1  PERSONALIA   240          KJØNN  \n",
       "2  PERSONALIA   241           NAVN  \n",
       "3  PERSONALIA   242    FØDSELSDATO  \n",
       "4  PERSONALIA   243  FØDSELSNUMMER  "
      ]
     },
     "execution_count": 53,
     "metadata": {},
     "output_type": "execute_result"
    }
   ],
   "source": [
    "df_edgelist.head()"
   ]
  },
  {
   "cell_type": "code",
   "execution_count": 54,
   "metadata": {},
   "outputs": [
    {
     "data": {
      "text/html": [
       "<div>\n",
       "<style scoped>\n",
       "    .dataframe tbody tr th:only-of-type {\n",
       "        vertical-align: middle;\n",
       "    }\n",
       "\n",
       "    .dataframe tbody tr th {\n",
       "        vertical-align: top;\n",
       "    }\n",
       "\n",
       "    .dataframe thead th {\n",
       "        text-align: right;\n",
       "    }\n",
       "</style>\n",
       "<table border=\"1\" class=\"dataframe\">\n",
       "  <thead>\n",
       "    <tr style=\"text-align: right;\">\n",
       "      <th></th>\n",
       "      <th>name</th>\n",
       "      <th>source</th>\n",
       "      <th>target</th>\n",
       "      <th>target_node_id</th>\n",
       "      <th>source_node_id</th>\n",
       "      <th>weight</th>\n",
       "    </tr>\n",
       "  </thead>\n",
       "  <tbody>\n",
       "    <tr>\n",
       "      <th>0</th>\n",
       "      <td>contains concept</td>\n",
       "      <td>PERSONALIA</td>\n",
       "      <td>SIVILSTAND</td>\n",
       "      <td>259</td>\n",
       "      <td>238</td>\n",
       "      <td>1</td>\n",
       "    </tr>\n",
       "    <tr>\n",
       "      <th>1</th>\n",
       "      <td>contains concept</td>\n",
       "      <td>PERSONALIA</td>\n",
       "      <td>KJØNN</td>\n",
       "      <td>259</td>\n",
       "      <td>240</td>\n",
       "      <td>1</td>\n",
       "    </tr>\n",
       "    <tr>\n",
       "      <th>2</th>\n",
       "      <td>contains concept</td>\n",
       "      <td>PERSONALIA</td>\n",
       "      <td>NAVN</td>\n",
       "      <td>259</td>\n",
       "      <td>241</td>\n",
       "      <td>1</td>\n",
       "    </tr>\n",
       "    <tr>\n",
       "      <th>3</th>\n",
       "      <td>contains concept</td>\n",
       "      <td>PERSONALIA</td>\n",
       "      <td>FØDSELSDATO</td>\n",
       "      <td>259</td>\n",
       "      <td>242</td>\n",
       "      <td>1</td>\n",
       "    </tr>\n",
       "    <tr>\n",
       "      <th>4</th>\n",
       "      <td>contains concept</td>\n",
       "      <td>PERSONALIA</td>\n",
       "      <td>FØDSELSNUMMER</td>\n",
       "      <td>259</td>\n",
       "      <td>243</td>\n",
       "      <td>1</td>\n",
       "    </tr>\n",
       "  </tbody>\n",
       "</table>\n",
       "</div>"
      ],
      "text/plain": [
       "               name      source         target  target_node_id  \\\n",
       "0  contains concept  PERSONALIA     SIVILSTAND             259   \n",
       "1  contains concept  PERSONALIA          KJØNN             259   \n",
       "2  contains concept  PERSONALIA           NAVN             259   \n",
       "3  contains concept  PERSONALIA    FØDSELSDATO             259   \n",
       "4  contains concept  PERSONALIA  FØDSELSNUMMER             259   \n",
       "\n",
       "   source_node_id  weight  \n",
       "0             238       1  \n",
       "1             240       1  \n",
       "2             241       1  \n",
       "3             242       1  \n",
       "4             243       1  "
      ]
     },
     "execution_count": 54,
     "metadata": {},
     "output_type": "execute_result"
    }
   ],
   "source": [
    "df_edgelist = df_edgelist[['prop', 'name_x', 'name_y','id_x','id_y', 'weight']]\n",
    "df_edgelist.columns = ['name', 'source', 'target','target_node_id','source_node_id', 'weight']\n",
    "df_edgelist"
   ]
  },
  {
   "cell_type": "code",
   "execution_count": 55,
   "metadata": {},
   "outputs": [],
   "source": [
    "#!pip install nx_altair"
   ]
  },
  {
   "cell_type": "code",
   "execution_count": 56,
   "metadata": {},
   "outputs": [],
   "source": [
    "import altair as alt\n",
    "alt.renderers.enable('notebook')\n",
    "alt.themes.enable('opaque')\n",
    "import networkx as nx\n",
    "import nx_altair as nxa\n",
    "import numpy as np\n",
    "\n",
    "G = nx.from_pandas_edgelist(df_edgelist, 'source', 'target', ['name','target_node_id','source_node_id','weight'])\n",
    "pos = nx.spring_layout(G)"
   ]
  },
  {
   "cell_type": "code",
   "execution_count": 60,
   "metadata": {},
   "outputs": [
    {
     "data": {
      "image/png": "[encoded data removed]",
      "text/plain": [
       "<Figure size 432x288 with 1 Axes>"
      ]
     },
     "metadata": {
      "needs_background": "light"
     },
     "output_type": "display_data"
    }
   ],
   "source": [
    "nx.draw_networkx(\n",
    "    G=G,\n",
    "    pos=pos\n",
    ")"
   ]
  },
  {
   "cell_type": "code",
   "execution_count": 61,
   "metadata": {},
   "outputs": [
    {
     "data": {
      "application/javascript": [
       "const spec = {\"config\": {\"background\": \"white\", \"view\": {\"width\": 400, \"height\": 300}, \"mark\": {\"tooltip\": null}, \"axis\": {\"domain\": false, \"grid\": false, \"labels\": false, \"ticks\": false}}, \"layer\": [{\"data\": {\"name\": \"data-57d0c302e12eedbd4e93eaf409cf4886\"}, \"mark\": {\"type\": \"line\", \"color\": \"black\", \"opacity\": 1}, \"encoding\": {\"detail\": {\"type\": \"quantitative\", \"field\": \"edge\"}, \"size\": {\"type\": \"nominal\", \"field\": \"weight\", \"legend\": null}, \"x\": {\"type\": \"quantitative\", \"axis\": {\"title\": \"\"}, \"field\": \"x\"}, \"y\": {\"type\": \"quantitative\", \"axis\": {\"title\": \"\"}, \"field\": \"y\"}}, \"selection\": {\"selector002\": {\"type\": \"interval\", \"bind\": \"scales\", \"encodings\": [\"x\", \"y\"]}}}, {\"data\": {\"name\": \"data-f34f15adce780f442ff1283c0ea7e6f8\"}, \"mark\": {\"type\": \"point\", \"fill\": \"id:N\", \"opacity\": 1, \"size\": 300}, \"encoding\": {\"fill\": {\"type\": \"nominal\", \"field\": \"id\", \"scale\": {\"scheme\": \"viridis\"}}, \"tooltip\": [{\"type\": \"nominal\", \"field\": \"weight\"}], \"x\": {\"type\": \"quantitative\", \"field\": \"x\"}, \"y\": {\"type\": \"quantitative\", \"field\": \"y\"}}}], \"$schema\": \"https://vega.github.io/schema/vega-lite/v3.4.0.json\", \"datasets\": {\"data-57d0c302e12eedbd4e93eaf409cf4886\": [{\"edge\": 0, \"target\": \"SIVILSTAND\", \"pair\": [\"PERSONALIA\", \"SIVILSTAND\"], \"x\": 0.0003485872241455872, \"source\": \"PERSONALIA\", \"source_node_id\": 238, \"name\": \"contains concept\", \"target_node_id\": 259, \"weight\": 1, \"y\": -0.0007689124364687375}, {\"edge\": 0, \"target\": \"SIVILSTAND\", \"pair\": [\"PERSONALIA\", \"SIVILSTAND\"], \"x\": -0.9677201013781898, \"source\": \"PERSONALIA\", \"source_node_id\": 238, \"name\": \"contains concept\", \"target_node_id\": 259, \"weight\": 1, \"y\": 0.25641763570104203}, {\"edge\": 1, \"target\": \"KJ\\u00d8NN\", \"pair\": [\"PERSONALIA\", \"KJ\\u00d8NN\"], \"x\": 0.0003485872241455872, \"source\": \"PERSONALIA\", \"source_node_id\": 240, \"name\": \"contains concept\", \"target_node_id\": 259, \"weight\": 1, \"y\": -0.0007689124364687375}, {\"edge\": 1, \"target\": \"KJ\\u00d8NN\", \"pair\": [\"PERSONALIA\", \"KJ\\u00d8NN\"], \"x\": 0.9351409552085491, \"source\": \"PERSONALIA\", \"source_node_id\": 240, \"name\": \"contains concept\", \"target_node_id\": 259, \"weight\": 1, \"y\": 0.3625781735977098}, {\"edge\": 2, \"target\": \"NAVN\", \"pair\": [\"PERSONALIA\", \"NAVN\"], \"x\": 0.0003485872241455872, \"source\": \"PERSONALIA\", \"source_node_id\": 241, \"name\": \"contains concept\", \"target_node_id\": 259, \"weight\": 1, \"y\": -0.0007689124364687375}, {\"edge\": 2, \"target\": \"NAVN\", \"pair\": [\"PERSONALIA\", \"NAVN\"], \"x\": -0.5441843542507928, \"source\": \"PERSONALIA\", \"source_node_id\": 241, \"name\": \"contains concept\", \"target_node_id\": 259, \"weight\": 1, \"y\": -0.8415708484753025}, {\"edge\": 3, \"target\": \"F\\u00d8DSELSDATO\", \"pair\": [\"PERSONALIA\", \"F\\u00d8DSELSDATO\"], \"x\": 0.0003485872241455872, \"source\": \"PERSONALIA\", \"source_node_id\": 242, \"name\": \"contains concept\", \"target_node_id\": 259, \"weight\": 1, \"y\": -0.0007689124364687375}, {\"edge\": 3, \"target\": \"F\\u00d8DSELSDATO\", \"pair\": [\"PERSONALIA\", \"F\\u00d8DSELSDATO\"], \"x\": 0.6320496714473748, \"source\": \"PERSONALIA\", \"source_node_id\": 242, \"name\": \"contains concept\", \"target_node_id\": 259, \"weight\": 1, \"y\": -0.7766560483869804}, {\"edge\": 4, \"target\": \"F\\u00d8DSELSNUMMER\", \"pair\": [\"PERSONALIA\", \"F\\u00d8DSELSNUMMER\"], \"x\": 0.0003485872241455872, \"source\": \"PERSONALIA\", \"source_node_id\": 243, \"name\": \"contains concept\", \"target_node_id\": 259, \"weight\": 1, \"y\": -0.0007689124364687375}, {\"edge\": 4, \"target\": \"F\\u00d8DSELSNUMMER\", \"pair\": [\"PERSONALIA\", \"F\\u00d8DSELSNUMMER\"], \"x\": -0.055634758251086304, \"source\": \"PERSONALIA\", \"source_node_id\": 243, \"name\": \"contains concept\", \"target_node_id\": 259, \"weight\": 1, \"y\": 1.0}], \"data-f34f15adce780f442ff1283c0ea7e6f8\": [{\"x\": 0.0003485872241455872, \"y\": -0.0007689124364687375}, {\"x\": -0.9677201013781898, \"y\": 0.25641763570104203}, {\"x\": 0.9351409552085491, \"y\": 0.3625781735977098}, {\"x\": -0.5441843542507928, \"y\": -0.8415708484753025}, {\"x\": 0.6320496714473748, \"y\": -0.7766560483869804}, {\"x\": -0.055634758251086304, \"y\": 1.0}]}};\n",
       "const opt = {};\n",
       "const type = \"vega-lite\";\n",
       "const id = \"50eff029-4df2-41a2-a200-f6df86d51e27\";\n",
       "\n",
       "const output_area = this;\n",
       "\n",
       "require([\"nbextensions/jupyter-vega/index\"], function(vega) {\n",
       "  const target = document.createElement(\"div\");\n",
       "  target.id = id;\n",
       "  target.className = \"vega-embed\";\n",
       "\n",
       "  const style = document.createElement(\"style\");\n",
       "  style.textContent = [\n",
       "    \".vega-embed .error p {\",\n",
       "    \"  color: firebrick;\",\n",
       "    \"  font-size: 14px;\",\n",
       "    \"}\",\n",
       "  ].join(\"\\\\n\");\n",
       "\n",
       "  // element is a jQuery wrapped DOM element inside the output area\n",
       "  // see http://ipython.readthedocs.io/en/stable/api/generated/\\\n",
       "  // IPython.display.html#IPython.display.Javascript.__init__\n",
       "  element[0].appendChild(target);\n",
       "  element[0].appendChild(style);\n",
       "\n",
       "  vega.render(\"#\" + id, spec, type, opt, output_area);\n",
       "}, function (err) {\n",
       "  if (err.requireType !== \"scripterror\") {\n",
       "    throw(err);\n",
       "  }\n",
       "});\n"
      ],
      "text/plain": [
       "<vega.vegalite.VegaLite at 0xa18f061d0>"
      ]
     },
     "metadata": {
      "jupyter-vega": "#50eff029-4df2-41a2-a200-f6df86d51e27"
     },
     "output_type": "display_data"
    },
    {
     "data": {
      "text/plain": []
     },
     "execution_count": 61,
     "metadata": {},
     "output_type": "execute_result"
    },
    {
     "data": {
      "image/png": "[encoded data removed]"
     },
     "metadata": {
      "jupyter-vega": "#50eff029-4df2-41a2-a200-f6df86d51e27"
     },
     "output_type": "display_data"
    }
   ],
   "source": [
    "# Compute positions for viz.\n",
    "pos = nx.spring_layout(G)\n",
    "\n",
    "viz = nxa.draw_networkx(\n",
    "    \n",
    "    G, pos=pos,\n",
    "    node_color='id:N',\n",
    "    cmap='viridis',\n",
    "    width='weight:N',\n",
    "    edge_color='black',\n",
    "    node_tooltip=['weight:N']\n",
    ")\n",
    "\n",
    "viz.interactive()"
   ]
  },
  {
   "cell_type": "code",
   "execution_count": 62,
   "metadata": {},
   "outputs": [
    {
     "data": {
      "text/html": [
       "<div>\n",
       "<style scoped>\n",
       "    .dataframe tbody tr th:only-of-type {\n",
       "        vertical-align: middle;\n",
       "    }\n",
       "\n",
       "    .dataframe tbody tr th {\n",
       "        vertical-align: top;\n",
       "    }\n",
       "\n",
       "    .dataframe thead th {\n",
       "        text-align: right;\n",
       "    }\n",
       "</style>\n",
       "<table border=\"1\" class=\"dataframe\">\n",
       "  <thead>\n",
       "    <tr style=\"text-align: right;\">\n",
       "      <th></th>\n",
       "      <th>id</th>\n",
       "      <th>prop</th>\n",
       "      <th>created</th>\n",
       "    </tr>\n",
       "  </thead>\n",
       "  <tbody>\n",
       "    <tr>\n",
       "      <th>0</th>\n",
       "      <td>259</td>\n",
       "      <td>{'id': 'GDPR.INFORMATION_TYPE_CATEGORY.PERSONA...</td>\n",
       "      <td>2019-12-11 19:09:12.797075</td>\n",
       "    </tr>\n",
       "    <tr>\n",
       "      <th>1</th>\n",
       "      <td>265</td>\n",
       "      <td>{'id': 'GDPR.INFORMATION_TYPE_CATEGORY.NOT AVA...</td>\n",
       "      <td>2019-12-11 19:09:12.797075</td>\n",
       "    </tr>\n",
       "    <tr>\n",
       "      <th>2</th>\n",
       "      <td>264</td>\n",
       "      <td>{'id': 'GDPR.INFORMATION_TYPE_CATEGORY.REPRESE...</td>\n",
       "      <td>2019-12-11 19:09:12.797075</td>\n",
       "    </tr>\n",
       "    <tr>\n",
       "      <th>3</th>\n",
       "      <td>263</td>\n",
       "      <td>{'id': 'GDPR.INFORMATION_TYPE_CATEGORY.FOLKETR...</td>\n",
       "      <td>2019-12-11 19:09:12.797075</td>\n",
       "    </tr>\n",
       "    <tr>\n",
       "      <th>4</th>\n",
       "      <td>262</td>\n",
       "      <td>{'id': 'GDPR.INFORMATION_TYPE_CATEGORY.FAMILIE...</td>\n",
       "      <td>2019-12-11 19:09:12.797075</td>\n",
       "    </tr>\n",
       "    <tr>\n",
       "      <th>5</th>\n",
       "      <td>261</td>\n",
       "      <td>{'id': 'GDPR.INFORMATION_TYPE_CATEGORY.KONTAKT...</td>\n",
       "      <td>2019-12-11 19:09:12.797075</td>\n",
       "    </tr>\n",
       "    <tr>\n",
       "      <th>6</th>\n",
       "      <td>260</td>\n",
       "      <td>{'id': 'GDPR.INFORMATION_TYPE_CATEGORY.ARBEIDS...</td>\n",
       "      <td>2019-12-11 19:09:12.797075</td>\n",
       "    </tr>\n",
       "    <tr>\n",
       "      <th>7</th>\n",
       "      <td>252</td>\n",
       "      <td>{'id': 'GDPR.INFORMATION_TYPE.FARSKAP', 'name'...</td>\n",
       "      <td>2019-12-11 19:09:07.519610</td>\n",
       "    </tr>\n",
       "    <tr>\n",
       "      <th>8</th>\n",
       "      <td>251</td>\n",
       "      <td>{'id': 'GDPR.INFORMATION_TYPE.E-POST', 'name':...</td>\n",
       "      <td>2019-12-11 19:09:07.519610</td>\n",
       "    </tr>\n",
       "    <tr>\n",
       "      <th>9</th>\n",
       "      <td>250</td>\n",
       "      <td>{'id': 'GDPR.INFORMATION_TYPE.DELT BOSTED', 'n...</td>\n",
       "      <td>2019-12-11 19:09:07.519610</td>\n",
       "    </tr>\n",
       "    <tr>\n",
       "      <th>10</th>\n",
       "      <td>249</td>\n",
       "      <td>{'id': 'GDPR.INFORMATION_TYPE.DAGLIG OMSORG', ...</td>\n",
       "      <td>2019-12-11 19:09:07.519610</td>\n",
       "    </tr>\n",
       "    <tr>\n",
       "      <th>11</th>\n",
       "      <td>248</td>\n",
       "      <td>{'id': 'GDPR.INFORMATION_TYPE.BARN', 'name': '...</td>\n",
       "      <td>2019-12-11 19:09:07.519610</td>\n",
       "    </tr>\n",
       "    <tr>\n",
       "      <th>12</th>\n",
       "      <td>247</td>\n",
       "      <td>{'id': 'GDPR.INFORMATION_TYPE.ADOPSJON', 'name...</td>\n",
       "      <td>2019-12-11 19:09:07.519610</td>\n",
       "    </tr>\n",
       "    <tr>\n",
       "      <th>13</th>\n",
       "      <td>246</td>\n",
       "      <td>{'id': 'GDPR.INFORMATION_TYPE.ARBEIDSTILLATELS...</td>\n",
       "      <td>2019-12-11 19:09:07.519610</td>\n",
       "    </tr>\n",
       "    <tr>\n",
       "      <th>14</th>\n",
       "      <td>245</td>\n",
       "      <td>{'id': 'GDPR.INFORMATION_TYPE.BOSTEDSADRESSE I...</td>\n",
       "      <td>2019-12-11 19:09:07.519610</td>\n",
       "    </tr>\n",
       "    <tr>\n",
       "      <th>15</th>\n",
       "      <td>244</td>\n",
       "      <td>{'id': 'GDPR.INFORMATION_TYPE.BOSTEDSADRESSE I...</td>\n",
       "      <td>2019-12-11 19:09:07.519610</td>\n",
       "    </tr>\n",
       "    <tr>\n",
       "      <th>16</th>\n",
       "      <td>243</td>\n",
       "      <td>{'id': 'GDPR.INFORMATION_TYPE.FØDSELSNUMMER', ...</td>\n",
       "      <td>2019-12-11 19:09:07.519610</td>\n",
       "    </tr>\n",
       "    <tr>\n",
       "      <th>17</th>\n",
       "      <td>242</td>\n",
       "      <td>{'id': 'GDPR.INFORMATION_TYPE.FØDSELSDATO', 'n...</td>\n",
       "      <td>2019-12-11 19:09:07.519610</td>\n",
       "    </tr>\n",
       "    <tr>\n",
       "      <th>18</th>\n",
       "      <td>241</td>\n",
       "      <td>{'id': 'GDPR.INFORMATION_TYPE.NAVN', 'name': '...</td>\n",
       "      <td>2019-12-11 19:09:07.519610</td>\n",
       "    </tr>\n",
       "    <tr>\n",
       "      <th>19</th>\n",
       "      <td>240</td>\n",
       "      <td>{'id': 'GDPR.INFORMATION_TYPE.KJØNN', 'name': ...</td>\n",
       "      <td>2019-12-11 19:09:07.519610</td>\n",
       "    </tr>\n",
       "  </tbody>\n",
       "</table>\n",
       "</div>"
      ],
      "text/plain": [
       "     id                                               prop  \\\n",
       "0   259  {'id': 'GDPR.INFORMATION_TYPE_CATEGORY.PERSONA...   \n",
       "1   265  {'id': 'GDPR.INFORMATION_TYPE_CATEGORY.NOT AVA...   \n",
       "2   264  {'id': 'GDPR.INFORMATION_TYPE_CATEGORY.REPRESE...   \n",
       "3   263  {'id': 'GDPR.INFORMATION_TYPE_CATEGORY.FOLKETR...   \n",
       "4   262  {'id': 'GDPR.INFORMATION_TYPE_CATEGORY.FAMILIE...   \n",
       "5   261  {'id': 'GDPR.INFORMATION_TYPE_CATEGORY.KONTAKT...   \n",
       "6   260  {'id': 'GDPR.INFORMATION_TYPE_CATEGORY.ARBEIDS...   \n",
       "7   252  {'id': 'GDPR.INFORMATION_TYPE.FARSKAP', 'name'...   \n",
       "8   251  {'id': 'GDPR.INFORMATION_TYPE.E-POST', 'name':...   \n",
       "9   250  {'id': 'GDPR.INFORMATION_TYPE.DELT BOSTED', 'n...   \n",
       "10  249  {'id': 'GDPR.INFORMATION_TYPE.DAGLIG OMSORG', ...   \n",
       "11  248  {'id': 'GDPR.INFORMATION_TYPE.BARN', 'name': '...   \n",
       "12  247  {'id': 'GDPR.INFORMATION_TYPE.ADOPSJON', 'name...   \n",
       "13  246  {'id': 'GDPR.INFORMATION_TYPE.ARBEIDSTILLATELS...   \n",
       "14  245  {'id': 'GDPR.INFORMATION_TYPE.BOSTEDSADRESSE I...   \n",
       "15  244  {'id': 'GDPR.INFORMATION_TYPE.BOSTEDSADRESSE I...   \n",
       "16  243  {'id': 'GDPR.INFORMATION_TYPE.FØDSELSNUMMER', ...   \n",
       "17  242  {'id': 'GDPR.INFORMATION_TYPE.FØDSELSDATO', 'n...   \n",
       "18  241  {'id': 'GDPR.INFORMATION_TYPE.NAVN', 'name': '...   \n",
       "19  240  {'id': 'GDPR.INFORMATION_TYPE.KJØNN', 'name': ...   \n",
       "\n",
       "                      created  \n",
       "0  2019-12-11 19:09:12.797075  \n",
       "1  2019-12-11 19:09:12.797075  \n",
       "2  2019-12-11 19:09:12.797075  \n",
       "3  2019-12-11 19:09:12.797075  \n",
       "4  2019-12-11 19:09:12.797075  \n",
       "5  2019-12-11 19:09:12.797075  \n",
       "6  2019-12-11 19:09:12.797075  \n",
       "7  2019-12-11 19:09:07.519610  \n",
       "8  2019-12-11 19:09:07.519610  \n",
       "9  2019-12-11 19:09:07.519610  \n",
       "10 2019-12-11 19:09:07.519610  \n",
       "11 2019-12-11 19:09:07.519610  \n",
       "12 2019-12-11 19:09:07.519610  \n",
       "13 2019-12-11 19:09:07.519610  \n",
       "14 2019-12-11 19:09:07.519610  \n",
       "15 2019-12-11 19:09:07.519610  \n",
       "16 2019-12-11 19:09:07.519610  \n",
       "17 2019-12-11 19:09:07.519610  \n",
       "18 2019-12-11 19:09:07.519610  \n",
       "19 2019-12-11 19:09:07.519610  "
      ]
     },
     "execution_count": 62,
     "metadata": {},
     "output_type": "execute_result"
    }
   ],
   "source": [
    "sql = \"select * from tbl_node order by created desc\"\n",
    "df = sqlio.read_sql_query(sql, conn)\n",
    "df.head(20)"
   ]
  },
  {
   "cell_type": "code",
   "execution_count": 63,
   "metadata": {},
   "outputs": [],
   "source": [
    "conn.commit()"
   ]
  }
 ],
 "metadata": {
  "kernelspec": {
   "display_name": "Python 3",
   "language": "python",
   "name": "python3"
  },
  "language_info": {
   "codemirror_mode": {
    "name": "ipython",
    "version": 3
   },
   "file_extension": ".py",
   "mimetype": "text/x-python",
   "name": "python",
   "nbconvert_exporter": "python",
   "pygments_lexer": "ipython3",
   "version": "3.7.4"
  },
  "varInspector": {
   "cols": {
    "lenName": 16,
    "lenType": 16,
    "lenVar": 40
   },
   "kernels_config": {
    "python": {
     "delete_cmd_postfix": "",
     "delete_cmd_prefix": "del ",
     "library": "var_list.py",
     "varRefreshCmd": "print(var_dic_list())"
    },
    "r": {
     "delete_cmd_postfix": ") ",
     "delete_cmd_prefix": "rm(",
     "library": "var_list.r",
     "varRefreshCmd": "cat(var_dic_list()) "
    }
   },
   "types_to_exclude": [
    "module",
    "function",
    "builtin_function_or_method",
    "instance",
    "_Feature"
   ],
   "window_display": false
  }
 },
 "nbformat": 4,
 "nbformat_minor": 2
}
