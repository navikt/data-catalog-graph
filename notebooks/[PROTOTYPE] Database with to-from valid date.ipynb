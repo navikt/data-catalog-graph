{
 "cells": [
  {
   "cell_type": "code",
   "execution_count": 1,
   "metadata": {},
   "outputs": [],
   "source": [
    "import pandas as pd\n",
    "import pandas.io.sql as sqlio\n",
    "import pprint as pp\n",
    "import psycopg2\n",
    "import sqlalchemy\n",
    "import os\n",
    "import json\n",
    "import uuid"
   ]
  },
  {
   "cell_type": "code",
   "execution_count": 2,
   "metadata": {},
   "outputs": [],
   "source": [
    "conn = psycopg2.connect(\n",
    "    user=\"dcat\", \n",
    "    password=\"dcat\", \n",
    "    host=\"127.0.0.1\", \n",
    "    port=\"54320\", \n",
    "    database=\"dcat\")"
   ]
  },
  {
   "cell_type": "code",
   "execution_count": 3,
   "metadata": {},
   "outputs": [],
   "source": [
    "cur = conn.cursor()"
   ]
  },
  {
   "cell_type": "code",
   "execution_count": 4,
   "metadata": {},
   "outputs": [
    {
     "name": "stdout",
     "output_type": "stream",
     "text": [
      "{'user': 'dcat', 'dbname': 'dcat', 'host': '127.0.0.1', 'port': '54320', 'tty': '', 'options': '', 'sslmode': 'prefer', 'sslcompression': '0', 'gssencmode': 'prefer', 'krbsrvname': 'postgres', 'target_session_attrs': 'any'} \n",
      "\n"
     ]
    }
   ],
   "source": [
    "print ( conn.get_dsn_parameters(),\"\\n\")"
   ]
  },
  {
   "cell_type": "code",
   "execution_count": 5,
   "metadata": {},
   "outputs": [
    {
     "name": "stdout",
     "output_type": "stream",
     "text": [
      "You are connected to -  ('PostgreSQL 12.1 (Debian 12.1-1.pgdg100+1) on x86_64-pc-linux-gnu, compiled by gcc (Debian 8.3.0-6) 8.3.0, 64-bit',) \n",
      "\n"
     ]
    }
   ],
   "source": [
    "cur.execute(\"SELECT version();\")\n",
    "record = cur.fetchone()\n",
    "print(\"You are connected to - \", record,\"\\n\")"
   ]
  },
  {
   "cell_type": "code",
   "execution_count": 6,
   "metadata": {},
   "outputs": [],
   "source": [
    "cur.execute(\"CREATE EXTENSION IF NOT EXISTS pgcrypto;\")"
   ]
  },
  {
   "cell_type": "code",
   "execution_count": 7,
   "metadata": {},
   "outputs": [],
   "source": [
    "conn.commit()"
   ]
  },
  {
   "cell_type": "code",
   "execution_count": 8,
   "metadata": {},
   "outputs": [],
   "source": [
    "cur.execute(\"drop index if exists idx_tbl_edge_n1\")\n",
    "cur.execute(\"drop index if exists idx_tbl_edge_n2\")\n",
    "cur.execute(\"drop table if exists tbl_edge\")\n",
    "cur.execute(\"drop table if exists tbl_node\")"
   ]
  },
  {
   "cell_type": "code",
   "execution_count": 9,
   "metadata": {},
   "outputs": [],
   "source": [
    "cur.execute(\"\"\"\n",
    "create table tbl_node \n",
    "(  \n",
    "  id SERIAL PRIMARY KEY,\n",
    "  prop JSONB,\n",
    "  schema VARCHAR(500),\n",
    "  prop_id VARCHAR(500),\n",
    "  type VARCHAR(500),\n",
    "  valid_from TIMESTAMP default now(),\n",
    "  valid_to TIMESTAMP,\n",
    "  valid BOOLEAN default FALSE\n",
    ");  \n",
    "\"\"\")"
   ]
  },
  {
   "cell_type": "code",
   "execution_count": 10,
   "metadata": {},
   "outputs": [
    {
     "data": {
      "text/html": [
       "<div>\n",
       "<style scoped>\n",
       "    .dataframe tbody tr th:only-of-type {\n",
       "        vertical-align: middle;\n",
       "    }\n",
       "\n",
       "    .dataframe tbody tr th {\n",
       "        vertical-align: top;\n",
       "    }\n",
       "\n",
       "    .dataframe thead th {\n",
       "        text-align: right;\n",
       "    }\n",
       "</style>\n",
       "<table border=\"1\" class=\"dataframe\">\n",
       "  <thead>\n",
       "    <tr style=\"text-align: right;\">\n",
       "      <th></th>\n",
       "      <th>id</th>\n",
       "      <th>prop</th>\n",
       "      <th>schema</th>\n",
       "      <th>prop_id</th>\n",
       "      <th>type</th>\n",
       "      <th>valid_from</th>\n",
       "      <th>valid_to</th>\n",
       "      <th>valid</th>\n",
       "    </tr>\n",
       "  </thead>\n",
       "  <tbody>\n",
       "  </tbody>\n",
       "</table>\n",
       "</div>"
      ],
      "text/plain": [
       "Empty DataFrame\n",
       "Columns: [id, prop, schema, prop_id, type, valid_from, valid_to, valid]\n",
       "Index: []"
      ]
     },
     "execution_count": 10,
     "metadata": {},
     "output_type": "execute_result"
    }
   ],
   "source": [
    "sql = \"select * from tbl_node\"\n",
    "df = sqlio.read_sql_query(sql, conn)\n",
    "df.head()"
   ]
  },
  {
   "cell_type": "code",
   "execution_count": 11,
   "metadata": {},
   "outputs": [],
   "source": [
    "conn.commit()\n",
    "sql = 'select * from pg_catalog.pg_user'\n",
    "df_users = sqlio.read_sql_query(sql, conn)"
   ]
  },
  {
   "cell_type": "code",
   "execution_count": 12,
   "metadata": {},
   "outputs": [],
   "source": [
    "cur.execute(\"drop table if exists tbl_edge\")\n",
    "cur.execute(\"\"\"\n",
    "create table tbl_edge     -- What is relationship between ID1 to ID2      \n",
    "(  \n",
    "  n1 int references tbl_node(id),    \n",
    "  n2 int references tbl_node(id),\n",
    "  prop JSONB, \n",
    "  valid_from TIMESTAMP default now(),\n",
    "  valid_to TIMESTAMP,\n",
    "  valid BOOLEAN, \n",
    "  check (n1<>n2),  \n",
    "  unique (n1,n2)  \n",
    ");  \n",
    "\"\"\")"
   ]
  },
  {
   "cell_type": "code",
   "execution_count": 13,
   "metadata": {},
   "outputs": [
    {
     "data": {
      "text/html": [
       "<div>\n",
       "<style scoped>\n",
       "    .dataframe tbody tr th:only-of-type {\n",
       "        vertical-align: middle;\n",
       "    }\n",
       "\n",
       "    .dataframe tbody tr th {\n",
       "        vertical-align: top;\n",
       "    }\n",
       "\n",
       "    .dataframe thead th {\n",
       "        text-align: right;\n",
       "    }\n",
       "</style>\n",
       "<table border=\"1\" class=\"dataframe\">\n",
       "  <thead>\n",
       "    <tr style=\"text-align: right;\">\n",
       "      <th></th>\n",
       "      <th>n1</th>\n",
       "      <th>n2</th>\n",
       "      <th>prop</th>\n",
       "      <th>valid_from</th>\n",
       "      <th>valid_to</th>\n",
       "      <th>valid</th>\n",
       "    </tr>\n",
       "  </thead>\n",
       "  <tbody>\n",
       "  </tbody>\n",
       "</table>\n",
       "</div>"
      ],
      "text/plain": [
       "Empty DataFrame\n",
       "Columns: [n1, n2, prop, valid_from, valid_to, valid]\n",
       "Index: []"
      ]
     },
     "execution_count": 13,
     "metadata": {},
     "output_type": "execute_result"
    }
   ],
   "source": [
    "sql = \"select * from tbl_edge\"\n",
    "df = sqlio.read_sql_query(sql, conn)\n",
    "df.head()"
   ]
  },
  {
   "cell_type": "code",
   "execution_count": 14,
   "metadata": {},
   "outputs": [],
   "source": [
    "cur.execute(\"drop index if exists idx_tbl_edge_n1\")\n",
    "cur.execute(\"create index idx_tbl_edge_n1 on tbl_edge(n1)\")"
   ]
  },
  {
   "cell_type": "code",
   "execution_count": 15,
   "metadata": {},
   "outputs": [],
   "source": [
    "cur.execute(\"drop index if exists idx_tbl_edge_n2\")\n",
    "cur.execute(\"create index idx_tbl_edge_n2 on tbl_edge(n2)\")"
   ]
  },
  {
   "cell_type": "code",
   "execution_count": 16,
   "metadata": {},
   "outputs": [],
   "source": [
    "conn.commit()"
   ]
  },
  {
   "cell_type": "markdown",
   "metadata": {},
   "source": [
    "### Populate table"
   ]
  },
  {
   "cell_type": "code",
   "execution_count": 17,
   "metadata": {},
   "outputs": [
    {
     "name": "stdout",
     "output_type": "stream",
     "text": [
      "You are connected to -  ('PostgreSQL 12.1 (Debian 12.1-1.pgdg100+1) on x86_64-pc-linux-gnu, compiled by gcc (Debian 8.3.0-6) 8.3.0, 64-bit',) \n",
      "\n"
     ]
    }
   ],
   "source": [
    "cur.execute(\"SELECT version();\")\n",
    "record = cur.fetchone()\n",
    "print(\"You are connected to - \", record,\"\\n\")"
   ]
  },
  {
   "cell_type": "markdown",
   "metadata": {},
   "source": [
    "### Test Data"
   ]
  },
  {
   "cell_type": "code",
   "execution_count": 18,
   "metadata": {},
   "outputs": [],
   "source": [
    "test_data = [{\n",
    "    \"name\": \"test_prop\",\n",
    "    \"schema\": \"test_schema\",\n",
    "    \"type\": \"test_type\"\n",
    "},{\n",
    "    \"name\": \"test_prop2\",\n",
    "    \"schema\": \"test_schema2\",\n",
    "    \"type\": \"test_type2\" \n",
    "},{\n",
    "    \"name\": \"test_prop3\",\n",
    "    \"schema\": \"test_schema3\",\n",
    "    \"type\": \"test_type3\" \n",
    "}]"
   ]
  },
  {
   "cell_type": "code",
   "execution_count": 19,
   "metadata": {},
   "outputs": [],
   "source": [
    "sql=\"\"\"insert into tbl_node (prop, schema,prop_id,type,valid) \n",
    "    values\"\"\"\n",
    "\n",
    "for index in test_data:\n",
    "    sql= sql + f\"\"\" ('{json.dumps(index)}','{index['schema']}','{index['name']}','{index['type']}', TRUE),\"\"\"\n",
    "\n",
    "\n",
    "sql=sql[:-1]\n",
    "cur.execute(sql)\n",
    "conn.commit()"
   ]
  },
  {
   "cell_type": "code",
   "execution_count": 20,
   "metadata": {},
   "outputs": [
    {
     "data": {
      "text/html": [
       "<div>\n",
       "<style scoped>\n",
       "    .dataframe tbody tr th:only-of-type {\n",
       "        vertical-align: middle;\n",
       "    }\n",
       "\n",
       "    .dataframe tbody tr th {\n",
       "        vertical-align: top;\n",
       "    }\n",
       "\n",
       "    .dataframe thead th {\n",
       "        text-align: right;\n",
       "    }\n",
       "</style>\n",
       "<table border=\"1\" class=\"dataframe\">\n",
       "  <thead>\n",
       "    <tr style=\"text-align: right;\">\n",
       "      <th></th>\n",
       "      <th>id</th>\n",
       "      <th>prop</th>\n",
       "      <th>schema</th>\n",
       "      <th>prop_id</th>\n",
       "      <th>type</th>\n",
       "      <th>valid_from</th>\n",
       "      <th>valid_to</th>\n",
       "      <th>valid</th>\n",
       "    </tr>\n",
       "  </thead>\n",
       "  <tbody>\n",
       "    <tr>\n",
       "      <th>0</th>\n",
       "      <td>1</td>\n",
       "      <td>{'name': 'test_prop', 'type': 'test_type', 'sc...</td>\n",
       "      <td>test_schema</td>\n",
       "      <td>test_prop</td>\n",
       "      <td>test_type</td>\n",
       "      <td>2020-01-07 11:41:45.636181</td>\n",
       "      <td>None</td>\n",
       "      <td>True</td>\n",
       "    </tr>\n",
       "    <tr>\n",
       "      <th>1</th>\n",
       "      <td>2</td>\n",
       "      <td>{'name': 'test_prop2', 'type': 'test_type2', '...</td>\n",
       "      <td>test_schema2</td>\n",
       "      <td>test_prop2</td>\n",
       "      <td>test_type2</td>\n",
       "      <td>2020-01-07 11:41:45.636181</td>\n",
       "      <td>None</td>\n",
       "      <td>True</td>\n",
       "    </tr>\n",
       "    <tr>\n",
       "      <th>2</th>\n",
       "      <td>3</td>\n",
       "      <td>{'name': 'test_prop3', 'type': 'test_type3', '...</td>\n",
       "      <td>test_schema3</td>\n",
       "      <td>test_prop3</td>\n",
       "      <td>test_type3</td>\n",
       "      <td>2020-01-07 11:41:45.636181</td>\n",
       "      <td>None</td>\n",
       "      <td>True</td>\n",
       "    </tr>\n",
       "  </tbody>\n",
       "</table>\n",
       "</div>"
      ],
      "text/plain": [
       "   id                                               prop        schema  \\\n",
       "0   1  {'name': 'test_prop', 'type': 'test_type', 'sc...   test_schema   \n",
       "1   2  {'name': 'test_prop2', 'type': 'test_type2', '...  test_schema2   \n",
       "2   3  {'name': 'test_prop3', 'type': 'test_type3', '...  test_schema3   \n",
       "\n",
       "      prop_id        type                 valid_from valid_to  valid  \n",
       "0   test_prop   test_type 2020-01-07 11:41:45.636181     None   True  \n",
       "1  test_prop2  test_type2 2020-01-07 11:41:45.636181     None   True  \n",
       "2  test_prop3  test_type3 2020-01-07 11:41:45.636181     None   True  "
      ]
     },
     "execution_count": 20,
     "metadata": {},
     "output_type": "execute_result"
    }
   ],
   "source": [
    "df = sqlio.read_sql_query(\"select * from tbl_node\", conn)\n",
    "df"
   ]
  },
  {
   "cell_type": "code",
   "execution_count": 21,
   "metadata": {},
   "outputs": [],
   "source": [
    "test_update = f\"\"\"UPDATE tbl_node set valid_to=now(), valid=FALSE \n",
    "    where valid_to is Null AND prop_id IN (\"\"\"\n",
    "\n",
    "for index in test_data:\n",
    "    test_update = test_update + f\"\"\" '{index['name']}',\"\"\"\n",
    "    \n",
    "test_update=test_update[:-1]\n",
    "test_update=test_update+\");\"\n",
    "\n",
    "cur.execute(test_update)\n",
    "conn.commit()"
   ]
  },
  {
   "cell_type": "code",
   "execution_count": 22,
   "metadata": {},
   "outputs": [
    {
     "data": {
      "text/html": [
       "<div>\n",
       "<style scoped>\n",
       "    .dataframe tbody tr th:only-of-type {\n",
       "        vertical-align: middle;\n",
       "    }\n",
       "\n",
       "    .dataframe tbody tr th {\n",
       "        vertical-align: top;\n",
       "    }\n",
       "\n",
       "    .dataframe thead th {\n",
       "        text-align: right;\n",
       "    }\n",
       "</style>\n",
       "<table border=\"1\" class=\"dataframe\">\n",
       "  <thead>\n",
       "    <tr style=\"text-align: right;\">\n",
       "      <th></th>\n",
       "      <th>id</th>\n",
       "      <th>prop</th>\n",
       "      <th>schema</th>\n",
       "      <th>prop_id</th>\n",
       "      <th>type</th>\n",
       "      <th>valid_from</th>\n",
       "      <th>valid_to</th>\n",
       "      <th>valid</th>\n",
       "    </tr>\n",
       "  </thead>\n",
       "  <tbody>\n",
       "    <tr>\n",
       "      <th>0</th>\n",
       "      <td>1</td>\n",
       "      <td>{'name': 'test_prop', 'type': 'test_type', 'sc...</td>\n",
       "      <td>test_schema</td>\n",
       "      <td>test_prop</td>\n",
       "      <td>test_type</td>\n",
       "      <td>2020-01-07 11:41:45.636181</td>\n",
       "      <td>2020-01-07 11:41:47.064147</td>\n",
       "      <td>False</td>\n",
       "    </tr>\n",
       "    <tr>\n",
       "      <th>1</th>\n",
       "      <td>2</td>\n",
       "      <td>{'name': 'test_prop2', 'type': 'test_type2', '...</td>\n",
       "      <td>test_schema2</td>\n",
       "      <td>test_prop2</td>\n",
       "      <td>test_type2</td>\n",
       "      <td>2020-01-07 11:41:45.636181</td>\n",
       "      <td>2020-01-07 11:41:47.064147</td>\n",
       "      <td>False</td>\n",
       "    </tr>\n",
       "    <tr>\n",
       "      <th>2</th>\n",
       "      <td>3</td>\n",
       "      <td>{'name': 'test_prop3', 'type': 'test_type3', '...</td>\n",
       "      <td>test_schema3</td>\n",
       "      <td>test_prop3</td>\n",
       "      <td>test_type3</td>\n",
       "      <td>2020-01-07 11:41:45.636181</td>\n",
       "      <td>2020-01-07 11:41:47.064147</td>\n",
       "      <td>False</td>\n",
       "    </tr>\n",
       "  </tbody>\n",
       "</table>\n",
       "</div>"
      ],
      "text/plain": [
       "   id                                               prop        schema  \\\n",
       "0   1  {'name': 'test_prop', 'type': 'test_type', 'sc...   test_schema   \n",
       "1   2  {'name': 'test_prop2', 'type': 'test_type2', '...  test_schema2   \n",
       "2   3  {'name': 'test_prop3', 'type': 'test_type3', '...  test_schema3   \n",
       "\n",
       "      prop_id        type                 valid_from  \\\n",
       "0   test_prop   test_type 2020-01-07 11:41:45.636181   \n",
       "1  test_prop2  test_type2 2020-01-07 11:41:45.636181   \n",
       "2  test_prop3  test_type3 2020-01-07 11:41:45.636181   \n",
       "\n",
       "                    valid_to  valid  \n",
       "0 2020-01-07 11:41:47.064147  False  \n",
       "1 2020-01-07 11:41:47.064147  False  \n",
       "2 2020-01-07 11:41:47.064147  False  "
      ]
     },
     "execution_count": 22,
     "metadata": {},
     "output_type": "execute_result"
    }
   ],
   "source": [
    "df = sqlio.read_sql_query(\"select * from tbl_node\", conn)\n",
    "df"
   ]
  },
  {
   "cell_type": "code",
   "execution_count": null,
   "metadata": {},
   "outputs": [],
   "source": []
  }
 ],
 "metadata": {
  "kernelspec": {
   "display_name": "Python 3",
   "language": "python",
   "name": "python3"
  },
  "language_info": {
   "codemirror_mode": {
    "name": "ipython",
    "version": 3
   },
   "file_extension": ".py",
   "mimetype": "text/x-python",
   "name": "python",
   "nbconvert_exporter": "python",
   "pygments_lexer": "ipython3",
   "version": "3.7.5"
  }
 },
 "nbformat": 4,
 "nbformat_minor": 2
}
