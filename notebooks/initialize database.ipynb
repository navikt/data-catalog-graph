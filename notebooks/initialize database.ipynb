{
 "cells": [
  {
   "cell_type": "code",
   "execution_count": 1,
   "metadata": {},
   "outputs": [],
   "source": [
    "import pandas as pd\n",
    "import pandas.io.sql as sqlio\n",
    "import psycopg2\n",
    "import sqlalchemy\n",
    "import os\n",
    "\n",
    "from dotenv import load_dotenv\n",
    "load_dotenv()\n",
    "\n",
    "import matplotlib as plt\n",
    "%matplotlib inline"
   ]
  },
  {
   "cell_type": "code",
   "execution_count": 2,
   "metadata": {},
   "outputs": [],
   "source": [
    "conn = psycopg2.connect(\n",
    "    user=os.getenv(\"POSTGRES_USER\"), \n",
    "    password=os.getenv(\"POSTGRES_PASSWORD\"), \n",
    "    host=\"127.0.0.1\", \n",
    "    port=\"54320\", \n",
    "    database=\"dcat\")"
   ]
  },
  {
   "cell_type": "code",
   "execution_count": 3,
   "metadata": {},
   "outputs": [],
   "source": [
    "cur = conn.cursor()"
   ]
  },
  {
   "cell_type": "code",
   "execution_count": 4,
   "metadata": {},
   "outputs": [
    {
     "name": "stdout",
     "output_type": "stream",
     "text": [
      "{'user': 'dcat', 'dbname': 'dcat', 'host': '127.0.0.1', 'port': '54320', 'tty': '', 'options': '', 'sslmode': 'prefer', 'sslcompression': '0', 'krbsrvname': 'postgres', 'target_session_attrs': 'any'} \n",
      "\n"
     ]
    }
   ],
   "source": [
    "print ( conn.get_dsn_parameters(),\"\\n\")"
   ]
  },
  {
   "cell_type": "code",
   "execution_count": 5,
   "metadata": {},
   "outputs": [
    {
     "name": "stdout",
     "output_type": "stream",
     "text": [
      "You are connected to -  ('PostgreSQL 12.0 (Debian 12.0-1.pgdg100+1) on x86_64-pc-linux-gnu, compiled by gcc (Debian 8.3.0-6) 8.3.0, 64-bit',) \n",
      "\n"
     ]
    }
   ],
   "source": [
    "cur.execute(\"SELECT version();\")\n",
    "record = cur.fetchone()\n",
    "print(\"You are connected to - \", record,\"\\n\")"
   ]
  },
  {
   "cell_type": "code",
   "execution_count": null,
   "metadata": {},
   "outputs": [],
   "source": [
    "cur.execute(\"drop index if exists idx_tbl_er_c1\")\n",
    "cur.execute(\"drop index if exists idx_tbl_er_c2\")"
   ]
  },
  {
   "cell_type": "markdown",
   "metadata": {},
   "source": [
    "# Node details table"
   ]
  },
  {
   "cell_type": "code",
   "execution_count": 6,
   "metadata": {},
   "outputs": [],
   "source": [
    "cur.execute(\"drop table if exists tbl_detail\")\n",
    "cur.execute(\"\"\"\n",
    "create table tbl_detail \n",
    "(  \n",
    "  id int primary key,    -- ID  \n",
    "  info jsonb,            -- description  \n",
    "  crt_time timestamp     -- Creation time  \n",
    ");  \n",
    "\"\"\")"
   ]
  },
  {
   "cell_type": "code",
   "execution_count": 7,
   "metadata": {},
   "outputs": [
    {
     "data": {
      "text/html": [
       "<div>\n",
       "<style scoped>\n",
       "    .dataframe tbody tr th:only-of-type {\n",
       "        vertical-align: middle;\n",
       "    }\n",
       "\n",
       "    .dataframe tbody tr th {\n",
       "        vertical-align: top;\n",
       "    }\n",
       "\n",
       "    .dataframe thead th {\n",
       "        text-align: right;\n",
       "    }\n",
       "</style>\n",
       "<table border=\"1\" class=\"dataframe\">\n",
       "  <thead>\n",
       "    <tr style=\"text-align: right;\">\n",
       "      <th></th>\n",
       "      <th>id</th>\n",
       "      <th>info</th>\n",
       "      <th>crt_time</th>\n",
       "    </tr>\n",
       "  </thead>\n",
       "  <tbody>\n",
       "  </tbody>\n",
       "</table>\n",
       "</div>"
      ],
      "text/plain": [
       "Empty DataFrame\n",
       "Columns: [id, info, crt_time]\n",
       "Index: []"
      ]
     },
     "execution_count": 7,
     "metadata": {},
     "output_type": "execute_result"
    }
   ],
   "source": [
    "sql = \"select * from tbl_detail\"\n",
    "df = sqlio.read_sql_query(sql, conn)\n",
    "df.head()"
   ]
  },
  {
   "cell_type": "markdown",
   "metadata": {},
   "source": [
    "# Relationship description/attributes"
   ]
  },
  {
   "cell_type": "code",
   "execution_count": 8,
   "metadata": {},
   "outputs": [],
   "source": [
    "cur.execute(\"drop table if exists tbl_er_desc\")\n",
    "cur.execute(\"\"\"\n",
    "create table tbl_er_desc  -- Relationship description  \n",
    "(  \n",
    "  id int2 primary key,    -- Relationship ID  \n",
    "  info text  -- Description  \n",
    ");\n",
    "\"\"\")"
   ]
  },
  {
   "cell_type": "code",
   "execution_count": null,
   "metadata": {},
   "outputs": [],
   "source": [
    "cur.execute(\"insert into tbl_er_desc values (1,\"\");\"))"
   ]
  },
  {
   "cell_type": "code",
   "execution_count": 9,
   "metadata": {},
   "outputs": [
    {
     "data": {
      "text/html": [
       "<div>\n",
       "<style scoped>\n",
       "    .dataframe tbody tr th:only-of-type {\n",
       "        vertical-align: middle;\n",
       "    }\n",
       "\n",
       "    .dataframe tbody tr th {\n",
       "        vertical-align: top;\n",
       "    }\n",
       "\n",
       "    .dataframe thead th {\n",
       "        text-align: right;\n",
       "    }\n",
       "</style>\n",
       "<table border=\"1\" class=\"dataframe\">\n",
       "  <thead>\n",
       "    <tr style=\"text-align: right;\">\n",
       "      <th></th>\n",
       "      <th>id</th>\n",
       "      <th>info</th>\n",
       "    </tr>\n",
       "  </thead>\n",
       "  <tbody>\n",
       "  </tbody>\n",
       "</table>\n",
       "</div>"
      ],
      "text/plain": [
       "Empty DataFrame\n",
       "Columns: [id, info]\n",
       "Index: []"
      ]
     },
     "execution_count": 9,
     "metadata": {},
     "output_type": "execute_result"
    }
   ],
   "source": [
    "sql = \"select * from tbl_er_desc\"\n",
    "df = sqlio.read_sql_query(sql, conn)\n",
    "df.head()"
   ]
  },
  {
   "cell_type": "markdown",
   "metadata": {},
   "source": [
    "# Relationships/Edges "
   ]
  },
  {
   "cell_type": "code",
   "execution_count": 10,
   "metadata": {},
   "outputs": [],
   "source": [
    "cur.execute(\"drop table if exists tbl_er\")\n",
    "cur.execute(\"\"\"\n",
    "create table tbl_er     -- What is relationship between ID1 to ID2      \n",
    "(  \n",
    "  c1 int references tbl_detail(id),    \n",
    "  c2 int references tbl_detail(id),    \n",
    "  prop int2[],  -- Multiple relationships may exist. Therefore, we use array storage. This is an edge. \n",
    "  crt_time timestamp,  \n",
    "  check (c1<>c2),  \n",
    "  unique (c1,c2)  \n",
    "  -- FOREIGN KEY (EACH ELEMENT OF prop) REFERENCES tbl_er_desc(id)  -- Array foreign key, which is supported for PostgreSQL 11. The performance is good  \n",
    ");  \n",
    "\"\"\")"
   ]
  },
  {
   "cell_type": "code",
   "execution_count": 11,
   "metadata": {},
   "outputs": [
    {
     "data": {
      "text/html": [
       "<div>\n",
       "<style scoped>\n",
       "    .dataframe tbody tr th:only-of-type {\n",
       "        vertical-align: middle;\n",
       "    }\n",
       "\n",
       "    .dataframe tbody tr th {\n",
       "        vertical-align: top;\n",
       "    }\n",
       "\n",
       "    .dataframe thead th {\n",
       "        text-align: right;\n",
       "    }\n",
       "</style>\n",
       "<table border=\"1\" class=\"dataframe\">\n",
       "  <thead>\n",
       "    <tr style=\"text-align: right;\">\n",
       "      <th></th>\n",
       "      <th>c1</th>\n",
       "      <th>c2</th>\n",
       "      <th>prop</th>\n",
       "      <th>crt_time</th>\n",
       "    </tr>\n",
       "  </thead>\n",
       "  <tbody>\n",
       "  </tbody>\n",
       "</table>\n",
       "</div>"
      ],
      "text/plain": [
       "Empty DataFrame\n",
       "Columns: [c1, c2, prop, crt_time]\n",
       "Index: []"
      ]
     },
     "execution_count": 11,
     "metadata": {},
     "output_type": "execute_result"
    }
   ],
   "source": [
    "sql = \"select * from tbl_er\"\n",
    "df = sqlio.read_sql_query(sql, conn)\n",
    "df.head()"
   ]
  },
  {
   "cell_type": "code",
   "execution_count": 12,
   "metadata": {},
   "outputs": [],
   "source": [
    "cur.execute(\"drop index if exists idx_tbl_er_c1\")\n",
    "cur.execute(\"create index idx_tbl_er_c1 on tbl_er(c1)\")"
   ]
  },
  {
   "cell_type": "code",
   "execution_count": 13,
   "metadata": {},
   "outputs": [],
   "source": [
    "cur.execute(\"drop index if exists idx_tbl_er_c2\")\n",
    "cur.execute(\"create index idx_tbl_er_c2 on tbl_er(c2)\")"
   ]
  },
  {
   "cell_type": "code",
   "execution_count": 14,
   "metadata": {},
   "outputs": [],
   "source": [
    "cur.execute(\"insert into tbl_detail select generate_series(1,10000);\")"
   ]
  },
  {
   "cell_type": "code",
   "execution_count": 15,
   "metadata": {},
   "outputs": [],
   "source": [
    "cur.execute(\"insert into tbl_er values (1,2,array[10],now());\")\n",
    "cur.execute(\"insert into tbl_er values (2,1,array[9],now());\")\n",
    "cur.execute(\"insert into tbl_er values (1,3,array[10],now());\")\n",
    "cur.execute(\"insert into tbl_er values (3,1,array[9],now());\")\n",
    "cur.execute(\"insert into tbl_er values (5,2,array[11],now());\")\n",
    "cur.execute(\"insert into tbl_er values (2,5,array[9],now());\")\n",
    "cur.execute(\"insert into tbl_er values (5,3,array[11],now());\")\n",
    "cur.execute(\"insert into tbl_er values (3,5,array[9],now());\")\n",
    "cur.execute(\"insert into tbl_er values (4,1,array[10],now());\")\n",
    "cur.execute(\"insert into tbl_er values (1,4,array[8],now());\")\n",
    "cur.execute(\"insert into tbl_er values (6,5,array[10],now());\")\n",
    "cur.execute(\"insert into tbl_er values (5,6,array[9],now());\")\n",
    "cur.execute(\"insert into tbl_er values (7,1,array[11],now());\")\n",
    "cur.execute(\"insert into tbl_er values (1,7,array[8],now());\")\n",
    "cur.execute(\"insert into tbl_er values (8,5,array[11],now());\")\n",
    "cur.execute(\"insert into tbl_er values (5,8,array[9],now());\")"
   ]
  },
  {
   "cell_type": "code",
   "execution_count": 16,
   "metadata": {},
   "outputs": [],
   "source": [
    "conn.commit()"
   ]
  },
  {
   "cell_type": "code",
   "execution_count": 17,
   "metadata": {},
   "outputs": [],
   "source": [
    "sql = \"\"\"\n",
    "create or replace function graph_search1(      \n",
    "  IN i_root int,                       -- The node that the search is based on        \n",
    "  IN i_depth int  default 99999,       -- the tier to search (the depth limit)      \n",
    "  IN i_limit int8 default 2000000000,  -- limit the number of records returned for each tier      \n",
    "  OUT o_path int[],                    -- output: path, an array of IDs      \n",
    "  OUT o_point1 int,                    -- output: point 1 ID      \n",
    "  OUT o_point2 int,                    -- output: point 2 ID      \n",
    "  OUT o_link_prop int2[],              -- output: the connection property between the two current points      \n",
    "  OUT o_link_prop_all text,            -- output: the connection property from the starting node to the current node      \n",
    "  OUT o_depth int                      -- output: current depth (tier)      \n",
    ") returns setof record as \n",
    "$$\n",
    "      \n",
    "declare      \n",
    "  sql text;      \n",
    "begin      \n",
    "sql := format($_$      \n",
    "WITH RECURSIVE search_graph(        \n",
    "  c1,     -- point 1        \n",
    "  c2,     -- point 2        \n",
    "  prop,   -- current edge property      \n",
    "  all_prop,  -- properties of all edges  \n",
    "  depth,  -- current depth, starting from 1         \n",
    "  path    -- path, stored as an array         \n",
    ") AS (        \n",
    "        select c1,c2,prop,all_prop,depth,path from (        \n",
    "        SELECT                               -- ROOT node query        \n",
    "          g.c1,                              -- point 1        \n",
    "          g.c2,                              -- point 2        \n",
    "          g.prop,                            -- edge property        \n",
    "      g.prop::text as all_prop,          -- properties of all edges  \n",
    "          1 depth,                           -- initial depth=1        \n",
    "          ARRAY[g.c1, g.c2] path             -- initial path        \n",
    "        FROM tbl_er AS g         \n",
    "        WHERE         \n",
    "          c1 = %s                            -- ROOT node=?        \n",
    "          limit %s                           -- How many records are limited at each tier?        \n",
    "        ) t        \n",
    "      UNION ALL        \n",
    "        select c1,c2,prop,all_prop,depth,path from (        \n",
    "        SELECT                               -- recursive clause         \n",
    "          g.c1,                              -- point 1        \n",
    "          g.c2,                              -- point 2        \n",
    "          g.prop,                            -- edge property     \n",
    "      sg.all_prop || g.prop::text as all_prop,    -- properties of all edges  \n",
    "          sg.depth + 1 depth,                   -- depth +1        \n",
    "          sg.path || g.c2 path                 -- Add a new point to the path        \n",
    "        FROM tbl_er AS g, search_graph AS sg    -- circular INNER JOIN        \n",
    "        WHERE         \n",
    "          g.c1 = sg.c2                       -- recursive JOIN condition        \n",
    "          AND (g.c2 <> ALL(sg.path))                      -- Prevent loop, determine whether it is a loop and judge if the new point is already in the previous path   \n",
    "          AND sg.depth <= %s                 -- search depth =?          \n",
    "          limit %s                           -- How many records are limited at each tier?       \n",
    "        ) t        \n",
    ")        \n",
    "SELECT path as o_path, c1 as o_point1, c2 as o_point2, prop as o_link_prop, all_prop as o_link_prop_all, depth as o_depth      \n",
    "FROM search_graph;                           -- query a recursive table. You can add LIMIT output or use a cursor       \n",
    "$_$, i_root, i_limit, i_depth, i_limit      \n",
    ");      \n",
    "      \n",
    "return query execute sql;      \n",
    "      \n",
    "end;      \n",
    "\n",
    "$$\n",
    " language plpgsql strict;   \n",
    "\"\"\"\n",
    "\n",
    "cur.execute(sql)"
   ]
  },
  {
   "cell_type": "code",
   "execution_count": 18,
   "metadata": {},
   "outputs": [],
   "source": [
    "conn.commit()"
   ]
  },
  {
   "cell_type": "code",
   "execution_count": 37,
   "metadata": {},
   "outputs": [
    {
     "name": "stdout",
     "output_type": "stream",
     "text": [
      "CPU times: user 3.57 ms, sys: 1.51 ms, total: 5.08 ms\n",
      "Wall time: 12.5 ms\n"
     ]
    }
   ],
   "source": [
    "%%time\n",
    "sql = \"select * from graph_search1(1)\"\n",
    "df = sqlio.read_sql_query(sql, conn)"
   ]
  },
  {
   "cell_type": "code",
   "execution_count": 38,
   "metadata": {},
   "outputs": [
    {
     "data": {
      "text/html": [
       "<div>\n",
       "<style scoped>\n",
       "    .dataframe tbody tr th:only-of-type {\n",
       "        vertical-align: middle;\n",
       "    }\n",
       "\n",
       "    .dataframe tbody tr th {\n",
       "        vertical-align: top;\n",
       "    }\n",
       "\n",
       "    .dataframe thead th {\n",
       "        text-align: right;\n",
       "    }\n",
       "</style>\n",
       "<table border=\"1\" class=\"dataframe\">\n",
       "  <thead>\n",
       "    <tr style=\"text-align: right;\">\n",
       "      <th></th>\n",
       "      <th>o_path</th>\n",
       "      <th>o_point1</th>\n",
       "      <th>o_point2</th>\n",
       "      <th>o_link_prop</th>\n",
       "      <th>o_link_prop_all</th>\n",
       "      <th>o_depth</th>\n",
       "    </tr>\n",
       "  </thead>\n",
       "  <tbody>\n",
       "    <tr>\n",
       "      <th>0</th>\n",
       "      <td>[1, 2]</td>\n",
       "      <td>1</td>\n",
       "      <td>2</td>\n",
       "      <td>[10]</td>\n",
       "      <td>{10}</td>\n",
       "      <td>1</td>\n",
       "    </tr>\n",
       "    <tr>\n",
       "      <th>1</th>\n",
       "      <td>[1, 3]</td>\n",
       "      <td>1</td>\n",
       "      <td>3</td>\n",
       "      <td>[10]</td>\n",
       "      <td>{10}</td>\n",
       "      <td>1</td>\n",
       "    </tr>\n",
       "    <tr>\n",
       "      <th>2</th>\n",
       "      <td>[1, 4]</td>\n",
       "      <td>1</td>\n",
       "      <td>4</td>\n",
       "      <td>[8]</td>\n",
       "      <td>{8}</td>\n",
       "      <td>1</td>\n",
       "    </tr>\n",
       "    <tr>\n",
       "      <th>3</th>\n",
       "      <td>[1, 7]</td>\n",
       "      <td>1</td>\n",
       "      <td>7</td>\n",
       "      <td>[8]</td>\n",
       "      <td>{8}</td>\n",
       "      <td>1</td>\n",
       "    </tr>\n",
       "    <tr>\n",
       "      <th>4</th>\n",
       "      <td>[1, 2, 5]</td>\n",
       "      <td>2</td>\n",
       "      <td>5</td>\n",
       "      <td>[9]</td>\n",
       "      <td>{10}{9}</td>\n",
       "      <td>2</td>\n",
       "    </tr>\n",
       "  </tbody>\n",
       "</table>\n",
       "</div>"
      ],
      "text/plain": [
       "      o_path  o_point1  o_point2 o_link_prop o_link_prop_all  o_depth\n",
       "0     [1, 2]         1         2        [10]            {10}        1\n",
       "1     [1, 3]         1         3        [10]            {10}        1\n",
       "2     [1, 4]         1         4         [8]             {8}        1\n",
       "3     [1, 7]         1         7         [8]             {8}        1\n",
       "4  [1, 2, 5]         2         5         [9]         {10}{9}        2"
      ]
     },
     "execution_count": 38,
     "metadata": {},
     "output_type": "execute_result"
    }
   ],
   "source": [
    "df.head()"
   ]
  }
 ],
 "metadata": {
  "kernelspec": {
   "display_name": "Python (dv)",
   "language": "python",
   "name": "dv"
  },
  "language_info": {
   "codemirror_mode": {
    "name": "ipython",
    "version": 3
   },
   "file_extension": ".py",
   "mimetype": "text/x-python",
   "name": "python",
   "nbconvert_exporter": "python",
   "pygments_lexer": "ipython3",
   "version": "3.7.3"
  }
 },
 "nbformat": 4,
 "nbformat_minor": 2
}
