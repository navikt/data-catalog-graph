{
 "cells": [
  {
   "cell_type": "code",
   "execution_count": 18,
   "metadata": {},
   "outputs": [],
   "source": [
    "import pandas as pd\n",
    "import pandas.io.sql as sqlio\n",
    "import psycopg2\n",
    "import sqlalchemy\n",
    "import os"
   ]
  },
  {
   "cell_type": "code",
   "execution_count": 2,
   "metadata": {},
   "outputs": [],
   "source": [
    "conn = psycopg2.connect(\n",
    "    user=\"dcat\", \n",
    "    password=\"dcat\", \n",
    "    host=\"127.0.0.1\", \n",
    "    port=\"54320\", \n",
    "    database=\"dcat\")"
   ]
  },
  {
   "cell_type": "code",
   "execution_count": 21,
   "metadata": {},
   "outputs": [],
   "source": [
    "# vault login -address=\"https -method=oidc\n",
    "# vault read --address=\"https://vault.adeo.no\" postgresql/preprod-fss/creds/datacatalog-term-admin\n",
    "\n",
    "conn = psycopg2.connect(\n",
    "    user=\"v-oidc-Pau-data-cat-JttunzZohPHCVqCALH7e-1574349384\", \n",
    "    password=\"A1a-KVbk7te3wn4ndtue\", \n",
    "    host=\"A01DBVL010.adeo.no\", \n",
    "    port=\"5432\", \n",
    "    database=\"data-catalog-metadata\")"
   ]
  },
  {
   "cell_type": "code",
   "execution_count": 22,
   "metadata": {},
   "outputs": [],
   "source": [
    "cur = conn.cursor()"
   ]
  },
  {
   "cell_type": "code",
   "execution_count": 23,
   "metadata": {},
   "outputs": [
    {
     "name": "stdout",
     "output_type": "stream",
     "text": [
      "{'user': 'v-oidc-Pau-data-cat-JttunzZohPHCVqCALH7e-1574349384', 'dbname': 'data-catalog-metadata', 'host': 'A01DBVL010.adeo.no', 'port': '5432', 'tty': '', 'options': '', 'sslmode': 'prefer', 'sslcompression': '0', 'krbsrvname': 'postgres', 'target_session_attrs': 'any'} \n",
      "\n"
     ]
    }
   ],
   "source": [
    "print ( conn.get_dsn_parameters(),\"\\n\")"
   ]
  },
  {
   "cell_type": "code",
   "execution_count": 24,
   "metadata": {},
   "outputs": [
    {
     "name": "stdout",
     "output_type": "stream",
     "text": [
      "You are connected to -  ('PostgreSQL 11.3 on x86_64-pc-linux-gnu, compiled by gcc (GCC) 4.8.5 20150623 (Red Hat 4.8.5-36), 64-bit',) \n",
      "\n"
     ]
    }
   ],
   "source": [
    "cur.execute(\"SELECT version();\")\n",
    "record = cur.fetchone()\n",
    "print(\"You are connected to - \", record,\"\\n\")"
   ]
  },
  {
   "cell_type": "code",
   "execution_count": 25,
   "metadata": {},
   "outputs": [
    {
     "ename": "InsufficientPrivilege",
     "evalue": "permission denied to create extension \"pgcrypto\"\nHINT:  Must be superuser to create this extension.\n",
     "output_type": "error",
     "traceback": [
      "\u001b[0;31m---------------------------------------------------------------------------\u001b[0m",
      "\u001b[0;31mInsufficientPrivilege\u001b[0m                     Traceback (most recent call last)",
      "\u001b[0;32m<ipython-input-25-6b5130f93de9>\u001b[0m in \u001b[0;36m<module>\u001b[0;34m\u001b[0m\n\u001b[0;32m----> 1\u001b[0;31m \u001b[0mcur\u001b[0m\u001b[0;34m.\u001b[0m\u001b[0mexecute\u001b[0m\u001b[0;34m(\u001b[0m\u001b[0;34m\"CREATE EXTENSION IF NOT EXISTS pgcrypto;\"\u001b[0m\u001b[0;34m)\u001b[0m\u001b[0;34m\u001b[0m\u001b[0;34m\u001b[0m\u001b[0m\n\u001b[0m",
      "\u001b[0;31mInsufficientPrivilege\u001b[0m: permission denied to create extension \"pgcrypto\"\nHINT:  Must be superuser to create this extension.\n"
     ]
    }
   ],
   "source": [
    "cur.execute(\"CREATE EXTENSION IF NOT EXISTS pgcrypto;\")"
   ]
  },
  {
   "cell_type": "code",
   "execution_count": 33,
   "metadata": {},
   "outputs": [],
   "source": [
    "conn.commit()"
   ]
  },
  {
   "cell_type": "code",
   "execution_count": 27,
   "metadata": {},
   "outputs": [],
   "source": [
    "cur.execute(\"drop index if exists idx_tbl_edge_n1\")\n",
    "cur.execute(\"drop index if exists idx_tbl_edge_n2\")\n",
    "cur.execute(\"drop table if exists tbl_edge\")"
   ]
  },
  {
   "cell_type": "markdown",
   "metadata": {},
   "source": [
    "# Node table"
   ]
  },
  {
   "cell_type": "code",
   "execution_count": 31,
   "metadata": {},
   "outputs": [
    {
     "ename": "SyntaxError",
     "evalue": "syntax error at or near \"//\"\nLINE 5:   //guid UUID default gen_random_uuid(),\n          ^\n",
     "output_type": "error",
     "traceback": [
      "\u001b[0;31m---------------------------------------------------------------------------\u001b[0m",
      "\u001b[0;31mSyntaxError\u001b[0m                               Traceback (most recent call last)",
      "\u001b[0;32m<ipython-input-31-dc95882656cd>\u001b[0m in \u001b[0;36m<module>\u001b[0;34m\u001b[0m\n\u001b[1;32m      8\u001b[0m   \u001b[0mcreated\u001b[0m \u001b[0mTIMESTAMP\u001b[0m \u001b[0mdefault\u001b[0m \u001b[0mnow\u001b[0m\u001b[0;34m(\u001b[0m\u001b[0;34m)\u001b[0m\u001b[0;34m\u001b[0m\u001b[0;34m\u001b[0m\u001b[0m\n\u001b[1;32m      9\u001b[0m );  \n\u001b[0;32m---> 10\u001b[0;31m \"\"\")\n\u001b[0m",
      "\u001b[0;31mSyntaxError\u001b[0m: syntax error at or near \"//\"\nLINE 5:   //guid UUID default gen_random_uuid(),\n          ^\n"
     ]
    }
   ],
   "source": [
    "cur.execute(\"drop table if exists tbl_node\")\n",
    "cur.execute(\"\"\"\n",
    "create table tbl_node \n",
    "(  \n",
    "  id SERIAL PRIMARY KEY,\n",
    "  guid UUID default gen_random_uuid(),\n",
    "  prop JSONB, \n",
    "  created TIMESTAMP default now() \n",
    ");  \n",
    "\"\"\")"
   ]
  },
  {
   "cell_type": "code",
   "execution_count": 34,
   "metadata": {},
   "outputs": [],
   "source": [
    "cur.execute(\"drop table if exists tbl_node\")\n",
    "cur.execute(\"\"\"\n",
    "create table tbl_node \n",
    "(  \n",
    "  id SERIAL PRIMARY KEY,\n",
    "  prop JSONB, \n",
    "  created TIMESTAMP default now() \n",
    ");  \n",
    "\"\"\")"
   ]
  },
  {
   "cell_type": "code",
   "execution_count": 35,
   "metadata": {},
   "outputs": [
    {
     "data": {
      "text/html": [
       "<div>\n",
       "<style scoped>\n",
       "    .dataframe tbody tr th:only-of-type {\n",
       "        vertical-align: middle;\n",
       "    }\n",
       "\n",
       "    .dataframe tbody tr th {\n",
       "        vertical-align: top;\n",
       "    }\n",
       "\n",
       "    .dataframe thead th {\n",
       "        text-align: right;\n",
       "    }\n",
       "</style>\n",
       "<table border=\"1\" class=\"dataframe\">\n",
       "  <thead>\n",
       "    <tr style=\"text-align: right;\">\n",
       "      <th></th>\n",
       "      <th>id</th>\n",
       "      <th>prop</th>\n",
       "      <th>created</th>\n",
       "    </tr>\n",
       "  </thead>\n",
       "  <tbody>\n",
       "  </tbody>\n",
       "</table>\n",
       "</div>"
      ],
      "text/plain": [
       "Empty DataFrame\n",
       "Columns: [id, prop, created]\n",
       "Index: []"
      ]
     },
     "execution_count": 35,
     "metadata": {},
     "output_type": "execute_result"
    }
   ],
   "source": [
    "sql = \"select * from tbl_node\"\n",
    "df = sqlio.read_sql_query(sql, conn)\n",
    "df.head()"
   ]
  },
  {
   "cell_type": "code",
   "execution_count": 46,
   "metadata": {},
   "outputs": [
    {
     "ename": "UndefinedObject",
     "evalue": "role \"data-catalog-graph-admin\" does not exist\n",
     "output_type": "error",
     "traceback": [
      "\u001b[0;31m---------------------------------------------------------------------------\u001b[0m",
      "\u001b[0;31mUndefinedObject\u001b[0m                           Traceback (most recent call last)",
      "\u001b[0;32m<ipython-input-46-7dd79d46a193>\u001b[0m in \u001b[0;36m<module>\u001b[0;34m\u001b[0m\n\u001b[1;32m      1\u001b[0m \u001b[0mconn\u001b[0m\u001b[0;34m.\u001b[0m\u001b[0mcommit\u001b[0m\u001b[0;34m(\u001b[0m\u001b[0;34m)\u001b[0m\u001b[0;34m\u001b[0m\u001b[0;34m\u001b[0m\u001b[0m\n\u001b[0;32m----> 2\u001b[0;31m \u001b[0mcur\u001b[0m\u001b[0;34m.\u001b[0m\u001b[0mexecute\u001b[0m\u001b[0;34m(\u001b[0m\u001b[0;34m'grant all privileges on table tbl_node to \"data-catalog-graph-admin\"'\u001b[0m\u001b[0;34m)\u001b[0m\u001b[0;34m\u001b[0m\u001b[0;34m\u001b[0m\u001b[0m\n\u001b[0m",
      "\u001b[0;31mUndefinedObject\u001b[0m: role \"data-catalog-graph-admin\" does not exist\n"
     ]
    }
   ],
   "source": [
    "conn.commit()\n",
    "cur.execute('grant all privileges on table tbl_node to \"data-catalog-graph-admin\"')"
   ]
  },
  {
   "cell_type": "code",
   "execution_count": 48,
   "metadata": {},
   "outputs": [
    {
     "data": {
      "text/html": [
       "<div>\n",
       "<style scoped>\n",
       "    .dataframe tbody tr th:only-of-type {\n",
       "        vertical-align: middle;\n",
       "    }\n",
       "\n",
       "    .dataframe tbody tr th {\n",
       "        vertical-align: top;\n",
       "    }\n",
       "\n",
       "    .dataframe thead th {\n",
       "        text-align: right;\n",
       "    }\n",
       "</style>\n",
       "<table border=\"1\" class=\"dataframe\">\n",
       "  <thead>\n",
       "    <tr style=\"text-align: right;\">\n",
       "      <th></th>\n",
       "      <th>usename</th>\n",
       "      <th>usesysid</th>\n",
       "      <th>usecreatedb</th>\n",
       "      <th>usesuper</th>\n",
       "      <th>userepl</th>\n",
       "      <th>usebypassrls</th>\n",
       "      <th>passwd</th>\n",
       "      <th>valuntil</th>\n",
       "      <th>useconfig</th>\n",
       "    </tr>\n",
       "  </thead>\n",
       "  <tbody>\n",
       "    <tr>\n",
       "      <th>0</th>\n",
       "      <td>v-kubernet-spleis-u-FdEAaQlqdGCatfoIRtE3-15743...</td>\n",
       "      <td>17371107</td>\n",
       "      <td>False</td>\n",
       "      <td>False</td>\n",
       "      <td>False</td>\n",
       "      <td>False</td>\n",
       "      <td>********</td>\n",
       "      <td>2019-11-21 17:26:25+01</td>\n",
       "      <td>None</td>\n",
       "    </tr>\n",
       "    <tr>\n",
       "      <th>1</th>\n",
       "      <td>v-kubernet-spock-us-U6RQVStzgsgqkXI0m3BV-15743...</td>\n",
       "      <td>17370397</td>\n",
       "      <td>False</td>\n",
       "      <td>False</td>\n",
       "      <td>False</td>\n",
       "      <td>False</td>\n",
       "      <td>********</td>\n",
       "      <td>2019-11-21 16:47:52+01</td>\n",
       "      <td>None</td>\n",
       "    </tr>\n",
       "    <tr>\n",
       "      <th>2</th>\n",
       "      <td>postgres</td>\n",
       "      <td>10</td>\n",
       "      <td>True</td>\n",
       "      <td>True</td>\n",
       "      <td>True</td>\n",
       "      <td>True</td>\n",
       "      <td>********</td>\n",
       "      <td>None</td>\n",
       "      <td>None</td>\n",
       "    </tr>\n",
       "    <tr>\n",
       "      <th>3</th>\n",
       "      <td>v-oidc-Pau-data-cat-JttunzZohPHCVqCALH7e-15743...</td>\n",
       "      <td>17370925</td>\n",
       "      <td>False</td>\n",
       "      <td>False</td>\n",
       "      <td>False</td>\n",
       "      <td>False</td>\n",
       "      <td>********</td>\n",
       "      <td>2019-11-21 17:16:29+01</td>\n",
       "      <td>None</td>\n",
       "    </tr>\n",
       "    <tr>\n",
       "      <th>4</th>\n",
       "      <td>v-kubernet-spleis-a-E4MMnnx7Uz26QPWXM3cT-15743...</td>\n",
       "      <td>17371106</td>\n",
       "      <td>False</td>\n",
       "      <td>False</td>\n",
       "      <td>False</td>\n",
       "      <td>False</td>\n",
       "      <td>********</td>\n",
       "      <td>2019-11-21 17:26:24+01</td>\n",
       "      <td>None</td>\n",
       "    </tr>\n",
       "  </tbody>\n",
       "</table>\n",
       "</div>"
      ],
      "text/plain": [
       "                                             usename  usesysid  usecreatedb  \\\n",
       "0  v-kubernet-spleis-u-FdEAaQlqdGCatfoIRtE3-15743...  17371107        False   \n",
       "1  v-kubernet-spock-us-U6RQVStzgsgqkXI0m3BV-15743...  17370397        False   \n",
       "2                                           postgres        10         True   \n",
       "3  v-oidc-Pau-data-cat-JttunzZohPHCVqCALH7e-15743...  17370925        False   \n",
       "4  v-kubernet-spleis-a-E4MMnnx7Uz26QPWXM3cT-15743...  17371106        False   \n",
       "\n",
       "   usesuper  userepl  usebypassrls    passwd                valuntil useconfig  \n",
       "0     False    False         False  ********  2019-11-21 17:26:25+01      None  \n",
       "1     False    False         False  ********  2019-11-21 16:47:52+01      None  \n",
       "2      True     True          True  ********                    None      None  \n",
       "3     False    False         False  ********  2019-11-21 17:16:29+01      None  \n",
       "4     False    False         False  ********  2019-11-21 17:26:24+01      None  "
      ]
     },
     "execution_count": 48,
     "metadata": {},
     "output_type": "execute_result"
    }
   ],
   "source": [
    "conn.commit()\n",
    "sql = 'select * from pg_catalog.pg_user'\n",
    "df_users = sqlio.read_sql_query(sql, conn)"
   ]
  },
  {
   "cell_type": "code",
   "execution_count": null,
   "metadata": {},
   "outputs": [],
   "source": []
  },
  {
   "cell_type": "markdown",
   "metadata": {},
   "source": [
    "# Edge description/attributes"
   ]
  },
  {
   "cell_type": "code",
   "execution_count": 36,
   "metadata": {},
   "outputs": [],
   "source": [
    "cur.execute(\"drop table if exists tbl_edge_desc\")\n",
    "cur.execute(\"\"\"\n",
    "create table tbl_edge_desc  -- Relationship description  \n",
    "(  \n",
    "  id SERIAL PRIMARY KEY, \n",
    "  prop TEXT \n",
    ");\n",
    "\"\"\")"
   ]
  },
  {
   "cell_type": "code",
   "execution_count": 37,
   "metadata": {},
   "outputs": [
    {
     "data": {
      "text/html": [
       "<div>\n",
       "<style scoped>\n",
       "    .dataframe tbody tr th:only-of-type {\n",
       "        vertical-align: middle;\n",
       "    }\n",
       "\n",
       "    .dataframe tbody tr th {\n",
       "        vertical-align: top;\n",
       "    }\n",
       "\n",
       "    .dataframe thead th {\n",
       "        text-align: right;\n",
       "    }\n",
       "</style>\n",
       "<table border=\"1\" class=\"dataframe\">\n",
       "  <thead>\n",
       "    <tr style=\"text-align: right;\">\n",
       "      <th></th>\n",
       "      <th>id</th>\n",
       "      <th>prop</th>\n",
       "    </tr>\n",
       "  </thead>\n",
       "  <tbody>\n",
       "  </tbody>\n",
       "</table>\n",
       "</div>"
      ],
      "text/plain": [
       "Empty DataFrame\n",
       "Columns: [id, prop]\n",
       "Index: []"
      ]
     },
     "execution_count": 37,
     "metadata": {},
     "output_type": "execute_result"
    }
   ],
   "source": [
    "sql = \"select * from tbl_edge_desc\"\n",
    "df = sqlio.read_sql_query(sql, conn)\n",
    "df.head()"
   ]
  },
  {
   "cell_type": "markdown",
   "metadata": {},
   "source": [
    "# Edges "
   ]
  },
  {
   "cell_type": "code",
   "execution_count": 13,
   "metadata": {},
   "outputs": [],
   "source": [
    "cur.execute(\"drop table if exists tbl_edge\")\n",
    "cur.execute(\"\"\"\n",
    "create table tbl_edge     -- What is relationship between ID1 to ID2      \n",
    "(  \n",
    "  n1 int references tbl_node(id),    \n",
    "  n2 int references tbl_node(id),\n",
    "  guid UUID default gen_random_uuid(),\n",
    "  prop int2[],\n",
    "  created timestamp default now(),  \n",
    "  check (n1<>n2),  \n",
    "  unique (n1,n2)  \n",
    ");  \n",
    "\"\"\")"
   ]
  },
  {
   "cell_type": "code",
   "execution_count": 38,
   "metadata": {},
   "outputs": [],
   "source": [
    "cur.execute(\"drop table if exists tbl_edge\")\n",
    "cur.execute(\"\"\"\n",
    "create table tbl_edge     -- What is relationship between ID1 to ID2      \n",
    "(  \n",
    "  n1 int references tbl_node(id),    \n",
    "  n2 int references tbl_node(id),\n",
    "  prop int2[],\n",
    "  created timestamp default now(),  \n",
    "  check (n1<>n2),  \n",
    "  unique (n1,n2)  \n",
    ");  \n",
    "\"\"\")"
   ]
  },
  {
   "cell_type": "code",
   "execution_count": 39,
   "metadata": {},
   "outputs": [
    {
     "data": {
      "text/html": [
       "<div>\n",
       "<style scoped>\n",
       "    .dataframe tbody tr th:only-of-type {\n",
       "        vertical-align: middle;\n",
       "    }\n",
       "\n",
       "    .dataframe tbody tr th {\n",
       "        vertical-align: top;\n",
       "    }\n",
       "\n",
       "    .dataframe thead th {\n",
       "        text-align: right;\n",
       "    }\n",
       "</style>\n",
       "<table border=\"1\" class=\"dataframe\">\n",
       "  <thead>\n",
       "    <tr style=\"text-align: right;\">\n",
       "      <th></th>\n",
       "      <th>n1</th>\n",
       "      <th>n2</th>\n",
       "      <th>prop</th>\n",
       "      <th>created</th>\n",
       "    </tr>\n",
       "  </thead>\n",
       "  <tbody>\n",
       "  </tbody>\n",
       "</table>\n",
       "</div>"
      ],
      "text/plain": [
       "Empty DataFrame\n",
       "Columns: [n1, n2, prop, created]\n",
       "Index: []"
      ]
     },
     "execution_count": 39,
     "metadata": {},
     "output_type": "execute_result"
    }
   ],
   "source": [
    "sql = \"select * from tbl_edge\"\n",
    "df = sqlio.read_sql_query(sql, conn)\n",
    "df.head()"
   ]
  },
  {
   "cell_type": "code",
   "execution_count": 40,
   "metadata": {},
   "outputs": [],
   "source": [
    "cur.execute(\"drop index if exists idx_tbl_edge_n1\")\n",
    "cur.execute(\"create index idx_tbl_edge_n1 on tbl_edge(n1)\")"
   ]
  },
  {
   "cell_type": "code",
   "execution_count": 41,
   "metadata": {},
   "outputs": [],
   "source": [
    "cur.execute(\"drop index if exists idx_tbl_edge_n2\")\n",
    "cur.execute(\"create index idx_tbl_edge_n2 on tbl_edge(n2)\")"
   ]
  },
  {
   "cell_type": "code",
   "execution_count": 42,
   "metadata": {},
   "outputs": [],
   "source": [
    "conn.commit()"
   ]
  },
  {
   "cell_type": "code",
   "execution_count": null,
   "metadata": {},
   "outputs": [],
   "source": []
  }
 ],
 "metadata": {
  "kernelspec": {
   "display_name": "Python 3",
   "language": "python",
   "name": "python3"
  },
  "language_info": {
   "codemirror_mode": {
    "name": "ipython",
    "version": 3
   },
   "file_extension": ".py",
   "mimetype": "text/x-python",
   "name": "python",
   "nbconvert_exporter": "python",
   "pygments_lexer": "ipython3",
   "version": "3.7.2"
  },
  "varInspector": {
   "cols": {
    "lenName": 16,
    "lenType": 16,
    "lenVar": 40
   },
   "kernels_config": {
    "python": {
     "delete_cmd_postfix": "",
     "delete_cmd_prefix": "del ",
     "library": "var_list.py",
     "varRefreshCmd": "print(var_dic_list())"
    },
    "r": {
     "delete_cmd_postfix": ") ",
     "delete_cmd_prefix": "rm(",
     "library": "var_list.r",
     "varRefreshCmd": "cat(var_dic_list()) "
    }
   },
   "types_to_exclude": [
    "module",
    "function",
    "builtin_function_or_method",
    "instance",
    "_Feature"
   ],
   "window_display": false
  }
 },
 "nbformat": 4,
 "nbformat_minor": 2
}
