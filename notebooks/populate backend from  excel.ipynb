{
 "cells": [
  {
   "cell_type": "code",
   "execution_count": 504,
   "metadata": {},
   "outputs": [],
   "source": [
    "import pandas as pd\n",
    "\n",
    "from ssl import create_default_context\n",
    "ssl_context = create_default_context()\n",
    "\n",
    "import requests\n",
    "from requests.packages.urllib3.exceptions import InsecureRequestWarning, SubjectAltNameWarning\n",
    "requests.packages.urllib3.disable_warnings(InsecureRequestWarning)\n",
    "requests.packages.urllib3.disable_warnings(SubjectAltNameWarning)\n",
    "\n",
    "import json\n",
    "import uuid"
   ]
  },
  {
   "cell_type": "code",
   "execution_count": 203,
   "metadata": {},
   "outputs": [],
   "source": [
    "headers = {'Content-Type': 'application/json'}"
   ]
  },
  {
   "cell_type": "markdown",
   "metadata": {},
   "source": [
    "# Get data"
   ]
  },
  {
   "cell_type": "code",
   "execution_count": 48,
   "metadata": {},
   "outputs": [
    {
     "data": {
      "text/plain": [
       "['Formål GML',\n",
       " 'Formål',\n",
       " 'Ark1',\n",
       " 'data-catalog-backend',\n",
       " 'data-catalog-policies',\n",
       " 'Category']"
      ]
     },
     "execution_count": 48,
     "metadata": {},
     "output_type": "execute_result"
    }
   ],
   "source": [
    "xls = pd.ExcelFile('../data/testdata.xlsx')\n",
    "xls.sheet_names"
   ]
  },
  {
   "cell_type": "markdown",
   "metadata": {},
   "source": [
    "## Codelist"
   ]
  },
  {
   "cell_type": "code",
   "execution_count": 820,
   "metadata": {},
   "outputs": [],
   "source": [
    "codelist_url = 'https://datakatalog.nais.oera-q.local/backend/codelist'"
   ]
  },
  {
   "cell_type": "code",
   "execution_count": 821,
   "metadata": {},
   "outputs": [],
   "source": [
    "df_codelist = pd.read_json(codelist_url).reset_index()"
   ]
  },
  {
   "cell_type": "code",
   "execution_count": 822,
   "metadata": {},
   "outputs": [
    {
     "data": {
      "text/html": [
       "<div>\n",
       "<style scoped>\n",
       "    .dataframe tbody tr th:only-of-type {\n",
       "        vertical-align: middle;\n",
       "    }\n",
       "\n",
       "    .dataframe tbody tr th {\n",
       "        vertical-align: top;\n",
       "    }\n",
       "\n",
       "    .dataframe thead th {\n",
       "        text-align: right;\n",
       "    }\n",
       "</style>\n",
       "<table border=\"1\" class=\"dataframe\">\n",
       "  <thead>\n",
       "    <tr style=\"text-align: right;\">\n",
       "      <th></th>\n",
       "      <th>index</th>\n",
       "      <th>PURPOSE</th>\n",
       "      <th>CATEGORY</th>\n",
       "      <th>PROVENANCE</th>\n",
       "    </tr>\n",
       "  </thead>\n",
       "  <tbody>\n",
       "    <tr>\n",
       "      <th>0</th>\n",
       "      <td>ALDERSPENSJON</td>\n",
       "      <td>Behandle og vurdere rett til alderspensjon som...</td>\n",
       "      <td>Motorvognopplysninger</td>\n",
       "      <td>NaN</td>\n",
       "    </tr>\n",
       "    <tr>\n",
       "      <th>1</th>\n",
       "      <td>ARBEIDSAVKLARINGSPENGER (AAP)</td>\n",
       "      <td>Behandle og vurdere rett til arbeidsavklarings...</td>\n",
       "      <td>Opplysninger om reisevei</td>\n",
       "      <td>NaN</td>\n",
       "    </tr>\n",
       "    <tr>\n",
       "      <th>2</th>\n",
       "      <td>AVTALEFESTET PENSJON (AFP) FOR PRIVAT SEKTOR</td>\n",
       "      <td>AFP i privat sektor: Behandle og vurdere om vi...</td>\n",
       "      <td>Adresse og kontaktopplysninger</td>\n",
       "      <td>NaN</td>\n",
       "    </tr>\n",
       "    <tr>\n",
       "      <th>3</th>\n",
       "      <td>AVTALEFESTET PENSJON (AFP) FOR STATLIG OG KOMM...</td>\n",
       "      <td>Yte avtalefestet pensjon til 62-65-åringer som...</td>\n",
       "      <td>Arbeidsforhold</td>\n",
       "      <td>NaN</td>\n",
       "    </tr>\n",
       "    <tr>\n",
       "      <th>4</th>\n",
       "      <td>BARNEBIDRAG</td>\n",
       "      <td>Behandle krav om bidrag som skal sikre barnet ...</td>\n",
       "      <td>Andre økonomiske opplysninger</td>\n",
       "      <td>NaN</td>\n",
       "    </tr>\n",
       "  </tbody>\n",
       "</table>\n",
       "</div>"
      ],
      "text/plain": [
       "                                               index  \\\n",
       "0                                      ALDERSPENSJON   \n",
       "1                      ARBEIDSAVKLARINGSPENGER (AAP)   \n",
       "2       AVTALEFESTET PENSJON (AFP) FOR PRIVAT SEKTOR   \n",
       "3  AVTALEFESTET PENSJON (AFP) FOR STATLIG OG KOMM...   \n",
       "4                                        BARNEBIDRAG   \n",
       "\n",
       "                                             PURPOSE  \\\n",
       "0  Behandle og vurdere rett til alderspensjon som...   \n",
       "1  Behandle og vurdere rett til arbeidsavklarings...   \n",
       "2  AFP i privat sektor: Behandle og vurdere om vi...   \n",
       "3  Yte avtalefestet pensjon til 62-65-åringer som...   \n",
       "4  Behandle krav om bidrag som skal sikre barnet ...   \n",
       "\n",
       "                         CATEGORY  PROVENANCE  \n",
       "0           Motorvognopplysninger         NaN  \n",
       "1        Opplysninger om reisevei         NaN  \n",
       "2  Adresse og kontaktopplysninger         NaN  \n",
       "3                  Arbeidsforhold         NaN  \n",
       "4   Andre økonomiske opplysninger         NaN  "
      ]
     },
     "execution_count": 822,
     "metadata": {},
     "output_type": "execute_result"
    }
   ],
   "source": [
    "df_codelist.head()"
   ]
  },
  {
   "cell_type": "code",
   "execution_count": 617,
   "metadata": {},
   "outputs": [
    {
     "data": {
      "text/html": [
       "<div>\n",
       "<style scoped>\n",
       "    .dataframe tbody tr th:only-of-type {\n",
       "        vertical-align: middle;\n",
       "    }\n",
       "\n",
       "    .dataframe tbody tr th {\n",
       "        vertical-align: top;\n",
       "    }\n",
       "\n",
       "    .dataframe thead th {\n",
       "        text-align: right;\n",
       "    }\n",
       "</style>\n",
       "<table border=\"1\" class=\"dataframe\">\n",
       "  <thead>\n",
       "    <tr style=\"text-align: right;\">\n",
       "      <th></th>\n",
       "      <th>code</th>\n",
       "      <th>list</th>\n",
       "    </tr>\n",
       "  </thead>\n",
       "  <tbody>\n",
       "    <tr>\n",
       "      <th>0</th>\n",
       "      <td>ALDERSPENSJON</td>\n",
       "      <td>Behandle og vurdere rett til alderspensjon som...</td>\n",
       "    </tr>\n",
       "    <tr>\n",
       "      <th>1</th>\n",
       "      <td>ARBEIDSAVKLARINGSPENGER (AAP)</td>\n",
       "      <td>Behandle og vurdere rett til arbeidsavklarings...</td>\n",
       "    </tr>\n",
       "    <tr>\n",
       "      <th>2</th>\n",
       "      <td>AVTALEFESTET PENSJON (AFP) FOR PRIVAT SEKTOR</td>\n",
       "      <td>AFP i privat sektor: Behandle og vurdere om vi...</td>\n",
       "    </tr>\n",
       "    <tr>\n",
       "      <th>3</th>\n",
       "      <td>AVTALEFESTET PENSJON (AFP) FOR STATLIG OG KOMM...</td>\n",
       "      <td>Yte avtalefestet pensjon til 62-65-åringer som...</td>\n",
       "    </tr>\n",
       "    <tr>\n",
       "      <th>4</th>\n",
       "      <td>BARNEBIDRAG</td>\n",
       "      <td>Behandle krav om bidrag som skal sikre barnet ...</td>\n",
       "    </tr>\n",
       "  </tbody>\n",
       "</table>\n",
       "</div>"
      ],
      "text/plain": [
       "                                                code  \\\n",
       "0                                      ALDERSPENSJON   \n",
       "1                      ARBEIDSAVKLARINGSPENGER (AAP)   \n",
       "2       AVTALEFESTET PENSJON (AFP) FOR PRIVAT SEKTOR   \n",
       "3  AVTALEFESTET PENSJON (AFP) FOR STATLIG OG KOMM...   \n",
       "4                                        BARNEBIDRAG   \n",
       "\n",
       "                                                list  \n",
       "0  Behandle og vurdere rett til alderspensjon som...  \n",
       "1  Behandle og vurdere rett til arbeidsavklarings...  \n",
       "2  AFP i privat sektor: Behandle og vurdere om vi...  \n",
       "3  Yte avtalefestet pensjon til 62-65-åringer som...  \n",
       "4  Behandle krav om bidrag som skal sikre barnet ...  "
      ]
     },
     "execution_count": 617,
     "metadata": {},
     "output_type": "execute_result"
    }
   ],
   "source": [
    "df_current_purpose = df_codelist[['index','PURPOSE']].dropna()\n",
    "df_current_purpose.columns=['code','list']\n",
    "df_current_purpose.head()"
   ]
  },
  {
   "cell_type": "markdown",
   "metadata": {},
   "source": [
    "# Purpose"
   ]
  },
  {
   "cell_type": "code",
   "execution_count": 618,
   "metadata": {},
   "outputs": [
    {
     "data": {
      "text/html": [
       "<div>\n",
       "<style scoped>\n",
       "    .dataframe tbody tr th:only-of-type {\n",
       "        vertical-align: middle;\n",
       "    }\n",
       "\n",
       "    .dataframe tbody tr th {\n",
       "        vertical-align: top;\n",
       "    }\n",
       "\n",
       "    .dataframe thead th {\n",
       "        text-align: right;\n",
       "    }\n",
       "</style>\n",
       "<table border=\"1\" class=\"dataframe\">\n",
       "  <thead>\n",
       "    <tr style=\"text-align: right;\">\n",
       "      <th></th>\n",
       "      <th>Unnamed: 0</th>\n",
       "      <th>Unnamed: 1</th>\n",
       "      <th>Unnamed: 2</th>\n",
       "      <th>Code</th>\n",
       "      <th>Unnamed: 4</th>\n",
       "      <th>Description</th>\n",
       "    </tr>\n",
       "  </thead>\n",
       "  <tbody>\n",
       "    <tr>\n",
       "      <th>0</th>\n",
       "      <td>\"MOTORVOGNOPPLYSNINGER\": \"Motorvognopp...</td>\n",
       "      <td>32</td>\n",
       "      <td>\"MOTORVOGNOPPLYSNINGER</td>\n",
       "      <td>MOTORVOGNOPPLYSNINGER</td>\n",
       "      <td>Motorvognopplysninger\",</td>\n",
       "      <td>Motorvognopplysninger</td>\n",
       "    </tr>\n",
       "  </tbody>\n",
       "</table>\n",
       "</div>"
      ],
      "text/plain": [
       "                                          Unnamed: 0  Unnamed: 1  \\\n",
       "0          \"MOTORVOGNOPPLYSNINGER\": \"Motorvognopp...          32   \n",
       "\n",
       "                       Unnamed: 2                   Code  \\\n",
       "0          \"MOTORVOGNOPPLYSNINGER  MOTORVOGNOPPLYSNINGER   \n",
       "\n",
       "                Unnamed: 4            Description  \n",
       "0  Motorvognopplysninger\",  Motorvognopplysninger  "
      ]
     },
     "execution_count": 618,
     "metadata": {},
     "output_type": "execute_result"
    }
   ],
   "source": [
    "sheet=xls.sheet_names[2]\n",
    "df_purpose = pd.read_excel(xls, sheet)\n",
    "df_purpose.head(1)"
   ]
  },
  {
   "cell_type": "markdown",
   "metadata": {},
   "source": [
    "### Clean list - delete all current items"
   ]
  },
  {
   "cell_type": "code",
   "execution_count": 619,
   "metadata": {},
   "outputs": [],
   "source": [
    "for index, row in df_current_purpose.iterrows():\n",
    "    delete_url = f\"{codelist_url}/purpose/{row['code']}\"\n",
    "    requests.delete(delete_url)"
   ]
  },
  {
   "cell_type": "markdown",
   "metadata": {},
   "source": [
    "### Populate list with new data"
   ]
  },
  {
   "cell_type": "code",
   "execution_count": 631,
   "metadata": {},
   "outputs": [
    {
     "data": {
      "text/html": [
       "<div>\n",
       "<style scoped>\n",
       "    .dataframe tbody tr th:only-of-type {\n",
       "        vertical-align: middle;\n",
       "    }\n",
       "\n",
       "    .dataframe tbody tr th {\n",
       "        vertical-align: top;\n",
       "    }\n",
       "\n",
       "    .dataframe thead th {\n",
       "        text-align: right;\n",
       "    }\n",
       "</style>\n",
       "<table border=\"1\" class=\"dataframe\">\n",
       "  <thead>\n",
       "    <tr style=\"text-align: right;\">\n",
       "      <th></th>\n",
       "      <th>code</th>\n",
       "      <th>description</th>\n",
       "      <th>list</th>\n",
       "    </tr>\n",
       "  </thead>\n",
       "  <tbody>\n",
       "    <tr>\n",
       "      <th>33</th>\n",
       "      <td>UFØRETRYGD</td>\n",
       "      <td>Behandle og vurdere rett til uføretrygd som sk...</td>\n",
       "      <td>purpose</td>\n",
       "    </tr>\n",
       "    <tr>\n",
       "      <th>34</th>\n",
       "      <td>VENTELØNN</td>\n",
       "      <td>Behandle og vurdere rett til ventelønn som ska...</td>\n",
       "      <td>purpose</td>\n",
       "    </tr>\n",
       "    <tr>\n",
       "      <th>35</th>\n",
       "      <td>YRKESSKADE- OG SYKDOM</td>\n",
       "      <td>Behandle og vurdere rett til ytelser ved yrkes...</td>\n",
       "      <td>purpose</td>\n",
       "    </tr>\n",
       "    <tr>\n",
       "      <th>36</th>\n",
       "      <td>YTELSER TIL FAMILIEPLEIER</td>\n",
       "      <td>Behandle og vurdere rett til ytelser til famil...</td>\n",
       "      <td>purpose</td>\n",
       "    </tr>\n",
       "    <tr>\n",
       "      <th>37</th>\n",
       "      <td>NOT AVAILABLE</td>\n",
       "      <td>Not Available -Verdi mangler</td>\n",
       "      <td>purpose</td>\n",
       "    </tr>\n",
       "  </tbody>\n",
       "</table>\n",
       "</div>"
      ],
      "text/plain": [
       "                         code  \\\n",
       "33                 UFØRETRYGD   \n",
       "34                  VENTELØNN   \n",
       "35      YRKESSKADE- OG SYKDOM   \n",
       "36  YTELSER TIL FAMILIEPLEIER   \n",
       "37              NOT AVAILABLE   \n",
       "\n",
       "                                          description     list  \n",
       "33  Behandle og vurdere rett til uføretrygd som sk...  purpose  \n",
       "34  Behandle og vurdere rett til ventelønn som ska...  purpose  \n",
       "35  Behandle og vurdere rett til ytelser ved yrkes...  purpose  \n",
       "36  Behandle og vurdere rett til ytelser til famil...  purpose  \n",
       "37                       Not Available -Verdi mangler  purpose  "
      ]
     },
     "execution_count": 631,
     "metadata": {},
     "output_type": "execute_result"
    }
   ],
   "source": [
    "sheet=xls.sheet_names[1]\n",
    "df_formål = pd.read_excel(xls, sheet, encoding='latin1')\n",
    "df_formål = df_formål[['Forslag til endelig formålskode', 'Formålsbeskrivelse']]\n",
    "df_formål.columns=['code', 'description']\n",
    "df_formål['code'] = df_formål['code'].apply(lambda x: x.upper())\n",
    "df_formål['list']='purpose'\n",
    "df_formål = df_formål.append({'code': 'NOT AVAILABLE', 'description': 'Not Available -Verdi mangler', 'list': 'purpose'}, ignore_index=True)\n",
    "df_formål.tail()"
   ]
  },
  {
   "cell_type": "code",
   "execution_count": 632,
   "metadata": {},
   "outputs": [],
   "source": [
    "data = df_formål.to_json(orient='records')"
   ]
  },
  {
   "cell_type": "code",
   "execution_count": 633,
   "metadata": {},
   "outputs": [],
   "source": [
    "payload =json.dumps(json.loads(data))"
   ]
  },
  {
   "cell_type": "code",
   "execution_count": 634,
   "metadata": {},
   "outputs": [
    {
     "data": {
      "text/plain": [
       "<Response [201]>"
      ]
     },
     "execution_count": 634,
     "metadata": {},
     "output_type": "execute_result"
    }
   ],
   "source": [
    "requests.post(codelist_url, headers=headers, data=payload)"
   ]
  },
  {
   "cell_type": "markdown",
   "metadata": {},
   "source": [
    "# Categories"
   ]
  },
  {
   "cell_type": "markdown",
   "metadata": {},
   "source": [
    "### Delete existing"
   ]
  },
  {
   "cell_type": "code",
   "execution_count": 649,
   "metadata": {},
   "outputs": [
    {
     "data": {
      "text/html": [
       "<div>\n",
       "<style scoped>\n",
       "    .dataframe tbody tr th:only-of-type {\n",
       "        vertical-align: middle;\n",
       "    }\n",
       "\n",
       "    .dataframe tbody tr th {\n",
       "        vertical-align: top;\n",
       "    }\n",
       "\n",
       "    .dataframe thead th {\n",
       "        text-align: right;\n",
       "    }\n",
       "</style>\n",
       "<table border=\"1\" class=\"dataframe\">\n",
       "  <thead>\n",
       "    <tr style=\"text-align: right;\">\n",
       "      <th></th>\n",
       "      <th>index</th>\n",
       "      <th>CATEGORY</th>\n",
       "    </tr>\n",
       "  </thead>\n",
       "  <tbody>\n",
       "    <tr>\n",
       "      <th>0</th>\n",
       "      <td>ALDERSPENSJON</td>\n",
       "      <td>Motorvognopplysninger</td>\n",
       "    </tr>\n",
       "    <tr>\n",
       "      <th>1</th>\n",
       "      <td>ARBEIDSAVKLARINGSPENGER (AAP)</td>\n",
       "      <td>Opplysninger om reisevei</td>\n",
       "    </tr>\n",
       "    <tr>\n",
       "      <th>2</th>\n",
       "      <td>AVTALEFESTET PENSJON (AFP) FOR PRIVAT SEKTOR</td>\n",
       "      <td>Adresse og kontaktopplysninger</td>\n",
       "    </tr>\n",
       "    <tr>\n",
       "      <th>3</th>\n",
       "      <td>AVTALEFESTET PENSJON (AFP) FOR STATLIG OG KOMM...</td>\n",
       "      <td>Arbeidsforhold</td>\n",
       "    </tr>\n",
       "    <tr>\n",
       "      <th>4</th>\n",
       "      <td>BARNEBIDRAG</td>\n",
       "      <td>Andre økonomiske opplysninger</td>\n",
       "    </tr>\n",
       "  </tbody>\n",
       "</table>\n",
       "</div>"
      ],
      "text/plain": [
       "                                               index  \\\n",
       "0                                      ALDERSPENSJON   \n",
       "1                      ARBEIDSAVKLARINGSPENGER (AAP)   \n",
       "2       AVTALEFESTET PENSJON (AFP) FOR PRIVAT SEKTOR   \n",
       "3  AVTALEFESTET PENSJON (AFP) FOR STATLIG OG KOMM...   \n",
       "4                                        BARNEBIDRAG   \n",
       "\n",
       "                         CATEGORY  \n",
       "0           Motorvognopplysninger  \n",
       "1        Opplysninger om reisevei  \n",
       "2  Adresse og kontaktopplysninger  \n",
       "3                  Arbeidsforhold  \n",
       "4   Andre økonomiske opplysninger  "
      ]
     },
     "execution_count": 649,
     "metadata": {},
     "output_type": "execute_result"
    }
   ],
   "source": [
    "df_current_purpose = df_codelist[['index','CATEGORY']].dropna()\n",
    "df_current_purpose.head()"
   ]
  },
  {
   "cell_type": "code",
   "execution_count": 650,
   "metadata": {},
   "outputs": [],
   "source": [
    "for index, row in df_current_purpose.iterrows():\n",
    "    delete_url = f\"{codelist_url}/category/{row['index']}\"\n",
    "    requests.delete(delete_url)"
   ]
  },
  {
   "cell_type": "markdown",
   "metadata": {},
   "source": [
    "### Populate categories"
   ]
  },
  {
   "cell_type": "code",
   "execution_count": 651,
   "metadata": {
    "scrolled": true
   },
   "outputs": [
    {
     "data": {
      "text/html": [
       "<div>\n",
       "<style scoped>\n",
       "    .dataframe tbody tr th:only-of-type {\n",
       "        vertical-align: middle;\n",
       "    }\n",
       "\n",
       "    .dataframe tbody tr th {\n",
       "        vertical-align: top;\n",
       "    }\n",
       "\n",
       "    .dataframe thead th {\n",
       "        text-align: right;\n",
       "    }\n",
       "</style>\n",
       "<table border=\"1\" class=\"dataframe\">\n",
       "  <thead>\n",
       "    <tr style=\"text-align: right;\">\n",
       "      <th></th>\n",
       "      <th>code</th>\n",
       "      <th>description</th>\n",
       "      <th>list</th>\n",
       "    </tr>\n",
       "  </thead>\n",
       "  <tbody>\n",
       "    <tr>\n",
       "      <th>0</th>\n",
       "      <td>ALDERSPENSJON</td>\n",
       "      <td>Motorvognopplysninger</td>\n",
       "      <td>category</td>\n",
       "    </tr>\n",
       "    <tr>\n",
       "      <th>1</th>\n",
       "      <td>ARBEIDSAVKLARINGSPENGER (AAP)</td>\n",
       "      <td>Opplysninger om reisevei</td>\n",
       "      <td>category</td>\n",
       "    </tr>\n",
       "    <tr>\n",
       "      <th>2</th>\n",
       "      <td>AVTALEFESTET PENSJON (AFP) FOR PRIVAT SEKTOR</td>\n",
       "      <td>Adresse og kontaktopplysninger</td>\n",
       "      <td>category</td>\n",
       "    </tr>\n",
       "    <tr>\n",
       "      <th>3</th>\n",
       "      <td>AVTALEFESTET PENSJON (AFP) FOR STATLIG OG KOMM...</td>\n",
       "      <td>Arbeidsforhold</td>\n",
       "      <td>category</td>\n",
       "    </tr>\n",
       "    <tr>\n",
       "      <th>4</th>\n",
       "      <td>BARNEBIDRAG</td>\n",
       "      <td>Andre økonomiske opplysninger</td>\n",
       "      <td>category</td>\n",
       "    </tr>\n",
       "  </tbody>\n",
       "</table>\n",
       "</div>"
      ],
      "text/plain": [
       "                                                code  \\\n",
       "0                                      ALDERSPENSJON   \n",
       "1                      ARBEIDSAVKLARINGSPENGER (AAP)   \n",
       "2       AVTALEFESTET PENSJON (AFP) FOR PRIVAT SEKTOR   \n",
       "3  AVTALEFESTET PENSJON (AFP) FOR STATLIG OG KOMM...   \n",
       "4                                        BARNEBIDRAG   \n",
       "\n",
       "                      description      list  \n",
       "0           Motorvognopplysninger  category  \n",
       "1        Opplysninger om reisevei  category  \n",
       "2  Adresse og kontaktopplysninger  category  \n",
       "3                  Arbeidsforhold  category  \n",
       "4   Andre økonomiske opplysninger  category  "
      ]
     },
     "execution_count": 651,
     "metadata": {},
     "output_type": "execute_result"
    }
   ],
   "source": [
    "xls = pd.ExcelFile('../data/testdata.xlsx')\n",
    "sheet=xls.sheet_names[5]\n",
    "df_categories = pd.read_excel(xls, sheet)\n",
    "df_categories = df_categories[['Code','Description']]\n",
    "df_categories.columns = ['code','description']\n",
    "df_categories['code'] = df_formål['code'].apply(lambda x: x.upper())\n",
    "df_categories['list']='category'\n",
    "df_categories = df_categories.append({'code': 'NOT AVAILABLE', 'description': 'Not Available -Verdi mangler', 'list': 'category'}, ignore_index=True)\n",
    "df_categories.head()"
   ]
  },
  {
   "cell_type": "code",
   "execution_count": 652,
   "metadata": {},
   "outputs": [
    {
     "data": {
      "text/plain": [
       "<Response [201]>"
      ]
     },
     "execution_count": 652,
     "metadata": {},
     "output_type": "execute_result"
    }
   ],
   "source": [
    "data = df_categories.to_json(orient='records')\n",
    "payload =json.dumps(json.loads(data))\n",
    "requests.post(codelist_url, headers=headers, data=payload)"
   ]
  },
  {
   "cell_type": "markdown",
   "metadata": {},
   "source": [
    "## Provenance"
   ]
  },
  {
   "cell_type": "markdown",
   "metadata": {},
   "source": [
    "### Delete existing"
   ]
  },
  {
   "cell_type": "code",
   "execution_count": 823,
   "metadata": {},
   "outputs": [
    {
     "data": {
      "text/html": [
       "<div>\n",
       "<style scoped>\n",
       "    .dataframe tbody tr th:only-of-type {\n",
       "        vertical-align: middle;\n",
       "    }\n",
       "\n",
       "    .dataframe tbody tr th {\n",
       "        vertical-align: top;\n",
       "    }\n",
       "\n",
       "    .dataframe thead th {\n",
       "        text-align: right;\n",
       "    }\n",
       "</style>\n",
       "<table border=\"1\" class=\"dataframe\">\n",
       "  <thead>\n",
       "    <tr style=\"text-align: right;\">\n",
       "      <th></th>\n",
       "      <th>index</th>\n",
       "      <th>PROVENANCE</th>\n",
       "    </tr>\n",
       "  </thead>\n",
       "  <tbody>\n",
       "  </tbody>\n",
       "</table>\n",
       "</div>"
      ],
      "text/plain": [
       "Empty DataFrame\n",
       "Columns: [index, PROVENANCE]\n",
       "Index: []"
      ]
     },
     "execution_count": 823,
     "metadata": {},
     "output_type": "execute_result"
    }
   ],
   "source": [
    "df_current_provenance = df_codelist[['index','PROVENANCE']].dropna()\n",
    "df_current_provenance.head()"
   ]
  },
  {
   "cell_type": "markdown",
   "metadata": {},
   "source": [
    "### Repopulate"
   ]
  },
  {
   "cell_type": "code",
   "execution_count": 824,
   "metadata": {},
   "outputs": [],
   "source": [
    "provenance = \"\"\"{\"provenance\": {\n",
    "       \"UTLENDINGSDIREKTORATET\": \"Utlendingsdirektoratet\",\n",
    "       \"ARBEIDSGIVER\": \"Arbeidsgiver\",\n",
    "       \"FOLKEREGISTERET\": \"Folkeregisteret\",\n",
    "       \"SKATTEETATEN\": \"Skatteetaten\",\n",
    "       \"BRUKER\": \"Informasjon oppgitt av bruker\",\n",
    "       \"UTENLANDS_TRYGDEMYNDIGHET\": \"Utenlands trygdemyndighet\",\n",
    "       \"REVISOR\": \"Revisor\"\n",
    "   }}\"\"\""
   ]
  },
  {
   "cell_type": "code",
   "execution_count": 825,
   "metadata": {},
   "outputs": [],
   "source": [
    "df_provenance = pd.read_json(json.dumps(json.loads(provenance))).reset_index()\n",
    "df_provenance.columns = ['code','description']\n",
    "df_provenance['code'] = df_provenance['code'].apply(lambda x: x.upper())\n",
    "df_provenance['list']='provenance'"
   ]
  },
  {
   "cell_type": "code",
   "execution_count": 826,
   "metadata": {},
   "outputs": [
    {
     "data": {
      "text/html": [
       "<div>\n",
       "<style scoped>\n",
       "    .dataframe tbody tr th:only-of-type {\n",
       "        vertical-align: middle;\n",
       "    }\n",
       "\n",
       "    .dataframe tbody tr th {\n",
       "        vertical-align: top;\n",
       "    }\n",
       "\n",
       "    .dataframe thead th {\n",
       "        text-align: right;\n",
       "    }\n",
       "</style>\n",
       "<table border=\"1\" class=\"dataframe\">\n",
       "  <thead>\n",
       "    <tr style=\"text-align: right;\">\n",
       "      <th></th>\n",
       "      <th>code</th>\n",
       "      <th>description</th>\n",
       "      <th>list</th>\n",
       "    </tr>\n",
       "  </thead>\n",
       "  <tbody>\n",
       "    <tr>\n",
       "      <th>0</th>\n",
       "      <td>ARBEIDSGIVER</td>\n",
       "      <td>Arbeidsgiver</td>\n",
       "      <td>provenance</td>\n",
       "    </tr>\n",
       "    <tr>\n",
       "      <th>1</th>\n",
       "      <td>BRUKER</td>\n",
       "      <td>Informasjon oppgitt av bruker</td>\n",
       "      <td>provenance</td>\n",
       "    </tr>\n",
       "    <tr>\n",
       "      <th>2</th>\n",
       "      <td>FOLKEREGISTERET</td>\n",
       "      <td>Folkeregisteret</td>\n",
       "      <td>provenance</td>\n",
       "    </tr>\n",
       "    <tr>\n",
       "      <th>3</th>\n",
       "      <td>REVISOR</td>\n",
       "      <td>Revisor</td>\n",
       "      <td>provenance</td>\n",
       "    </tr>\n",
       "    <tr>\n",
       "      <th>4</th>\n",
       "      <td>SKATTEETATEN</td>\n",
       "      <td>Skatteetaten</td>\n",
       "      <td>provenance</td>\n",
       "    </tr>\n",
       "  </tbody>\n",
       "</table>\n",
       "</div>"
      ],
      "text/plain": [
       "              code                    description        list\n",
       "0     ARBEIDSGIVER                   Arbeidsgiver  provenance\n",
       "1           BRUKER  Informasjon oppgitt av bruker  provenance\n",
       "2  FOLKEREGISTERET                Folkeregisteret  provenance\n",
       "3          REVISOR                        Revisor  provenance\n",
       "4     SKATTEETATEN                   Skatteetaten  provenance"
      ]
     },
     "execution_count": 826,
     "metadata": {},
     "output_type": "execute_result"
    }
   ],
   "source": [
    "df_provenance.head()"
   ]
  },
  {
   "cell_type": "code",
   "execution_count": 827,
   "metadata": {},
   "outputs": [
    {
     "data": {
      "text/plain": [
       "'[{\"code\":\"ARBEIDSGIVER\",\"description\":\"Arbeidsgiver\",\"list\":\"provenance\"},{\"code\":\"BRUKER\",\"description\":\"Informasjon oppgitt av bruker\",\"list\":\"provenance\"},{\"code\":\"FOLKEREGISTERET\",\"description\":\"Folkeregisteret\",\"list\":\"provenance\"},{\"code\":\"REVISOR\",\"description\":\"Revisor\",\"list\":\"provenance\"},{\"code\":\"SKATTEETATEN\",\"description\":\"Skatteetaten\",\"list\":\"provenance\"},{\"code\":\"UTENLANDS_TRYGDEMYNDIGHET\",\"description\":\"Utenlands trygdemyndighet\",\"list\":\"provenance\"},{\"code\":\"UTLENDINGSDIREKTORATET\",\"description\":\"Utlendingsdirektoratet\",\"list\":\"provenance\"}]'"
      ]
     },
     "execution_count": 827,
     "metadata": {},
     "output_type": "execute_result"
    }
   ],
   "source": [
    "data = df_provenance.to_json(orient='records')\n",
    "data"
   ]
  },
  {
   "cell_type": "code",
   "execution_count": 830,
   "metadata": {},
   "outputs": [
    {
     "data": {
      "text/plain": [
       "<Response [201]>"
      ]
     },
     "execution_count": 830,
     "metadata": {},
     "output_type": "execute_result"
    }
   ],
   "source": [
    "payload =json.dumps(json.loads(data))\n",
    "requests.post(codelist_url, headers={'Content-Type': 'application/json'}, data=payload)"
   ]
  },
  {
   "cell_type": "markdown",
   "metadata": {},
   "source": [
    "# Datasett"
   ]
  },
  {
   "cell_type": "code",
   "execution_count": null,
   "metadata": {},
   "outputs": [],
   "source": []
  },
  {
   "cell_type": "code",
   "execution_count": null,
   "metadata": {},
   "outputs": [],
   "source": [
    "datasett_url = policy_url = 'https://datakatalog.nais.oera-q.local/policies/datasett'"
   ]
  },
  {
   "cell_type": "code",
   "execution_count": 499,
   "metadata": {},
   "outputs": [
    {
     "data": {
      "text/html": [
       "<div>\n",
       "<style scoped>\n",
       "    .dataframe tbody tr th:only-of-type {\n",
       "        vertical-align: middle;\n",
       "    }\n",
       "\n",
       "    .dataframe tbody tr th {\n",
       "        vertical-align: top;\n",
       "    }\n",
       "\n",
       "    .dataframe thead th {\n",
       "        text-align: right;\n",
       "    }\n",
       "</style>\n",
       "<table border=\"1\" class=\"dataframe\">\n",
       "  <thead>\n",
       "    <tr style=\"text-align: right;\">\n",
       "      <th></th>\n",
       "      <th>\"name\": \"</th>\n",
       "      <th>\"description\": \"</th>\n",
       "      <th>\"categoryCode\": \"</th>\n",
       "      <th>\"producerCode\": [\"</th>\n",
       "      <th>\"systemCode\": \"</th>\n",
       "      <th>\"personalData\": \"</th>\n",
       "      <th>Kommentar</th>\n",
       "      <th>JSON</th>\n",
       "    </tr>\n",
       "  </thead>\n",
       "  <tbody>\n",
       "    <tr>\n",
       "      <th>0</th>\n",
       "      <td>Sivilstand</td>\n",
       "      <td>En overordnet kategori som beskriver en person...</td>\n",
       "      <td>PERSONALIA</td>\n",
       "      <td>FOLKEREGISTERET</td>\n",
       "      <td>TPS</td>\n",
       "      <td>True</td>\n",
       "      <td>NaN</td>\n",
       "      <td>{ \\n\"name\": \"Sivilstand\",\\n\"description\": \"En ...</td>\n",
       "    </tr>\n",
       "  </tbody>\n",
       "</table>\n",
       "</div>"
      ],
      "text/plain": [
       "    \"name\": \"                                   \"description\": \"  \\\n",
       "0  Sivilstand  En overordnet kategori som beskriver en person...   \n",
       "\n",
       "  \"categoryCode\": \" \"producerCode\": [\" \"systemCode\": \" \"personalData\": \"  \\\n",
       "0        PERSONALIA    FOLKEREGISTERET             TPS              True   \n",
       "\n",
       "  Kommentar                                               JSON  \n",
       "0       NaN  { \\n\"name\": \"Sivilstand\",\\n\"description\": \"En ...  "
      ]
     },
     "execution_count": 499,
     "metadata": {},
     "output_type": "execute_result"
    }
   ],
   "source": [
    "sheet=xls.sheet_names[3]\n",
    "df_datasett = pd.read_excel(xls, sheet)\n",
    "df_datasett.head(1)"
   ]
  },
  {
   "cell_type": "markdown",
   "metadata": {},
   "source": [
    "# Policies"
   ]
  },
  {
   "cell_type": "markdown",
   "metadata": {},
   "source": [
    "### Delete policies"
   ]
  },
  {
   "cell_type": "code",
   "execution_count": 840,
   "metadata": {},
   "outputs": [],
   "source": [
    "policy_url = 'https://datakatalog.nais.oera-q.local/policies/policy'"
   ]
  },
  {
   "cell_type": "code",
   "execution_count": 841,
   "metadata": {},
   "outputs": [
    {
     "name": "stdout",
     "output_type": "stream",
     "text": [
      "https://datakatalog.nais.oera-q.local/policies/policy?pageNumber=0&pageSize=1000\n"
     ]
    }
   ],
   "source": [
    "url = 'https://datakatalog.nais.oera-q.local/policies/policy?pageNumber=0&pageSize=1000'\n",
    "print(url)\n",
    "df_policies_current = pd.read_json(url)"
   ]
  },
  {
   "cell_type": "code",
   "execution_count": 842,
   "metadata": {},
   "outputs": [
    {
     "data": {
      "text/html": [
       "<div>\n",
       "<style scoped>\n",
       "    .dataframe tbody tr th:only-of-type {\n",
       "        vertical-align: middle;\n",
       "    }\n",
       "\n",
       "    .dataframe tbody tr th {\n",
       "        vertical-align: top;\n",
       "    }\n",
       "\n",
       "    .dataframe thead th {\n",
       "        text-align: right;\n",
       "    }\n",
       "</style>\n",
       "<table border=\"1\" class=\"dataframe\">\n",
       "  <thead>\n",
       "    <tr style=\"text-align: right;\">\n",
       "      <th></th>\n",
       "      <th>content</th>\n",
       "      <th>currentPage</th>\n",
       "      <th>pageSize</th>\n",
       "      <th>totalElements</th>\n",
       "    </tr>\n",
       "  </thead>\n",
       "  <tbody>\n",
       "    <tr>\n",
       "      <th>0</th>\n",
       "      <td>{'policyId': 236, 'dataset': {'id': 'c30ac412-...</td>\n",
       "      <td>0</td>\n",
       "      <td>1000</td>\n",
       "      <td>4</td>\n",
       "    </tr>\n",
       "    <tr>\n",
       "      <th>1</th>\n",
       "      <td>{'policyId': 237, 'dataset': {'id': 'c30ac412-...</td>\n",
       "      <td>0</td>\n",
       "      <td>1000</td>\n",
       "      <td>4</td>\n",
       "    </tr>\n",
       "    <tr>\n",
       "      <th>2</th>\n",
       "      <td>{'policyId': 238, 'dataset': {'id': 'c30ac412-...</td>\n",
       "      <td>0</td>\n",
       "      <td>1000</td>\n",
       "      <td>4</td>\n",
       "    </tr>\n",
       "    <tr>\n",
       "      <th>3</th>\n",
       "      <td>{'policyId': 239, 'dataset': {'id': 'c30ac412-...</td>\n",
       "      <td>0</td>\n",
       "      <td>1000</td>\n",
       "      <td>4</td>\n",
       "    </tr>\n",
       "  </tbody>\n",
       "</table>\n",
       "</div>"
      ],
      "text/plain": [
       "                                             content  currentPage  pageSize  \\\n",
       "0  {'policyId': 236, 'dataset': {'id': 'c30ac412-...            0      1000   \n",
       "1  {'policyId': 237, 'dataset': {'id': 'c30ac412-...            0      1000   \n",
       "2  {'policyId': 238, 'dataset': {'id': 'c30ac412-...            0      1000   \n",
       "3  {'policyId': 239, 'dataset': {'id': 'c30ac412-...            0      1000   \n",
       "\n",
       "   totalElements  \n",
       "0              4  \n",
       "1              4  \n",
       "2              4  \n",
       "3              4  "
      ]
     },
     "execution_count": 842,
     "metadata": {},
     "output_type": "execute_result"
    }
   ],
   "source": [
    "df_policies_current"
   ]
  },
  {
   "cell_type": "code",
   "execution_count": 843,
   "metadata": {},
   "outputs": [
    {
     "name": "stdout",
     "output_type": "stream",
     "text": [
      "4\n",
      "https://datakatalog.nais.oera-q.local/policies/policy/236\n",
      "https://datakatalog.nais.oera-q.local/policies/policy/237\n",
      "https://datakatalog.nais.oera-q.local/policies/policy/238\n",
      "https://datakatalog.nais.oera-q.local/policies/policy/239\n"
     ]
    }
   ],
   "source": [
    "print(len(df_policies_current))\n",
    "\n",
    "for index, row in df_policies_current.iterrows():\n",
    "    policy_id = row['content']['policyId']\n",
    "    url = f\"{policy_url}/{policy_id}\"\n",
    "    print(url)\n",
    "    requests.delete(url, headers = {'accept': '*/*'})"
   ]
  },
  {
   "cell_type": "code",
   "execution_count": 844,
   "metadata": {},
   "outputs": [],
   "source": [
    "df_policies_content = df_policies_current['content']"
   ]
  },
  {
   "cell_type": "code",
   "execution_count": 845,
   "metadata": {},
   "outputs": [
    {
     "data": {
      "text/html": [
       "<div>\n",
       "<style scoped>\n",
       "    .dataframe tbody tr th:only-of-type {\n",
       "        vertical-align: middle;\n",
       "    }\n",
       "\n",
       "    .dataframe tbody tr th {\n",
       "        vertical-align: top;\n",
       "    }\n",
       "\n",
       "    .dataframe thead th {\n",
       "        text-align: right;\n",
       "    }\n",
       "</style>\n",
       "<table border=\"1\" class=\"dataframe\">\n",
       "  <thead>\n",
       "    <tr style=\"text-align: right;\">\n",
       "      <th></th>\n",
       "      <th>\"informationTypeName\": \"</th>\n",
       "      <th>\"legalBasisDescription\": \"</th>\n",
       "      <th>\"purposeCode\": \"</th>\n",
       "      <th>Detaljering av purpose (mulighet til å legge inn tekstlig beskrivelse av formålet utover selve purposeCode. Må ligge i tabellen POLICY. F.eks. POLICY.DESCRIPTION )</th>\n",
       "      <th>Kommentar</th>\n",
       "      <th>Generer JSON</th>\n",
       "      <th>JSON</th>\n",
       "    </tr>\n",
       "  </thead>\n",
       "  <tbody>\n",
       "    <tr>\n",
       "      <th>0</th>\n",
       "      <td>Sivilstand</td>\n",
       "      <td>Ftrl. § 11-20</td>\n",
       "      <td>Arbeidsavklaringspenger (AAP)</td>\n",
       "      <td>Ved nytt krav og nytt barn</td>\n",
       "      <td>NaN</td>\n",
       "      <td>Ja</td>\n",
       "      <td>{ \"informationTypeName\": \"Sivilstand\", \\n\"purp...</td>\n",
       "    </tr>\n",
       "  </tbody>\n",
       "</table>\n",
       "</div>"
      ],
      "text/plain": [
       "  \"informationTypeName\": \" \"legalBasisDescription\": \"  \\\n",
       "0               Sivilstand              Ftrl. § 11-20   \n",
       "\n",
       "                \"purposeCode\": \"  \\\n",
       "0  Arbeidsavklaringspenger (AAP)   \n",
       "\n",
       "  Detaljering av purpose (mulighet til å legge inn tekstlig beskrivelse av formålet utover selve purposeCode. Må ligge i tabellen POLICY. F.eks. POLICY.DESCRIPTION )  \\\n",
       "0                         Ved nytt krav og nytt barn                                                                                                                    \n",
       "\n",
       "  Kommentar Generer JSON                                               JSON  \n",
       "0       NaN           Ja  { \"informationTypeName\": \"Sivilstand\", \\n\"purp...  "
      ]
     },
     "execution_count": 845,
     "metadata": {},
     "output_type": "execute_result"
    }
   ],
   "source": [
    "xls = pd.ExcelFile('../data/testdata.xlsx')\n",
    "sheet=xls.sheet_names[4]\n",
    "df_policies = pd.read_excel(xls, sheet)\n",
    "df_policies.head(1)"
   ]
  },
  {
   "cell_type": "code",
   "execution_count": 846,
   "metadata": {},
   "outputs": [],
   "source": [
    "df_policies = df_policies[['\"informationTypeName\": \"','\"purposeCode\": \"','Detaljering av purpose (mulighet til å legge inn tekstlig beskrivelse av formålet utover selve purposeCode. Må ligge i tabellen POLICY. F.eks. POLICY.DESCRIPTION )' ]]"
   ]
  },
  {
   "cell_type": "code",
   "execution_count": 847,
   "metadata": {},
   "outputs": [],
   "source": [
    "def getID(row):\n",
    "    return str(uuid.uuid4())\n",
    "\n",
    "df_policies.columns=['datasetTitle','purposeCode','legalBasisDescription']\n",
    "df_policies['id'] =  range(len(df_policies)) #df_policies.apply(getID, axis=1)"
   ]
  },
  {
   "cell_type": "code",
   "execution_count": 848,
   "metadata": {},
   "outputs": [
    {
     "data": {
      "text/html": [
       "<div>\n",
       "<style scoped>\n",
       "    .dataframe tbody tr th:only-of-type {\n",
       "        vertical-align: middle;\n",
       "    }\n",
       "\n",
       "    .dataframe tbody tr th {\n",
       "        vertical-align: top;\n",
       "    }\n",
       "\n",
       "    .dataframe thead th {\n",
       "        text-align: right;\n",
       "    }\n",
       "</style>\n",
       "<table border=\"1\" class=\"dataframe\">\n",
       "  <thead>\n",
       "    <tr style=\"text-align: right;\">\n",
       "      <th></th>\n",
       "      <th>datasetTitle</th>\n",
       "      <th>purposeCode</th>\n",
       "      <th>legalBasisDescription</th>\n",
       "      <th>id</th>\n",
       "    </tr>\n",
       "  </thead>\n",
       "  <tbody>\n",
       "    <tr>\n",
       "      <th>0</th>\n",
       "      <td>Sivilstand</td>\n",
       "      <td>Arbeidsavklaringspenger (AAP)</td>\n",
       "      <td>Ved nytt krav og nytt barn</td>\n",
       "      <td>0</td>\n",
       "    </tr>\n",
       "    <tr>\n",
       "      <th>1</th>\n",
       "      <td>Sivilstand</td>\n",
       "      <td>Alderspensjon</td>\n",
       "      <td>Har betyding for pensjonsberegningen</td>\n",
       "      <td>1</td>\n",
       "    </tr>\n",
       "    <tr>\n",
       "      <th>2</th>\n",
       "      <td>Sivilstand</td>\n",
       "      <td>Krigspensjon</td>\n",
       "      <td>Har betyding for pensjonsberegningen</td>\n",
       "      <td>2</td>\n",
       "    </tr>\n",
       "    <tr>\n",
       "      <th>3</th>\n",
       "      <td>Sivilstand</td>\n",
       "      <td>Avtalefestet pensjon (AFP) for statlig og komm...</td>\n",
       "      <td>Vurdering av sivilstand</td>\n",
       "      <td>3</td>\n",
       "    </tr>\n",
       "    <tr>\n",
       "      <th>4</th>\n",
       "      <td>Sivilstand</td>\n",
       "      <td>Barnetrygd</td>\n",
       "      <td>knyttet til vilkåret for barnetrygd</td>\n",
       "      <td>4</td>\n",
       "    </tr>\n",
       "  </tbody>\n",
       "</table>\n",
       "</div>"
      ],
      "text/plain": [
       "  datasetTitle                                        purposeCode  \\\n",
       "0   Sivilstand                      Arbeidsavklaringspenger (AAP)   \n",
       "1   Sivilstand                                      Alderspensjon   \n",
       "2   Sivilstand                                       Krigspensjon   \n",
       "3   Sivilstand  Avtalefestet pensjon (AFP) for statlig og komm...   \n",
       "4   Sivilstand                                         Barnetrygd   \n",
       "\n",
       "                  legalBasisDescription  id  \n",
       "0            Ved nytt krav og nytt barn   0  \n",
       "1  Har betyding for pensjonsberegningen   1  \n",
       "2  Har betyding for pensjonsberegningen   2  \n",
       "3               Vurdering av sivilstand   3  \n",
       "4   knyttet til vilkåret for barnetrygd   4  "
      ]
     },
     "execution_count": 848,
     "metadata": {},
     "output_type": "execute_result"
    }
   ],
   "source": [
    "df_policies.head()"
   ]
  },
  {
   "cell_type": "code",
   "execution_count": 849,
   "metadata": {},
   "outputs": [],
   "source": [
    "df_policies.fillna('NOT AVAILABLE', inplace=True)"
   ]
  },
  {
   "cell_type": "code",
   "execution_count": 850,
   "metadata": {},
   "outputs": [
    {
     "data": {
      "text/html": [
       "<div>\n",
       "<style scoped>\n",
       "    .dataframe tbody tr th:only-of-type {\n",
       "        vertical-align: middle;\n",
       "    }\n",
       "\n",
       "    .dataframe tbody tr th {\n",
       "        vertical-align: top;\n",
       "    }\n",
       "\n",
       "    .dataframe thead th {\n",
       "        text-align: right;\n",
       "    }\n",
       "</style>\n",
       "<table border=\"1\" class=\"dataframe\">\n",
       "  <thead>\n",
       "    <tr style=\"text-align: right;\">\n",
       "      <th></th>\n",
       "      <th>datasetTitle</th>\n",
       "      <th>purposeCode</th>\n",
       "      <th>legalBasisDescription</th>\n",
       "      <th>id</th>\n",
       "    </tr>\n",
       "  </thead>\n",
       "  <tbody>\n",
       "    <tr>\n",
       "      <th>0</th>\n",
       "      <td>Sivilstand</td>\n",
       "      <td>Arbeidsavklaringspenger (AAP)</td>\n",
       "      <td>Ved nytt krav og nytt barn</td>\n",
       "      <td>0</td>\n",
       "    </tr>\n",
       "    <tr>\n",
       "      <th>1</th>\n",
       "      <td>Sivilstand</td>\n",
       "      <td>Alderspensjon</td>\n",
       "      <td>Har betyding for pensjonsberegningen</td>\n",
       "      <td>1</td>\n",
       "    </tr>\n",
       "    <tr>\n",
       "      <th>2</th>\n",
       "      <td>Sivilstand</td>\n",
       "      <td>Krigspensjon</td>\n",
       "      <td>Har betyding for pensjonsberegningen</td>\n",
       "      <td>2</td>\n",
       "    </tr>\n",
       "    <tr>\n",
       "      <th>3</th>\n",
       "      <td>Sivilstand</td>\n",
       "      <td>Avtalefestet pensjon (AFP) for statlig og komm...</td>\n",
       "      <td>Vurdering av sivilstand</td>\n",
       "      <td>3</td>\n",
       "    </tr>\n",
       "    <tr>\n",
       "      <th>4</th>\n",
       "      <td>Sivilstand</td>\n",
       "      <td>Barnetrygd</td>\n",
       "      <td>knyttet til vilkåret for barnetrygd</td>\n",
       "      <td>4</td>\n",
       "    </tr>\n",
       "    <tr>\n",
       "      <th>5</th>\n",
       "      <td>Sivilstand</td>\n",
       "      <td>Kontantstøtte</td>\n",
       "      <td>knyttet til vilkåret for Kontantstøtte</td>\n",
       "      <td>5</td>\n",
       "    </tr>\n",
       "    <tr>\n",
       "      <th>6</th>\n",
       "      <td>Sivilstand</td>\n",
       "      <td>Barnebidrag</td>\n",
       "      <td>Behovsprøving av forskudd. førstegangsfastsett...</td>\n",
       "      <td>6</td>\n",
       "    </tr>\n",
       "    <tr>\n",
       "      <th>7</th>\n",
       "      <td>Sivilstand</td>\n",
       "      <td>Dagpenger</td>\n",
       "      <td>Vurdering å kunne ansees som reell arbeidssøker</td>\n",
       "      <td>7</td>\n",
       "    </tr>\n",
       "    <tr>\n",
       "      <th>8</th>\n",
       "      <td>Sivilstand</td>\n",
       "      <td>Ektefellebidrag</td>\n",
       "      <td>Vuderinga av søknad/ endring utmåling og  opph...</td>\n",
       "      <td>8</td>\n",
       "    </tr>\n",
       "    <tr>\n",
       "      <th>9</th>\n",
       "      <td>Sivilstand</td>\n",
       "      <td>Stønad til enslig mor eller far</td>\n",
       "      <td>Vurdere vilkår om sivilstatus (ugift, separert...</td>\n",
       "      <td>9</td>\n",
       "    </tr>\n",
       "    <tr>\n",
       "      <th>10</th>\n",
       "      <td>Sivilstand</td>\n",
       "      <td>Farskap og morskap</td>\n",
       "      <td>Fastsettelse og endring</td>\n",
       "      <td>10</td>\n",
       "    </tr>\n",
       "    <tr>\n",
       "      <th>11</th>\n",
       "      <td>Sivilstand</td>\n",
       "      <td>Foreldrepenger, engangstønad og svangerskapspe...</td>\n",
       "      <td>Førstegangsbehandling, revurdering av vedtak, ...</td>\n",
       "      <td>11</td>\n",
       "    </tr>\n",
       "    <tr>\n",
       "      <th>12</th>\n",
       "      <td>Sivilstand</td>\n",
       "      <td>Etterlattepensjon og barnepensjon</td>\n",
       "      <td>Vurdere rettigheter til gjenlevendpensjon</td>\n",
       "      <td>12</td>\n",
       "    </tr>\n",
       "    <tr>\n",
       "      <th>13</th>\n",
       "      <td>Sivilstand</td>\n",
       "      <td>Gravferdsstønad og stønad til båretransport</td>\n",
       "      <td>Opplysningene er av avgjørende betydning for b...</td>\n",
       "      <td>13</td>\n",
       "    </tr>\n",
       "    <tr>\n",
       "      <th>14</th>\n",
       "      <td>Sivilstand</td>\n",
       "      <td>Grunn- og hjelpestønad</td>\n",
       "      <td>I saksbehandling GH, spesielt hjelpestønad og ...</td>\n",
       "      <td>14</td>\n",
       "    </tr>\n",
       "    <tr>\n",
       "      <th>15</th>\n",
       "      <td>Sivilstand</td>\n",
       "      <td>NOT AVAILABLE</td>\n",
       "      <td>Saksbehandling</td>\n",
       "      <td>15</td>\n",
       "    </tr>\n",
       "    <tr>\n",
       "      <th>16</th>\n",
       "      <td>Sivilstand</td>\n",
       "      <td>Kontroll</td>\n",
       "      <td>Vurdering i alle saker der sivilstand er av be...</td>\n",
       "      <td>16</td>\n",
       "    </tr>\n",
       "    <tr>\n",
       "      <th>17</th>\n",
       "      <td>Sivilstand</td>\n",
       "      <td>Medlemskap og avgift</td>\n",
       "      <td>For vurdering av lovvalg og medlemskap</td>\n",
       "      <td>17</td>\n",
       "    </tr>\n",
       "    <tr>\n",
       "      <th>18</th>\n",
       "      <td>Sivilstand</td>\n",
       "      <td>NOT AVAILABLE</td>\n",
       "      <td>I saksbehandlingen for vurdering av oppfostrin...</td>\n",
       "      <td>18</td>\n",
       "    </tr>\n",
       "    <tr>\n",
       "      <th>19</th>\n",
       "      <td>Sivilstand</td>\n",
       "      <td>Supplerende stønad</td>\n",
       "      <td>Avklare stønadssats.</td>\n",
       "      <td>19</td>\n",
       "    </tr>\n",
       "    <tr>\n",
       "      <th>20</th>\n",
       "      <td>Sivilstand</td>\n",
       "      <td>Sykepenger</td>\n",
       "      <td>vurdering av rett til sykepenger</td>\n",
       "      <td>20</td>\n",
       "    </tr>\n",
       "    <tr>\n",
       "      <th>21</th>\n",
       "      <td>Sivilstand</td>\n",
       "      <td>NOT AVAILABLE</td>\n",
       "      <td>Habilitetssaksbehandling egne ansatte</td>\n",
       "      <td>21</td>\n",
       "    </tr>\n",
       "    <tr>\n",
       "      <th>22</th>\n",
       "      <td>Sivilstand</td>\n",
       "      <td>Uføretrygd</td>\n",
       "      <td>Til å vurdere rett til minsteytelse etter ftrl...</td>\n",
       "      <td>22</td>\n",
       "    </tr>\n",
       "  </tbody>\n",
       "</table>\n",
       "</div>"
      ],
      "text/plain": [
       "   datasetTitle                                        purposeCode  \\\n",
       "0    Sivilstand                      Arbeidsavklaringspenger (AAP)   \n",
       "1    Sivilstand                                      Alderspensjon   \n",
       "2    Sivilstand                                       Krigspensjon   \n",
       "3    Sivilstand  Avtalefestet pensjon (AFP) for statlig og komm...   \n",
       "4    Sivilstand                                         Barnetrygd   \n",
       "5    Sivilstand                                      Kontantstøtte   \n",
       "6    Sivilstand                                        Barnebidrag   \n",
       "7    Sivilstand                                          Dagpenger   \n",
       "8    Sivilstand                                    Ektefellebidrag   \n",
       "9    Sivilstand                    Stønad til enslig mor eller far   \n",
       "10   Sivilstand                                 Farskap og morskap   \n",
       "11   Sivilstand  Foreldrepenger, engangstønad og svangerskapspe...   \n",
       "12   Sivilstand                  Etterlattepensjon og barnepensjon   \n",
       "13   Sivilstand        Gravferdsstønad og stønad til båretransport   \n",
       "14   Sivilstand                             Grunn- og hjelpestønad   \n",
       "15   Sivilstand                                      NOT AVAILABLE   \n",
       "16   Sivilstand                                           Kontroll   \n",
       "17   Sivilstand                               Medlemskap og avgift   \n",
       "18   Sivilstand                                      NOT AVAILABLE   \n",
       "19   Sivilstand                                 Supplerende stønad   \n",
       "20   Sivilstand                                         Sykepenger   \n",
       "21   Sivilstand                                      NOT AVAILABLE   \n",
       "22   Sivilstand                                         Uføretrygd   \n",
       "\n",
       "                                legalBasisDescription  id  \n",
       "0                          Ved nytt krav og nytt barn   0  \n",
       "1                Har betyding for pensjonsberegningen   1  \n",
       "2                Har betyding for pensjonsberegningen   2  \n",
       "3                             Vurdering av sivilstand   3  \n",
       "4                 knyttet til vilkåret for barnetrygd   4  \n",
       "5              knyttet til vilkåret for Kontantstøtte   5  \n",
       "6   Behovsprøving av forskudd. førstegangsfastsett...   6  \n",
       "7     Vurdering å kunne ansees som reell arbeidssøker   7  \n",
       "8   Vuderinga av søknad/ endring utmåling og  opph...   8  \n",
       "9   Vurdere vilkår om sivilstatus (ugift, separert...   9  \n",
       "10                            Fastsettelse og endring  10  \n",
       "11  Førstegangsbehandling, revurdering av vedtak, ...  11  \n",
       "12          Vurdere rettigheter til gjenlevendpensjon  12  \n",
       "13  Opplysningene er av avgjørende betydning for b...  13  \n",
       "14  I saksbehandling GH, spesielt hjelpestønad og ...  14  \n",
       "15                                     Saksbehandling  15  \n",
       "16  Vurdering i alle saker der sivilstand er av be...  16  \n",
       "17             For vurdering av lovvalg og medlemskap  17  \n",
       "18  I saksbehandlingen for vurdering av oppfostrin...  18  \n",
       "19                              Avklare stønadssats.   19  \n",
       "20                   vurdering av rett til sykepenger  20  \n",
       "21              Habilitetssaksbehandling egne ansatte  21  \n",
       "22  Til å vurdere rett til minsteytelse etter ftrl...  22  "
      ]
     },
     "execution_count": 850,
     "metadata": {},
     "output_type": "execute_result"
    }
   ],
   "source": [
    "df_policies[df_policies['datasetTitle'] =='Sivilstand']"
   ]
  },
  {
   "cell_type": "code",
   "execution_count": 856,
   "metadata": {},
   "outputs": [
    {
     "name": "stdout",
     "output_type": "stream",
     "text": [
      "https://datakatalog.nais.oera-q.local/policies/policy\n",
      "[{\"datasetTitle\": \"Sivilstand\", \"purposeCode\": \"Arbeidsavklaringspenger (AAP)\", \"legalBasisDescription\": \"Ved nytt krav og nytt barn\", \"id\": 0}, {\"datasetTitle\": \"Sivilstand\", \"purposeCode\": \"Alderspensjon\", \"legalBasisDescription\": \"Har betyding for pensjonsberegningen\", \"id\": 1}, {\"datasetTitle\": \"Sivilstand\", \"purposeCode\": \"Krigspensjon\", \"legalBasisDescription\": \"Har betyding for pensjonsberegningen\", \"id\": 2}, {\"datasetTitle\": \"Sivilstand\", \"purposeCode\": \"Avtalefestet pensjon (AFP) for statlig og kommunal sektor\", \"legalBasisDescription\": \"Vurdering av sivilstand\", \"id\": 3}, {\"datasetTitle\": \"Sivilstand\", \"purposeCode\": \"Barnetrygd\", \"legalBasisDescription\": \"knyttet til vilk\\u00e5ret for barnetrygd\", \"id\": 4}, {\"datasetTitle\": \"Sivilstand\", \"purposeCode\": \"Kontantst\\u00f8tte\", \"legalBasisDescription\": \"knyttet til vilk\\u00e5ret for Kontantst\\u00f8tte\", \"id\": 5}, {\"datasetTitle\": \"Sivilstand\", \"purposeCode\": \"Barnebidrag\", \"legalBasisDescription\": \"Behovspr\\u00f8ving av forskudd. f\\u00f8rstegangsfastsettelse. Endringss\\u00f8knad.automatisk saksbehandling. Revurdering av l\\u00f8pende vedtak\", \"id\": 6}, {\"datasetTitle\": \"Sivilstand\", \"purposeCode\": \"Dagpenger\", \"legalBasisDescription\": \"Vurdering \\u00e5 kunne ansees som reell arbeidss\\u00f8ker\", \"id\": 7}, {\"datasetTitle\": \"Sivilstand\", \"purposeCode\": \"Ektefellebidrag\", \"legalBasisDescription\": \"Vuderinga av s\\u00f8knad/ endring utm\\u00e5ling og  opph\\u00f8r ektefellebidrag\", \"id\": 8}, {\"datasetTitle\": \"Sivilstand\", \"purposeCode\": \"St\\u00f8nad til enslig mor eller far\", \"legalBasisDescription\": \"Vurdere vilk\\u00e5r om sivilstatus (ugift, separert eller skilt)\", \"id\": 9}, {\"datasetTitle\": \"Sivilstand\", \"purposeCode\": \"Farskap og morskap\", \"legalBasisDescription\": \"Fastsettelse og endring\", \"id\": 10}, {\"datasetTitle\": \"Sivilstand\", \"purposeCode\": \"Foreldrepenger, engangst\\u00f8nad og svangerskapspenger\", \"legalBasisDescription\": \"F\\u00f8rstegangsbehandling, revurdering av vedtak, automatisk saksbehandling\", \"id\": 11}, {\"datasetTitle\": \"Sivilstand\", \"purposeCode\": \"Etterlattepensjon og barnepensjon\", \"legalBasisDescription\": \"Vurdere rettigheter til gjenlevendpensjon\", \"id\": 12}, {\"datasetTitle\": \"Sivilstand\", \"purposeCode\": \"Gravferdsst\\u00f8nad og st\\u00f8nad til b\\u00e5retransport\", \"legalBasisDescription\": \"Opplysningene er av avgj\\u00f8rende betydning for behovsvurderingen i saksbehandlingen. Uten opplysninger om sivilstand kan vi ikke f\\u00e5 avklart hvilke formuesforhold som skal legges til grunn i den enkelte sak. \", \"id\": 13}, {\"datasetTitle\": \"Sivilstand\", \"purposeCode\": \"Grunn- og hjelpest\\u00f8nad\", \"legalBasisDescription\": \"I saksbehandling GH, spesielt hjelpest\\u00f8nad og privat pleie fra ektefelle/samboer/partner\", \"id\": 14}, {\"datasetTitle\": \"Sivilstand\", \"purposeCode\": \"NOT AVAILABLE\", \"legalBasisDescription\": \"Saksbehandling\", \"id\": 15}, {\"datasetTitle\": \"Sivilstand\", \"purposeCode\": \"Kontroll\", \"legalBasisDescription\": \"Vurdering i alle saker der sivilstand er av betydning.\", \"id\": 16}, {\"datasetTitle\": \"Sivilstand\", \"purposeCode\": \"Medlemskap og avgift\", \"legalBasisDescription\": \"For vurdering av lovvalg og medlemskap\", \"id\": 17}, {\"datasetTitle\": \"Sivilstand\", \"purposeCode\": \"NOT AVAILABLE\", \"legalBasisDescription\": \"I saksbehandlingen for vurdering av oppfostringsbidragets st\\u00f8rrelse. \", \"id\": 18}, {\"datasetTitle\": \"Sivilstand\", \"purposeCode\": \"Supplerende st\\u00f8nad\", \"legalBasisDescription\": \"Avklare st\\u00f8nadssats. \", \"id\": 19}]\n"
     ]
    },
    {
     "data": {
      "text/plain": [
       "<Response [400]>"
      ]
     },
     "execution_count": 856,
     "metadata": {},
     "output_type": "execute_result"
    }
   ],
   "source": [
    "data = df_policies[0:20].to_json(orient='records')\n",
    "payload =json.dumps(json.loads(data))\n",
    "print(policy_url)\n",
    "print(payload)\n",
    "requests.post(policy_url, headers={'Content-Type': 'application/json'}, data=payload)"
   ]
  },
  {
   "cell_type": "code",
   "execution_count": 695,
   "metadata": {},
   "outputs": [
    {
     "name": "stdout",
     "output_type": "stream",
     "text": [
      "<Response [201]>\n"
     ]
    }
   ],
   "source": [
    "data = df_policies.head(1).to_json(orient='records')\n",
    "payload =json.dumps(json.loads(data))\n",
    "try:\n",
    "    res = requests.post(policy_url, headers=headers, data=payload)\n",
    "except:\n",
    "    res = payload\n",
    "    \n",
    "print(res)"
   ]
  },
  {
   "cell_type": "code",
   "execution_count": 852,
   "metadata": {},
   "outputs": [],
   "source": [
    "data = df_policies.to_json(orient='records')\n",
    "payload =json.dumps(json.loads(data))"
   ]
  },
  {
   "cell_type": "code",
   "execution_count": 853,
   "metadata": {},
   "outputs": [
    {
     "data": {
      "text/plain": [
       "<Response [405]>"
      ]
     },
     "execution_count": 853,
     "metadata": {},
     "output_type": "execute_result"
    }
   ],
   "source": [
    "requests.post(url, headers={'Content-Type': 'application/json'}, data=payload)"
   ]
  },
  {
   "cell_type": "code",
   "execution_count": null,
   "metadata": {},
   "outputs": [],
   "source": []
  }
 ],
 "metadata": {
  "kernelspec": {
   "display_name": "Python 3",
   "language": "python",
   "name": "python3"
  },
  "language_info": {
   "codemirror_mode": {
    "name": "ipython",
    "version": 3
   },
   "file_extension": ".py",
   "mimetype": "text/x-python",
   "name": "python",
   "nbconvert_exporter": "python",
   "pygments_lexer": "ipython3",
   "version": "3.7.3"
  }
 },
 "nbformat": 4,
 "nbformat_minor": 2
}
