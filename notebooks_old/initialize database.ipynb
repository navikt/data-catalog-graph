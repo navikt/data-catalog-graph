{
 "cells": [
  {
   "cell_type": "code",
   "execution_count": 1,
   "metadata": {},
   "outputs": [],
   "source": [
    "import pandas as pd\n",
    "import pandas.io.sql as sqlio\n",
    "import psycopg2\n",
    "import sqlalchemy\n",
    "import os"
   ]
  },
  {
   "cell_type": "code",
   "execution_count": 2,
   "metadata": {},
   "outputs": [],
   "source": [
    "conn = psycopg2.connect(\n",
    "    user=\"dcat\", \n",
    "    password=\"dcat\", \n",
    "    host=\"127.0.0.1\", \n",
    "    port=\"54320\", \n",
    "    database=\"dcat\")"
   ]
  },
  {
   "cell_type": "code",
   "execution_count": null,
   "metadata": {},
   "outputs": [],
   "source": [
    "# vault login -address=\"https -method=oidc\n",
    "# vault read --address=\"https://vault.adeo.no\" postgresql/preprod-fss/creds/datacatalog-term-admin\n",
    "\n",
    "conn = psycopg2.connect(\n",
    "    user=\"v-oidc-Pau-datacata-8M61CzhFYnWwyGe4RT5T-1573823273\", \n",
    "    password=\"A1a-uUUBJHlTN9oyrAQB\", \n",
    "    host=\"b27dbvl008.preprod.local\", \n",
    "    port=\"5432\", \n",
    "    database=\"datacatalog-term\")"
   ]
  },
  {
   "cell_type": "code",
   "execution_count": 3,
   "metadata": {},
   "outputs": [],
   "source": [
    "cur = conn.cursor()"
   ]
  },
  {
   "cell_type": "code",
   "execution_count": 4,
   "metadata": {},
   "outputs": [],
   "source": [
    "conn.commit()"
   ]
  },
  {
   "cell_type": "code",
   "execution_count": 5,
   "metadata": {},
   "outputs": [
    {
     "name": "stdout",
     "output_type": "stream",
     "text": [
      "{'user': 'dcat', 'dbname': 'dcat', 'host': '127.0.0.1', 'port': '54320', 'tty': '', 'options': '', 'sslmode': 'prefer', 'sslcompression': '0', 'krbsrvname': 'postgres', 'target_session_attrs': 'any'} \n",
      "\n"
     ]
    }
   ],
   "source": [
    "print ( conn.get_dsn_parameters(),\"\\n\")"
   ]
  },
  {
   "cell_type": "code",
   "execution_count": 6,
   "metadata": {},
   "outputs": [],
   "source": [
    "cur.execute(\"CREATE EXTENSION IF NOT EXISTS pgcrypto;\")"
   ]
  },
  {
   "cell_type": "code",
   "execution_count": 7,
   "metadata": {},
   "outputs": [
    {
     "name": "stdout",
     "output_type": "stream",
     "text": [
      "You are connected to -  ('PostgreSQL 12.0 (Debian 12.0-1.pgdg100+1) on x86_64-pc-linux-gnu, compiled by gcc (Debian 8.3.0-6) 8.3.0, 64-bit',) \n",
      "\n"
     ]
    }
   ],
   "source": [
    "cur.execute(\"SELECT version();\")\n",
    "record = cur.fetchone()\n",
    "print(\"You are connected to - \", record,\"\\n\")"
   ]
  },
  {
   "cell_type": "code",
   "execution_count": 8,
   "metadata": {},
   "outputs": [],
   "source": [
    "cur.execute(\"drop index if exists idx_tbl_edge_n1\")\n",
    "cur.execute(\"drop index if exists idx_tbl_edge_n2\")\n",
    "cur.execute(\"drop table if exists tbl_edge\")"
   ]
  },
  {
   "cell_type": "markdown",
   "metadata": {},
   "source": [
    "# Node table"
   ]
  },
  {
   "cell_type": "markdown",
   "metadata": {},
   "source": [
    "cur.execute(\"drop table if exists tbl_node\")\n",
    "cur.execute(\"\"\"\n",
    "create table tbl_node \n",
    "(  \n",
    "  id SERIAL PRIMARY KEY,    -- ID\n",
    "  prop JSONB,               -- Properties  \n",
    "  created TIMESTAMP         -- Creation time  \n",
    ");  \n",
    "\"\"\")"
   ]
  },
  {
   "cell_type": "code",
   "execution_count": 9,
   "metadata": {},
   "outputs": [],
   "source": [
    "cur.execute(\"drop table if exists tbl_node\")\n",
    "cur.execute(\"\"\"\n",
    "create table tbl_node \n",
    "(  \n",
    "  id UUID PRIMARY KEY DEFAULT gen_random_uuid(),\n",
    "  prop JSONB,  \n",
    "  created TIMESTAMP DEFAULT now()\n",
    ");  \n",
    "\"\"\")"
   ]
  },
  {
   "cell_type": "code",
   "execution_count": 10,
   "metadata": {},
   "outputs": [
    {
     "data": {
      "text/html": [
       "<div>\n",
       "<style scoped>\n",
       "    .dataframe tbody tr th:only-of-type {\n",
       "        vertical-align: middle;\n",
       "    }\n",
       "\n",
       "    .dataframe tbody tr th {\n",
       "        vertical-align: top;\n",
       "    }\n",
       "\n",
       "    .dataframe thead th {\n",
       "        text-align: right;\n",
       "    }\n",
       "</style>\n",
       "<table border=\"1\" class=\"dataframe\">\n",
       "  <thead>\n",
       "    <tr style=\"text-align: right;\">\n",
       "      <th></th>\n",
       "      <th>id</th>\n",
       "      <th>prop</th>\n",
       "      <th>created</th>\n",
       "    </tr>\n",
       "  </thead>\n",
       "  <tbody>\n",
       "  </tbody>\n",
       "</table>\n",
       "</div>"
      ],
      "text/plain": [
       "Empty DataFrame\n",
       "Columns: [id, prop, created]\n",
       "Index: []"
      ]
     },
     "execution_count": 10,
     "metadata": {},
     "output_type": "execute_result"
    }
   ],
   "source": [
    "sql = \"select * from tbl_node\"\n",
    "df = sqlio.read_sql_query(sql, conn)\n",
    "df.head()"
   ]
  },
  {
   "cell_type": "markdown",
   "metadata": {},
   "source": [
    "# Edge description/attributes"
   ]
  },
  {
   "cell_type": "markdown",
   "metadata": {},
   "source": [
    "cur.execute(\"drop table if exists tbl_edge_desc\")\n",
    "cur.execute(\"\"\"\n",
    "create table tbl_edge_desc  -- Relationship description  \n",
    "(  \n",
    "  id SERIAL PRIMARY KEY,    -- Relationship ID  \n",
    "  prop TEXT                 -- Description  \n",
    ");\n",
    "\"\"\")"
   ]
  },
  {
   "cell_type": "code",
   "execution_count": 11,
   "metadata": {},
   "outputs": [],
   "source": [
    "cur.execute(\"drop table if exists tbl_edge_desc\")\n",
    "cur.execute(\"\"\"\n",
    "create table tbl_edge_desc  -- Relationship description  \n",
    "(  \n",
    "  id UUID PRIMARY KEY DEFAULT gen_random_uuid(), \n",
    "  prop TEXT \n",
    ");\n",
    "\"\"\")"
   ]
  },
  {
   "cell_type": "code",
   "execution_count": 12,
   "metadata": {},
   "outputs": [
    {
     "data": {
      "text/html": [
       "<div>\n",
       "<style scoped>\n",
       "    .dataframe tbody tr th:only-of-type {\n",
       "        vertical-align: middle;\n",
       "    }\n",
       "\n",
       "    .dataframe tbody tr th {\n",
       "        vertical-align: top;\n",
       "    }\n",
       "\n",
       "    .dataframe thead th {\n",
       "        text-align: right;\n",
       "    }\n",
       "</style>\n",
       "<table border=\"1\" class=\"dataframe\">\n",
       "  <thead>\n",
       "    <tr style=\"text-align: right;\">\n",
       "      <th></th>\n",
       "      <th>id</th>\n",
       "      <th>prop</th>\n",
       "    </tr>\n",
       "  </thead>\n",
       "  <tbody>\n",
       "  </tbody>\n",
       "</table>\n",
       "</div>"
      ],
      "text/plain": [
       "Empty DataFrame\n",
       "Columns: [id, prop]\n",
       "Index: []"
      ]
     },
     "execution_count": 12,
     "metadata": {},
     "output_type": "execute_result"
    }
   ],
   "source": [
    "sql = \"select * from tbl_edge_desc\"\n",
    "df = sqlio.read_sql_query(sql, conn)\n",
    "df.head()"
   ]
  },
  {
   "cell_type": "markdown",
   "metadata": {},
   "source": [
    "# Edges "
   ]
  },
  {
   "cell_type": "markdown",
   "metadata": {},
   "source": [
    "cur.execute(\"drop table if exists tbl_edge\")\n",
    "cur.execute(\"\"\"\n",
    "create table tbl_edge     -- What is relationship between ID1 to ID2      \n",
    "(  \n",
    "  n1 int references tbl_node(id),    \n",
    "  n2 int references tbl_node(id),    \n",
    "  prop int2[],  -- Multiple relationships may exist. Therefore, we use array storage. This is an edge. \n",
    "  created timestamp DEFAULT now(),  \n",
    "  check (n1<>n2),  \n",
    "  unique (n1,n2)  \n",
    "  -- FOREIGN KEY (EACH ELEMENT OF prop) REFERENCES tbl_er_desc(id)  -- Array foreign key, which is supported for PostgreSQL 11. The performance is good  \n",
    ");  \n",
    "\"\"\")"
   ]
  },
  {
   "cell_type": "code",
   "execution_count": 13,
   "metadata": {},
   "outputs": [],
   "source": [
    "cur.execute(\"drop table if exists tbl_edge\")\n",
    "cur.execute(\"\"\"\n",
    "create table tbl_edge      \n",
    "(  \n",
    "  n1 UUID references tbl_node(id),    \n",
    "  n2 UUID references tbl_node(id),    \n",
    "  prop UUID[],\n",
    "  created timestamp DEFAULT now(),  \n",
    "  check (n1<>n2),  \n",
    "  unique (n1,n2)\n",
    ");  \n",
    "\"\"\")"
   ]
  },
  {
   "cell_type": "code",
   "execution_count": 14,
   "metadata": {},
   "outputs": [
    {
     "data": {
      "text/html": [
       "<div>\n",
       "<style scoped>\n",
       "    .dataframe tbody tr th:only-of-type {\n",
       "        vertical-align: middle;\n",
       "    }\n",
       "\n",
       "    .dataframe tbody tr th {\n",
       "        vertical-align: top;\n",
       "    }\n",
       "\n",
       "    .dataframe thead th {\n",
       "        text-align: right;\n",
       "    }\n",
       "</style>\n",
       "<table border=\"1\" class=\"dataframe\">\n",
       "  <thead>\n",
       "    <tr style=\"text-align: right;\">\n",
       "      <th></th>\n",
       "      <th>n1</th>\n",
       "      <th>n2</th>\n",
       "      <th>prop</th>\n",
       "      <th>created</th>\n",
       "    </tr>\n",
       "  </thead>\n",
       "  <tbody>\n",
       "  </tbody>\n",
       "</table>\n",
       "</div>"
      ],
      "text/plain": [
       "Empty DataFrame\n",
       "Columns: [n1, n2, prop, created]\n",
       "Index: []"
      ]
     },
     "execution_count": 14,
     "metadata": {},
     "output_type": "execute_result"
    }
   ],
   "source": [
    "sql = \"select * from tbl_edge\"\n",
    "df = sqlio.read_sql_query(sql, conn)\n",
    "df.head()"
   ]
  },
  {
   "cell_type": "code",
   "execution_count": 15,
   "metadata": {},
   "outputs": [],
   "source": [
    "cur.execute(\"drop index if exists idx_tbl_edge_n1\")\n",
    "cur.execute(\"create index idx_tbl_edge_n1 on tbl_edge(n1)\")"
   ]
  },
  {
   "cell_type": "code",
   "execution_count": 16,
   "metadata": {},
   "outputs": [],
   "source": [
    "cur.execute(\"drop index if exists idx_tbl_edge_n2\")\n",
    "cur.execute(\"create index idx_tbl_edge_n2 on tbl_edge(n2)\")"
   ]
  },
  {
   "cell_type": "code",
   "execution_count": 17,
   "metadata": {},
   "outputs": [],
   "source": [
    "conn.commit()"
   ]
  },
  {
   "cell_type": "code",
   "execution_count": null,
   "metadata": {},
   "outputs": [],
   "source": []
  }
 ],
 "metadata": {
  "kernelspec": {
   "display_name": "Python 3",
   "language": "python",
   "name": "python3"
  },
  "language_info": {
   "codemirror_mode": {
    "name": "ipython",
    "version": 3
   },
   "file_extension": ".py",
   "mimetype": "text/x-python",
   "name": "python",
   "nbconvert_exporter": "python",
   "pygments_lexer": "ipython3",
   "version": "3.7.4"
  },
  "varInspector": {
   "cols": {
    "lenName": 16,
    "lenType": 16,
    "lenVar": 40
   },
   "kernels_config": {
    "python": {
     "delete_cmd_postfix": "",
     "delete_cmd_prefix": "del ",
     "library": "var_list.py",
     "varRefreshCmd": "print(var_dic_list())"
    },
    "r": {
     "delete_cmd_postfix": ") ",
     "delete_cmd_prefix": "rm(",
     "library": "var_list.r",
     "varRefreshCmd": "cat(var_dic_list()) "
    }
   },
   "types_to_exclude": [
    "module",
    "function",
    "builtin_function_or_method",
    "instance",
    "_Feature"
   ],
   "window_display": false
  }
 },
 "nbformat": 4,
 "nbformat_minor": 2
}
