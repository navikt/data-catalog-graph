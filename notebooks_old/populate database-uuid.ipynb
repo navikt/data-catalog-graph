{
 "cells": [
  {
   "cell_type": "code",
   "execution_count": 107,
   "metadata": {},
   "outputs": [],
   "source": [
    "import pandas as pd\n",
    "import pandas.io.sql as sqlio\n",
    "import psycopg2\n",
    "import sqlalchemy\n",
    "import os\n",
    "import json\n"
   ]
  },
  {
   "cell_type": "code",
   "execution_count": 108,
   "metadata": {},
   "outputs": [],
   "source": [
    "conn = psycopg2.connect(\n",
    "    user=\"dcat\", \n",
    "    password=\"dcat\", \n",
    "    host=\"127.0.0.1\", \n",
    "    port=\"54320\", \n",
    "    database=\"dcat\")"
   ]
  },
  {
   "cell_type": "code",
   "execution_count": 36,
   "metadata": {},
   "outputs": [],
   "source": [
    "conn = psycopg2.connect(\n",
    "    user=\"v-oidc-Pau-datacata-8M61CzhFYnWwyGe4RT5T-1573823273\", \n",
    "    password=\"A1a-uUUBJHlTN9oyrAQB\", \n",
    "    host=\"b27dbvl008.preprod.local\", \n",
    "    port=\"5432\", \n",
    "    database=\"datacatalog-term\")"
   ]
  },
  {
   "cell_type": "code",
   "execution_count": 109,
   "metadata": {},
   "outputs": [],
   "source": [
    "cur = conn.cursor()"
   ]
  },
  {
   "cell_type": "code",
   "execution_count": 135,
   "metadata": {},
   "outputs": [],
   "source": [
    "conn.commit()"
   ]
  },
  {
   "cell_type": "code",
   "execution_count": 111,
   "metadata": {},
   "outputs": [],
   "source": [
    "cur.execute(\"CREATE EXTENSION IF NOT EXISTS pgcrypto;\")"
   ]
  },
  {
   "cell_type": "code",
   "execution_count": 112,
   "metadata": {},
   "outputs": [
    {
     "name": "stdout",
     "output_type": "stream",
     "text": [
      "{'user': 'dcat', 'dbname': 'dcat', 'host': '127.0.0.1', 'port': '54320', 'tty': '', 'options': '', 'sslmode': 'prefer', 'sslcompression': '0', 'krbsrvname': 'postgres', 'target_session_attrs': 'any'} \n",
      "\n"
     ]
    }
   ],
   "source": [
    "print ( conn.get_dsn_parameters(),\"\\n\")"
   ]
  },
  {
   "cell_type": "code",
   "execution_count": 113,
   "metadata": {},
   "outputs": [
    {
     "name": "stdout",
     "output_type": "stream",
     "text": [
      "You are connected to -  ('PostgreSQL 12.0 (Debian 12.0-1.pgdg100+1) on x86_64-pc-linux-gnu, compiled by gcc (Debian 8.3.0-6) 8.3.0, 64-bit',) \n",
      "\n"
     ]
    }
   ],
   "source": [
    "cur.execute(\"SELECT version();\")\n",
    "record = cur.fetchone()\n",
    "print(\"You are connected to - \", record,\"\\n\")"
   ]
  },
  {
   "cell_type": "markdown",
   "metadata": {},
   "source": [
    "# Init"
   ]
  },
  {
   "cell_type": "code",
   "execution_count": 114,
   "metadata": {},
   "outputs": [],
   "source": [
    "#Relationship description/attributes\n",
    "cur.execute(\"delete from tbl_edge_desc\")\n",
    "#Relationships/Edges\n",
    "cur.execute(\"delete from tbl_edge\")\n",
    "#Node details table\n",
    "cur.execute(\"delete from tbl_node\")\n",
    "\n",
    "conn.commit()"
   ]
  },
  {
   "cell_type": "markdown",
   "metadata": {},
   "source": [
    "# Get data"
   ]
  },
  {
   "cell_type": "code",
   "execution_count": 115,
   "metadata": {},
   "outputs": [
    {
     "data": {
      "text/plain": [
       "['Formål GML',\n",
       " 'Formål',\n",
       " 'Ark1',\n",
       " 'data-catalog-backend',\n",
       " 'data-catalog-policies',\n",
       " 'Category']"
      ]
     },
     "execution_count": 115,
     "metadata": {},
     "output_type": "execute_result"
    }
   ],
   "source": [
    "xls = pd.ExcelFile(\"../data/testdata.xlsx\")\n",
    "xls.sheet_names"
   ]
  },
  {
   "cell_type": "markdown",
   "metadata": {},
   "source": [
    "# Populate tables"
   ]
  },
  {
   "cell_type": "markdown",
   "metadata": {},
   "source": [
    "### Relationships"
   ]
  },
  {
   "cell_type": "code",
   "execution_count": 116,
   "metadata": {},
   "outputs": [],
   "source": [
    "relationships = [\"has purpose\", \"based on purpose\", \"has attribute\", \"attribute of\",\"belongs to category\", \"contains concept\"]\n",
    "for relationship in relationships:\n",
    "    insert_query = f\"insert into tbl_edge_desc (prop) values ('{relationship}')\"\n",
    "    cur.execute(insert_query)\n",
    "    \n",
    "conn.commit()"
   ]
  },
  {
   "cell_type": "code",
   "execution_count": 117,
   "metadata": {},
   "outputs": [
    {
     "data": {
      "text/html": [
       "<div>\n",
       "<style scoped>\n",
       "    .dataframe tbody tr th:only-of-type {\n",
       "        vertical-align: middle;\n",
       "    }\n",
       "\n",
       "    .dataframe tbody tr th {\n",
       "        vertical-align: top;\n",
       "    }\n",
       "\n",
       "    .dataframe thead th {\n",
       "        text-align: right;\n",
       "    }\n",
       "</style>\n",
       "<table border=\"1\" class=\"dataframe\">\n",
       "  <thead>\n",
       "    <tr style=\"text-align: right;\">\n",
       "      <th></th>\n",
       "      <th>id</th>\n",
       "      <th>prop</th>\n",
       "    </tr>\n",
       "  </thead>\n",
       "  <tbody>\n",
       "    <tr>\n",
       "      <th>0</th>\n",
       "      <td>f2cf9df2-0df9-4031-a7ac-5b3584cd9779</td>\n",
       "      <td>has purpose</td>\n",
       "    </tr>\n",
       "    <tr>\n",
       "      <th>1</th>\n",
       "      <td>de5b9967-b129-4920-8112-67f773f72d5b</td>\n",
       "      <td>based on purpose</td>\n",
       "    </tr>\n",
       "    <tr>\n",
       "      <th>2</th>\n",
       "      <td>b7ff2d8e-f4fd-441d-abdd-9ddc33d834fe</td>\n",
       "      <td>has attribute</td>\n",
       "    </tr>\n",
       "    <tr>\n",
       "      <th>3</th>\n",
       "      <td>877a6464-c5ab-47b8-863b-c6b64d815c90</td>\n",
       "      <td>attribute of</td>\n",
       "    </tr>\n",
       "    <tr>\n",
       "      <th>4</th>\n",
       "      <td>a4e4c9cd-6ccf-4304-9887-e267ddaea3bc</td>\n",
       "      <td>belongs to category</td>\n",
       "    </tr>\n",
       "    <tr>\n",
       "      <th>5</th>\n",
       "      <td>fa316ebd-9a53-4c7a-86e4-7fdb16649da0</td>\n",
       "      <td>contains concept</td>\n",
       "    </tr>\n",
       "  </tbody>\n",
       "</table>\n",
       "</div>"
      ],
      "text/plain": [
       "                                     id                 prop\n",
       "0  f2cf9df2-0df9-4031-a7ac-5b3584cd9779          has purpose\n",
       "1  de5b9967-b129-4920-8112-67f773f72d5b     based on purpose\n",
       "2  b7ff2d8e-f4fd-441d-abdd-9ddc33d834fe        has attribute\n",
       "3  877a6464-c5ab-47b8-863b-c6b64d815c90         attribute of\n",
       "4  a4e4c9cd-6ccf-4304-9887-e267ddaea3bc  belongs to category\n",
       "5  fa316ebd-9a53-4c7a-86e4-7fdb16649da0     contains concept"
      ]
     },
     "execution_count": 117,
     "metadata": {},
     "output_type": "execute_result"
    }
   ],
   "source": [
    "df_links = sqlio.read_sql_query(\"select * from tbl_edge_desc\", conn)\n",
    "df_links"
   ]
  },
  {
   "cell_type": "markdown",
   "metadata": {},
   "source": [
    "### Processing activities"
   ]
  },
  {
   "cell_type": "code",
   "execution_count": 118,
   "metadata": {},
   "outputs": [
    {
     "data": {
      "text/html": [
       "<div>\n",
       "<style scoped>\n",
       "    .dataframe tbody tr th:only-of-type {\n",
       "        vertical-align: middle;\n",
       "    }\n",
       "\n",
       "    .dataframe tbody tr th {\n",
       "        vertical-align: top;\n",
       "    }\n",
       "\n",
       "    .dataframe thead th {\n",
       "        text-align: right;\n",
       "    }\n",
       "</style>\n",
       "<table border=\"1\" class=\"dataframe\">\n",
       "  <thead>\n",
       "    <tr style=\"text-align: right;\">\n",
       "      <th></th>\n",
       "      <th>description</th>\n",
       "      <th>name</th>\n",
       "      <th>type</th>\n",
       "    </tr>\n",
       "  </thead>\n",
       "  <tbody>\n",
       "    <tr>\n",
       "      <th>33</th>\n",
       "      <td>Behandle og vurdere rett til uføretrygd som sk...</td>\n",
       "      <td>UFØRETRYGD</td>\n",
       "      <td>prosessing activity</td>\n",
       "    </tr>\n",
       "    <tr>\n",
       "      <th>34</th>\n",
       "      <td>Behandle og vurdere rett til ventelønn som ska...</td>\n",
       "      <td>VENTELØNN</td>\n",
       "      <td>prosessing activity</td>\n",
       "    </tr>\n",
       "    <tr>\n",
       "      <th>35</th>\n",
       "      <td>Behandle og vurdere rett til ytelser ved yrkes...</td>\n",
       "      <td>YRKESSKADE- OG SYKDOM</td>\n",
       "      <td>prosessing activity</td>\n",
       "    </tr>\n",
       "    <tr>\n",
       "      <th>36</th>\n",
       "      <td>Behandle og vurdere rett til ytelser til famil...</td>\n",
       "      <td>YTELSER TIL FAMILIEPLEIER</td>\n",
       "      <td>prosessing activity</td>\n",
       "    </tr>\n",
       "    <tr>\n",
       "      <th>37</th>\n",
       "      <td>Not Available -Verdi mangler</td>\n",
       "      <td>NOT AVAILABLE</td>\n",
       "      <td>prosessing activity</td>\n",
       "    </tr>\n",
       "  </tbody>\n",
       "</table>\n",
       "</div>"
      ],
      "text/plain": [
       "                                          description  \\\n",
       "33  Behandle og vurdere rett til uføretrygd som sk...   \n",
       "34  Behandle og vurdere rett til ventelønn som ska...   \n",
       "35  Behandle og vurdere rett til ytelser ved yrkes...   \n",
       "36  Behandle og vurdere rett til ytelser til famil...   \n",
       "37                       Not Available -Verdi mangler   \n",
       "\n",
       "                         name                 type  \n",
       "33                 UFØRETRYGD  prosessing activity  \n",
       "34                  VENTELØNN  prosessing activity  \n",
       "35      YRKESSKADE- OG SYKDOM  prosessing activity  \n",
       "36  YTELSER TIL FAMILIEPLEIER  prosessing activity  \n",
       "37              NOT AVAILABLE  prosessing activity  "
      ]
     },
     "execution_count": 118,
     "metadata": {},
     "output_type": "execute_result"
    }
   ],
   "source": [
    "sheet=xls.sheet_names[1]\n",
    "df_formål = pd.read_excel(xls, sheet, encoding='latin1')\n",
    "df_formål = df_formål[['Forslag til endelig formålskode', 'Formålsbeskrivelse']]\n",
    "df_formål.columns=['code', 'description']\n",
    "df_formål['name'] = df_formål['code'].apply(lambda x: x.upper())\n",
    "df_formål = df_formål.append({'name': 'NOT AVAILABLE', 'description': 'Not Available -Verdi mangler'}, ignore_index=True)\n",
    "df_formål.drop(['code'], axis=1, inplace=True)\n",
    "df_formål['type'] = 'prosessing activity'\n",
    "df_formål.tail()"
   ]
  },
  {
   "cell_type": "code",
   "execution_count": 119,
   "metadata": {},
   "outputs": [],
   "source": [
    "for index, row in df_formål.iterrows():\n",
    "    id = index + 1\n",
    "    jsonb = row.to_json()\n",
    "    insert_query = f\"insert into tbl_node (prop) values ('{jsonb}')\"\n",
    "    cur.execute(insert_query, (jsonb,))\n",
    "    \n",
    "conn.commit()"
   ]
  },
  {
   "cell_type": "code",
   "execution_count": 120,
   "metadata": {},
   "outputs": [
    {
     "data": {
      "text/html": [
       "<div>\n",
       "<style scoped>\n",
       "    .dataframe tbody tr th:only-of-type {\n",
       "        vertical-align: middle;\n",
       "    }\n",
       "\n",
       "    .dataframe tbody tr th {\n",
       "        vertical-align: top;\n",
       "    }\n",
       "\n",
       "    .dataframe thead th {\n",
       "        text-align: right;\n",
       "    }\n",
       "</style>\n",
       "<table border=\"1\" class=\"dataframe\">\n",
       "  <thead>\n",
       "    <tr style=\"text-align: right;\">\n",
       "      <th></th>\n",
       "      <th>id</th>\n",
       "      <th>prop</th>\n",
       "      <th>created</th>\n",
       "    </tr>\n",
       "  </thead>\n",
       "  <tbody>\n",
       "    <tr>\n",
       "      <th>33</th>\n",
       "      <td>5dff4af7-e0dc-4c3a-a4a9-91a1d29f2568</td>\n",
       "      <td>{'name': 'UFØRETRYGD', 'type': 'prosessing act...</td>\n",
       "      <td>2019-11-20 12:19:02.164634</td>\n",
       "    </tr>\n",
       "    <tr>\n",
       "      <th>34</th>\n",
       "      <td>2b2c729f-55b3-4a4f-94dc-c026f3ead951</td>\n",
       "      <td>{'name': 'VENTELØNN', 'type': 'prosessing acti...</td>\n",
       "      <td>2019-11-20 12:19:02.164634</td>\n",
       "    </tr>\n",
       "    <tr>\n",
       "      <th>35</th>\n",
       "      <td>9ebadb16-0c22-4d1a-8735-8fe6f608822d</td>\n",
       "      <td>{'name': 'YRKESSKADE- OG SYKDOM', 'type': 'pro...</td>\n",
       "      <td>2019-11-20 12:19:02.164634</td>\n",
       "    </tr>\n",
       "    <tr>\n",
       "      <th>36</th>\n",
       "      <td>5ff8a031-29e8-4821-bcaa-7a509d47badc</td>\n",
       "      <td>{'name': 'YTELSER TIL FAMILIEPLEIER', 'type': ...</td>\n",
       "      <td>2019-11-20 12:19:02.164634</td>\n",
       "    </tr>\n",
       "    <tr>\n",
       "      <th>37</th>\n",
       "      <td>a60b0e0f-666e-473e-a6ec-236d2342e9c5</td>\n",
       "      <td>{'name': 'NOT AVAILABLE', 'type': 'prosessing ...</td>\n",
       "      <td>2019-11-20 12:19:02.164634</td>\n",
       "    </tr>\n",
       "  </tbody>\n",
       "</table>\n",
       "</div>"
      ],
      "text/plain": [
       "                                      id  \\\n",
       "33  5dff4af7-e0dc-4c3a-a4a9-91a1d29f2568   \n",
       "34  2b2c729f-55b3-4a4f-94dc-c026f3ead951   \n",
       "35  9ebadb16-0c22-4d1a-8735-8fe6f608822d   \n",
       "36  5ff8a031-29e8-4821-bcaa-7a509d47badc   \n",
       "37  a60b0e0f-666e-473e-a6ec-236d2342e9c5   \n",
       "\n",
       "                                                 prop  \\\n",
       "33  {'name': 'UFØRETRYGD', 'type': 'prosessing act...   \n",
       "34  {'name': 'VENTELØNN', 'type': 'prosessing acti...   \n",
       "35  {'name': 'YRKESSKADE- OG SYKDOM', 'type': 'pro...   \n",
       "36  {'name': 'YTELSER TIL FAMILIEPLEIER', 'type': ...   \n",
       "37  {'name': 'NOT AVAILABLE', 'type': 'prosessing ...   \n",
       "\n",
       "                      created  \n",
       "33 2019-11-20 12:19:02.164634  \n",
       "34 2019-11-20 12:19:02.164634  \n",
       "35 2019-11-20 12:19:02.164634  \n",
       "36 2019-11-20 12:19:02.164634  \n",
       "37 2019-11-20 12:19:02.164634  "
      ]
     },
     "execution_count": 120,
     "metadata": {},
     "output_type": "execute_result"
    }
   ],
   "source": [
    "df = sqlio.read_sql_query(\"select * from tbl_node\", conn)\n",
    "df.tail()"
   ]
  },
  {
   "cell_type": "markdown",
   "metadata": {},
   "source": [
    "### Purpose"
   ]
  },
  {
   "cell_type": "code",
   "execution_count": 121,
   "metadata": {},
   "outputs": [],
   "source": [
    "df_purpose = df_formål.copy()\n",
    "df_purpose['type'] = 'purpose'"
   ]
  },
  {
   "cell_type": "code",
   "execution_count": 122,
   "metadata": {},
   "outputs": [],
   "source": [
    "for i, row in df_purpose.iterrows():\n",
    "    jsonb = row.to_json()\n",
    "    insert_query = f\"insert into tbl_node (prop) values ('{jsonb}')\"\n",
    "    cur.execute(insert_query, (jsonb,))\n",
    "    \n",
    "conn.commit()"
   ]
  },
  {
   "cell_type": "code",
   "execution_count": 123,
   "metadata": {},
   "outputs": [
    {
     "data": {
      "text/html": [
       "<div>\n",
       "<style scoped>\n",
       "    .dataframe tbody tr th:only-of-type {\n",
       "        vertical-align: middle;\n",
       "    }\n",
       "\n",
       "    .dataframe tbody tr th {\n",
       "        vertical-align: top;\n",
       "    }\n",
       "\n",
       "    .dataframe thead th {\n",
       "        text-align: right;\n",
       "    }\n",
       "</style>\n",
       "<table border=\"1\" class=\"dataframe\">\n",
       "  <thead>\n",
       "    <tr style=\"text-align: right;\">\n",
       "      <th></th>\n",
       "      <th>id</th>\n",
       "      <th>prop</th>\n",
       "      <th>created</th>\n",
       "    </tr>\n",
       "  </thead>\n",
       "  <tbody>\n",
       "    <tr>\n",
       "      <th>71</th>\n",
       "      <td>7b461733-1314-4114-b3c4-0c9019afe67a</td>\n",
       "      <td>{'name': 'UFØRETRYGD', 'type': 'purpose', 'des...</td>\n",
       "      <td>2019-11-20 12:19:05.517673</td>\n",
       "    </tr>\n",
       "    <tr>\n",
       "      <th>72</th>\n",
       "      <td>50194587-a5bf-469e-aba7-c10b5f69de1c</td>\n",
       "      <td>{'name': 'VENTELØNN', 'type': 'purpose', 'desc...</td>\n",
       "      <td>2019-11-20 12:19:05.517673</td>\n",
       "    </tr>\n",
       "    <tr>\n",
       "      <th>73</th>\n",
       "      <td>27d1cb76-e748-497f-b783-27448fe3b79d</td>\n",
       "      <td>{'name': 'YRKESSKADE- OG SYKDOM', 'type': 'pur...</td>\n",
       "      <td>2019-11-20 12:19:05.517673</td>\n",
       "    </tr>\n",
       "    <tr>\n",
       "      <th>74</th>\n",
       "      <td>3f6e19c0-dd1d-45c4-b1ab-55960a89d685</td>\n",
       "      <td>{'name': 'YTELSER TIL FAMILIEPLEIER', 'type': ...</td>\n",
       "      <td>2019-11-20 12:19:05.517673</td>\n",
       "    </tr>\n",
       "    <tr>\n",
       "      <th>75</th>\n",
       "      <td>25e879a2-a69b-4168-9b96-613eead323b2</td>\n",
       "      <td>{'name': 'NOT AVAILABLE', 'type': 'purpose', '...</td>\n",
       "      <td>2019-11-20 12:19:05.517673</td>\n",
       "    </tr>\n",
       "  </tbody>\n",
       "</table>\n",
       "</div>"
      ],
      "text/plain": [
       "                                      id  \\\n",
       "71  7b461733-1314-4114-b3c4-0c9019afe67a   \n",
       "72  50194587-a5bf-469e-aba7-c10b5f69de1c   \n",
       "73  27d1cb76-e748-497f-b783-27448fe3b79d   \n",
       "74  3f6e19c0-dd1d-45c4-b1ab-55960a89d685   \n",
       "75  25e879a2-a69b-4168-9b96-613eead323b2   \n",
       "\n",
       "                                                 prop  \\\n",
       "71  {'name': 'UFØRETRYGD', 'type': 'purpose', 'des...   \n",
       "72  {'name': 'VENTELØNN', 'type': 'purpose', 'desc...   \n",
       "73  {'name': 'YRKESSKADE- OG SYKDOM', 'type': 'pur...   \n",
       "74  {'name': 'YTELSER TIL FAMILIEPLEIER', 'type': ...   \n",
       "75  {'name': 'NOT AVAILABLE', 'type': 'purpose', '...   \n",
       "\n",
       "                      created  \n",
       "71 2019-11-20 12:19:05.517673  \n",
       "72 2019-11-20 12:19:05.517673  \n",
       "73 2019-11-20 12:19:05.517673  \n",
       "74 2019-11-20 12:19:05.517673  \n",
       "75 2019-11-20 12:19:05.517673  "
      ]
     },
     "execution_count": 123,
     "metadata": {},
     "output_type": "execute_result"
    }
   ],
   "source": [
    "df = sqlio.read_sql_query(\"select * from tbl_node\", conn)\n",
    "df.tail()"
   ]
  },
  {
   "cell_type": "markdown",
   "metadata": {},
   "source": [
    "### Legal basis"
   ]
  },
  {
   "cell_type": "code",
   "execution_count": 124,
   "metadata": {},
   "outputs": [
    {
     "data": {
      "text/html": [
       "<div>\n",
       "<style scoped>\n",
       "    .dataframe tbody tr th:only-of-type {\n",
       "        vertical-align: middle;\n",
       "    }\n",
       "\n",
       "    .dataframe tbody tr th {\n",
       "        vertical-align: top;\n",
       "    }\n",
       "\n",
       "    .dataframe thead th {\n",
       "        text-align: right;\n",
       "    }\n",
       "</style>\n",
       "<table border=\"1\" class=\"dataframe\">\n",
       "  <thead>\n",
       "    <tr style=\"text-align: right;\">\n",
       "      <th></th>\n",
       "      <th>name</th>\n",
       "      <th>type</th>\n",
       "    </tr>\n",
       "  </thead>\n",
       "  <tbody>\n",
       "    <tr>\n",
       "      <th>0</th>\n",
       "      <td>Ftrl. § 11-20</td>\n",
       "      <td>legal_basis</td>\n",
       "    </tr>\n",
       "    <tr>\n",
       "      <th>1</th>\n",
       "      <td>Ftrl. §§ 3-16, 3-24, 3-25, 20-8.</td>\n",
       "      <td>legal_basis</td>\n",
       "    </tr>\n",
       "    <tr>\n",
       "      <th>2</th>\n",
       "      <td>Kapittel 3, 19, 20 0g 22</td>\n",
       "      <td>legal_basis</td>\n",
       "    </tr>\n",
       "    <tr>\n",
       "      <th>3</th>\n",
       "      <td>Ftrl § 3-2 og § 3-3</td>\n",
       "      <td>legal_basis</td>\n",
       "    </tr>\n",
       "    <tr>\n",
       "      <th>4</th>\n",
       "      <td>Barnetrygdloven § 9</td>\n",
       "      <td>legal_basis</td>\n",
       "    </tr>\n",
       "  </tbody>\n",
       "</table>\n",
       "</div>"
      ],
      "text/plain": [
       "                               name         type\n",
       "0                     Ftrl. § 11-20  legal_basis\n",
       "1  Ftrl. §§ 3-16, 3-24, 3-25, 20-8.  legal_basis\n",
       "2          Kapittel 3, 19, 20 0g 22  legal_basis\n",
       "3              Ftrl § 3-2 og § 3-3   legal_basis\n",
       "4               Barnetrygdloven § 9  legal_basis"
      ]
     },
     "execution_count": 124,
     "metadata": {},
     "output_type": "execute_result"
    }
   ],
   "source": [
    "sheet=xls.sheet_names[4]\n",
    "df_legal_basis = pd.read_excel(xls, sheet, encoding='latin1')\n",
    "df_legal_basis = df_legal_basis[['legalBasisDescription']].drop_duplicates()\n",
    "df_legal_basis.columns=['name']\n",
    "df_legal_basis = df_legal_basis.append({'name': 'NOT AVAILABLE'}, ignore_index=True)\n",
    "df_legal_basis['type'] = 'legal_basis'\n",
    "df_legal_basis.head()"
   ]
  },
  {
   "cell_type": "code",
   "execution_count": 125,
   "metadata": {},
   "outputs": [],
   "source": [
    "for i, row in df_legal_basis.iterrows():\n",
    "    jsonb = row.to_json()\n",
    "    insert_query = f\"insert into tbl_node (prop) values ('{jsonb}')\"\n",
    "    cur.execute(insert_query, (jsonb,))\n",
    "    \n",
    "conn.commit()"
   ]
  },
  {
   "cell_type": "code",
   "execution_count": 126,
   "metadata": {},
   "outputs": [
    {
     "data": {
      "text/html": [
       "<div>\n",
       "<style scoped>\n",
       "    .dataframe tbody tr th:only-of-type {\n",
       "        vertical-align: middle;\n",
       "    }\n",
       "\n",
       "    .dataframe tbody tr th {\n",
       "        vertical-align: top;\n",
       "    }\n",
       "\n",
       "    .dataframe thead th {\n",
       "        text-align: right;\n",
       "    }\n",
       "</style>\n",
       "<table border=\"1\" class=\"dataframe\">\n",
       "  <thead>\n",
       "    <tr style=\"text-align: right;\">\n",
       "      <th></th>\n",
       "      <th>id</th>\n",
       "      <th>prop</th>\n",
       "      <th>created</th>\n",
       "    </tr>\n",
       "  </thead>\n",
       "  <tbody>\n",
       "    <tr>\n",
       "      <th>232</th>\n",
       "      <td>7b461733-1314-4114-b3c4-0c9019afe67a</td>\n",
       "      <td>{'name': 'UFØRETRYGD', 'type': 'purpose', 'des...</td>\n",
       "      <td>2019-11-20 12:19:05.517673</td>\n",
       "    </tr>\n",
       "    <tr>\n",
       "      <th>233</th>\n",
       "      <td>50194587-a5bf-469e-aba7-c10b5f69de1c</td>\n",
       "      <td>{'name': 'VENTELØNN', 'type': 'purpose', 'desc...</td>\n",
       "      <td>2019-11-20 12:19:05.517673</td>\n",
       "    </tr>\n",
       "    <tr>\n",
       "      <th>234</th>\n",
       "      <td>27d1cb76-e748-497f-b783-27448fe3b79d</td>\n",
       "      <td>{'name': 'YRKESSKADE- OG SYKDOM', 'type': 'pur...</td>\n",
       "      <td>2019-11-20 12:19:05.517673</td>\n",
       "    </tr>\n",
       "    <tr>\n",
       "      <th>235</th>\n",
       "      <td>3f6e19c0-dd1d-45c4-b1ab-55960a89d685</td>\n",
       "      <td>{'name': 'YTELSER TIL FAMILIEPLEIER', 'type': ...</td>\n",
       "      <td>2019-11-20 12:19:05.517673</td>\n",
       "    </tr>\n",
       "    <tr>\n",
       "      <th>236</th>\n",
       "      <td>25e879a2-a69b-4168-9b96-613eead323b2</td>\n",
       "      <td>{'name': 'NOT AVAILABLE', 'type': 'purpose', '...</td>\n",
       "      <td>2019-11-20 12:19:05.517673</td>\n",
       "    </tr>\n",
       "  </tbody>\n",
       "</table>\n",
       "</div>"
      ],
      "text/plain": [
       "                                       id  \\\n",
       "232  7b461733-1314-4114-b3c4-0c9019afe67a   \n",
       "233  50194587-a5bf-469e-aba7-c10b5f69de1c   \n",
       "234  27d1cb76-e748-497f-b783-27448fe3b79d   \n",
       "235  3f6e19c0-dd1d-45c4-b1ab-55960a89d685   \n",
       "236  25e879a2-a69b-4168-9b96-613eead323b2   \n",
       "\n",
       "                                                  prop  \\\n",
       "232  {'name': 'UFØRETRYGD', 'type': 'purpose', 'des...   \n",
       "233  {'name': 'VENTELØNN', 'type': 'purpose', 'desc...   \n",
       "234  {'name': 'YRKESSKADE- OG SYKDOM', 'type': 'pur...   \n",
       "235  {'name': 'YTELSER TIL FAMILIEPLEIER', 'type': ...   \n",
       "236  {'name': 'NOT AVAILABLE', 'type': 'purpose', '...   \n",
       "\n",
       "                       created  \n",
       "232 2019-11-20 12:19:05.517673  \n",
       "233 2019-11-20 12:19:05.517673  \n",
       "234 2019-11-20 12:19:05.517673  \n",
       "235 2019-11-20 12:19:05.517673  \n",
       "236 2019-11-20 12:19:05.517673  "
      ]
     },
     "execution_count": 126,
     "metadata": {},
     "output_type": "execute_result"
    }
   ],
   "source": [
    "df = sqlio.read_sql_query(\"select * from tbl_node\", conn)\n",
    "df.tail()"
   ]
  },
  {
   "cell_type": "markdown",
   "metadata": {},
   "source": [
    "### Concepts"
   ]
  },
  {
   "cell_type": "code",
   "execution_count": 127,
   "metadata": {},
   "outputs": [
    {
     "data": {
      "text/html": [
       "<div>\n",
       "<style scoped>\n",
       "    .dataframe tbody tr th:only-of-type {\n",
       "        vertical-align: middle;\n",
       "    }\n",
       "\n",
       "    .dataframe tbody tr th {\n",
       "        vertical-align: top;\n",
       "    }\n",
       "\n",
       "    .dataframe thead th {\n",
       "        text-align: right;\n",
       "    }\n",
       "</style>\n",
       "<table border=\"1\" class=\"dataframe\">\n",
       "  <thead>\n",
       "    <tr style=\"text-align: right;\">\n",
       "      <th></th>\n",
       "      <th>name</th>\n",
       "      <th>description</th>\n",
       "      <th>type</th>\n",
       "    </tr>\n",
       "  </thead>\n",
       "  <tbody>\n",
       "    <tr>\n",
       "      <th>0</th>\n",
       "      <td>SIVILSTAND</td>\n",
       "      <td>En overordnet kategori som beskriver en person...</td>\n",
       "      <td>concept</td>\n",
       "    </tr>\n",
       "    <tr>\n",
       "      <th>1</th>\n",
       "      <td>ARBEIDSFORHOLD</td>\n",
       "      <td>Avtaleforhold hvor den ene part, arbeidstakere...</td>\n",
       "      <td>concept</td>\n",
       "    </tr>\n",
       "    <tr>\n",
       "      <th>2</th>\n",
       "      <td>KJØNN</td>\n",
       "      <td>TODO - mangler i begrepskatalogen og i MFNs be...</td>\n",
       "      <td>concept</td>\n",
       "    </tr>\n",
       "    <tr>\n",
       "      <th>3</th>\n",
       "      <td>NAVN</td>\n",
       "      <td>I Norge skal alle ha fornavn og ett enkelt ell...</td>\n",
       "      <td>concept</td>\n",
       "    </tr>\n",
       "    <tr>\n",
       "      <th>4</th>\n",
       "      <td>FØDSELSDATO</td>\n",
       "      <td>Datoen personen er født.</td>\n",
       "      <td>concept</td>\n",
       "    </tr>\n",
       "  </tbody>\n",
       "</table>\n",
       "</div>"
      ],
      "text/plain": [
       "             name                                        description     type\n",
       "0      SIVILSTAND  En overordnet kategori som beskriver en person...  concept\n",
       "1  ARBEIDSFORHOLD  Avtaleforhold hvor den ene part, arbeidstakere...  concept\n",
       "2           KJØNN  TODO - mangler i begrepskatalogen og i MFNs be...  concept\n",
       "3            NAVN  I Norge skal alle ha fornavn og ett enkelt ell...  concept\n",
       "4     FØDSELSDATO                           Datoen personen er født.  concept"
      ]
     },
     "execution_count": 127,
     "metadata": {},
     "output_type": "execute_result"
    }
   ],
   "source": [
    "sheet=xls.sheet_names[3]\n",
    "\n",
    "df_concepts = pd.read_excel(xls, sheet, encoding='latin1')\n",
    "df_concepts = df_concepts[['title', 'description']]\n",
    "df_concepts.columns=['name', 'description']\n",
    "df_concepts['name'] = df_concepts['name'].apply(lambda x: x.strip().upper())\n",
    "df_concepts = df_concepts.append({'name': 'NOT AVAILABLE', 'description': 'Not Available -Verdi mangler'}, ignore_index=True).drop_duplicates()\n",
    "df_concepts['type'] = 'concept'\n",
    "df_concepts.head()"
   ]
  },
  {
   "cell_type": "code",
   "execution_count": 130,
   "metadata": {},
   "outputs": [],
   "source": [
    "for i, row in df_concepts.iterrows():\n",
    "    jsonb = row.to_json()\n",
    "    insert_query = f\"insert into tbl_node (prop) values ('{jsonb}')\"\n",
    "    cur.execute(insert_query, (jsonb,))\n",
    "    \n",
    "conn.commit()"
   ]
  },
  {
   "cell_type": "code",
   "execution_count": 131,
   "metadata": {},
   "outputs": [
    {
     "data": {
      "text/html": [
       "<div>\n",
       "<style scoped>\n",
       "    .dataframe tbody tr th:only-of-type {\n",
       "        vertical-align: middle;\n",
       "    }\n",
       "\n",
       "    .dataframe tbody tr th {\n",
       "        vertical-align: top;\n",
       "    }\n",
       "\n",
       "    .dataframe thead th {\n",
       "        text-align: right;\n",
       "    }\n",
       "</style>\n",
       "<table border=\"1\" class=\"dataframe\">\n",
       "  <thead>\n",
       "    <tr style=\"text-align: right;\">\n",
       "      <th></th>\n",
       "      <th>id</th>\n",
       "      <th>prop</th>\n",
       "      <th>created</th>\n",
       "    </tr>\n",
       "  </thead>\n",
       "  <tbody>\n",
       "    <tr>\n",
       "      <th>253</th>\n",
       "      <td>f9f27c67-f5c0-44bd-9f4e-1e3089d4e1fc</td>\n",
       "      <td>{'name': 'BOSTEDSADRESSE I UTLANDET', 'type': ...</td>\n",
       "      <td>2019-11-20 12:21:02.296133</td>\n",
       "    </tr>\n",
       "    <tr>\n",
       "      <th>254</th>\n",
       "      <td>1036c65b-d5e5-4d12-b13d-ffed7278fd8b</td>\n",
       "      <td>{'name': 'FORELDREANSVAR', 'type': 'concept', ...</td>\n",
       "      <td>2019-11-20 12:21:02.296133</td>\n",
       "    </tr>\n",
       "    <tr>\n",
       "      <th>255</th>\n",
       "      <td>c3af9ec3-16e5-43a5-a290-597c5a0a6f8d</td>\n",
       "      <td>{'name': 'FORSTERFORELDRE', 'type': 'concept',...</td>\n",
       "      <td>2019-11-20 12:21:02.296133</td>\n",
       "    </tr>\n",
       "    <tr>\n",
       "      <th>256</th>\n",
       "      <td>adf51614-b8a9-4302-9cb4-469d2969ed2b</td>\n",
       "      <td>{'name': 'FULLMAKT', 'type': 'concept', 'descr...</td>\n",
       "      <td>2019-11-20 12:21:02.296133</td>\n",
       "    </tr>\n",
       "    <tr>\n",
       "      <th>257</th>\n",
       "      <td>67e02f0b-d9f2-4b5b-bb34-ccf662339813</td>\n",
       "      <td>{'name': 'NOT AVAILABLE', 'type': 'concept', '...</td>\n",
       "      <td>2019-11-20 12:21:02.296133</td>\n",
       "    </tr>\n",
       "  </tbody>\n",
       "</table>\n",
       "</div>"
      ],
      "text/plain": [
       "                                       id  \\\n",
       "253  f9f27c67-f5c0-44bd-9f4e-1e3089d4e1fc   \n",
       "254  1036c65b-d5e5-4d12-b13d-ffed7278fd8b   \n",
       "255  c3af9ec3-16e5-43a5-a290-597c5a0a6f8d   \n",
       "256  adf51614-b8a9-4302-9cb4-469d2969ed2b   \n",
       "257  67e02f0b-d9f2-4b5b-bb34-ccf662339813   \n",
       "\n",
       "                                                  prop  \\\n",
       "253  {'name': 'BOSTEDSADRESSE I UTLANDET', 'type': ...   \n",
       "254  {'name': 'FORELDREANSVAR', 'type': 'concept', ...   \n",
       "255  {'name': 'FORSTERFORELDRE', 'type': 'concept',...   \n",
       "256  {'name': 'FULLMAKT', 'type': 'concept', 'descr...   \n",
       "257  {'name': 'NOT AVAILABLE', 'type': 'concept', '...   \n",
       "\n",
       "                       created  \n",
       "253 2019-11-20 12:21:02.296133  \n",
       "254 2019-11-20 12:21:02.296133  \n",
       "255 2019-11-20 12:21:02.296133  \n",
       "256 2019-11-20 12:21:02.296133  \n",
       "257 2019-11-20 12:21:02.296133  "
      ]
     },
     "execution_count": 131,
     "metadata": {},
     "output_type": "execute_result"
    }
   ],
   "source": [
    "df = sqlio.read_sql_query(\"select * from tbl_node\", conn)\n",
    "df.tail()"
   ]
  },
  {
   "cell_type": "markdown",
   "metadata": {},
   "source": [
    "### Categories"
   ]
  },
  {
   "cell_type": "code",
   "execution_count": 132,
   "metadata": {},
   "outputs": [
    {
     "data": {
      "text/html": [
       "<div>\n",
       "<style scoped>\n",
       "    .dataframe tbody tr th:only-of-type {\n",
       "        vertical-align: middle;\n",
       "    }\n",
       "\n",
       "    .dataframe tbody tr th {\n",
       "        vertical-align: top;\n",
       "    }\n",
       "\n",
       "    .dataframe thead th {\n",
       "        text-align: right;\n",
       "    }\n",
       "</style>\n",
       "<table border=\"1\" class=\"dataframe\">\n",
       "  <thead>\n",
       "    <tr style=\"text-align: right;\">\n",
       "      <th></th>\n",
       "      <th>name</th>\n",
       "      <th>type</th>\n",
       "    </tr>\n",
       "  </thead>\n",
       "  <tbody>\n",
       "    <tr>\n",
       "      <th>0</th>\n",
       "      <td>PERSONALIA</td>\n",
       "      <td>category</td>\n",
       "    </tr>\n",
       "    <tr>\n",
       "      <th>1</th>\n",
       "      <td>ARBEIDSFORHOLD</td>\n",
       "      <td>category</td>\n",
       "    </tr>\n",
       "    <tr>\n",
       "      <th>6</th>\n",
       "      <td>KONTAKTOPPLYSNINGER</td>\n",
       "      <td>category</td>\n",
       "    </tr>\n",
       "    <tr>\n",
       "      <th>9</th>\n",
       "      <td>FAMILIERELASJONER</td>\n",
       "      <td>category</td>\n",
       "    </tr>\n",
       "    <tr>\n",
       "      <th>16</th>\n",
       "      <td>FOLKETRYGD</td>\n",
       "      <td>category</td>\n",
       "    </tr>\n",
       "  </tbody>\n",
       "</table>\n",
       "</div>"
      ],
      "text/plain": [
       "                   name      type\n",
       "0            PERSONALIA  category\n",
       "1        ARBEIDSFORHOLD  category\n",
       "6   KONTAKTOPPLYSNINGER  category\n",
       "9     FAMILIERELASJONER  category\n",
       "16           FOLKETRYGD  category"
      ]
     },
     "execution_count": 132,
     "metadata": {},
     "output_type": "execute_result"
    }
   ],
   "source": [
    "sheet=xls.sheet_names[3]\n",
    "df_categories = pd.read_excel(xls, sheet, encoding='latin1')\n",
    "df_categories = df_categories[['categories']]\n",
    "df_categories.columns=['name']\n",
    "df_categories['name'] = df_categories['name'].apply(lambda x: x.strip().upper())\n",
    "df_categories = df_categories.append({'name': 'NOT AVAILABLE'}, ignore_index=True).drop_duplicates()\n",
    "df_categories['type'] = 'category'\n",
    "df_categories.head()"
   ]
  },
  {
   "cell_type": "code",
   "execution_count": 136,
   "metadata": {},
   "outputs": [],
   "source": [
    "for i, row in df_categories.iterrows():\n",
    "    jsonb = row.to_json()\n",
    "    insert_query = f\"insert into tbl_node (prop) values ('{jsonb}')\"\n",
    "    cur.execute(insert_query, (jsonb,))\n",
    "    \n",
    "conn.commit()"
   ]
  },
  {
   "cell_type": "markdown",
   "metadata": {},
   "source": [
    "### Nodes"
   ]
  },
  {
   "cell_type": "code",
   "execution_count": 137,
   "metadata": {},
   "outputs": [
    {
     "data": {
      "text/html": [
       "<div>\n",
       "<style scoped>\n",
       "    .dataframe tbody tr th:only-of-type {\n",
       "        vertical-align: middle;\n",
       "    }\n",
       "\n",
       "    .dataframe tbody tr th {\n",
       "        vertical-align: top;\n",
       "    }\n",
       "\n",
       "    .dataframe thead th {\n",
       "        text-align: right;\n",
       "    }\n",
       "</style>\n",
       "<table border=\"1\" class=\"dataframe\">\n",
       "  <thead>\n",
       "    <tr style=\"text-align: right;\">\n",
       "      <th></th>\n",
       "      <th>id</th>\n",
       "      <th>prop</th>\n",
       "      <th>created</th>\n",
       "      <th>name</th>\n",
       "      <th>type</th>\n",
       "    </tr>\n",
       "  </thead>\n",
       "  <tbody>\n",
       "    <tr>\n",
       "      <th>0</th>\n",
       "      <td>3eae9907-c315-4884-9493-18a1ecbce9ae</td>\n",
       "      <td>{'name': 'Ftrl. § 11-20', 'type': 'legal_basis'}</td>\n",
       "      <td>2019-11-20 12:19:09.509150</td>\n",
       "      <td>Ftrl. § 11-20</td>\n",
       "      <td>legal_basis</td>\n",
       "    </tr>\n",
       "    <tr>\n",
       "      <th>1</th>\n",
       "      <td>4e7f41a9-2159-4b62-a1cd-f33de8f96fb6</td>\n",
       "      <td>{'name': 'Ftrl. §§ 3-16, 3-24, 3-25, 20-8.', '...</td>\n",
       "      <td>2019-11-20 12:19:09.509150</td>\n",
       "      <td>Ftrl. §§ 3-16, 3-24, 3-25, 20-8.</td>\n",
       "      <td>legal_basis</td>\n",
       "    </tr>\n",
       "    <tr>\n",
       "      <th>2</th>\n",
       "      <td>b1f03d11-b55b-481a-8ba2-8feb50cdb218</td>\n",
       "      <td>{'name': 'Kapittel 3, 19, 20 0g 22', 'type': '...</td>\n",
       "      <td>2019-11-20 12:19:09.509150</td>\n",
       "      <td>Kapittel 3, 19, 20 0g 22</td>\n",
       "      <td>legal_basis</td>\n",
       "    </tr>\n",
       "    <tr>\n",
       "      <th>3</th>\n",
       "      <td>b1c79f34-862f-4cc8-b317-79e494e1b133</td>\n",
       "      <td>{'name': 'Ftrl § 3-2 og § 3-3 ', 'type': 'lega...</td>\n",
       "      <td>2019-11-20 12:19:09.509150</td>\n",
       "      <td>Ftrl § 3-2 og § 3-3</td>\n",
       "      <td>legal_basis</td>\n",
       "    </tr>\n",
       "    <tr>\n",
       "      <th>4</th>\n",
       "      <td>de212adf-a92b-4ba1-8081-57c464778055</td>\n",
       "      <td>{'name': 'Barnetrygdloven § 9', 'type': 'legal...</td>\n",
       "      <td>2019-11-20 12:19:09.509150</td>\n",
       "      <td>Barnetrygdloven § 9</td>\n",
       "      <td>legal_basis</td>\n",
       "    </tr>\n",
       "  </tbody>\n",
       "</table>\n",
       "</div>"
      ],
      "text/plain": [
       "                                     id  \\\n",
       "0  3eae9907-c315-4884-9493-18a1ecbce9ae   \n",
       "1  4e7f41a9-2159-4b62-a1cd-f33de8f96fb6   \n",
       "2  b1f03d11-b55b-481a-8ba2-8feb50cdb218   \n",
       "3  b1c79f34-862f-4cc8-b317-79e494e1b133   \n",
       "4  de212adf-a92b-4ba1-8081-57c464778055   \n",
       "\n",
       "                                                prop  \\\n",
       "0   {'name': 'Ftrl. § 11-20', 'type': 'legal_basis'}   \n",
       "1  {'name': 'Ftrl. §§ 3-16, 3-24, 3-25, 20-8.', '...   \n",
       "2  {'name': 'Kapittel 3, 19, 20 0g 22', 'type': '...   \n",
       "3  {'name': 'Ftrl § 3-2 og § 3-3 ', 'type': 'lega...   \n",
       "4  {'name': 'Barnetrygdloven § 9', 'type': 'legal...   \n",
       "\n",
       "                     created                              name         type  \n",
       "0 2019-11-20 12:19:09.509150                     Ftrl. § 11-20  legal_basis  \n",
       "1 2019-11-20 12:19:09.509150  Ftrl. §§ 3-16, 3-24, 3-25, 20-8.  legal_basis  \n",
       "2 2019-11-20 12:19:09.509150          Kapittel 3, 19, 20 0g 22  legal_basis  \n",
       "3 2019-11-20 12:19:09.509150              Ftrl § 3-2 og § 3-3   legal_basis  \n",
       "4 2019-11-20 12:19:09.509150               Barnetrygdloven § 9  legal_basis  "
      ]
     },
     "execution_count": 137,
     "metadata": {},
     "output_type": "execute_result"
    }
   ],
   "source": [
    "df_nodes = sqlio.read_sql_query(\"select * from tbl_node\", conn)\n",
    "df_nodes['name'] = df_nodes['prop'].apply(lambda x : x['name'])\n",
    "df_nodes['type'] = df_nodes['prop'].apply(lambda x : x['type'])\n",
    "df_nodes.head()"
   ]
  },
  {
   "cell_type": "markdown",
   "metadata": {},
   "source": [
    "### Edges"
   ]
  },
  {
   "cell_type": "code",
   "execution_count": 138,
   "metadata": {},
   "outputs": [
    {
     "data": {
      "text/html": [
       "<div>\n",
       "<style scoped>\n",
       "    .dataframe tbody tr th:only-of-type {\n",
       "        vertical-align: middle;\n",
       "    }\n",
       "\n",
       "    .dataframe tbody tr th {\n",
       "        vertical-align: top;\n",
       "    }\n",
       "\n",
       "    .dataframe thead th {\n",
       "        text-align: right;\n",
       "    }\n",
       "</style>\n",
       "<table border=\"1\" class=\"dataframe\">\n",
       "  <thead>\n",
       "    <tr style=\"text-align: right;\">\n",
       "      <th></th>\n",
       "      <th>source</th>\n",
       "      <th>target</th>\n",
       "    </tr>\n",
       "  </thead>\n",
       "  <tbody>\n",
       "    <tr>\n",
       "      <th>0</th>\n",
       "      <td>SIVILSTAND</td>\n",
       "      <td>PERSONALIA</td>\n",
       "    </tr>\n",
       "    <tr>\n",
       "      <th>1</th>\n",
       "      <td>ARBEIDSFORHOLD</td>\n",
       "      <td>ARBEIDSFORHOLD</td>\n",
       "    </tr>\n",
       "    <tr>\n",
       "      <th>2</th>\n",
       "      <td>KJØNN</td>\n",
       "      <td>PERSONALIA</td>\n",
       "    </tr>\n",
       "    <tr>\n",
       "      <th>3</th>\n",
       "      <td>NAVN</td>\n",
       "      <td>PERSONALIA</td>\n",
       "    </tr>\n",
       "    <tr>\n",
       "      <th>4</th>\n",
       "      <td>FØDSELSDATO</td>\n",
       "      <td>PERSONALIA</td>\n",
       "    </tr>\n",
       "  </tbody>\n",
       "</table>\n",
       "</div>"
      ],
      "text/plain": [
       "           source          target\n",
       "0      SIVILSTAND      PERSONALIA\n",
       "1  ARBEIDSFORHOLD  ARBEIDSFORHOLD\n",
       "2           KJØNN      PERSONALIA\n",
       "3            NAVN      PERSONALIA\n",
       "4     FØDSELSDATO      PERSONALIA"
      ]
     },
     "execution_count": 138,
     "metadata": {},
     "output_type": "execute_result"
    }
   ],
   "source": [
    "sheet=xls.sheet_names[3]\n",
    "df_edges = pd.read_excel(xls, sheet, encoding='latin1')\n",
    "df_edges = df_edges[['title', 'categories']].drop_duplicates()\n",
    "df_edges.columns = ['source', 'target']\n",
    "df_edges['source'] = df_edges['source'].apply(lambda x: x.strip().upper())\n",
    "df_edges['target'] = df_edges['target'].apply(lambda x: x.strip().upper())\n",
    "df_edges.drop_duplicates()\n",
    "\n",
    "df_edges.head()"
   ]
  },
  {
   "cell_type": "code",
   "execution_count": 139,
   "metadata": {},
   "outputs": [
    {
     "ename": "ProgrammingError",
     "evalue": "syntax error at or near \"fe037f5\"\nLINE 1: insert into tbl_edge values (3fe037f5-533b-4a65-97e9-8990c3c...\n                                      ^\n",
     "output_type": "error",
     "traceback": [
      "\u001b[0;31m---------------------------------------------------------------------------\u001b[0m",
      "\u001b[0;31mProgrammingError\u001b[0m                          Traceback (most recent call last)",
      "\u001b[0;32m<ipython-input-139-c1a9ad369a43>\u001b[0m in \u001b[0;36m<module>\u001b[0;34m\u001b[0m\n\u001b[1;32m      6\u001b[0m     \u001b[0msource_id\u001b[0m \u001b[0;34m=\u001b[0m \u001b[0mdf_nodes\u001b[0m\u001b[0;34m.\u001b[0m\u001b[0mloc\u001b[0m\u001b[0;34m[\u001b[0m\u001b[0;34m(\u001b[0m\u001b[0;34m(\u001b[0m\u001b[0mdf_nodes\u001b[0m\u001b[0;34m[\u001b[0m\u001b[0;34m'name'\u001b[0m\u001b[0;34m]\u001b[0m \u001b[0;34m==\u001b[0m \u001b[0mrow\u001b[0m\u001b[0;34m[\u001b[0m\u001b[0;34m'source'\u001b[0m\u001b[0;34m]\u001b[0m\u001b[0;34m)\u001b[0m \u001b[0;34m&\u001b[0m \u001b[0;34m(\u001b[0m\u001b[0mdf_nodes\u001b[0m\u001b[0;34m[\u001b[0m\u001b[0;34m'type'\u001b[0m\u001b[0;34m]\u001b[0m \u001b[0;34m==\u001b[0m \u001b[0;34m'concept'\u001b[0m\u001b[0;34m)\u001b[0m\u001b[0;34m)\u001b[0m\u001b[0;34m,\u001b[0m \u001b[0;34m'id'\u001b[0m\u001b[0;34m]\u001b[0m\u001b[0;34m.\u001b[0m\u001b[0mitem\u001b[0m\u001b[0;34m(\u001b[0m\u001b[0;34m)\u001b[0m\u001b[0;34m\u001b[0m\u001b[0;34m\u001b[0m\u001b[0m\n\u001b[1;32m      7\u001b[0m     \u001b[0mtarget_id\u001b[0m \u001b[0;34m=\u001b[0m \u001b[0mdf_nodes\u001b[0m\u001b[0;34m.\u001b[0m\u001b[0mloc\u001b[0m\u001b[0;34m[\u001b[0m\u001b[0;34m(\u001b[0m\u001b[0;34m(\u001b[0m\u001b[0mdf_nodes\u001b[0m\u001b[0;34m[\u001b[0m\u001b[0;34m'name'\u001b[0m\u001b[0;34m]\u001b[0m \u001b[0;34m==\u001b[0m \u001b[0mrow\u001b[0m\u001b[0;34m[\u001b[0m\u001b[0;34m'target'\u001b[0m\u001b[0;34m]\u001b[0m\u001b[0;34m)\u001b[0m \u001b[0;34m&\u001b[0m \u001b[0;34m(\u001b[0m\u001b[0mdf_nodes\u001b[0m\u001b[0;34m[\u001b[0m\u001b[0;34m'type'\u001b[0m\u001b[0;34m]\u001b[0m \u001b[0;34m==\u001b[0m \u001b[0;34m'category'\u001b[0m\u001b[0;34m)\u001b[0m\u001b[0;34m)\u001b[0m\u001b[0;34m,\u001b[0m \u001b[0;34m'id'\u001b[0m\u001b[0;34m]\u001b[0m\u001b[0;34m.\u001b[0m\u001b[0mitem\u001b[0m\u001b[0;34m(\u001b[0m\u001b[0;34m)\u001b[0m\u001b[0;34m\u001b[0m\u001b[0;34m\u001b[0m\u001b[0m\n\u001b[0;32m----> 8\u001b[0;31m     \u001b[0mcur\u001b[0m\u001b[0;34m.\u001b[0m\u001b[0mexecute\u001b[0m\u001b[0;34m(\u001b[0m\u001b[0;34mf\"insert into tbl_edge values ({source_id},{target_id},array[5],now());\"\u001b[0m\u001b[0;34m)\u001b[0m\u001b[0;34m\u001b[0m\u001b[0;34m\u001b[0m\u001b[0m\n\u001b[0m\u001b[1;32m      9\u001b[0m \u001b[0;34m\u001b[0m\u001b[0m\n\u001b[1;32m     10\u001b[0m \u001b[0mconn\u001b[0m\u001b[0;34m.\u001b[0m\u001b[0mcommit\u001b[0m\u001b[0;34m(\u001b[0m\u001b[0;34m)\u001b[0m\u001b[0;34m\u001b[0m\u001b[0;34m\u001b[0m\u001b[0m\n",
      "\u001b[0;31mProgrammingError\u001b[0m: syntax error at or near \"fe037f5\"\nLINE 1: insert into tbl_edge values (3fe037f5-533b-4a65-97e9-8990c3c...\n                                      ^\n"
     ]
    }
   ],
   "source": [
    "cur.execute(\"delete from tbl_edge\")\n",
    "conn.commit()\n",
    "\n",
    "for index, row in df_edges.iterrows():\n",
    "    df_nodes.loc[((df_nodes['name'] == row['source']) & (df_nodes['type'] == 'concept')), 'id']\n",
    "    source_id = df_nodes.loc[((df_nodes['name'] == row['source']) & (df_nodes['type'] == 'concept')), 'id'].item()\n",
    "    target_id = df_nodes.loc[((df_nodes['name'] == row['target']) & (df_nodes['type'] == 'category')), 'id'].item()\n",
    "    cur.execute(f\"insert into tbl_edge values ({source_id},{target_id},array[5],now());\")\n",
    "    \n",
    "conn.commit()"
   ]
  },
  {
   "cell_type": "code",
   "execution_count": 27,
   "metadata": {},
   "outputs": [
    {
     "data": {
      "text/html": [
       "<div>\n",
       "<style scoped>\n",
       "    .dataframe tbody tr th:only-of-type {\n",
       "        vertical-align: middle;\n",
       "    }\n",
       "\n",
       "    .dataframe tbody tr th {\n",
       "        vertical-align: top;\n",
       "    }\n",
       "\n",
       "    .dataframe thead th {\n",
       "        text-align: right;\n",
       "    }\n",
       "</style>\n",
       "<table border=\"1\" class=\"dataframe\">\n",
       "  <thead>\n",
       "    <tr style=\"text-align: right;\">\n",
       "      <th></th>\n",
       "      <th>source</th>\n",
       "      <th>target</th>\n",
       "    </tr>\n",
       "  </thead>\n",
       "  <tbody>\n",
       "    <tr>\n",
       "      <th>0</th>\n",
       "      <td>PERSONALIA</td>\n",
       "      <td>SIVILSTAND</td>\n",
       "    </tr>\n",
       "    <tr>\n",
       "      <th>1</th>\n",
       "      <td>ARBEIDSFORHOLD</td>\n",
       "      <td>ARBEIDSFORHOLD</td>\n",
       "    </tr>\n",
       "    <tr>\n",
       "      <th>2</th>\n",
       "      <td>PERSONALIA</td>\n",
       "      <td>KJØNN</td>\n",
       "    </tr>\n",
       "    <tr>\n",
       "      <th>3</th>\n",
       "      <td>PERSONALIA</td>\n",
       "      <td>NAVN</td>\n",
       "    </tr>\n",
       "    <tr>\n",
       "      <th>4</th>\n",
       "      <td>PERSONALIA</td>\n",
       "      <td>FØDSELSDATO</td>\n",
       "    </tr>\n",
       "  </tbody>\n",
       "</table>\n",
       "</div>"
      ],
      "text/plain": [
       "           source          target\n",
       "0      PERSONALIA      SIVILSTAND\n",
       "1  ARBEIDSFORHOLD  ARBEIDSFORHOLD\n",
       "2      PERSONALIA           KJØNN\n",
       "3      PERSONALIA            NAVN\n",
       "4      PERSONALIA     FØDSELSDATO"
      ]
     },
     "execution_count": 27,
     "metadata": {},
     "output_type": "execute_result"
    }
   ],
   "source": [
    "df_edges = pd.read_excel(xls, sheet, encoding='latin1')\n",
    "df_edges = df_edges[['categories', 'title']].drop_duplicates()\n",
    "df_edges.columns = ['source', 'target']\n",
    "df_edges['source'] = df_edges['source'].apply(lambda x: x.strip().upper())\n",
    "df_edges['target'] = df_edges['target'].apply(lambda x: x.strip().upper())\n",
    "df_edges.drop_duplicates()\n",
    "\n",
    "df_edges.head()"
   ]
  },
  {
   "cell_type": "code",
   "execution_count": 28,
   "metadata": {},
   "outputs": [],
   "source": [
    "for index, row in df_edges.iterrows():\n",
    "    df_nodes.loc[((df_nodes['name'] == row['source']) & (df_nodes['type'] == 'concept')), 'id']\n",
    "    source_id = df_nodes.loc[((df_nodes['name'] == row['source']) & (df_nodes['type'] == 'category')), 'id'].item()\n",
    "    target_id = df_nodes.loc[((df_nodes['name'] == row['target']) & (df_nodes['type'] == 'concept')), 'id'].item()\n",
    "    cur.execute(f\"insert into tbl_edge values ({source_id},{target_id},array[6],now());\")\n",
    "    \n",
    "conn.commit()\n"
   ]
  },
  {
   "cell_type": "code",
   "execution_count": 29,
   "metadata": {},
   "outputs": [
    {
     "data": {
      "text/html": [
       "<div>\n",
       "<style scoped>\n",
       "    .dataframe tbody tr th:only-of-type {\n",
       "        vertical-align: middle;\n",
       "    }\n",
       "\n",
       "    .dataframe tbody tr th {\n",
       "        vertical-align: top;\n",
       "    }\n",
       "\n",
       "    .dataframe thead th {\n",
       "        text-align: right;\n",
       "    }\n",
       "</style>\n",
       "<table border=\"1\" class=\"dataframe\">\n",
       "  <thead>\n",
       "    <tr style=\"text-align: right;\">\n",
       "      <th></th>\n",
       "      <th>n1</th>\n",
       "      <th>n2</th>\n",
       "      <th>prop</th>\n",
       "      <th>created</th>\n",
       "    </tr>\n",
       "  </thead>\n",
       "  <tbody>\n",
       "    <tr>\n",
       "      <th>0</th>\n",
       "      <td>238</td>\n",
       "      <td>259</td>\n",
       "      <td>[5]</td>\n",
       "      <td>2019-11-19 20:23:44.548669</td>\n",
       "    </tr>\n",
       "    <tr>\n",
       "      <th>1</th>\n",
       "      <td>239</td>\n",
       "      <td>260</td>\n",
       "      <td>[5]</td>\n",
       "      <td>2019-11-19 20:23:44.548669</td>\n",
       "    </tr>\n",
       "    <tr>\n",
       "      <th>2</th>\n",
       "      <td>240</td>\n",
       "      <td>259</td>\n",
       "      <td>[5]</td>\n",
       "      <td>2019-11-19 20:23:44.548669</td>\n",
       "    </tr>\n",
       "    <tr>\n",
       "      <th>3</th>\n",
       "      <td>241</td>\n",
       "      <td>259</td>\n",
       "      <td>[5]</td>\n",
       "      <td>2019-11-19 20:23:44.548669</td>\n",
       "    </tr>\n",
       "    <tr>\n",
       "      <th>4</th>\n",
       "      <td>242</td>\n",
       "      <td>259</td>\n",
       "      <td>[5]</td>\n",
       "      <td>2019-11-19 20:23:44.548669</td>\n",
       "    </tr>\n",
       "  </tbody>\n",
       "</table>\n",
       "</div>"
      ],
      "text/plain": [
       "    n1   n2 prop                    created\n",
       "0  238  259  [5] 2019-11-19 20:23:44.548669\n",
       "1  239  260  [5] 2019-11-19 20:23:44.548669\n",
       "2  240  259  [5] 2019-11-19 20:23:44.548669\n",
       "3  241  259  [5] 2019-11-19 20:23:44.548669\n",
       "4  242  259  [5] 2019-11-19 20:23:44.548669"
      ]
     },
     "execution_count": 29,
     "metadata": {},
     "output_type": "execute_result"
    }
   ],
   "source": [
    "sql = \"select * from tbl_edge\"\n",
    "df = sqlio.read_sql_query(sql, conn)\n",
    "df.head()"
   ]
  },
  {
   "cell_type": "code",
   "execution_count": 30,
   "metadata": {},
   "outputs": [],
   "source": [
    "sql = \"\"\"\n",
    "create or replace function graph_search1(      \n",
    "  IN i_root int,                       -- The node that the search is based on        \n",
    "  IN i_depth int  default 99999,       -- the tier to search (the depth limit)      \n",
    "  IN i_limit int8 default 2000000000,  -- limit the number of records returned for each tier      \n",
    "  OUT o_path int[],                    -- output: path, an array of IDs      \n",
    "  OUT o_point1 int,                    -- output: point 1 ID      \n",
    "  OUT o_point2 int,                    -- output: point 2 ID      \n",
    "  OUT o_link_prop int2[],              -- output: the connection property between the two current points      \n",
    "  OUT o_link_prop_all text,            -- output: the connection property from the starting node to the current node      \n",
    "  OUT o_depth int                      -- output: current depth (tier)      \n",
    ") returns setof record as \n",
    "$$\n",
    "      \n",
    "declare      \n",
    "  sql text;      \n",
    "begin      \n",
    "sql := format($_$      \n",
    "WITH RECURSIVE search_graph(        \n",
    "  n1,     -- point 1        \n",
    "  n2,     -- point 2        \n",
    "  prop,   -- current edge property      \n",
    "  all_prop,  -- properties of all edges  \n",
    "  depth,  -- current depth, starting from 1         \n",
    "  path    -- path, stored as an array         \n",
    ") AS (        \n",
    "        select n1,n2,prop,all_prop,depth,path from (        \n",
    "        SELECT                               -- ROOT node query        \n",
    "          g.n1,                              -- point 1        \n",
    "          g.n2,                              -- point 2        \n",
    "          g.prop,                            -- edge property        \n",
    "      g.prop::text as all_prop,          -- properties of all edges  \n",
    "          1 depth,                           -- initial depth=1        \n",
    "          ARRAY[g.n1, g.n2] path             -- initial path        \n",
    "        FROM tbl_edge AS g         \n",
    "        WHERE         \n",
    "          n1 = %s                            -- ROOT node=?        \n",
    "          limit %s                           -- How many records are limited at each tier?        \n",
    "        ) t        \n",
    "      UNION ALL        \n",
    "        select n1,n2,prop,all_prop,depth,path from (        \n",
    "        SELECT                               -- recursive clause         \n",
    "          g.n1,                              -- point 1        \n",
    "          g.n2,                              -- point 2        \n",
    "          g.prop,                            -- edge property     \n",
    "      sg.all_prop || g.prop::text as all_prop,    -- properties of all edges  \n",
    "          sg.depth + 1 depth,                   -- depth +1        \n",
    "          sg.path || g.n2 path                 -- Add a new point to the path        \n",
    "        FROM tbl_edge AS g, search_graph AS sg    -- circular INNER JOIN        \n",
    "        WHERE         \n",
    "          g.n1 = sg.n2                       -- recursive JOIN condition        \n",
    "          AND (g.n2 <> ALL(sg.path))                      -- Prevent loop, determine whether it is a loop and judge if the new point is already in the previous path   \n",
    "          AND sg.depth <= %s                 -- search depth =?          \n",
    "          limit %s                           -- How many records are limited at each tier?       \n",
    "        ) t        \n",
    ")        \n",
    "SELECT path as o_path, n1 as o_point1, n2 as o_point2, prop as o_link_prop, all_prop as o_link_prop_all, depth as o_depth      \n",
    "FROM search_graph;                           -- query a recursive table. You can add LIMIT output or use a cursor       \n",
    "$_$, i_root, i_limit, i_depth, i_limit      \n",
    ");      \n",
    "      \n",
    "return query execute sql;      \n",
    "      \n",
    "end;      \n",
    "\n",
    "$$\n",
    " language plpgsql strict;   \n",
    "\"\"\"\n",
    "\n",
    "cur.execute(sql)"
   ]
  },
  {
   "cell_type": "code",
   "execution_count": 31,
   "metadata": {},
   "outputs": [],
   "source": [
    "conn.commit()"
   ]
  },
  {
   "cell_type": "code",
   "execution_count": 32,
   "metadata": {},
   "outputs": [
    {
     "name": "stdout",
     "output_type": "stream",
     "text": [
      "CPU times: user 1.96 ms, sys: 1.08 ms, total: 3.03 ms\n",
      "Wall time: 10.4 ms\n"
     ]
    }
   ],
   "source": [
    "%%time\n",
    "sql = \"select * from graph_search1(262)\"\n",
    "df = sqlio.read_sql_query(sql, conn)"
   ]
  },
  {
   "cell_type": "code",
   "execution_count": 33,
   "metadata": {},
   "outputs": [],
   "source": [
    "sql = \"select * from graph_search1(262)\"\n",
    "df = sqlio.read_sql_query(sql, conn)"
   ]
  },
  {
   "cell_type": "code",
   "execution_count": 34,
   "metadata": {},
   "outputs": [
    {
     "data": {
      "text/html": [
       "<div>\n",
       "<style scoped>\n",
       "    .dataframe tbody tr th:only-of-type {\n",
       "        vertical-align: middle;\n",
       "    }\n",
       "\n",
       "    .dataframe tbody tr th {\n",
       "        vertical-align: top;\n",
       "    }\n",
       "\n",
       "    .dataframe thead th {\n",
       "        text-align: right;\n",
       "    }\n",
       "</style>\n",
       "<table border=\"1\" class=\"dataframe\">\n",
       "  <thead>\n",
       "    <tr style=\"text-align: right;\">\n",
       "      <th></th>\n",
       "      <th>o_path</th>\n",
       "      <th>o_point1</th>\n",
       "      <th>o_point2</th>\n",
       "      <th>o_link_prop</th>\n",
       "      <th>o_link_prop_all</th>\n",
       "      <th>o_depth</th>\n",
       "    </tr>\n",
       "  </thead>\n",
       "  <tbody>\n",
       "    <tr>\n",
       "      <th>0</th>\n",
       "      <td>[262, 247]</td>\n",
       "      <td>262</td>\n",
       "      <td>247</td>\n",
       "      <td>[6]</td>\n",
       "      <td>{6}</td>\n",
       "      <td>1</td>\n",
       "    </tr>\n",
       "    <tr>\n",
       "      <th>1</th>\n",
       "      <td>[262, 248]</td>\n",
       "      <td>262</td>\n",
       "      <td>248</td>\n",
       "      <td>[6]</td>\n",
       "      <td>{6}</td>\n",
       "      <td>1</td>\n",
       "    </tr>\n",
       "    <tr>\n",
       "      <th>2</th>\n",
       "      <td>[262, 249]</td>\n",
       "      <td>262</td>\n",
       "      <td>249</td>\n",
       "      <td>[6]</td>\n",
       "      <td>{6}</td>\n",
       "      <td>1</td>\n",
       "    </tr>\n",
       "    <tr>\n",
       "      <th>3</th>\n",
       "      <td>[262, 250]</td>\n",
       "      <td>262</td>\n",
       "      <td>250</td>\n",
       "      <td>[6]</td>\n",
       "      <td>{6}</td>\n",
       "      <td>1</td>\n",
       "    </tr>\n",
       "    <tr>\n",
       "      <th>4</th>\n",
       "      <td>[262, 252]</td>\n",
       "      <td>262</td>\n",
       "      <td>252</td>\n",
       "      <td>[6]</td>\n",
       "      <td>{6}</td>\n",
       "      <td>1</td>\n",
       "    </tr>\n",
       "    <tr>\n",
       "      <th>5</th>\n",
       "      <td>[262, 253]</td>\n",
       "      <td>262</td>\n",
       "      <td>253</td>\n",
       "      <td>[6]</td>\n",
       "      <td>{6}</td>\n",
       "      <td>1</td>\n",
       "    </tr>\n",
       "    <tr>\n",
       "      <th>6</th>\n",
       "      <td>[262, 255]</td>\n",
       "      <td>262</td>\n",
       "      <td>255</td>\n",
       "      <td>[6]</td>\n",
       "      <td>{6}</td>\n",
       "      <td>1</td>\n",
       "    </tr>\n",
       "    <tr>\n",
       "      <th>7</th>\n",
       "      <td>[262, 256]</td>\n",
       "      <td>262</td>\n",
       "      <td>256</td>\n",
       "      <td>[6]</td>\n",
       "      <td>{6}</td>\n",
       "      <td>1</td>\n",
       "    </tr>\n",
       "  </tbody>\n",
       "</table>\n",
       "</div>"
      ],
      "text/plain": [
       "       o_path  o_point1  o_point2 o_link_prop o_link_prop_all  o_depth\n",
       "0  [262, 247]       262       247         [6]             {6}        1\n",
       "1  [262, 248]       262       248         [6]             {6}        1\n",
       "2  [262, 249]       262       249         [6]             {6}        1\n",
       "3  [262, 250]       262       250         [6]             {6}        1\n",
       "4  [262, 252]       262       252         [6]             {6}        1\n",
       "5  [262, 253]       262       253         [6]             {6}        1\n",
       "6  [262, 255]       262       255         [6]             {6}        1\n",
       "7  [262, 256]       262       256         [6]             {6}        1"
      ]
     },
     "execution_count": 34,
     "metadata": {},
     "output_type": "execute_result"
    }
   ],
   "source": [
    "df"
   ]
  },
  {
   "cell_type": "code",
   "execution_count": 35,
   "metadata": {},
   "outputs": [
    {
     "data": {
      "text/html": [
       "<div>\n",
       "<style scoped>\n",
       "    .dataframe tbody tr th:only-of-type {\n",
       "        vertical-align: middle;\n",
       "    }\n",
       "\n",
       "    .dataframe tbody tr th {\n",
       "        vertical-align: top;\n",
       "    }\n",
       "\n",
       "    .dataframe thead th {\n",
       "        text-align: right;\n",
       "    }\n",
       "</style>\n",
       "<table border=\"1\" class=\"dataframe\">\n",
       "  <thead>\n",
       "    <tr style=\"text-align: right;\">\n",
       "      <th></th>\n",
       "      <th>name</th>\n",
       "      <th>source</th>\n",
       "      <th>target</th>\n",
       "      <th>target_node_id</th>\n",
       "      <th>source_node_id</th>\n",
       "      <th>weight</th>\n",
       "    </tr>\n",
       "  </thead>\n",
       "  <tbody>\n",
       "    <tr>\n",
       "      <th>0</th>\n",
       "      <td>contains concept</td>\n",
       "      <td>FAMILIERELASJONER</td>\n",
       "      <td>ADOPSJON</td>\n",
       "      <td>247</td>\n",
       "      <td>262</td>\n",
       "      <td>1</td>\n",
       "    </tr>\n",
       "    <tr>\n",
       "      <th>1</th>\n",
       "      <td>contains concept</td>\n",
       "      <td>FAMILIERELASJONER</td>\n",
       "      <td>BARN</td>\n",
       "      <td>248</td>\n",
       "      <td>262</td>\n",
       "      <td>1</td>\n",
       "    </tr>\n",
       "    <tr>\n",
       "      <th>2</th>\n",
       "      <td>contains concept</td>\n",
       "      <td>FAMILIERELASJONER</td>\n",
       "      <td>DAGLIG OMSORG</td>\n",
       "      <td>249</td>\n",
       "      <td>262</td>\n",
       "      <td>1</td>\n",
       "    </tr>\n",
       "    <tr>\n",
       "      <th>3</th>\n",
       "      <td>contains concept</td>\n",
       "      <td>FAMILIERELASJONER</td>\n",
       "      <td>DELT BOSTED</td>\n",
       "      <td>250</td>\n",
       "      <td>262</td>\n",
       "      <td>1</td>\n",
       "    </tr>\n",
       "    <tr>\n",
       "      <th>4</th>\n",
       "      <td>contains concept</td>\n",
       "      <td>FAMILIERELASJONER</td>\n",
       "      <td>FARSKAP</td>\n",
       "      <td>252</td>\n",
       "      <td>262</td>\n",
       "      <td>1</td>\n",
       "    </tr>\n",
       "    <tr>\n",
       "      <th>5</th>\n",
       "      <td>contains concept</td>\n",
       "      <td>FAMILIERELASJONER</td>\n",
       "      <td>FLERFØDSEL</td>\n",
       "      <td>253</td>\n",
       "      <td>262</td>\n",
       "      <td>1</td>\n",
       "    </tr>\n",
       "    <tr>\n",
       "      <th>6</th>\n",
       "      <td>contains concept</td>\n",
       "      <td>FAMILIERELASJONER</td>\n",
       "      <td>FORELDREANSVAR</td>\n",
       "      <td>255</td>\n",
       "      <td>262</td>\n",
       "      <td>1</td>\n",
       "    </tr>\n",
       "    <tr>\n",
       "      <th>7</th>\n",
       "      <td>contains concept</td>\n",
       "      <td>FAMILIERELASJONER</td>\n",
       "      <td>FORSTERFORELDRE</td>\n",
       "      <td>256</td>\n",
       "      <td>262</td>\n",
       "      <td>1</td>\n",
       "    </tr>\n",
       "  </tbody>\n",
       "</table>\n",
       "</div>"
      ],
      "text/plain": [
       "               name             source           target  target_node_id  \\\n",
       "0  contains concept  FAMILIERELASJONER         ADOPSJON             247   \n",
       "1  contains concept  FAMILIERELASJONER             BARN             248   \n",
       "2  contains concept  FAMILIERELASJONER    DAGLIG OMSORG             249   \n",
       "3  contains concept  FAMILIERELASJONER      DELT BOSTED             250   \n",
       "4  contains concept  FAMILIERELASJONER          FARSKAP             252   \n",
       "5  contains concept  FAMILIERELASJONER       FLERFØDSEL             253   \n",
       "6  contains concept  FAMILIERELASJONER   FORELDREANSVAR             255   \n",
       "7  contains concept  FAMILIERELASJONER  FORSTERFORELDRE             256   \n",
       "\n",
       "   source_node_id  weight  \n",
       "0             262       1  \n",
       "1             262       1  \n",
       "2             262       1  \n",
       "3             262       1  \n",
       "4             262       1  \n",
       "5             262       1  \n",
       "6             262       1  \n",
       "7             262       1  "
      ]
     },
     "execution_count": 35,
     "metadata": {},
     "output_type": "execute_result"
    }
   ],
   "source": [
    "df_edgelist=df[['o_point1','o_point2','o_link_prop','o_depth']].copy()\n",
    "df_edgelist.columns=['source','target','id','weight']\n",
    "df_edgelist['id'] = df_edgelist['id'].apply(lambda x: x[0])\n",
    "df_edgelist = pd.merge(df_edgelist, df_links, on='id', how='left')\n",
    "df_edgelist = pd.merge(df_edgelist, df_nodes[['id', 'name']], left_on='source', right_on='id')\n",
    "df_edgelist = pd.merge(df_edgelist, df_nodes[['id', 'name']], left_on='target', right_on='id')\n",
    "df_edgelist = df_edgelist[['prop', 'name_x', 'name_y','id','id_y', 'weight']]\n",
    "df_edgelist.columns = ['name', 'source', 'target','target_node_id','source_node_id', 'weight']\n",
    "df_edgelist"
   ]
  },
  {
   "cell_type": "code",
   "execution_count": 39,
   "metadata": {},
   "outputs": [],
   "source": [
    "#!pip install nx_altair"
   ]
  },
  {
   "cell_type": "code",
   "execution_count": 40,
   "metadata": {},
   "outputs": [],
   "source": [
    "import altair as alt\n",
    "alt.renderers.enable('notebook')\n",
    "alt.themes.enable('opaque')\n",
    "import networkx as nx\n",
    "import nx_altair as nxa\n",
    "import numpy as np\n",
    "\n",
    "G = nx.from_pandas_edgelist(df_edgelist, 'source', 'target', ['name','target_node_id','source_node_id','weight'])\n",
    "pos = nx.spring_layout(G)"
   ]
  },
  {
   "cell_type": "code",
   "execution_count": 43,
   "metadata": {},
   "outputs": [
    {
     "data": {
      "image/png": "[encoded data removed]",
      "text/plain": [
       "<Figure size 432x288 with 1 Axes>"
      ]
     },
     "metadata": {
      "needs_background": "light"
     },
     "output_type": "display_data"
    }
   ],
   "source": [
    "nx.draw_networkx(\n",
    "    G=G,\n",
    "    pos=pos\n",
    ")"
   ]
  },
  {
   "cell_type": "code",
   "execution_count": 44,
   "metadata": {},
   "outputs": [
    {
     "data": {
      "application/javascript": [
       "const spec = {\"config\": {\"background\": \"white\", \"view\": {\"width\": 400, \"height\": 300}, \"mark\": {\"tooltip\": null}, \"axis\": {\"domain\": false, \"grid\": false, \"labels\": false, \"ticks\": false}}, \"layer\": [{\"data\": {\"name\": \"data-bfcfef9234728df8aaf789b0d510f332\"}, \"mark\": {\"type\": \"line\", \"color\": \"black\", \"opacity\": 1}, \"encoding\": {\"detail\": {\"type\": \"quantitative\", \"field\": \"edge\"}, \"size\": {\"type\": \"nominal\", \"field\": \"weight\", \"legend\": null}, \"x\": {\"type\": \"quantitative\", \"axis\": {\"title\": \"\"}, \"field\": \"x\"}, \"y\": {\"type\": \"quantitative\", \"axis\": {\"title\": \"\"}, \"field\": \"y\"}}, \"selection\": {\"selector002\": {\"type\": \"interval\", \"bind\": \"scales\", \"encodings\": [\"x\", \"y\"]}}}, {\"data\": {\"name\": \"data-ccf022541134455ffb369fc7771769e1\"}, \"mark\": {\"type\": \"point\", \"fill\": \"id:N\", \"opacity\": 1, \"size\": 300}, \"encoding\": {\"fill\": {\"type\": \"nominal\", \"field\": \"id\", \"scale\": {\"scheme\": \"viridis\"}}, \"tooltip\": [{\"type\": \"nominal\", \"field\": \"weight\"}], \"x\": {\"type\": \"quantitative\", \"field\": \"x\"}, \"y\": {\"type\": \"quantitative\", \"field\": \"y\"}}}], \"$schema\": \"https://vega.github.io/schema/vega-lite/v3.4.0.json\", \"datasets\": {\"data-bfcfef9234728df8aaf789b0d510f332\": [{\"edge\": 0, \"target\": \"ADOPSJON\", \"source_node_id\": 262, \"y\": 0.00132584015230249, \"target_node_id\": 247, \"pair\": [\"FAMILIERELASJONER\", \"ADOPSJON\"], \"name\": \"contains concept\", \"source\": \"FAMILIERELASJONER\", \"x\": 0.001512607930884296, \"weight\": 1}, {\"edge\": 0, \"target\": \"ADOPSJON\", \"source_node_id\": 262, \"y\": -0.6147615971503395, \"target_node_id\": 247, \"pair\": [\"FAMILIERELASJONER\", \"ADOPSJON\"], \"name\": \"contains concept\", \"source\": \"FAMILIERELASJONER\", \"x\": 0.7927564458945892, \"weight\": 1}, {\"edge\": 1, \"target\": \"BARN\", \"source_node_id\": 262, \"y\": 0.00132584015230249, \"target_node_id\": 248, \"pair\": [\"FAMILIERELASJONER\", \"BARN\"], \"name\": \"contains concept\", \"source\": \"FAMILIERELASJONER\", \"x\": 0.001512607930884296, \"weight\": 1}, {\"edge\": 1, \"target\": \"BARN\", \"source_node_id\": 262, \"y\": 0.9976826799812778, \"target_node_id\": 248, \"pair\": [\"FAMILIERELASJONER\", \"BARN\"], \"name\": \"contains concept\", \"source\": \"FAMILIERELASJONER\", \"x\": -0.123202461701908, \"weight\": 1}, {\"edge\": 2, \"target\": \"DAGLIG OMSORG\", \"source_node_id\": 262, \"y\": 0.00132584015230249, \"target_node_id\": 249, \"pair\": [\"FAMILIERELASJONER\", \"DAGLIG OMSORG\"], \"name\": \"contains concept\", \"source\": \"FAMILIERELASJONER\", \"x\": 0.001512607930884296, \"weight\": 1}, {\"edge\": 2, \"target\": \"DAGLIG OMSORG\", \"source_node_id\": 262, \"y\": -0.1233955497498291, \"target_node_id\": 249, \"pair\": [\"FAMILIERELASJONER\", \"DAGLIG OMSORG\"], \"name\": \"contains concept\", \"source\": \"FAMILIERELASJONER\", \"x\": -0.9934306424097048, \"weight\": 1}, {\"edge\": 3, \"target\": \"DELT BOSTED\", \"source_node_id\": 262, \"y\": 0.00132584015230249, \"target_node_id\": 250, \"pair\": [\"FAMILIERELASJONER\", \"DELT BOSTED\"], \"name\": \"contains concept\", \"source\": \"FAMILIERELASJONER\", \"x\": 0.001512607930884296, \"weight\": 1}, {\"edge\": 3, \"target\": \"DELT BOSTED\", \"source_node_id\": 262, \"y\": 0.12397785871857857, \"target_node_id\": 250, \"pair\": [\"FAMILIERELASJONER\", \"DELT BOSTED\"], \"name\": \"contains concept\", \"source\": \"FAMILIERELASJONER\", \"x\": 0.9929981262396372, \"weight\": 1}, {\"edge\": 4, \"target\": \"FARSKAP\", \"source_node_id\": 262, \"y\": 0.00132584015230249, \"target_node_id\": 252, \"pair\": [\"FAMILIERELASJONER\", \"FARSKAP\"], \"name\": \"contains concept\", \"source\": \"FAMILIERELASJONER\", \"x\": 0.001512607930884296, \"weight\": 1}, {\"edge\": 4, \"target\": \"FARSKAP\", \"source_node_id\": 262, \"y\": -1.0, \"target_node_id\": 252, \"pair\": [\"FAMILIERELASJONER\", \"FARSKAP\"], \"name\": \"contains concept\", \"source\": \"FAMILIERELASJONER\", \"x\": 0.12557203400347264, \"weight\": 1}, {\"edge\": 5, \"target\": \"FLERF\\u00d8DSEL\", \"source_node_id\": 262, \"y\": 0.00132584015230249, \"target_node_id\": 253, \"pair\": [\"FAMILIERELASJONER\", \"FLERF\\u00d8DSEL\"], \"name\": \"contains concept\", \"source\": \"FAMILIERELASJONER\", \"x\": 0.001512607930884296, \"weight\": 1}, {\"edge\": 5, \"target\": \"FLERF\\u00d8DSEL\", \"source_node_id\": 262, \"y\": 0.7907827851950863, \"target_node_id\": 253, \"pair\": [\"FAMILIERELASJONER\", \"FLERF\\u00d8DSEL\"], \"name\": \"contains concept\", \"source\": \"FAMILIERELASJONER\", \"x\": 0.6141148840977185, \"weight\": 1}, {\"edge\": 6, \"target\": \"FORELDREANSVAR\", \"source_node_id\": 262, \"y\": 0.00132584015230249, \"target_node_id\": 255, \"pair\": [\"FAMILIERELASJONER\", \"FORELDREANSVAR\"], \"name\": \"contains concept\", \"source\": \"FAMILIERELASJONER\", \"x\": 0.001512607930884296, \"weight\": 1}, {\"edge\": 6, \"target\": \"FORELDREANSVAR\", \"source_node_id\": 262, \"y\": -0.7942664407494081, \"target_node_id\": 255, \"pair\": [\"FAMILIERELASJONER\", \"FORELDREANSVAR\"], \"name\": \"contains concept\", \"source\": \"FAMILIERELASJONER\", \"x\": -0.6177366684875314, \"weight\": 1}, {\"edge\": 7, \"target\": \"FORSTERFORELDRE\", \"source_node_id\": 262, \"y\": 0.00132584015230249, \"target_node_id\": 256, \"pair\": [\"FAMILIERELASJONER\", \"FORSTERFORELDRE\"], \"name\": \"contains concept\", \"source\": \"FAMILIERELASJONER\", \"x\": 0.001512607930884296, \"weight\": 1}, {\"edge\": 7, \"target\": \"FORSTERFORELDRE\", \"source_node_id\": 262, \"y\": 0.6186544236023306, \"target_node_id\": 256, \"pair\": [\"FAMILIERELASJONER\", \"FORSTERFORELDRE\"], \"name\": \"contains concept\", \"source\": \"FAMILIERELASJONER\", \"x\": -0.7925843255671573, \"weight\": 1}], \"data-ccf022541134455ffb369fc7771769e1\": [{\"y\": 0.00132584015230249, \"x\": 0.001512607930884296}, {\"y\": -0.6147615971503395, \"x\": 0.7927564458945892}, {\"y\": 0.9976826799812778, \"x\": -0.123202461701908}, {\"y\": -0.1233955497498291, \"x\": -0.9934306424097048}, {\"y\": 0.12397785871857857, \"x\": 0.9929981262396372}, {\"y\": -1.0, \"x\": 0.12557203400347264}, {\"y\": 0.7907827851950863, \"x\": 0.6141148840977185}, {\"y\": -0.7942664407494081, \"x\": -0.6177366684875314}, {\"y\": 0.6186544236023306, \"x\": -0.7925843255671573}]}};\n",
       "const opt = {};\n",
       "const type = \"vega-lite\";\n",
       "const id = \"676cb47f-e8f1-495e-8174-cc96d0873b77\";\n",
       "\n",
       "const output_area = this;\n",
       "\n",
       "require([\"nbextensions/jupyter-vega/index\"], function(vega) {\n",
       "  const target = document.createElement(\"div\");\n",
       "  target.id = id;\n",
       "  target.className = \"vega-embed\";\n",
       "\n",
       "  const style = document.createElement(\"style\");\n",
       "  style.textContent = [\n",
       "    \".vega-embed .error p {\",\n",
       "    \"  color: firebrick;\",\n",
       "    \"  font-size: 14px;\",\n",
       "    \"}\",\n",
       "  ].join(\"\\\\n\");\n",
       "\n",
       "  // element is a jQuery wrapped DOM element inside the output area\n",
       "  // see http://ipython.readthedocs.io/en/stable/api/generated/\\\n",
       "  // IPython.display.html#IPython.display.Javascript.__init__\n",
       "  element[0].appendChild(target);\n",
       "  element[0].appendChild(style);\n",
       "\n",
       "  vega.render(\"#\" + id, spec, type, opt, output_area);\n",
       "}, function (err) {\n",
       "  if (err.requireType !== \"scripterror\") {\n",
       "    throw(err);\n",
       "  }\n",
       "});\n"
      ],
      "text/plain": [
       "<vega.vegalite.VegaLite at 0xa208cabd0>"
      ]
     },
     "metadata": {
      "jupyter-vega": "#676cb47f-e8f1-495e-8174-cc96d0873b77"
     },
     "output_type": "display_data"
    },
    {
     "data": {
      "text/plain": []
     },
     "execution_count": 44,
     "metadata": {},
     "output_type": "execute_result"
    },
    {
     "data": {
      "image/png": "[encoded data removed]"
     },
     "metadata": {
      "jupyter-vega": "#676cb47f-e8f1-495e-8174-cc96d0873b77"
     },
     "output_type": "display_data"
    }
   ],
   "source": [
    "# Compute positions for viz.\n",
    "pos = nx.spring_layout(G)\n",
    "\n",
    "viz = nxa.draw_networkx(\n",
    "    G, pos=pos,\n",
    "    node_color='id:N',\n",
    "    cmap='viridis',\n",
    "    width='weight:N',\n",
    "    edge_color='black',\n",
    "    node_tooltip=['weight:N']\n",
    ")\n",
    "\n",
    "viz.interactive()"
   ]
  },
  {
   "cell_type": "code",
   "execution_count": null,
   "metadata": {},
   "outputs": [],
   "source": []
  }
 ],
 "metadata": {
  "kernelspec": {
   "display_name": "Python 3",
   "language": "python",
   "name": "python3"
  },
  "language_info": {
   "codemirror_mode": {
    "name": "ipython",
    "version": 3
   },
   "file_extension": ".py",
   "mimetype": "text/x-python",
   "name": "python",
   "nbconvert_exporter": "python",
   "pygments_lexer": "ipython3",
   "version": "3.7.4"
  },
  "varInspector": {
   "cols": {
    "lenName": 16,
    "lenType": 16,
    "lenVar": 40
   },
   "kernels_config": {
    "python": {
     "delete_cmd_postfix": "",
     "delete_cmd_prefix": "del ",
     "library": "var_list.py",
     "varRefreshCmd": "print(var_dic_list())"
    },
    "r": {
     "delete_cmd_postfix": ") ",
     "delete_cmd_prefix": "rm(",
     "library": "var_list.r",
     "varRefreshCmd": "cat(var_dic_list()) "
    }
   },
   "types_to_exclude": [
    "module",
    "function",
    "builtin_function_or_method",
    "instance",
    "_Feature"
   ],
   "window_display": false
  }
 },
 "nbformat": 4,
 "nbformat_minor": 2
}
